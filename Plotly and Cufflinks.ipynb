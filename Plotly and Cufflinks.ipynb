{
 "cells": [
  {
   "cell_type": "markdown",
   "metadata": {},
   "source": [
    "___\n",
    "\n",
    "# Plotly and Cufflinks"
   ]
  },
  {
   "cell_type": "markdown",
   "metadata": {},
   "source": [
    "Plotly is a library that allows you to create interactive plots that you can use in dashboards or websites (you can save them as html files or static images).\n",
    "\n",
    "## Installation\n",
    "\n",
    "In order for this all to work, you'll need to install plotly and cufflinks to call plots directly off of a pandas dataframe. These libraries are not currently available through **conda** but are available through **pip**. Install the libraries at your command line/terminal using:\n",
    "\n",
    "    pip install plotly\n",
    "    pip install cufflinks\n",
    "\n",
    "** NOTE: Make sure you only have one installation of Python on your computer when you do this, otherwise the installation may not work. **\n",
    "\n",
    "## Imports and Set-up"
   ]
  },
  {
   "cell_type": "code",
   "execution_count": 1,
   "metadata": {},
   "outputs": [],
   "source": [
    "import pandas as pd\n",
    "import numpy as np\n",
    "%matplotlib inline"
   ]
  },
  {
   "cell_type": "code",
   "execution_count": 2,
   "metadata": {},
   "outputs": [
    {
     "name": "stdout",
     "output_type": "stream",
     "text": [
      "4.5.2\n"
     ]
    }
   ],
   "source": [
    "from plotly import __version__\n",
    "from plotly.offline import download_plotlyjs, init_notebook_mode, plot, iplot\n",
    "\n",
    "print(__version__) # requires version >= 1.9.0"
   ]
  },
  {
   "cell_type": "code",
   "execution_count": 3,
   "metadata": {},
   "outputs": [],
   "source": [
    "import cufflinks as cf"
   ]
  },
  {
   "cell_type": "code",
   "execution_count": 4,
   "metadata": {},
   "outputs": [
    {
     "data": {
      "text/html": [
       "        <script type=\"text/javascript\">\n",
       "        window.PlotlyConfig = {MathJaxConfig: 'local'};\n",
       "        if (window.MathJax) {MathJax.Hub.Config({SVG: {font: \"STIX-Web\"}});}\n",
       "        if (typeof require !== 'undefined') {\n",
       "        require.undef(\"plotly\");\n",
       "        requirejs.config({\n",
       "            paths: {\n",
       "                'plotly': ['https://cdn.plot.ly/plotly-latest.min']\n",
       "            }\n",
       "        });\n",
       "        require(['plotly'], function(Plotly) {\n",
       "            window._Plotly = Plotly;\n",
       "        });\n",
       "        }\n",
       "        </script>\n",
       "        "
      ]
     },
     "metadata": {},
     "output_type": "display_data"
    }
   ],
   "source": [
    "# For Notebooks\n",
    "init_notebook_mode(connected=True)"
   ]
  },
  {
   "cell_type": "code",
   "execution_count": 5,
   "metadata": {},
   "outputs": [
    {
     "data": {
      "text/html": [
       "        <script type=\"text/javascript\">\n",
       "        window.PlotlyConfig = {MathJaxConfig: 'local'};\n",
       "        if (window.MathJax) {MathJax.Hub.Config({SVG: {font: \"STIX-Web\"}});}\n",
       "        if (typeof require !== 'undefined') {\n",
       "        require.undef(\"plotly\");\n",
       "        requirejs.config({\n",
       "            paths: {\n",
       "                'plotly': ['https://cdn.plot.ly/plotly-latest.min']\n",
       "            }\n",
       "        });\n",
       "        require(['plotly'], function(Plotly) {\n",
       "            window._Plotly = Plotly;\n",
       "        });\n",
       "        }\n",
       "        </script>\n",
       "        "
      ]
     },
     "metadata": {},
     "output_type": "display_data"
    }
   ],
   "source": [
    "# For offline use\n",
    "cf.go_offline()"
   ]
  },
  {
   "cell_type": "markdown",
   "metadata": {},
   "source": [
    "### Fake Data"
   ]
  },
  {
   "cell_type": "code",
   "execution_count": 6,
   "metadata": {},
   "outputs": [],
   "source": [
    "df = pd.DataFrame(np.random.randn(100,4),columns='A B C D'.split())"
   ]
  },
  {
   "cell_type": "code",
   "execution_count": 7,
   "metadata": {},
   "outputs": [
    {
     "data": {
      "text/html": [
       "<div>\n",
       "<style scoped>\n",
       "    .dataframe tbody tr th:only-of-type {\n",
       "        vertical-align: middle;\n",
       "    }\n",
       "\n",
       "    .dataframe tbody tr th {\n",
       "        vertical-align: top;\n",
       "    }\n",
       "\n",
       "    .dataframe thead th {\n",
       "        text-align: right;\n",
       "    }\n",
       "</style>\n",
       "<table border=\"1\" class=\"dataframe\">\n",
       "  <thead>\n",
       "    <tr style=\"text-align: right;\">\n",
       "      <th></th>\n",
       "      <th>A</th>\n",
       "      <th>B</th>\n",
       "      <th>C</th>\n",
       "      <th>D</th>\n",
       "    </tr>\n",
       "  </thead>\n",
       "  <tbody>\n",
       "    <tr>\n",
       "      <th>0</th>\n",
       "      <td>0.560748</td>\n",
       "      <td>0.086283</td>\n",
       "      <td>2.038102</td>\n",
       "      <td>-2.016830</td>\n",
       "    </tr>\n",
       "    <tr>\n",
       "      <th>1</th>\n",
       "      <td>-0.370863</td>\n",
       "      <td>0.199602</td>\n",
       "      <td>0.257700</td>\n",
       "      <td>-0.210139</td>\n",
       "    </tr>\n",
       "    <tr>\n",
       "      <th>2</th>\n",
       "      <td>0.423026</td>\n",
       "      <td>0.208159</td>\n",
       "      <td>-1.179820</td>\n",
       "      <td>-1.258031</td>\n",
       "    </tr>\n",
       "    <tr>\n",
       "      <th>3</th>\n",
       "      <td>-0.954911</td>\n",
       "      <td>2.131671</td>\n",
       "      <td>0.415770</td>\n",
       "      <td>0.136012</td>\n",
       "    </tr>\n",
       "    <tr>\n",
       "      <th>4</th>\n",
       "      <td>-0.207413</td>\n",
       "      <td>-0.623082</td>\n",
       "      <td>-1.101235</td>\n",
       "      <td>-0.932668</td>\n",
       "    </tr>\n",
       "  </tbody>\n",
       "</table>\n",
       "</div>"
      ],
      "text/plain": [
       "          A         B         C         D\n",
       "0  0.560748  0.086283  2.038102 -2.016830\n",
       "1 -0.370863  0.199602  0.257700 -0.210139\n",
       "2  0.423026  0.208159 -1.179820 -1.258031\n",
       "3 -0.954911  2.131671  0.415770  0.136012\n",
       "4 -0.207413 -0.623082 -1.101235 -0.932668"
      ]
     },
     "execution_count": 7,
     "metadata": {},
     "output_type": "execute_result"
    }
   ],
   "source": [
    "df.head()"
   ]
  },
  {
   "cell_type": "code",
   "execution_count": 8,
   "metadata": {},
   "outputs": [],
   "source": [
    "df2 = pd.DataFrame({'Category':['A','B','C'],'Values':[32,43,50]})"
   ]
  },
  {
   "cell_type": "code",
   "execution_count": 9,
   "metadata": {},
   "outputs": [
    {
     "data": {
      "text/html": [
       "<div>\n",
       "<style scoped>\n",
       "    .dataframe tbody tr th:only-of-type {\n",
       "        vertical-align: middle;\n",
       "    }\n",
       "\n",
       "    .dataframe tbody tr th {\n",
       "        vertical-align: top;\n",
       "    }\n",
       "\n",
       "    .dataframe thead th {\n",
       "        text-align: right;\n",
       "    }\n",
       "</style>\n",
       "<table border=\"1\" class=\"dataframe\">\n",
       "  <thead>\n",
       "    <tr style=\"text-align: right;\">\n",
       "      <th></th>\n",
       "      <th>Category</th>\n",
       "      <th>Values</th>\n",
       "    </tr>\n",
       "  </thead>\n",
       "  <tbody>\n",
       "    <tr>\n",
       "      <th>0</th>\n",
       "      <td>A</td>\n",
       "      <td>32</td>\n",
       "    </tr>\n",
       "    <tr>\n",
       "      <th>1</th>\n",
       "      <td>B</td>\n",
       "      <td>43</td>\n",
       "    </tr>\n",
       "    <tr>\n",
       "      <th>2</th>\n",
       "      <td>C</td>\n",
       "      <td>50</td>\n",
       "    </tr>\n",
       "  </tbody>\n",
       "</table>\n",
       "</div>"
      ],
      "text/plain": [
       "  Category  Values\n",
       "0        A      32\n",
       "1        B      43\n",
       "2        C      50"
      ]
     },
     "execution_count": 9,
     "metadata": {},
     "output_type": "execute_result"
    }
   ],
   "source": [
    "df2.head()"
   ]
  },
  {
   "cell_type": "markdown",
   "metadata": {},
   "source": [
    "## Using Cufflinks and iplot()\n",
    "\n",
    "* scatter\n",
    "* bar\n",
    "* box\n",
    "* spread\n",
    "* ratio\n",
    "* heatmap\n",
    "* surface\n",
    "* histogram\n",
    "* bubble"
   ]
  },
  {
   "cell_type": "markdown",
   "metadata": {},
   "source": [
    "## Scatter"
   ]
  },
  {
   "cell_type": "code",
   "execution_count": 10,
   "metadata": {},
   "outputs": [
    {
     "data": {
      "application/vnd.plotly.v1+json": {
       "config": {
        "linkText": "Export to plot.ly",
        "plotlyServerURL": "https://plot.ly",
        "showLink": true
       },
       "data": [
        {
         "line": {
          "color": "rgba(255, 153, 51, 1.0)",
          "dash": "solid",
          "shape": "linear",
          "width": 1.3
         },
         "marker": {
          "size": 15,
          "symbol": "circle"
         },
         "mode": "markers",
         "name": "B",
         "text": "",
         "type": "scatter",
         "x": [
          0.5607480575046337,
          -0.3708633475833689,
          0.4230264901718323,
          -0.9549106351528698,
          -0.20741263670876842,
          -1.024518844287343,
          -1.0367249687928646,
          2.0584447684824885,
          -1.4187588960747235,
          -0.046585194692532424,
          0.36787548846534923,
          -2.044211812156692,
          -2.550339562813716,
          0.40015190479056917,
          0.5681708126504649,
          0.7940914617616944,
          -1.068967565955156,
          0.07867740459071079,
          0.4235998492954107,
          0.39095912999154775,
          1.327686045467365,
          -1.754462647693073,
          -0.578173012072137,
          -1.0779798184582985,
          -1.891079726438191,
          0.4659456386036681,
          -0.21802135906844125,
          0.19367326395113266,
          -1.9603362574570133,
          0.14932514499258526,
          -0.9529428773655932,
          0.7856639631456367,
          0.4156555358714044,
          0.7153211913364734,
          -1.3322882860784802,
          0.4139571120324161,
          0.3967036149503087,
          0.4803572763821211,
          -0.15324245046653046,
          -0.3119030508533104,
          0.9967146023695868,
          -0.47050022120553125,
          -0.4892774201067624,
          -1.85008249779815,
          -1.7845525458308382,
          0.1353531820802186,
          0.8699058267717776,
          -0.595527228953319,
          -0.49038254076086707,
          0.14079245442134247,
          -1.6579724363407244,
          2.418537608960433,
          0.27571151766342716,
          -1.2092357839728465,
          0.37547517010499964,
          -1.0630914256315618,
          -0.21351316426565678,
          -0.27672782264169615,
          1.1129222293747094,
          -0.28712792311619945,
          0.7129540586172829,
          -1.566751562768234,
          0.9296950897556568,
          -0.9935280386456603,
          -1.1710637069029972,
          1.0331173300172627,
          -0.7779591509796198,
          0.21686394225833813,
          0.9654083038662515,
          0.03337425399400426,
          0.2108971788093691,
          -2.3580895215396565,
          0.896589310994641,
          0.674101904339704,
          -0.38463931465655277,
          -0.23191184444903365,
          -0.8086330854286654,
          -1.445946605784175,
          -1.9764770166489303,
          -0.37283081828887904,
          0.8367782985876825,
          -0.30237097827066195,
          0.380435715262536,
          0.031050281970491544,
          -1.0946115915704187,
          2.2558393050008103,
          -0.12197341968923685,
          0.1407793346328531,
          -0.7188373798798,
          0.8657765896581454,
          -0.13382126496639835,
          0.970122231997722,
          -0.029542020767768597,
          -0.8690891890937565,
          -1.0338929783040642,
          -0.6267558462723102,
          -1.4157502451975266,
          -0.5785252269504768,
          0.23779112418985437,
          -0.158700233859291
         ],
         "y": [
          0.08628323394041917,
          0.1996020788959708,
          0.20815944961259064,
          2.131671412751742,
          -0.6230820414858802,
          -0.20059453914798314,
          0.30850312105249406,
          1.7452481067756915,
          0.7328641159155839,
          2.1251837923160504,
          0.47887481994342734,
          -0.1825069749191838,
          2.138799212851821,
          1.0451685881907276,
          0.7434135269810468,
          0.3442098404393374,
          -0.6667688075567253,
          0.06371752400275227,
          0.0027046037096464712,
          0.08321386399124807,
          0.22243369389629775,
          0.4755975179492282,
          -0.8979402876528175,
          -1.85402118299806,
          -0.9247498611392219,
          -0.8602848187962258,
          0.04358900306148492,
          -0.5676161630929298,
          -0.07734514221487851,
          0.18994788348417663,
          -0.7365699535202821,
          0.32817276921175176,
          0.5845710556239431,
          0.5504481459044616,
          -0.7217255921692333,
          1.3536859978584614,
          0.7413518060931923,
          0.4954504182405843,
          -1.297639979562549,
          -1.5211164017484191,
          -0.5356313159929892,
          -0.14139501644207536,
          -2.535185047270597,
          -1.3972714221877187,
          0.08578376083602648,
          -1.8771408047470939,
          -0.1382002174398529,
          -0.4319456408707257,
          -0.6873636767251813,
          -2.154901585183574,
          0.8349884750677796,
          -0.29344606963996633,
          -2.0646176720779064,
          0.2715258162942724,
          -0.8987499333895042,
          0.6737517491122544,
          -0.8903450187141376,
          -0.5865223603579941,
          1.2182908148049052,
          0.5438298456028653,
          -0.9955332831521326,
          -0.9267142054469677,
          -1.8737830394162058,
          0.4155025883669216,
          1.4072161601242574,
          1.6558356000102168,
          0.1809956349868083,
          0.05305950380555659,
          -0.9973706957566846,
          0.8485135367398966,
          -0.09069496672792628,
          1.2575460701823191,
          -1.1954067348628163,
          -0.03249315387521831,
          0.28128026601803596,
          -1.0405636511730798,
          -0.17966114977992012,
          -0.19911305400341872,
          -0.04475203909549446,
          -0.33144565439472856,
          2.7808030289348644,
          0.08125916906489697,
          -1.5582135882821042,
          -1.288804376166216,
          0.14180622305606383,
          0.5449416201336499,
          -0.39609729585126346,
          -0.12395381701788742,
          0.07703560202435866,
          -1.0272511213580646,
          0.013861719718305783,
          -0.10758763900023838,
          -0.3976760311590689,
          1.1015906152909287,
          -0.6678659159520443,
          -0.8442929808644131,
          0.8409636359623852,
          0.28507155270790163,
          -0.6297736460594562,
          -2.9931078502086437
         ]
        }
       ],
       "layout": {
        "legend": {
         "bgcolor": "#F5F6F9",
         "font": {
          "color": "#4D5663"
         }
        },
        "paper_bgcolor": "#F5F6F9",
        "plot_bgcolor": "#F5F6F9",
        "template": {
         "data": {
          "bar": [
           {
            "error_x": {
             "color": "#2a3f5f"
            },
            "error_y": {
             "color": "#2a3f5f"
            },
            "marker": {
             "line": {
              "color": "#E5ECF6",
              "width": 0.5
             }
            },
            "type": "bar"
           }
          ],
          "barpolar": [
           {
            "marker": {
             "line": {
              "color": "#E5ECF6",
              "width": 0.5
             }
            },
            "type": "barpolar"
           }
          ],
          "carpet": [
           {
            "aaxis": {
             "endlinecolor": "#2a3f5f",
             "gridcolor": "white",
             "linecolor": "white",
             "minorgridcolor": "white",
             "startlinecolor": "#2a3f5f"
            },
            "baxis": {
             "endlinecolor": "#2a3f5f",
             "gridcolor": "white",
             "linecolor": "white",
             "minorgridcolor": "white",
             "startlinecolor": "#2a3f5f"
            },
            "type": "carpet"
           }
          ],
          "choropleth": [
           {
            "colorbar": {
             "outlinewidth": 0,
             "ticks": ""
            },
            "type": "choropleth"
           }
          ],
          "contour": [
           {
            "colorbar": {
             "outlinewidth": 0,
             "ticks": ""
            },
            "colorscale": [
             [
              0,
              "#0d0887"
             ],
             [
              0.1111111111111111,
              "#46039f"
             ],
             [
              0.2222222222222222,
              "#7201a8"
             ],
             [
              0.3333333333333333,
              "#9c179e"
             ],
             [
              0.4444444444444444,
              "#bd3786"
             ],
             [
              0.5555555555555556,
              "#d8576b"
             ],
             [
              0.6666666666666666,
              "#ed7953"
             ],
             [
              0.7777777777777778,
              "#fb9f3a"
             ],
             [
              0.8888888888888888,
              "#fdca26"
             ],
             [
              1,
              "#f0f921"
             ]
            ],
            "type": "contour"
           }
          ],
          "contourcarpet": [
           {
            "colorbar": {
             "outlinewidth": 0,
             "ticks": ""
            },
            "type": "contourcarpet"
           }
          ],
          "heatmap": [
           {
            "colorbar": {
             "outlinewidth": 0,
             "ticks": ""
            },
            "colorscale": [
             [
              0,
              "#0d0887"
             ],
             [
              0.1111111111111111,
              "#46039f"
             ],
             [
              0.2222222222222222,
              "#7201a8"
             ],
             [
              0.3333333333333333,
              "#9c179e"
             ],
             [
              0.4444444444444444,
              "#bd3786"
             ],
             [
              0.5555555555555556,
              "#d8576b"
             ],
             [
              0.6666666666666666,
              "#ed7953"
             ],
             [
              0.7777777777777778,
              "#fb9f3a"
             ],
             [
              0.8888888888888888,
              "#fdca26"
             ],
             [
              1,
              "#f0f921"
             ]
            ],
            "type": "heatmap"
           }
          ],
          "heatmapgl": [
           {
            "colorbar": {
             "outlinewidth": 0,
             "ticks": ""
            },
            "colorscale": [
             [
              0,
              "#0d0887"
             ],
             [
              0.1111111111111111,
              "#46039f"
             ],
             [
              0.2222222222222222,
              "#7201a8"
             ],
             [
              0.3333333333333333,
              "#9c179e"
             ],
             [
              0.4444444444444444,
              "#bd3786"
             ],
             [
              0.5555555555555556,
              "#d8576b"
             ],
             [
              0.6666666666666666,
              "#ed7953"
             ],
             [
              0.7777777777777778,
              "#fb9f3a"
             ],
             [
              0.8888888888888888,
              "#fdca26"
             ],
             [
              1,
              "#f0f921"
             ]
            ],
            "type": "heatmapgl"
           }
          ],
          "histogram": [
           {
            "marker": {
             "colorbar": {
              "outlinewidth": 0,
              "ticks": ""
             }
            },
            "type": "histogram"
           }
          ],
          "histogram2d": [
           {
            "colorbar": {
             "outlinewidth": 0,
             "ticks": ""
            },
            "colorscale": [
             [
              0,
              "#0d0887"
             ],
             [
              0.1111111111111111,
              "#46039f"
             ],
             [
              0.2222222222222222,
              "#7201a8"
             ],
             [
              0.3333333333333333,
              "#9c179e"
             ],
             [
              0.4444444444444444,
              "#bd3786"
             ],
             [
              0.5555555555555556,
              "#d8576b"
             ],
             [
              0.6666666666666666,
              "#ed7953"
             ],
             [
              0.7777777777777778,
              "#fb9f3a"
             ],
             [
              0.8888888888888888,
              "#fdca26"
             ],
             [
              1,
              "#f0f921"
             ]
            ],
            "type": "histogram2d"
           }
          ],
          "histogram2dcontour": [
           {
            "colorbar": {
             "outlinewidth": 0,
             "ticks": ""
            },
            "colorscale": [
             [
              0,
              "#0d0887"
             ],
             [
              0.1111111111111111,
              "#46039f"
             ],
             [
              0.2222222222222222,
              "#7201a8"
             ],
             [
              0.3333333333333333,
              "#9c179e"
             ],
             [
              0.4444444444444444,
              "#bd3786"
             ],
             [
              0.5555555555555556,
              "#d8576b"
             ],
             [
              0.6666666666666666,
              "#ed7953"
             ],
             [
              0.7777777777777778,
              "#fb9f3a"
             ],
             [
              0.8888888888888888,
              "#fdca26"
             ],
             [
              1,
              "#f0f921"
             ]
            ],
            "type": "histogram2dcontour"
           }
          ],
          "mesh3d": [
           {
            "colorbar": {
             "outlinewidth": 0,
             "ticks": ""
            },
            "type": "mesh3d"
           }
          ],
          "parcoords": [
           {
            "line": {
             "colorbar": {
              "outlinewidth": 0,
              "ticks": ""
             }
            },
            "type": "parcoords"
           }
          ],
          "pie": [
           {
            "automargin": true,
            "type": "pie"
           }
          ],
          "scatter": [
           {
            "marker": {
             "colorbar": {
              "outlinewidth": 0,
              "ticks": ""
             }
            },
            "type": "scatter"
           }
          ],
          "scatter3d": [
           {
            "line": {
             "colorbar": {
              "outlinewidth": 0,
              "ticks": ""
             }
            },
            "marker": {
             "colorbar": {
              "outlinewidth": 0,
              "ticks": ""
             }
            },
            "type": "scatter3d"
           }
          ],
          "scattercarpet": [
           {
            "marker": {
             "colorbar": {
              "outlinewidth": 0,
              "ticks": ""
             }
            },
            "type": "scattercarpet"
           }
          ],
          "scattergeo": [
           {
            "marker": {
             "colorbar": {
              "outlinewidth": 0,
              "ticks": ""
             }
            },
            "type": "scattergeo"
           }
          ],
          "scattergl": [
           {
            "marker": {
             "colorbar": {
              "outlinewidth": 0,
              "ticks": ""
             }
            },
            "type": "scattergl"
           }
          ],
          "scattermapbox": [
           {
            "marker": {
             "colorbar": {
              "outlinewidth": 0,
              "ticks": ""
             }
            },
            "type": "scattermapbox"
           }
          ],
          "scatterpolar": [
           {
            "marker": {
             "colorbar": {
              "outlinewidth": 0,
              "ticks": ""
             }
            },
            "type": "scatterpolar"
           }
          ],
          "scatterpolargl": [
           {
            "marker": {
             "colorbar": {
              "outlinewidth": 0,
              "ticks": ""
             }
            },
            "type": "scatterpolargl"
           }
          ],
          "scatterternary": [
           {
            "marker": {
             "colorbar": {
              "outlinewidth": 0,
              "ticks": ""
             }
            },
            "type": "scatterternary"
           }
          ],
          "surface": [
           {
            "colorbar": {
             "outlinewidth": 0,
             "ticks": ""
            },
            "colorscale": [
             [
              0,
              "#0d0887"
             ],
             [
              0.1111111111111111,
              "#46039f"
             ],
             [
              0.2222222222222222,
              "#7201a8"
             ],
             [
              0.3333333333333333,
              "#9c179e"
             ],
             [
              0.4444444444444444,
              "#bd3786"
             ],
             [
              0.5555555555555556,
              "#d8576b"
             ],
             [
              0.6666666666666666,
              "#ed7953"
             ],
             [
              0.7777777777777778,
              "#fb9f3a"
             ],
             [
              0.8888888888888888,
              "#fdca26"
             ],
             [
              1,
              "#f0f921"
             ]
            ],
            "type": "surface"
           }
          ],
          "table": [
           {
            "cells": {
             "fill": {
              "color": "#EBF0F8"
             },
             "line": {
              "color": "white"
             }
            },
            "header": {
             "fill": {
              "color": "#C8D4E3"
             },
             "line": {
              "color": "white"
             }
            },
            "type": "table"
           }
          ]
         },
         "layout": {
          "annotationdefaults": {
           "arrowcolor": "#2a3f5f",
           "arrowhead": 0,
           "arrowwidth": 1
          },
          "coloraxis": {
           "colorbar": {
            "outlinewidth": 0,
            "ticks": ""
           }
          },
          "colorscale": {
           "diverging": [
            [
             0,
             "#8e0152"
            ],
            [
             0.1,
             "#c51b7d"
            ],
            [
             0.2,
             "#de77ae"
            ],
            [
             0.3,
             "#f1b6da"
            ],
            [
             0.4,
             "#fde0ef"
            ],
            [
             0.5,
             "#f7f7f7"
            ],
            [
             0.6,
             "#e6f5d0"
            ],
            [
             0.7,
             "#b8e186"
            ],
            [
             0.8,
             "#7fbc41"
            ],
            [
             0.9,
             "#4d9221"
            ],
            [
             1,
             "#276419"
            ]
           ],
           "sequential": [
            [
             0,
             "#0d0887"
            ],
            [
             0.1111111111111111,
             "#46039f"
            ],
            [
             0.2222222222222222,
             "#7201a8"
            ],
            [
             0.3333333333333333,
             "#9c179e"
            ],
            [
             0.4444444444444444,
             "#bd3786"
            ],
            [
             0.5555555555555556,
             "#d8576b"
            ],
            [
             0.6666666666666666,
             "#ed7953"
            ],
            [
             0.7777777777777778,
             "#fb9f3a"
            ],
            [
             0.8888888888888888,
             "#fdca26"
            ],
            [
             1,
             "#f0f921"
            ]
           ],
           "sequentialminus": [
            [
             0,
             "#0d0887"
            ],
            [
             0.1111111111111111,
             "#46039f"
            ],
            [
             0.2222222222222222,
             "#7201a8"
            ],
            [
             0.3333333333333333,
             "#9c179e"
            ],
            [
             0.4444444444444444,
             "#bd3786"
            ],
            [
             0.5555555555555556,
             "#d8576b"
            ],
            [
             0.6666666666666666,
             "#ed7953"
            ],
            [
             0.7777777777777778,
             "#fb9f3a"
            ],
            [
             0.8888888888888888,
             "#fdca26"
            ],
            [
             1,
             "#f0f921"
            ]
           ]
          },
          "colorway": [
           "#636efa",
           "#EF553B",
           "#00cc96",
           "#ab63fa",
           "#FFA15A",
           "#19d3f3",
           "#FF6692",
           "#B6E880",
           "#FF97FF",
           "#FECB52"
          ],
          "font": {
           "color": "#2a3f5f"
          },
          "geo": {
           "bgcolor": "white",
           "lakecolor": "white",
           "landcolor": "#E5ECF6",
           "showlakes": true,
           "showland": true,
           "subunitcolor": "white"
          },
          "hoverlabel": {
           "align": "left"
          },
          "hovermode": "closest",
          "mapbox": {
           "style": "light"
          },
          "paper_bgcolor": "white",
          "plot_bgcolor": "#E5ECF6",
          "polar": {
           "angularaxis": {
            "gridcolor": "white",
            "linecolor": "white",
            "ticks": ""
           },
           "bgcolor": "#E5ECF6",
           "radialaxis": {
            "gridcolor": "white",
            "linecolor": "white",
            "ticks": ""
           }
          },
          "scene": {
           "xaxis": {
            "backgroundcolor": "#E5ECF6",
            "gridcolor": "white",
            "gridwidth": 2,
            "linecolor": "white",
            "showbackground": true,
            "ticks": "",
            "zerolinecolor": "white"
           },
           "yaxis": {
            "backgroundcolor": "#E5ECF6",
            "gridcolor": "white",
            "gridwidth": 2,
            "linecolor": "white",
            "showbackground": true,
            "ticks": "",
            "zerolinecolor": "white"
           },
           "zaxis": {
            "backgroundcolor": "#E5ECF6",
            "gridcolor": "white",
            "gridwidth": 2,
            "linecolor": "white",
            "showbackground": true,
            "ticks": "",
            "zerolinecolor": "white"
           }
          },
          "shapedefaults": {
           "line": {
            "color": "#2a3f5f"
           }
          },
          "ternary": {
           "aaxis": {
            "gridcolor": "white",
            "linecolor": "white",
            "ticks": ""
           },
           "baxis": {
            "gridcolor": "white",
            "linecolor": "white",
            "ticks": ""
           },
           "bgcolor": "#E5ECF6",
           "caxis": {
            "gridcolor": "white",
            "linecolor": "white",
            "ticks": ""
           }
          },
          "title": {
           "x": 0.05
          },
          "xaxis": {
           "automargin": true,
           "gridcolor": "white",
           "linecolor": "white",
           "ticks": "",
           "title": {
            "standoff": 15
           },
           "zerolinecolor": "white",
           "zerolinewidth": 2
          },
          "yaxis": {
           "automargin": true,
           "gridcolor": "white",
           "linecolor": "white",
           "ticks": "",
           "title": {
            "standoff": 15
           },
           "zerolinecolor": "white",
           "zerolinewidth": 2
          }
         }
        },
        "title": {
         "font": {
          "color": "#4D5663"
         }
        },
        "xaxis": {
         "gridcolor": "#E1E5ED",
         "showgrid": true,
         "tickfont": {
          "color": "#4D5663"
         },
         "title": {
          "font": {
           "color": "#4D5663"
          },
          "text": ""
         },
         "zerolinecolor": "#E1E5ED"
        },
        "yaxis": {
         "gridcolor": "#E1E5ED",
         "showgrid": true,
         "tickfont": {
          "color": "#4D5663"
         },
         "title": {
          "font": {
           "color": "#4D5663"
          },
          "text": ""
         },
         "zerolinecolor": "#E1E5ED"
        }
       }
      },
      "text/html": [
       "<div>\n",
       "        \n",
       "        \n",
       "            <div id=\"b51b718a-c1b3-4dba-abfb-adcb567b0e08\" class=\"plotly-graph-div\" style=\"height:525px; width:100%;\"></div>\n",
       "            <script type=\"text/javascript\">\n",
       "                require([\"plotly\"], function(Plotly) {\n",
       "                    window.PLOTLYENV=window.PLOTLYENV || {};\n",
       "                    window.PLOTLYENV.BASE_URL='https://plot.ly';\n",
       "                    \n",
       "                if (document.getElementById(\"b51b718a-c1b3-4dba-abfb-adcb567b0e08\")) {\n",
       "                    Plotly.newPlot(\n",
       "                        'b51b718a-c1b3-4dba-abfb-adcb567b0e08',\n",
       "                        [{\"line\": {\"color\": \"rgba(255, 153, 51, 1.0)\", \"dash\": \"solid\", \"shape\": \"linear\", \"width\": 1.3}, \"marker\": {\"size\": 15, \"symbol\": \"circle\"}, \"mode\": \"markers\", \"name\": \"B\", \"text\": \"\", \"type\": \"scatter\", \"x\": [0.5607480575046337, -0.3708633475833689, 0.4230264901718323, -0.9549106351528698, -0.20741263670876842, -1.024518844287343, -1.0367249687928646, 2.0584447684824885, -1.4187588960747235, -0.046585194692532424, 0.36787548846534923, -2.044211812156692, -2.550339562813716, 0.40015190479056917, 0.5681708126504649, 0.7940914617616944, -1.068967565955156, 0.07867740459071079, 0.4235998492954107, 0.39095912999154775, 1.327686045467365, -1.754462647693073, -0.578173012072137, -1.0779798184582985, -1.891079726438191, 0.4659456386036681, -0.21802135906844125, 0.19367326395113266, -1.9603362574570133, 0.14932514499258526, -0.9529428773655932, 0.7856639631456367, 0.4156555358714044, 0.7153211913364734, -1.3322882860784802, 0.4139571120324161, 0.3967036149503087, 0.4803572763821211, -0.15324245046653046, -0.3119030508533104, 0.9967146023695868, -0.47050022120553125, -0.4892774201067624, -1.85008249779815, -1.7845525458308382, 0.1353531820802186, 0.8699058267717776, -0.595527228953319, -0.49038254076086707, 0.14079245442134247, -1.6579724363407244, 2.418537608960433, 0.27571151766342716, -1.2092357839728465, 0.37547517010499964, -1.0630914256315618, -0.21351316426565678, -0.27672782264169615, 1.1129222293747094, -0.28712792311619945, 0.7129540586172829, -1.566751562768234, 0.9296950897556568, -0.9935280386456603, -1.1710637069029972, 1.0331173300172627, -0.7779591509796198, 0.21686394225833813, 0.9654083038662515, 0.03337425399400426, 0.2108971788093691, -2.3580895215396565, 0.896589310994641, 0.674101904339704, -0.38463931465655277, -0.23191184444903365, -0.8086330854286654, -1.445946605784175, -1.9764770166489303, -0.37283081828887904, 0.8367782985876825, -0.30237097827066195, 0.380435715262536, 0.031050281970491544, -1.0946115915704187, 2.2558393050008103, -0.12197341968923685, 0.1407793346328531, -0.7188373798798, 0.8657765896581454, -0.13382126496639835, 0.970122231997722, -0.029542020767768597, -0.8690891890937565, -1.0338929783040642, -0.6267558462723102, -1.4157502451975266, -0.5785252269504768, 0.23779112418985437, -0.158700233859291], \"y\": [0.08628323394041917, 0.1996020788959708, 0.20815944961259064, 2.131671412751742, -0.6230820414858802, -0.20059453914798314, 0.30850312105249406, 1.7452481067756915, 0.7328641159155839, 2.1251837923160504, 0.47887481994342734, -0.1825069749191838, 2.138799212851821, 1.0451685881907276, 0.7434135269810468, 0.3442098404393374, -0.6667688075567253, 0.06371752400275227, 0.0027046037096464712, 0.08321386399124807, 0.22243369389629775, 0.4755975179492282, -0.8979402876528175, -1.85402118299806, -0.9247498611392219, -0.8602848187962258, 0.04358900306148492, -0.5676161630929298, -0.07734514221487851, 0.18994788348417663, -0.7365699535202821, 0.32817276921175176, 0.5845710556239431, 0.5504481459044616, -0.7217255921692333, 1.3536859978584614, 0.7413518060931923, 0.4954504182405843, -1.297639979562549, -1.5211164017484191, -0.5356313159929892, -0.14139501644207536, -2.535185047270597, -1.3972714221877187, 0.08578376083602648, -1.8771408047470939, -0.1382002174398529, -0.4319456408707257, -0.6873636767251813, -2.154901585183574, 0.8349884750677796, -0.29344606963996633, -2.0646176720779064, 0.2715258162942724, -0.8987499333895042, 0.6737517491122544, -0.8903450187141376, -0.5865223603579941, 1.2182908148049052, 0.5438298456028653, -0.9955332831521326, -0.9267142054469677, -1.8737830394162058, 0.4155025883669216, 1.4072161601242574, 1.6558356000102168, 0.1809956349868083, 0.05305950380555659, -0.9973706957566846, 0.8485135367398966, -0.09069496672792628, 1.2575460701823191, -1.1954067348628163, -0.03249315387521831, 0.28128026601803596, -1.0405636511730798, -0.17966114977992012, -0.19911305400341872, -0.04475203909549446, -0.33144565439472856, 2.7808030289348644, 0.08125916906489697, -1.5582135882821042, -1.288804376166216, 0.14180622305606383, 0.5449416201336499, -0.39609729585126346, -0.12395381701788742, 0.07703560202435866, -1.0272511213580646, 0.013861719718305783, -0.10758763900023838, -0.3976760311590689, 1.1015906152909287, -0.6678659159520443, -0.8442929808644131, 0.8409636359623852, 0.28507155270790163, -0.6297736460594562, -2.9931078502086437]}],\n",
       "                        {\"legend\": {\"bgcolor\": \"#F5F6F9\", \"font\": {\"color\": \"#4D5663\"}}, \"paper_bgcolor\": \"#F5F6F9\", \"plot_bgcolor\": \"#F5F6F9\", \"template\": {\"data\": {\"bar\": [{\"error_x\": {\"color\": \"#2a3f5f\"}, \"error_y\": {\"color\": \"#2a3f5f\"}, \"marker\": {\"line\": {\"color\": \"#E5ECF6\", \"width\": 0.5}}, \"type\": \"bar\"}], \"barpolar\": [{\"marker\": {\"line\": {\"color\": \"#E5ECF6\", \"width\": 0.5}}, \"type\": \"barpolar\"}], \"carpet\": [{\"aaxis\": {\"endlinecolor\": \"#2a3f5f\", \"gridcolor\": \"white\", \"linecolor\": \"white\", \"minorgridcolor\": \"white\", \"startlinecolor\": \"#2a3f5f\"}, \"baxis\": {\"endlinecolor\": \"#2a3f5f\", \"gridcolor\": \"white\", \"linecolor\": \"white\", \"minorgridcolor\": \"white\", \"startlinecolor\": \"#2a3f5f\"}, \"type\": \"carpet\"}], \"choropleth\": [{\"colorbar\": {\"outlinewidth\": 0, \"ticks\": \"\"}, \"type\": \"choropleth\"}], \"contour\": [{\"colorbar\": {\"outlinewidth\": 0, \"ticks\": \"\"}, \"colorscale\": [[0.0, \"#0d0887\"], [0.1111111111111111, \"#46039f\"], [0.2222222222222222, \"#7201a8\"], [0.3333333333333333, \"#9c179e\"], [0.4444444444444444, \"#bd3786\"], [0.5555555555555556, \"#d8576b\"], [0.6666666666666666, \"#ed7953\"], [0.7777777777777778, \"#fb9f3a\"], [0.8888888888888888, \"#fdca26\"], [1.0, \"#f0f921\"]], \"type\": \"contour\"}], \"contourcarpet\": [{\"colorbar\": {\"outlinewidth\": 0, \"ticks\": \"\"}, \"type\": \"contourcarpet\"}], \"heatmap\": [{\"colorbar\": {\"outlinewidth\": 0, \"ticks\": \"\"}, \"colorscale\": [[0.0, \"#0d0887\"], [0.1111111111111111, \"#46039f\"], [0.2222222222222222, \"#7201a8\"], [0.3333333333333333, \"#9c179e\"], [0.4444444444444444, \"#bd3786\"], [0.5555555555555556, \"#d8576b\"], [0.6666666666666666, \"#ed7953\"], [0.7777777777777778, \"#fb9f3a\"], [0.8888888888888888, \"#fdca26\"], [1.0, \"#f0f921\"]], \"type\": \"heatmap\"}], \"heatmapgl\": [{\"colorbar\": {\"outlinewidth\": 0, \"ticks\": \"\"}, \"colorscale\": [[0.0, \"#0d0887\"], [0.1111111111111111, \"#46039f\"], [0.2222222222222222, \"#7201a8\"], [0.3333333333333333, \"#9c179e\"], [0.4444444444444444, \"#bd3786\"], [0.5555555555555556, \"#d8576b\"], [0.6666666666666666, \"#ed7953\"], [0.7777777777777778, \"#fb9f3a\"], [0.8888888888888888, \"#fdca26\"], [1.0, \"#f0f921\"]], \"type\": \"heatmapgl\"}], \"histogram\": [{\"marker\": {\"colorbar\": {\"outlinewidth\": 0, \"ticks\": \"\"}}, \"type\": \"histogram\"}], \"histogram2d\": [{\"colorbar\": {\"outlinewidth\": 0, \"ticks\": \"\"}, \"colorscale\": [[0.0, \"#0d0887\"], [0.1111111111111111, \"#46039f\"], [0.2222222222222222, \"#7201a8\"], [0.3333333333333333, \"#9c179e\"], [0.4444444444444444, \"#bd3786\"], [0.5555555555555556, \"#d8576b\"], [0.6666666666666666, \"#ed7953\"], [0.7777777777777778, \"#fb9f3a\"], [0.8888888888888888, \"#fdca26\"], [1.0, \"#f0f921\"]], \"type\": \"histogram2d\"}], \"histogram2dcontour\": [{\"colorbar\": {\"outlinewidth\": 0, \"ticks\": \"\"}, \"colorscale\": [[0.0, \"#0d0887\"], [0.1111111111111111, \"#46039f\"], [0.2222222222222222, \"#7201a8\"], [0.3333333333333333, \"#9c179e\"], [0.4444444444444444, \"#bd3786\"], [0.5555555555555556, \"#d8576b\"], [0.6666666666666666, \"#ed7953\"], [0.7777777777777778, \"#fb9f3a\"], [0.8888888888888888, \"#fdca26\"], [1.0, \"#f0f921\"]], \"type\": \"histogram2dcontour\"}], \"mesh3d\": [{\"colorbar\": {\"outlinewidth\": 0, \"ticks\": \"\"}, \"type\": \"mesh3d\"}], \"parcoords\": [{\"line\": {\"colorbar\": {\"outlinewidth\": 0, \"ticks\": \"\"}}, \"type\": \"parcoords\"}], \"pie\": [{\"automargin\": true, \"type\": \"pie\"}], \"scatter\": [{\"marker\": {\"colorbar\": {\"outlinewidth\": 0, \"ticks\": \"\"}}, \"type\": \"scatter\"}], \"scatter3d\": [{\"line\": {\"colorbar\": {\"outlinewidth\": 0, \"ticks\": \"\"}}, \"marker\": {\"colorbar\": {\"outlinewidth\": 0, \"ticks\": \"\"}}, \"type\": \"scatter3d\"}], \"scattercarpet\": [{\"marker\": {\"colorbar\": {\"outlinewidth\": 0, \"ticks\": \"\"}}, \"type\": \"scattercarpet\"}], \"scattergeo\": [{\"marker\": {\"colorbar\": {\"outlinewidth\": 0, \"ticks\": \"\"}}, \"type\": \"scattergeo\"}], \"scattergl\": [{\"marker\": {\"colorbar\": {\"outlinewidth\": 0, \"ticks\": \"\"}}, \"type\": \"scattergl\"}], \"scattermapbox\": [{\"marker\": {\"colorbar\": {\"outlinewidth\": 0, \"ticks\": \"\"}}, \"type\": \"scattermapbox\"}], \"scatterpolar\": [{\"marker\": {\"colorbar\": {\"outlinewidth\": 0, \"ticks\": \"\"}}, \"type\": \"scatterpolar\"}], \"scatterpolargl\": [{\"marker\": {\"colorbar\": {\"outlinewidth\": 0, \"ticks\": \"\"}}, \"type\": \"scatterpolargl\"}], \"scatterternary\": [{\"marker\": {\"colorbar\": {\"outlinewidth\": 0, \"ticks\": \"\"}}, \"type\": \"scatterternary\"}], \"surface\": [{\"colorbar\": {\"outlinewidth\": 0, \"ticks\": \"\"}, \"colorscale\": [[0.0, \"#0d0887\"], [0.1111111111111111, \"#46039f\"], [0.2222222222222222, \"#7201a8\"], [0.3333333333333333, \"#9c179e\"], [0.4444444444444444, \"#bd3786\"], [0.5555555555555556, \"#d8576b\"], [0.6666666666666666, \"#ed7953\"], [0.7777777777777778, \"#fb9f3a\"], [0.8888888888888888, \"#fdca26\"], [1.0, \"#f0f921\"]], \"type\": \"surface\"}], \"table\": [{\"cells\": {\"fill\": {\"color\": \"#EBF0F8\"}, \"line\": {\"color\": \"white\"}}, \"header\": {\"fill\": {\"color\": \"#C8D4E3\"}, \"line\": {\"color\": \"white\"}}, \"type\": \"table\"}]}, \"layout\": {\"annotationdefaults\": {\"arrowcolor\": \"#2a3f5f\", \"arrowhead\": 0, \"arrowwidth\": 1}, \"coloraxis\": {\"colorbar\": {\"outlinewidth\": 0, \"ticks\": \"\"}}, \"colorscale\": {\"diverging\": [[0, \"#8e0152\"], [0.1, \"#c51b7d\"], [0.2, \"#de77ae\"], [0.3, \"#f1b6da\"], [0.4, \"#fde0ef\"], [0.5, \"#f7f7f7\"], [0.6, \"#e6f5d0\"], [0.7, \"#b8e186\"], [0.8, \"#7fbc41\"], [0.9, \"#4d9221\"], [1, \"#276419\"]], \"sequential\": [[0.0, \"#0d0887\"], [0.1111111111111111, \"#46039f\"], [0.2222222222222222, \"#7201a8\"], [0.3333333333333333, \"#9c179e\"], [0.4444444444444444, \"#bd3786\"], [0.5555555555555556, \"#d8576b\"], [0.6666666666666666, \"#ed7953\"], [0.7777777777777778, \"#fb9f3a\"], [0.8888888888888888, \"#fdca26\"], [1.0, \"#f0f921\"]], \"sequentialminus\": [[0.0, \"#0d0887\"], [0.1111111111111111, \"#46039f\"], [0.2222222222222222, \"#7201a8\"], [0.3333333333333333, \"#9c179e\"], [0.4444444444444444, \"#bd3786\"], [0.5555555555555556, \"#d8576b\"], [0.6666666666666666, \"#ed7953\"], [0.7777777777777778, \"#fb9f3a\"], [0.8888888888888888, \"#fdca26\"], [1.0, \"#f0f921\"]]}, \"colorway\": [\"#636efa\", \"#EF553B\", \"#00cc96\", \"#ab63fa\", \"#FFA15A\", \"#19d3f3\", \"#FF6692\", \"#B6E880\", \"#FF97FF\", \"#FECB52\"], \"font\": {\"color\": \"#2a3f5f\"}, \"geo\": {\"bgcolor\": \"white\", \"lakecolor\": \"white\", \"landcolor\": \"#E5ECF6\", \"showlakes\": true, \"showland\": true, \"subunitcolor\": \"white\"}, \"hoverlabel\": {\"align\": \"left\"}, \"hovermode\": \"closest\", \"mapbox\": {\"style\": \"light\"}, \"paper_bgcolor\": \"white\", \"plot_bgcolor\": \"#E5ECF6\", \"polar\": {\"angularaxis\": {\"gridcolor\": \"white\", \"linecolor\": \"white\", \"ticks\": \"\"}, \"bgcolor\": \"#E5ECF6\", \"radialaxis\": {\"gridcolor\": \"white\", \"linecolor\": \"white\", \"ticks\": \"\"}}, \"scene\": {\"xaxis\": {\"backgroundcolor\": \"#E5ECF6\", \"gridcolor\": \"white\", \"gridwidth\": 2, \"linecolor\": \"white\", \"showbackground\": true, \"ticks\": \"\", \"zerolinecolor\": \"white\"}, \"yaxis\": {\"backgroundcolor\": \"#E5ECF6\", \"gridcolor\": \"white\", \"gridwidth\": 2, \"linecolor\": \"white\", \"showbackground\": true, \"ticks\": \"\", \"zerolinecolor\": \"white\"}, \"zaxis\": {\"backgroundcolor\": \"#E5ECF6\", \"gridcolor\": \"white\", \"gridwidth\": 2, \"linecolor\": \"white\", \"showbackground\": true, \"ticks\": \"\", \"zerolinecolor\": \"white\"}}, \"shapedefaults\": {\"line\": {\"color\": \"#2a3f5f\"}}, \"ternary\": {\"aaxis\": {\"gridcolor\": \"white\", \"linecolor\": \"white\", \"ticks\": \"\"}, \"baxis\": {\"gridcolor\": \"white\", \"linecolor\": \"white\", \"ticks\": \"\"}, \"bgcolor\": \"#E5ECF6\", \"caxis\": {\"gridcolor\": \"white\", \"linecolor\": \"white\", \"ticks\": \"\"}}, \"title\": {\"x\": 0.05}, \"xaxis\": {\"automargin\": true, \"gridcolor\": \"white\", \"linecolor\": \"white\", \"ticks\": \"\", \"title\": {\"standoff\": 15}, \"zerolinecolor\": \"white\", \"zerolinewidth\": 2}, \"yaxis\": {\"automargin\": true, \"gridcolor\": \"white\", \"linecolor\": \"white\", \"ticks\": \"\", \"title\": {\"standoff\": 15}, \"zerolinecolor\": \"white\", \"zerolinewidth\": 2}}}, \"title\": {\"font\": {\"color\": \"#4D5663\"}}, \"xaxis\": {\"gridcolor\": \"#E1E5ED\", \"showgrid\": true, \"tickfont\": {\"color\": \"#4D5663\"}, \"title\": {\"font\": {\"color\": \"#4D5663\"}, \"text\": \"\"}, \"zerolinecolor\": \"#E1E5ED\"}, \"yaxis\": {\"gridcolor\": \"#E1E5ED\", \"showgrid\": true, \"tickfont\": {\"color\": \"#4D5663\"}, \"title\": {\"font\": {\"color\": \"#4D5663\"}, \"text\": \"\"}, \"zerolinecolor\": \"#E1E5ED\"}},\n",
       "                        {\"showLink\": true, \"linkText\": \"Export to plot.ly\", \"plotlyServerURL\": \"https://plot.ly\", \"responsive\": true}\n",
       "                    ).then(function(){\n",
       "                            \n",
       "var gd = document.getElementById('b51b718a-c1b3-4dba-abfb-adcb567b0e08');\n",
       "var x = new MutationObserver(function (mutations, observer) {{\n",
       "        var display = window.getComputedStyle(gd).display;\n",
       "        if (!display || display === 'none') {{\n",
       "            console.log([gd, 'removed!']);\n",
       "            Plotly.purge(gd);\n",
       "            observer.disconnect();\n",
       "        }}\n",
       "}});\n",
       "\n",
       "// Listen for the removal of the full notebook cells\n",
       "var notebookContainer = gd.closest('#notebook-container');\n",
       "if (notebookContainer) {{\n",
       "    x.observe(notebookContainer, {childList: true});\n",
       "}}\n",
       "\n",
       "// Listen for the clearing of the current output cell\n",
       "var outputEl = gd.closest('.output');\n",
       "if (outputEl) {{\n",
       "    x.observe(outputEl, {childList: true});\n",
       "}}\n",
       "\n",
       "                        })\n",
       "                };\n",
       "                });\n",
       "            </script>\n",
       "        </div>"
      ]
     },
     "metadata": {},
     "output_type": "display_data"
    }
   ],
   "source": [
    "df.iplot(kind='scatter',x='A',y='B',mode='markers',size=15)"
   ]
  },
  {
   "cell_type": "code",
   "execution_count": 11,
   "metadata": {},
   "outputs": [
    {
     "data": {
      "application/vnd.plotly.v1+json": {
       "config": {
        "linkText": "Export to plot.ly",
        "plotlyServerURL": "https://plot.ly",
        "showLink": true
       },
       "data": [
        {
         "line": {
          "color": "rgba(255, 153, 51, 1.0)",
          "dash": "solid",
          "shape": "linear",
          "width": 1.3
         },
         "marker": {
          "size": 15,
          "symbol": "circle"
         },
         "mode": "lines+markers",
         "name": "B",
         "text": "",
         "type": "scatter",
         "x": [
          0.5607480575046337,
          -0.3708633475833689,
          0.4230264901718323,
          -0.9549106351528698,
          -0.20741263670876842,
          -1.024518844287343,
          -1.0367249687928646,
          2.0584447684824885,
          -1.4187588960747235,
          -0.046585194692532424,
          0.36787548846534923,
          -2.044211812156692,
          -2.550339562813716,
          0.40015190479056917,
          0.5681708126504649,
          0.7940914617616944,
          -1.068967565955156,
          0.07867740459071079,
          0.4235998492954107,
          0.39095912999154775,
          1.327686045467365,
          -1.754462647693073,
          -0.578173012072137,
          -1.0779798184582985,
          -1.891079726438191,
          0.4659456386036681,
          -0.21802135906844125,
          0.19367326395113266,
          -1.9603362574570133,
          0.14932514499258526,
          -0.9529428773655932,
          0.7856639631456367,
          0.4156555358714044,
          0.7153211913364734,
          -1.3322882860784802,
          0.4139571120324161,
          0.3967036149503087,
          0.4803572763821211,
          -0.15324245046653046,
          -0.3119030508533104,
          0.9967146023695868,
          -0.47050022120553125,
          -0.4892774201067624,
          -1.85008249779815,
          -1.7845525458308382,
          0.1353531820802186,
          0.8699058267717776,
          -0.595527228953319,
          -0.49038254076086707,
          0.14079245442134247,
          -1.6579724363407244,
          2.418537608960433,
          0.27571151766342716,
          -1.2092357839728465,
          0.37547517010499964,
          -1.0630914256315618,
          -0.21351316426565678,
          -0.27672782264169615,
          1.1129222293747094,
          -0.28712792311619945,
          0.7129540586172829,
          -1.566751562768234,
          0.9296950897556568,
          -0.9935280386456603,
          -1.1710637069029972,
          1.0331173300172627,
          -0.7779591509796198,
          0.21686394225833813,
          0.9654083038662515,
          0.03337425399400426,
          0.2108971788093691,
          -2.3580895215396565,
          0.896589310994641,
          0.674101904339704,
          -0.38463931465655277,
          -0.23191184444903365,
          -0.8086330854286654,
          -1.445946605784175,
          -1.9764770166489303,
          -0.37283081828887904,
          0.8367782985876825,
          -0.30237097827066195,
          0.380435715262536,
          0.031050281970491544,
          -1.0946115915704187,
          2.2558393050008103,
          -0.12197341968923685,
          0.1407793346328531,
          -0.7188373798798,
          0.8657765896581454,
          -0.13382126496639835,
          0.970122231997722,
          -0.029542020767768597,
          -0.8690891890937565,
          -1.0338929783040642,
          -0.6267558462723102,
          -1.4157502451975266,
          -0.5785252269504768,
          0.23779112418985437,
          -0.158700233859291
         ],
         "y": [
          0.08628323394041917,
          0.1996020788959708,
          0.20815944961259064,
          2.131671412751742,
          -0.6230820414858802,
          -0.20059453914798314,
          0.30850312105249406,
          1.7452481067756915,
          0.7328641159155839,
          2.1251837923160504,
          0.47887481994342734,
          -0.1825069749191838,
          2.138799212851821,
          1.0451685881907276,
          0.7434135269810468,
          0.3442098404393374,
          -0.6667688075567253,
          0.06371752400275227,
          0.0027046037096464712,
          0.08321386399124807,
          0.22243369389629775,
          0.4755975179492282,
          -0.8979402876528175,
          -1.85402118299806,
          -0.9247498611392219,
          -0.8602848187962258,
          0.04358900306148492,
          -0.5676161630929298,
          -0.07734514221487851,
          0.18994788348417663,
          -0.7365699535202821,
          0.32817276921175176,
          0.5845710556239431,
          0.5504481459044616,
          -0.7217255921692333,
          1.3536859978584614,
          0.7413518060931923,
          0.4954504182405843,
          -1.297639979562549,
          -1.5211164017484191,
          -0.5356313159929892,
          -0.14139501644207536,
          -2.535185047270597,
          -1.3972714221877187,
          0.08578376083602648,
          -1.8771408047470939,
          -0.1382002174398529,
          -0.4319456408707257,
          -0.6873636767251813,
          -2.154901585183574,
          0.8349884750677796,
          -0.29344606963996633,
          -2.0646176720779064,
          0.2715258162942724,
          -0.8987499333895042,
          0.6737517491122544,
          -0.8903450187141376,
          -0.5865223603579941,
          1.2182908148049052,
          0.5438298456028653,
          -0.9955332831521326,
          -0.9267142054469677,
          -1.8737830394162058,
          0.4155025883669216,
          1.4072161601242574,
          1.6558356000102168,
          0.1809956349868083,
          0.05305950380555659,
          -0.9973706957566846,
          0.8485135367398966,
          -0.09069496672792628,
          1.2575460701823191,
          -1.1954067348628163,
          -0.03249315387521831,
          0.28128026601803596,
          -1.0405636511730798,
          -0.17966114977992012,
          -0.19911305400341872,
          -0.04475203909549446,
          -0.33144565439472856,
          2.7808030289348644,
          0.08125916906489697,
          -1.5582135882821042,
          -1.288804376166216,
          0.14180622305606383,
          0.5449416201336499,
          -0.39609729585126346,
          -0.12395381701788742,
          0.07703560202435866,
          -1.0272511213580646,
          0.013861719718305783,
          -0.10758763900023838,
          -0.3976760311590689,
          1.1015906152909287,
          -0.6678659159520443,
          -0.8442929808644131,
          0.8409636359623852,
          0.28507155270790163,
          -0.6297736460594562,
          -2.9931078502086437
         ]
        }
       ],
       "layout": {
        "legend": {
         "bgcolor": "#F5F6F9",
         "font": {
          "color": "#4D5663"
         }
        },
        "paper_bgcolor": "#F5F6F9",
        "plot_bgcolor": "#F5F6F9",
        "template": {
         "data": {
          "bar": [
           {
            "error_x": {
             "color": "#2a3f5f"
            },
            "error_y": {
             "color": "#2a3f5f"
            },
            "marker": {
             "line": {
              "color": "#E5ECF6",
              "width": 0.5
             }
            },
            "type": "bar"
           }
          ],
          "barpolar": [
           {
            "marker": {
             "line": {
              "color": "#E5ECF6",
              "width": 0.5
             }
            },
            "type": "barpolar"
           }
          ],
          "carpet": [
           {
            "aaxis": {
             "endlinecolor": "#2a3f5f",
             "gridcolor": "white",
             "linecolor": "white",
             "minorgridcolor": "white",
             "startlinecolor": "#2a3f5f"
            },
            "baxis": {
             "endlinecolor": "#2a3f5f",
             "gridcolor": "white",
             "linecolor": "white",
             "minorgridcolor": "white",
             "startlinecolor": "#2a3f5f"
            },
            "type": "carpet"
           }
          ],
          "choropleth": [
           {
            "colorbar": {
             "outlinewidth": 0,
             "ticks": ""
            },
            "type": "choropleth"
           }
          ],
          "contour": [
           {
            "colorbar": {
             "outlinewidth": 0,
             "ticks": ""
            },
            "colorscale": [
             [
              0,
              "#0d0887"
             ],
             [
              0.1111111111111111,
              "#46039f"
             ],
             [
              0.2222222222222222,
              "#7201a8"
             ],
             [
              0.3333333333333333,
              "#9c179e"
             ],
             [
              0.4444444444444444,
              "#bd3786"
             ],
             [
              0.5555555555555556,
              "#d8576b"
             ],
             [
              0.6666666666666666,
              "#ed7953"
             ],
             [
              0.7777777777777778,
              "#fb9f3a"
             ],
             [
              0.8888888888888888,
              "#fdca26"
             ],
             [
              1,
              "#f0f921"
             ]
            ],
            "type": "contour"
           }
          ],
          "contourcarpet": [
           {
            "colorbar": {
             "outlinewidth": 0,
             "ticks": ""
            },
            "type": "contourcarpet"
           }
          ],
          "heatmap": [
           {
            "colorbar": {
             "outlinewidth": 0,
             "ticks": ""
            },
            "colorscale": [
             [
              0,
              "#0d0887"
             ],
             [
              0.1111111111111111,
              "#46039f"
             ],
             [
              0.2222222222222222,
              "#7201a8"
             ],
             [
              0.3333333333333333,
              "#9c179e"
             ],
             [
              0.4444444444444444,
              "#bd3786"
             ],
             [
              0.5555555555555556,
              "#d8576b"
             ],
             [
              0.6666666666666666,
              "#ed7953"
             ],
             [
              0.7777777777777778,
              "#fb9f3a"
             ],
             [
              0.8888888888888888,
              "#fdca26"
             ],
             [
              1,
              "#f0f921"
             ]
            ],
            "type": "heatmap"
           }
          ],
          "heatmapgl": [
           {
            "colorbar": {
             "outlinewidth": 0,
             "ticks": ""
            },
            "colorscale": [
             [
              0,
              "#0d0887"
             ],
             [
              0.1111111111111111,
              "#46039f"
             ],
             [
              0.2222222222222222,
              "#7201a8"
             ],
             [
              0.3333333333333333,
              "#9c179e"
             ],
             [
              0.4444444444444444,
              "#bd3786"
             ],
             [
              0.5555555555555556,
              "#d8576b"
             ],
             [
              0.6666666666666666,
              "#ed7953"
             ],
             [
              0.7777777777777778,
              "#fb9f3a"
             ],
             [
              0.8888888888888888,
              "#fdca26"
             ],
             [
              1,
              "#f0f921"
             ]
            ],
            "type": "heatmapgl"
           }
          ],
          "histogram": [
           {
            "marker": {
             "colorbar": {
              "outlinewidth": 0,
              "ticks": ""
             }
            },
            "type": "histogram"
           }
          ],
          "histogram2d": [
           {
            "colorbar": {
             "outlinewidth": 0,
             "ticks": ""
            },
            "colorscale": [
             [
              0,
              "#0d0887"
             ],
             [
              0.1111111111111111,
              "#46039f"
             ],
             [
              0.2222222222222222,
              "#7201a8"
             ],
             [
              0.3333333333333333,
              "#9c179e"
             ],
             [
              0.4444444444444444,
              "#bd3786"
             ],
             [
              0.5555555555555556,
              "#d8576b"
             ],
             [
              0.6666666666666666,
              "#ed7953"
             ],
             [
              0.7777777777777778,
              "#fb9f3a"
             ],
             [
              0.8888888888888888,
              "#fdca26"
             ],
             [
              1,
              "#f0f921"
             ]
            ],
            "type": "histogram2d"
           }
          ],
          "histogram2dcontour": [
           {
            "colorbar": {
             "outlinewidth": 0,
             "ticks": ""
            },
            "colorscale": [
             [
              0,
              "#0d0887"
             ],
             [
              0.1111111111111111,
              "#46039f"
             ],
             [
              0.2222222222222222,
              "#7201a8"
             ],
             [
              0.3333333333333333,
              "#9c179e"
             ],
             [
              0.4444444444444444,
              "#bd3786"
             ],
             [
              0.5555555555555556,
              "#d8576b"
             ],
             [
              0.6666666666666666,
              "#ed7953"
             ],
             [
              0.7777777777777778,
              "#fb9f3a"
             ],
             [
              0.8888888888888888,
              "#fdca26"
             ],
             [
              1,
              "#f0f921"
             ]
            ],
            "type": "histogram2dcontour"
           }
          ],
          "mesh3d": [
           {
            "colorbar": {
             "outlinewidth": 0,
             "ticks": ""
            },
            "type": "mesh3d"
           }
          ],
          "parcoords": [
           {
            "line": {
             "colorbar": {
              "outlinewidth": 0,
              "ticks": ""
             }
            },
            "type": "parcoords"
           }
          ],
          "pie": [
           {
            "automargin": true,
            "type": "pie"
           }
          ],
          "scatter": [
           {
            "marker": {
             "colorbar": {
              "outlinewidth": 0,
              "ticks": ""
             }
            },
            "type": "scatter"
           }
          ],
          "scatter3d": [
           {
            "line": {
             "colorbar": {
              "outlinewidth": 0,
              "ticks": ""
             }
            },
            "marker": {
             "colorbar": {
              "outlinewidth": 0,
              "ticks": ""
             }
            },
            "type": "scatter3d"
           }
          ],
          "scattercarpet": [
           {
            "marker": {
             "colorbar": {
              "outlinewidth": 0,
              "ticks": ""
             }
            },
            "type": "scattercarpet"
           }
          ],
          "scattergeo": [
           {
            "marker": {
             "colorbar": {
              "outlinewidth": 0,
              "ticks": ""
             }
            },
            "type": "scattergeo"
           }
          ],
          "scattergl": [
           {
            "marker": {
             "colorbar": {
              "outlinewidth": 0,
              "ticks": ""
             }
            },
            "type": "scattergl"
           }
          ],
          "scattermapbox": [
           {
            "marker": {
             "colorbar": {
              "outlinewidth": 0,
              "ticks": ""
             }
            },
            "type": "scattermapbox"
           }
          ],
          "scatterpolar": [
           {
            "marker": {
             "colorbar": {
              "outlinewidth": 0,
              "ticks": ""
             }
            },
            "type": "scatterpolar"
           }
          ],
          "scatterpolargl": [
           {
            "marker": {
             "colorbar": {
              "outlinewidth": 0,
              "ticks": ""
             }
            },
            "type": "scatterpolargl"
           }
          ],
          "scatterternary": [
           {
            "marker": {
             "colorbar": {
              "outlinewidth": 0,
              "ticks": ""
             }
            },
            "type": "scatterternary"
           }
          ],
          "surface": [
           {
            "colorbar": {
             "outlinewidth": 0,
             "ticks": ""
            },
            "colorscale": [
             [
              0,
              "#0d0887"
             ],
             [
              0.1111111111111111,
              "#46039f"
             ],
             [
              0.2222222222222222,
              "#7201a8"
             ],
             [
              0.3333333333333333,
              "#9c179e"
             ],
             [
              0.4444444444444444,
              "#bd3786"
             ],
             [
              0.5555555555555556,
              "#d8576b"
             ],
             [
              0.6666666666666666,
              "#ed7953"
             ],
             [
              0.7777777777777778,
              "#fb9f3a"
             ],
             [
              0.8888888888888888,
              "#fdca26"
             ],
             [
              1,
              "#f0f921"
             ]
            ],
            "type": "surface"
           }
          ],
          "table": [
           {
            "cells": {
             "fill": {
              "color": "#EBF0F8"
             },
             "line": {
              "color": "white"
             }
            },
            "header": {
             "fill": {
              "color": "#C8D4E3"
             },
             "line": {
              "color": "white"
             }
            },
            "type": "table"
           }
          ]
         },
         "layout": {
          "annotationdefaults": {
           "arrowcolor": "#2a3f5f",
           "arrowhead": 0,
           "arrowwidth": 1
          },
          "coloraxis": {
           "colorbar": {
            "outlinewidth": 0,
            "ticks": ""
           }
          },
          "colorscale": {
           "diverging": [
            [
             0,
             "#8e0152"
            ],
            [
             0.1,
             "#c51b7d"
            ],
            [
             0.2,
             "#de77ae"
            ],
            [
             0.3,
             "#f1b6da"
            ],
            [
             0.4,
             "#fde0ef"
            ],
            [
             0.5,
             "#f7f7f7"
            ],
            [
             0.6,
             "#e6f5d0"
            ],
            [
             0.7,
             "#b8e186"
            ],
            [
             0.8,
             "#7fbc41"
            ],
            [
             0.9,
             "#4d9221"
            ],
            [
             1,
             "#276419"
            ]
           ],
           "sequential": [
            [
             0,
             "#0d0887"
            ],
            [
             0.1111111111111111,
             "#46039f"
            ],
            [
             0.2222222222222222,
             "#7201a8"
            ],
            [
             0.3333333333333333,
             "#9c179e"
            ],
            [
             0.4444444444444444,
             "#bd3786"
            ],
            [
             0.5555555555555556,
             "#d8576b"
            ],
            [
             0.6666666666666666,
             "#ed7953"
            ],
            [
             0.7777777777777778,
             "#fb9f3a"
            ],
            [
             0.8888888888888888,
             "#fdca26"
            ],
            [
             1,
             "#f0f921"
            ]
           ],
           "sequentialminus": [
            [
             0,
             "#0d0887"
            ],
            [
             0.1111111111111111,
             "#46039f"
            ],
            [
             0.2222222222222222,
             "#7201a8"
            ],
            [
             0.3333333333333333,
             "#9c179e"
            ],
            [
             0.4444444444444444,
             "#bd3786"
            ],
            [
             0.5555555555555556,
             "#d8576b"
            ],
            [
             0.6666666666666666,
             "#ed7953"
            ],
            [
             0.7777777777777778,
             "#fb9f3a"
            ],
            [
             0.8888888888888888,
             "#fdca26"
            ],
            [
             1,
             "#f0f921"
            ]
           ]
          },
          "colorway": [
           "#636efa",
           "#EF553B",
           "#00cc96",
           "#ab63fa",
           "#FFA15A",
           "#19d3f3",
           "#FF6692",
           "#B6E880",
           "#FF97FF",
           "#FECB52"
          ],
          "font": {
           "color": "#2a3f5f"
          },
          "geo": {
           "bgcolor": "white",
           "lakecolor": "white",
           "landcolor": "#E5ECF6",
           "showlakes": true,
           "showland": true,
           "subunitcolor": "white"
          },
          "hoverlabel": {
           "align": "left"
          },
          "hovermode": "closest",
          "mapbox": {
           "style": "light"
          },
          "paper_bgcolor": "white",
          "plot_bgcolor": "#E5ECF6",
          "polar": {
           "angularaxis": {
            "gridcolor": "white",
            "linecolor": "white",
            "ticks": ""
           },
           "bgcolor": "#E5ECF6",
           "radialaxis": {
            "gridcolor": "white",
            "linecolor": "white",
            "ticks": ""
           }
          },
          "scene": {
           "xaxis": {
            "backgroundcolor": "#E5ECF6",
            "gridcolor": "white",
            "gridwidth": 2,
            "linecolor": "white",
            "showbackground": true,
            "ticks": "",
            "zerolinecolor": "white"
           },
           "yaxis": {
            "backgroundcolor": "#E5ECF6",
            "gridcolor": "white",
            "gridwidth": 2,
            "linecolor": "white",
            "showbackground": true,
            "ticks": "",
            "zerolinecolor": "white"
           },
           "zaxis": {
            "backgroundcolor": "#E5ECF6",
            "gridcolor": "white",
            "gridwidth": 2,
            "linecolor": "white",
            "showbackground": true,
            "ticks": "",
            "zerolinecolor": "white"
           }
          },
          "shapedefaults": {
           "line": {
            "color": "#2a3f5f"
           }
          },
          "ternary": {
           "aaxis": {
            "gridcolor": "white",
            "linecolor": "white",
            "ticks": ""
           },
           "baxis": {
            "gridcolor": "white",
            "linecolor": "white",
            "ticks": ""
           },
           "bgcolor": "#E5ECF6",
           "caxis": {
            "gridcolor": "white",
            "linecolor": "white",
            "ticks": ""
           }
          },
          "title": {
           "x": 0.05
          },
          "xaxis": {
           "automargin": true,
           "gridcolor": "white",
           "linecolor": "white",
           "ticks": "",
           "title": {
            "standoff": 15
           },
           "zerolinecolor": "white",
           "zerolinewidth": 2
          },
          "yaxis": {
           "automargin": true,
           "gridcolor": "white",
           "linecolor": "white",
           "ticks": "",
           "title": {
            "standoff": 15
           },
           "zerolinecolor": "white",
           "zerolinewidth": 2
          }
         }
        },
        "title": {
         "font": {
          "color": "#4D5663"
         }
        },
        "xaxis": {
         "gridcolor": "#E1E5ED",
         "showgrid": true,
         "tickfont": {
          "color": "#4D5663"
         },
         "title": {
          "font": {
           "color": "#4D5663"
          },
          "text": ""
         },
         "zerolinecolor": "#E1E5ED"
        },
        "yaxis": {
         "gridcolor": "#E1E5ED",
         "showgrid": true,
         "tickfont": {
          "color": "#4D5663"
         },
         "title": {
          "font": {
           "color": "#4D5663"
          },
          "text": ""
         },
         "zerolinecolor": "#E1E5ED"
        }
       }
      },
      "text/html": [
       "<div>\n",
       "        \n",
       "        \n",
       "            <div id=\"028b8580-9cde-4484-b9e7-055612645a0d\" class=\"plotly-graph-div\" style=\"height:525px; width:100%;\"></div>\n",
       "            <script type=\"text/javascript\">\n",
       "                require([\"plotly\"], function(Plotly) {\n",
       "                    window.PLOTLYENV=window.PLOTLYENV || {};\n",
       "                    window.PLOTLYENV.BASE_URL='https://plot.ly';\n",
       "                    \n",
       "                if (document.getElementById(\"028b8580-9cde-4484-b9e7-055612645a0d\")) {\n",
       "                    Plotly.newPlot(\n",
       "                        '028b8580-9cde-4484-b9e7-055612645a0d',\n",
       "                        [{\"line\": {\"color\": \"rgba(255, 153, 51, 1.0)\", \"dash\": \"solid\", \"shape\": \"linear\", \"width\": 1.3}, \"marker\": {\"size\": 15, \"symbol\": \"circle\"}, \"mode\": \"lines+markers\", \"name\": \"B\", \"text\": \"\", \"type\": \"scatter\", \"x\": [0.5607480575046337, -0.3708633475833689, 0.4230264901718323, -0.9549106351528698, -0.20741263670876842, -1.024518844287343, -1.0367249687928646, 2.0584447684824885, -1.4187588960747235, -0.046585194692532424, 0.36787548846534923, -2.044211812156692, -2.550339562813716, 0.40015190479056917, 0.5681708126504649, 0.7940914617616944, -1.068967565955156, 0.07867740459071079, 0.4235998492954107, 0.39095912999154775, 1.327686045467365, -1.754462647693073, -0.578173012072137, -1.0779798184582985, -1.891079726438191, 0.4659456386036681, -0.21802135906844125, 0.19367326395113266, -1.9603362574570133, 0.14932514499258526, -0.9529428773655932, 0.7856639631456367, 0.4156555358714044, 0.7153211913364734, -1.3322882860784802, 0.4139571120324161, 0.3967036149503087, 0.4803572763821211, -0.15324245046653046, -0.3119030508533104, 0.9967146023695868, -0.47050022120553125, -0.4892774201067624, -1.85008249779815, -1.7845525458308382, 0.1353531820802186, 0.8699058267717776, -0.595527228953319, -0.49038254076086707, 0.14079245442134247, -1.6579724363407244, 2.418537608960433, 0.27571151766342716, -1.2092357839728465, 0.37547517010499964, -1.0630914256315618, -0.21351316426565678, -0.27672782264169615, 1.1129222293747094, -0.28712792311619945, 0.7129540586172829, -1.566751562768234, 0.9296950897556568, -0.9935280386456603, -1.1710637069029972, 1.0331173300172627, -0.7779591509796198, 0.21686394225833813, 0.9654083038662515, 0.03337425399400426, 0.2108971788093691, -2.3580895215396565, 0.896589310994641, 0.674101904339704, -0.38463931465655277, -0.23191184444903365, -0.8086330854286654, -1.445946605784175, -1.9764770166489303, -0.37283081828887904, 0.8367782985876825, -0.30237097827066195, 0.380435715262536, 0.031050281970491544, -1.0946115915704187, 2.2558393050008103, -0.12197341968923685, 0.1407793346328531, -0.7188373798798, 0.8657765896581454, -0.13382126496639835, 0.970122231997722, -0.029542020767768597, -0.8690891890937565, -1.0338929783040642, -0.6267558462723102, -1.4157502451975266, -0.5785252269504768, 0.23779112418985437, -0.158700233859291], \"y\": [0.08628323394041917, 0.1996020788959708, 0.20815944961259064, 2.131671412751742, -0.6230820414858802, -0.20059453914798314, 0.30850312105249406, 1.7452481067756915, 0.7328641159155839, 2.1251837923160504, 0.47887481994342734, -0.1825069749191838, 2.138799212851821, 1.0451685881907276, 0.7434135269810468, 0.3442098404393374, -0.6667688075567253, 0.06371752400275227, 0.0027046037096464712, 0.08321386399124807, 0.22243369389629775, 0.4755975179492282, -0.8979402876528175, -1.85402118299806, -0.9247498611392219, -0.8602848187962258, 0.04358900306148492, -0.5676161630929298, -0.07734514221487851, 0.18994788348417663, -0.7365699535202821, 0.32817276921175176, 0.5845710556239431, 0.5504481459044616, -0.7217255921692333, 1.3536859978584614, 0.7413518060931923, 0.4954504182405843, -1.297639979562549, -1.5211164017484191, -0.5356313159929892, -0.14139501644207536, -2.535185047270597, -1.3972714221877187, 0.08578376083602648, -1.8771408047470939, -0.1382002174398529, -0.4319456408707257, -0.6873636767251813, -2.154901585183574, 0.8349884750677796, -0.29344606963996633, -2.0646176720779064, 0.2715258162942724, -0.8987499333895042, 0.6737517491122544, -0.8903450187141376, -0.5865223603579941, 1.2182908148049052, 0.5438298456028653, -0.9955332831521326, -0.9267142054469677, -1.8737830394162058, 0.4155025883669216, 1.4072161601242574, 1.6558356000102168, 0.1809956349868083, 0.05305950380555659, -0.9973706957566846, 0.8485135367398966, -0.09069496672792628, 1.2575460701823191, -1.1954067348628163, -0.03249315387521831, 0.28128026601803596, -1.0405636511730798, -0.17966114977992012, -0.19911305400341872, -0.04475203909549446, -0.33144565439472856, 2.7808030289348644, 0.08125916906489697, -1.5582135882821042, -1.288804376166216, 0.14180622305606383, 0.5449416201336499, -0.39609729585126346, -0.12395381701788742, 0.07703560202435866, -1.0272511213580646, 0.013861719718305783, -0.10758763900023838, -0.3976760311590689, 1.1015906152909287, -0.6678659159520443, -0.8442929808644131, 0.8409636359623852, 0.28507155270790163, -0.6297736460594562, -2.9931078502086437]}],\n",
       "                        {\"legend\": {\"bgcolor\": \"#F5F6F9\", \"font\": {\"color\": \"#4D5663\"}}, \"paper_bgcolor\": \"#F5F6F9\", \"plot_bgcolor\": \"#F5F6F9\", \"template\": {\"data\": {\"bar\": [{\"error_x\": {\"color\": \"#2a3f5f\"}, \"error_y\": {\"color\": \"#2a3f5f\"}, \"marker\": {\"line\": {\"color\": \"#E5ECF6\", \"width\": 0.5}}, \"type\": \"bar\"}], \"barpolar\": [{\"marker\": {\"line\": {\"color\": \"#E5ECF6\", \"width\": 0.5}}, \"type\": \"barpolar\"}], \"carpet\": [{\"aaxis\": {\"endlinecolor\": \"#2a3f5f\", \"gridcolor\": \"white\", \"linecolor\": \"white\", \"minorgridcolor\": \"white\", \"startlinecolor\": \"#2a3f5f\"}, \"baxis\": {\"endlinecolor\": \"#2a3f5f\", \"gridcolor\": \"white\", \"linecolor\": \"white\", \"minorgridcolor\": \"white\", \"startlinecolor\": \"#2a3f5f\"}, \"type\": \"carpet\"}], \"choropleth\": [{\"colorbar\": {\"outlinewidth\": 0, \"ticks\": \"\"}, \"type\": \"choropleth\"}], \"contour\": [{\"colorbar\": {\"outlinewidth\": 0, \"ticks\": \"\"}, \"colorscale\": [[0.0, \"#0d0887\"], [0.1111111111111111, \"#46039f\"], [0.2222222222222222, \"#7201a8\"], [0.3333333333333333, \"#9c179e\"], [0.4444444444444444, \"#bd3786\"], [0.5555555555555556, \"#d8576b\"], [0.6666666666666666, \"#ed7953\"], [0.7777777777777778, \"#fb9f3a\"], [0.8888888888888888, \"#fdca26\"], [1.0, \"#f0f921\"]], \"type\": \"contour\"}], \"contourcarpet\": [{\"colorbar\": {\"outlinewidth\": 0, \"ticks\": \"\"}, \"type\": \"contourcarpet\"}], \"heatmap\": [{\"colorbar\": {\"outlinewidth\": 0, \"ticks\": \"\"}, \"colorscale\": [[0.0, \"#0d0887\"], [0.1111111111111111, \"#46039f\"], [0.2222222222222222, \"#7201a8\"], [0.3333333333333333, \"#9c179e\"], [0.4444444444444444, \"#bd3786\"], [0.5555555555555556, \"#d8576b\"], [0.6666666666666666, \"#ed7953\"], [0.7777777777777778, \"#fb9f3a\"], [0.8888888888888888, \"#fdca26\"], [1.0, \"#f0f921\"]], \"type\": \"heatmap\"}], \"heatmapgl\": [{\"colorbar\": {\"outlinewidth\": 0, \"ticks\": \"\"}, \"colorscale\": [[0.0, \"#0d0887\"], [0.1111111111111111, \"#46039f\"], [0.2222222222222222, \"#7201a8\"], [0.3333333333333333, \"#9c179e\"], [0.4444444444444444, \"#bd3786\"], [0.5555555555555556, \"#d8576b\"], [0.6666666666666666, \"#ed7953\"], [0.7777777777777778, \"#fb9f3a\"], [0.8888888888888888, \"#fdca26\"], [1.0, \"#f0f921\"]], \"type\": \"heatmapgl\"}], \"histogram\": [{\"marker\": {\"colorbar\": {\"outlinewidth\": 0, \"ticks\": \"\"}}, \"type\": \"histogram\"}], \"histogram2d\": [{\"colorbar\": {\"outlinewidth\": 0, \"ticks\": \"\"}, \"colorscale\": [[0.0, \"#0d0887\"], [0.1111111111111111, \"#46039f\"], [0.2222222222222222, \"#7201a8\"], [0.3333333333333333, \"#9c179e\"], [0.4444444444444444, \"#bd3786\"], [0.5555555555555556, \"#d8576b\"], [0.6666666666666666, \"#ed7953\"], [0.7777777777777778, \"#fb9f3a\"], [0.8888888888888888, \"#fdca26\"], [1.0, \"#f0f921\"]], \"type\": \"histogram2d\"}], \"histogram2dcontour\": [{\"colorbar\": {\"outlinewidth\": 0, \"ticks\": \"\"}, \"colorscale\": [[0.0, \"#0d0887\"], [0.1111111111111111, \"#46039f\"], [0.2222222222222222, \"#7201a8\"], [0.3333333333333333, \"#9c179e\"], [0.4444444444444444, \"#bd3786\"], [0.5555555555555556, \"#d8576b\"], [0.6666666666666666, \"#ed7953\"], [0.7777777777777778, \"#fb9f3a\"], [0.8888888888888888, \"#fdca26\"], [1.0, \"#f0f921\"]], \"type\": \"histogram2dcontour\"}], \"mesh3d\": [{\"colorbar\": {\"outlinewidth\": 0, \"ticks\": \"\"}, \"type\": \"mesh3d\"}], \"parcoords\": [{\"line\": {\"colorbar\": {\"outlinewidth\": 0, \"ticks\": \"\"}}, \"type\": \"parcoords\"}], \"pie\": [{\"automargin\": true, \"type\": \"pie\"}], \"scatter\": [{\"marker\": {\"colorbar\": {\"outlinewidth\": 0, \"ticks\": \"\"}}, \"type\": \"scatter\"}], \"scatter3d\": [{\"line\": {\"colorbar\": {\"outlinewidth\": 0, \"ticks\": \"\"}}, \"marker\": {\"colorbar\": {\"outlinewidth\": 0, \"ticks\": \"\"}}, \"type\": \"scatter3d\"}], \"scattercarpet\": [{\"marker\": {\"colorbar\": {\"outlinewidth\": 0, \"ticks\": \"\"}}, \"type\": \"scattercarpet\"}], \"scattergeo\": [{\"marker\": {\"colorbar\": {\"outlinewidth\": 0, \"ticks\": \"\"}}, \"type\": \"scattergeo\"}], \"scattergl\": [{\"marker\": {\"colorbar\": {\"outlinewidth\": 0, \"ticks\": \"\"}}, \"type\": \"scattergl\"}], \"scattermapbox\": [{\"marker\": {\"colorbar\": {\"outlinewidth\": 0, \"ticks\": \"\"}}, \"type\": \"scattermapbox\"}], \"scatterpolar\": [{\"marker\": {\"colorbar\": {\"outlinewidth\": 0, \"ticks\": \"\"}}, \"type\": \"scatterpolar\"}], \"scatterpolargl\": [{\"marker\": {\"colorbar\": {\"outlinewidth\": 0, \"ticks\": \"\"}}, \"type\": \"scatterpolargl\"}], \"scatterternary\": [{\"marker\": {\"colorbar\": {\"outlinewidth\": 0, \"ticks\": \"\"}}, \"type\": \"scatterternary\"}], \"surface\": [{\"colorbar\": {\"outlinewidth\": 0, \"ticks\": \"\"}, \"colorscale\": [[0.0, \"#0d0887\"], [0.1111111111111111, \"#46039f\"], [0.2222222222222222, \"#7201a8\"], [0.3333333333333333, \"#9c179e\"], [0.4444444444444444, \"#bd3786\"], [0.5555555555555556, \"#d8576b\"], [0.6666666666666666, \"#ed7953\"], [0.7777777777777778, \"#fb9f3a\"], [0.8888888888888888, \"#fdca26\"], [1.0, \"#f0f921\"]], \"type\": \"surface\"}], \"table\": [{\"cells\": {\"fill\": {\"color\": \"#EBF0F8\"}, \"line\": {\"color\": \"white\"}}, \"header\": {\"fill\": {\"color\": \"#C8D4E3\"}, \"line\": {\"color\": \"white\"}}, \"type\": \"table\"}]}, \"layout\": {\"annotationdefaults\": {\"arrowcolor\": \"#2a3f5f\", \"arrowhead\": 0, \"arrowwidth\": 1}, \"coloraxis\": {\"colorbar\": {\"outlinewidth\": 0, \"ticks\": \"\"}}, \"colorscale\": {\"diverging\": [[0, \"#8e0152\"], [0.1, \"#c51b7d\"], [0.2, \"#de77ae\"], [0.3, \"#f1b6da\"], [0.4, \"#fde0ef\"], [0.5, \"#f7f7f7\"], [0.6, \"#e6f5d0\"], [0.7, \"#b8e186\"], [0.8, \"#7fbc41\"], [0.9, \"#4d9221\"], [1, \"#276419\"]], \"sequential\": [[0.0, \"#0d0887\"], [0.1111111111111111, \"#46039f\"], [0.2222222222222222, \"#7201a8\"], [0.3333333333333333, \"#9c179e\"], [0.4444444444444444, \"#bd3786\"], [0.5555555555555556, \"#d8576b\"], [0.6666666666666666, \"#ed7953\"], [0.7777777777777778, \"#fb9f3a\"], [0.8888888888888888, \"#fdca26\"], [1.0, \"#f0f921\"]], \"sequentialminus\": [[0.0, \"#0d0887\"], [0.1111111111111111, \"#46039f\"], [0.2222222222222222, \"#7201a8\"], [0.3333333333333333, \"#9c179e\"], [0.4444444444444444, \"#bd3786\"], [0.5555555555555556, \"#d8576b\"], [0.6666666666666666, \"#ed7953\"], [0.7777777777777778, \"#fb9f3a\"], [0.8888888888888888, \"#fdca26\"], [1.0, \"#f0f921\"]]}, \"colorway\": [\"#636efa\", \"#EF553B\", \"#00cc96\", \"#ab63fa\", \"#FFA15A\", \"#19d3f3\", \"#FF6692\", \"#B6E880\", \"#FF97FF\", \"#FECB52\"], \"font\": {\"color\": \"#2a3f5f\"}, \"geo\": {\"bgcolor\": \"white\", \"lakecolor\": \"white\", \"landcolor\": \"#E5ECF6\", \"showlakes\": true, \"showland\": true, \"subunitcolor\": \"white\"}, \"hoverlabel\": {\"align\": \"left\"}, \"hovermode\": \"closest\", \"mapbox\": {\"style\": \"light\"}, \"paper_bgcolor\": \"white\", \"plot_bgcolor\": \"#E5ECF6\", \"polar\": {\"angularaxis\": {\"gridcolor\": \"white\", \"linecolor\": \"white\", \"ticks\": \"\"}, \"bgcolor\": \"#E5ECF6\", \"radialaxis\": {\"gridcolor\": \"white\", \"linecolor\": \"white\", \"ticks\": \"\"}}, \"scene\": {\"xaxis\": {\"backgroundcolor\": \"#E5ECF6\", \"gridcolor\": \"white\", \"gridwidth\": 2, \"linecolor\": \"white\", \"showbackground\": true, \"ticks\": \"\", \"zerolinecolor\": \"white\"}, \"yaxis\": {\"backgroundcolor\": \"#E5ECF6\", \"gridcolor\": \"white\", \"gridwidth\": 2, \"linecolor\": \"white\", \"showbackground\": true, \"ticks\": \"\", \"zerolinecolor\": \"white\"}, \"zaxis\": {\"backgroundcolor\": \"#E5ECF6\", \"gridcolor\": \"white\", \"gridwidth\": 2, \"linecolor\": \"white\", \"showbackground\": true, \"ticks\": \"\", \"zerolinecolor\": \"white\"}}, \"shapedefaults\": {\"line\": {\"color\": \"#2a3f5f\"}}, \"ternary\": {\"aaxis\": {\"gridcolor\": \"white\", \"linecolor\": \"white\", \"ticks\": \"\"}, \"baxis\": {\"gridcolor\": \"white\", \"linecolor\": \"white\", \"ticks\": \"\"}, \"bgcolor\": \"#E5ECF6\", \"caxis\": {\"gridcolor\": \"white\", \"linecolor\": \"white\", \"ticks\": \"\"}}, \"title\": {\"x\": 0.05}, \"xaxis\": {\"automargin\": true, \"gridcolor\": \"white\", \"linecolor\": \"white\", \"ticks\": \"\", \"title\": {\"standoff\": 15}, \"zerolinecolor\": \"white\", \"zerolinewidth\": 2}, \"yaxis\": {\"automargin\": true, \"gridcolor\": \"white\", \"linecolor\": \"white\", \"ticks\": \"\", \"title\": {\"standoff\": 15}, \"zerolinecolor\": \"white\", \"zerolinewidth\": 2}}}, \"title\": {\"font\": {\"color\": \"#4D5663\"}}, \"xaxis\": {\"gridcolor\": \"#E1E5ED\", \"showgrid\": true, \"tickfont\": {\"color\": \"#4D5663\"}, \"title\": {\"font\": {\"color\": \"#4D5663\"}, \"text\": \"\"}, \"zerolinecolor\": \"#E1E5ED\"}, \"yaxis\": {\"gridcolor\": \"#E1E5ED\", \"showgrid\": true, \"tickfont\": {\"color\": \"#4D5663\"}, \"title\": {\"font\": {\"color\": \"#4D5663\"}, \"text\": \"\"}, \"zerolinecolor\": \"#E1E5ED\"}},\n",
       "                        {\"showLink\": true, \"linkText\": \"Export to plot.ly\", \"plotlyServerURL\": \"https://plot.ly\", \"responsive\": true}\n",
       "                    ).then(function(){\n",
       "                            \n",
       "var gd = document.getElementById('028b8580-9cde-4484-b9e7-055612645a0d');\n",
       "var x = new MutationObserver(function (mutations, observer) {{\n",
       "        var display = window.getComputedStyle(gd).display;\n",
       "        if (!display || display === 'none') {{\n",
       "            console.log([gd, 'removed!']);\n",
       "            Plotly.purge(gd);\n",
       "            observer.disconnect();\n",
       "        }}\n",
       "}});\n",
       "\n",
       "// Listen for the removal of the full notebook cells\n",
       "var notebookContainer = gd.closest('#notebook-container');\n",
       "if (notebookContainer) {{\n",
       "    x.observe(notebookContainer, {childList: true});\n",
       "}}\n",
       "\n",
       "// Listen for the clearing of the current output cell\n",
       "var outputEl = gd.closest('.output');\n",
       "if (outputEl) {{\n",
       "    x.observe(outputEl, {childList: true});\n",
       "}}\n",
       "\n",
       "                        })\n",
       "                };\n",
       "                });\n",
       "            </script>\n",
       "        </div>"
      ]
     },
     "metadata": {},
     "output_type": "display_data"
    }
   ],
   "source": [
    "#df.iplot(kind='scatter',x='A',y='B',mode='lines',size=15)\n",
    "df.iplot(kind='scatter',x='A',y='B',mode='lines+markers',size=15)"
   ]
  },
  {
   "cell_type": "markdown",
   "metadata": {},
   "source": [
    "## Bar Plots"
   ]
  },
  {
   "cell_type": "code",
   "execution_count": 12,
   "metadata": {},
   "outputs": [
    {
     "data": {
      "application/vnd.plotly.v1+json": {
       "config": {
        "linkText": "Export to plot.ly",
        "plotlyServerURL": "https://plot.ly",
        "showLink": true
       },
       "data": [
        {
         "marker": {
          "color": "rgba(219, 64, 82, 0.6)",
          "line": {
           "color": "rgba(219, 64, 82, 1.0)",
           "width": 1
          }
         },
         "name": "Values",
         "orientation": "v",
         "text": "",
         "type": "bar",
         "x": [
          "A",
          "B",
          "C"
         ],
         "y": [
          32,
          43,
          50
         ]
        }
       ],
       "layout": {
        "legend": {
         "bgcolor": "#F5F6F9",
         "font": {
          "color": "#4D5663"
         }
        },
        "paper_bgcolor": "#F5F6F9",
        "plot_bgcolor": "#F5F6F9",
        "template": {
         "data": {
          "bar": [
           {
            "error_x": {
             "color": "#2a3f5f"
            },
            "error_y": {
             "color": "#2a3f5f"
            },
            "marker": {
             "line": {
              "color": "#E5ECF6",
              "width": 0.5
             }
            },
            "type": "bar"
           }
          ],
          "barpolar": [
           {
            "marker": {
             "line": {
              "color": "#E5ECF6",
              "width": 0.5
             }
            },
            "type": "barpolar"
           }
          ],
          "carpet": [
           {
            "aaxis": {
             "endlinecolor": "#2a3f5f",
             "gridcolor": "white",
             "linecolor": "white",
             "minorgridcolor": "white",
             "startlinecolor": "#2a3f5f"
            },
            "baxis": {
             "endlinecolor": "#2a3f5f",
             "gridcolor": "white",
             "linecolor": "white",
             "minorgridcolor": "white",
             "startlinecolor": "#2a3f5f"
            },
            "type": "carpet"
           }
          ],
          "choropleth": [
           {
            "colorbar": {
             "outlinewidth": 0,
             "ticks": ""
            },
            "type": "choropleth"
           }
          ],
          "contour": [
           {
            "colorbar": {
             "outlinewidth": 0,
             "ticks": ""
            },
            "colorscale": [
             [
              0,
              "#0d0887"
             ],
             [
              0.1111111111111111,
              "#46039f"
             ],
             [
              0.2222222222222222,
              "#7201a8"
             ],
             [
              0.3333333333333333,
              "#9c179e"
             ],
             [
              0.4444444444444444,
              "#bd3786"
             ],
             [
              0.5555555555555556,
              "#d8576b"
             ],
             [
              0.6666666666666666,
              "#ed7953"
             ],
             [
              0.7777777777777778,
              "#fb9f3a"
             ],
             [
              0.8888888888888888,
              "#fdca26"
             ],
             [
              1,
              "#f0f921"
             ]
            ],
            "type": "contour"
           }
          ],
          "contourcarpet": [
           {
            "colorbar": {
             "outlinewidth": 0,
             "ticks": ""
            },
            "type": "contourcarpet"
           }
          ],
          "heatmap": [
           {
            "colorbar": {
             "outlinewidth": 0,
             "ticks": ""
            },
            "colorscale": [
             [
              0,
              "#0d0887"
             ],
             [
              0.1111111111111111,
              "#46039f"
             ],
             [
              0.2222222222222222,
              "#7201a8"
             ],
             [
              0.3333333333333333,
              "#9c179e"
             ],
             [
              0.4444444444444444,
              "#bd3786"
             ],
             [
              0.5555555555555556,
              "#d8576b"
             ],
             [
              0.6666666666666666,
              "#ed7953"
             ],
             [
              0.7777777777777778,
              "#fb9f3a"
             ],
             [
              0.8888888888888888,
              "#fdca26"
             ],
             [
              1,
              "#f0f921"
             ]
            ],
            "type": "heatmap"
           }
          ],
          "heatmapgl": [
           {
            "colorbar": {
             "outlinewidth": 0,
             "ticks": ""
            },
            "colorscale": [
             [
              0,
              "#0d0887"
             ],
             [
              0.1111111111111111,
              "#46039f"
             ],
             [
              0.2222222222222222,
              "#7201a8"
             ],
             [
              0.3333333333333333,
              "#9c179e"
             ],
             [
              0.4444444444444444,
              "#bd3786"
             ],
             [
              0.5555555555555556,
              "#d8576b"
             ],
             [
              0.6666666666666666,
              "#ed7953"
             ],
             [
              0.7777777777777778,
              "#fb9f3a"
             ],
             [
              0.8888888888888888,
              "#fdca26"
             ],
             [
              1,
              "#f0f921"
             ]
            ],
            "type": "heatmapgl"
           }
          ],
          "histogram": [
           {
            "marker": {
             "colorbar": {
              "outlinewidth": 0,
              "ticks": ""
             }
            },
            "type": "histogram"
           }
          ],
          "histogram2d": [
           {
            "colorbar": {
             "outlinewidth": 0,
             "ticks": ""
            },
            "colorscale": [
             [
              0,
              "#0d0887"
             ],
             [
              0.1111111111111111,
              "#46039f"
             ],
             [
              0.2222222222222222,
              "#7201a8"
             ],
             [
              0.3333333333333333,
              "#9c179e"
             ],
             [
              0.4444444444444444,
              "#bd3786"
             ],
             [
              0.5555555555555556,
              "#d8576b"
             ],
             [
              0.6666666666666666,
              "#ed7953"
             ],
             [
              0.7777777777777778,
              "#fb9f3a"
             ],
             [
              0.8888888888888888,
              "#fdca26"
             ],
             [
              1,
              "#f0f921"
             ]
            ],
            "type": "histogram2d"
           }
          ],
          "histogram2dcontour": [
           {
            "colorbar": {
             "outlinewidth": 0,
             "ticks": ""
            },
            "colorscale": [
             [
              0,
              "#0d0887"
             ],
             [
              0.1111111111111111,
              "#46039f"
             ],
             [
              0.2222222222222222,
              "#7201a8"
             ],
             [
              0.3333333333333333,
              "#9c179e"
             ],
             [
              0.4444444444444444,
              "#bd3786"
             ],
             [
              0.5555555555555556,
              "#d8576b"
             ],
             [
              0.6666666666666666,
              "#ed7953"
             ],
             [
              0.7777777777777778,
              "#fb9f3a"
             ],
             [
              0.8888888888888888,
              "#fdca26"
             ],
             [
              1,
              "#f0f921"
             ]
            ],
            "type": "histogram2dcontour"
           }
          ],
          "mesh3d": [
           {
            "colorbar": {
             "outlinewidth": 0,
             "ticks": ""
            },
            "type": "mesh3d"
           }
          ],
          "parcoords": [
           {
            "line": {
             "colorbar": {
              "outlinewidth": 0,
              "ticks": ""
             }
            },
            "type": "parcoords"
           }
          ],
          "pie": [
           {
            "automargin": true,
            "type": "pie"
           }
          ],
          "scatter": [
           {
            "marker": {
             "colorbar": {
              "outlinewidth": 0,
              "ticks": ""
             }
            },
            "type": "scatter"
           }
          ],
          "scatter3d": [
           {
            "line": {
             "colorbar": {
              "outlinewidth": 0,
              "ticks": ""
             }
            },
            "marker": {
             "colorbar": {
              "outlinewidth": 0,
              "ticks": ""
             }
            },
            "type": "scatter3d"
           }
          ],
          "scattercarpet": [
           {
            "marker": {
             "colorbar": {
              "outlinewidth": 0,
              "ticks": ""
             }
            },
            "type": "scattercarpet"
           }
          ],
          "scattergeo": [
           {
            "marker": {
             "colorbar": {
              "outlinewidth": 0,
              "ticks": ""
             }
            },
            "type": "scattergeo"
           }
          ],
          "scattergl": [
           {
            "marker": {
             "colorbar": {
              "outlinewidth": 0,
              "ticks": ""
             }
            },
            "type": "scattergl"
           }
          ],
          "scattermapbox": [
           {
            "marker": {
             "colorbar": {
              "outlinewidth": 0,
              "ticks": ""
             }
            },
            "type": "scattermapbox"
           }
          ],
          "scatterpolar": [
           {
            "marker": {
             "colorbar": {
              "outlinewidth": 0,
              "ticks": ""
             }
            },
            "type": "scatterpolar"
           }
          ],
          "scatterpolargl": [
           {
            "marker": {
             "colorbar": {
              "outlinewidth": 0,
              "ticks": ""
             }
            },
            "type": "scatterpolargl"
           }
          ],
          "scatterternary": [
           {
            "marker": {
             "colorbar": {
              "outlinewidth": 0,
              "ticks": ""
             }
            },
            "type": "scatterternary"
           }
          ],
          "surface": [
           {
            "colorbar": {
             "outlinewidth": 0,
             "ticks": ""
            },
            "colorscale": [
             [
              0,
              "#0d0887"
             ],
             [
              0.1111111111111111,
              "#46039f"
             ],
             [
              0.2222222222222222,
              "#7201a8"
             ],
             [
              0.3333333333333333,
              "#9c179e"
             ],
             [
              0.4444444444444444,
              "#bd3786"
             ],
             [
              0.5555555555555556,
              "#d8576b"
             ],
             [
              0.6666666666666666,
              "#ed7953"
             ],
             [
              0.7777777777777778,
              "#fb9f3a"
             ],
             [
              0.8888888888888888,
              "#fdca26"
             ],
             [
              1,
              "#f0f921"
             ]
            ],
            "type": "surface"
           }
          ],
          "table": [
           {
            "cells": {
             "fill": {
              "color": "#EBF0F8"
             },
             "line": {
              "color": "white"
             }
            },
            "header": {
             "fill": {
              "color": "#C8D4E3"
             },
             "line": {
              "color": "white"
             }
            },
            "type": "table"
           }
          ]
         },
         "layout": {
          "annotationdefaults": {
           "arrowcolor": "#2a3f5f",
           "arrowhead": 0,
           "arrowwidth": 1
          },
          "coloraxis": {
           "colorbar": {
            "outlinewidth": 0,
            "ticks": ""
           }
          },
          "colorscale": {
           "diverging": [
            [
             0,
             "#8e0152"
            ],
            [
             0.1,
             "#c51b7d"
            ],
            [
             0.2,
             "#de77ae"
            ],
            [
             0.3,
             "#f1b6da"
            ],
            [
             0.4,
             "#fde0ef"
            ],
            [
             0.5,
             "#f7f7f7"
            ],
            [
             0.6,
             "#e6f5d0"
            ],
            [
             0.7,
             "#b8e186"
            ],
            [
             0.8,
             "#7fbc41"
            ],
            [
             0.9,
             "#4d9221"
            ],
            [
             1,
             "#276419"
            ]
           ],
           "sequential": [
            [
             0,
             "#0d0887"
            ],
            [
             0.1111111111111111,
             "#46039f"
            ],
            [
             0.2222222222222222,
             "#7201a8"
            ],
            [
             0.3333333333333333,
             "#9c179e"
            ],
            [
             0.4444444444444444,
             "#bd3786"
            ],
            [
             0.5555555555555556,
             "#d8576b"
            ],
            [
             0.6666666666666666,
             "#ed7953"
            ],
            [
             0.7777777777777778,
             "#fb9f3a"
            ],
            [
             0.8888888888888888,
             "#fdca26"
            ],
            [
             1,
             "#f0f921"
            ]
           ],
           "sequentialminus": [
            [
             0,
             "#0d0887"
            ],
            [
             0.1111111111111111,
             "#46039f"
            ],
            [
             0.2222222222222222,
             "#7201a8"
            ],
            [
             0.3333333333333333,
             "#9c179e"
            ],
            [
             0.4444444444444444,
             "#bd3786"
            ],
            [
             0.5555555555555556,
             "#d8576b"
            ],
            [
             0.6666666666666666,
             "#ed7953"
            ],
            [
             0.7777777777777778,
             "#fb9f3a"
            ],
            [
             0.8888888888888888,
             "#fdca26"
            ],
            [
             1,
             "#f0f921"
            ]
           ]
          },
          "colorway": [
           "#636efa",
           "#EF553B",
           "#00cc96",
           "#ab63fa",
           "#FFA15A",
           "#19d3f3",
           "#FF6692",
           "#B6E880",
           "#FF97FF",
           "#FECB52"
          ],
          "font": {
           "color": "#2a3f5f"
          },
          "geo": {
           "bgcolor": "white",
           "lakecolor": "white",
           "landcolor": "#E5ECF6",
           "showlakes": true,
           "showland": true,
           "subunitcolor": "white"
          },
          "hoverlabel": {
           "align": "left"
          },
          "hovermode": "closest",
          "mapbox": {
           "style": "light"
          },
          "paper_bgcolor": "white",
          "plot_bgcolor": "#E5ECF6",
          "polar": {
           "angularaxis": {
            "gridcolor": "white",
            "linecolor": "white",
            "ticks": ""
           },
           "bgcolor": "#E5ECF6",
           "radialaxis": {
            "gridcolor": "white",
            "linecolor": "white",
            "ticks": ""
           }
          },
          "scene": {
           "xaxis": {
            "backgroundcolor": "#E5ECF6",
            "gridcolor": "white",
            "gridwidth": 2,
            "linecolor": "white",
            "showbackground": true,
            "ticks": "",
            "zerolinecolor": "white"
           },
           "yaxis": {
            "backgroundcolor": "#E5ECF6",
            "gridcolor": "white",
            "gridwidth": 2,
            "linecolor": "white",
            "showbackground": true,
            "ticks": "",
            "zerolinecolor": "white"
           },
           "zaxis": {
            "backgroundcolor": "#E5ECF6",
            "gridcolor": "white",
            "gridwidth": 2,
            "linecolor": "white",
            "showbackground": true,
            "ticks": "",
            "zerolinecolor": "white"
           }
          },
          "shapedefaults": {
           "line": {
            "color": "#2a3f5f"
           }
          },
          "ternary": {
           "aaxis": {
            "gridcolor": "white",
            "linecolor": "white",
            "ticks": ""
           },
           "baxis": {
            "gridcolor": "white",
            "linecolor": "white",
            "ticks": ""
           },
           "bgcolor": "#E5ECF6",
           "caxis": {
            "gridcolor": "white",
            "linecolor": "white",
            "ticks": ""
           }
          },
          "title": {
           "x": 0.05
          },
          "xaxis": {
           "automargin": true,
           "gridcolor": "white",
           "linecolor": "white",
           "ticks": "",
           "title": {
            "standoff": 15
           },
           "zerolinecolor": "white",
           "zerolinewidth": 2
          },
          "yaxis": {
           "automargin": true,
           "gridcolor": "white",
           "linecolor": "white",
           "ticks": "",
           "title": {
            "standoff": 15
           },
           "zerolinecolor": "white",
           "zerolinewidth": 2
          }
         }
        },
        "title": {
         "font": {
          "color": "#4D5663"
         }
        },
        "xaxis": {
         "gridcolor": "#E1E5ED",
         "showgrid": true,
         "tickfont": {
          "color": "#4D5663"
         },
         "title": {
          "font": {
           "color": "#4D5663"
          },
          "text": ""
         },
         "zerolinecolor": "#E1E5ED"
        },
        "yaxis": {
         "gridcolor": "#E1E5ED",
         "showgrid": true,
         "tickfont": {
          "color": "#4D5663"
         },
         "title": {
          "font": {
           "color": "#4D5663"
          },
          "text": ""
         },
         "zerolinecolor": "#E1E5ED"
        }
       }
      },
      "text/html": [
       "<div>\n",
       "        \n",
       "        \n",
       "            <div id=\"30f845ff-bf60-47fd-8ff5-d6e737c2d7aa\" class=\"plotly-graph-div\" style=\"height:525px; width:100%;\"></div>\n",
       "            <script type=\"text/javascript\">\n",
       "                require([\"plotly\"], function(Plotly) {\n",
       "                    window.PLOTLYENV=window.PLOTLYENV || {};\n",
       "                    window.PLOTLYENV.BASE_URL='https://plot.ly';\n",
       "                    \n",
       "                if (document.getElementById(\"30f845ff-bf60-47fd-8ff5-d6e737c2d7aa\")) {\n",
       "                    Plotly.newPlot(\n",
       "                        '30f845ff-bf60-47fd-8ff5-d6e737c2d7aa',\n",
       "                        [{\"marker\": {\"color\": \"rgba(219, 64, 82, 0.6)\", \"line\": {\"color\": \"rgba(219, 64, 82, 1.0)\", \"width\": 1}}, \"name\": \"Values\", \"orientation\": \"v\", \"text\": \"\", \"type\": \"bar\", \"x\": [\"A\", \"B\", \"C\"], \"y\": [32, 43, 50]}],\n",
       "                        {\"legend\": {\"bgcolor\": \"#F5F6F9\", \"font\": {\"color\": \"#4D5663\"}}, \"paper_bgcolor\": \"#F5F6F9\", \"plot_bgcolor\": \"#F5F6F9\", \"template\": {\"data\": {\"bar\": [{\"error_x\": {\"color\": \"#2a3f5f\"}, \"error_y\": {\"color\": \"#2a3f5f\"}, \"marker\": {\"line\": {\"color\": \"#E5ECF6\", \"width\": 0.5}}, \"type\": \"bar\"}], \"barpolar\": [{\"marker\": {\"line\": {\"color\": \"#E5ECF6\", \"width\": 0.5}}, \"type\": \"barpolar\"}], \"carpet\": [{\"aaxis\": {\"endlinecolor\": \"#2a3f5f\", \"gridcolor\": \"white\", \"linecolor\": \"white\", \"minorgridcolor\": \"white\", \"startlinecolor\": \"#2a3f5f\"}, \"baxis\": {\"endlinecolor\": \"#2a3f5f\", \"gridcolor\": \"white\", \"linecolor\": \"white\", \"minorgridcolor\": \"white\", \"startlinecolor\": \"#2a3f5f\"}, \"type\": \"carpet\"}], \"choropleth\": [{\"colorbar\": {\"outlinewidth\": 0, \"ticks\": \"\"}, \"type\": \"choropleth\"}], \"contour\": [{\"colorbar\": {\"outlinewidth\": 0, \"ticks\": \"\"}, \"colorscale\": [[0.0, \"#0d0887\"], [0.1111111111111111, \"#46039f\"], [0.2222222222222222, \"#7201a8\"], [0.3333333333333333, \"#9c179e\"], [0.4444444444444444, \"#bd3786\"], [0.5555555555555556, \"#d8576b\"], [0.6666666666666666, \"#ed7953\"], [0.7777777777777778, \"#fb9f3a\"], [0.8888888888888888, \"#fdca26\"], [1.0, \"#f0f921\"]], \"type\": \"contour\"}], \"contourcarpet\": [{\"colorbar\": {\"outlinewidth\": 0, \"ticks\": \"\"}, \"type\": \"contourcarpet\"}], \"heatmap\": [{\"colorbar\": {\"outlinewidth\": 0, \"ticks\": \"\"}, \"colorscale\": [[0.0, \"#0d0887\"], [0.1111111111111111, \"#46039f\"], [0.2222222222222222, \"#7201a8\"], [0.3333333333333333, \"#9c179e\"], [0.4444444444444444, \"#bd3786\"], [0.5555555555555556, \"#d8576b\"], [0.6666666666666666, \"#ed7953\"], [0.7777777777777778, \"#fb9f3a\"], [0.8888888888888888, \"#fdca26\"], [1.0, \"#f0f921\"]], \"type\": \"heatmap\"}], \"heatmapgl\": [{\"colorbar\": {\"outlinewidth\": 0, \"ticks\": \"\"}, \"colorscale\": [[0.0, \"#0d0887\"], [0.1111111111111111, \"#46039f\"], [0.2222222222222222, \"#7201a8\"], [0.3333333333333333, \"#9c179e\"], [0.4444444444444444, \"#bd3786\"], [0.5555555555555556, \"#d8576b\"], [0.6666666666666666, \"#ed7953\"], [0.7777777777777778, \"#fb9f3a\"], [0.8888888888888888, \"#fdca26\"], [1.0, \"#f0f921\"]], \"type\": \"heatmapgl\"}], \"histogram\": [{\"marker\": {\"colorbar\": {\"outlinewidth\": 0, \"ticks\": \"\"}}, \"type\": \"histogram\"}], \"histogram2d\": [{\"colorbar\": {\"outlinewidth\": 0, \"ticks\": \"\"}, \"colorscale\": [[0.0, \"#0d0887\"], [0.1111111111111111, \"#46039f\"], [0.2222222222222222, \"#7201a8\"], [0.3333333333333333, \"#9c179e\"], [0.4444444444444444, \"#bd3786\"], [0.5555555555555556, \"#d8576b\"], [0.6666666666666666, \"#ed7953\"], [0.7777777777777778, \"#fb9f3a\"], [0.8888888888888888, \"#fdca26\"], [1.0, \"#f0f921\"]], \"type\": \"histogram2d\"}], \"histogram2dcontour\": [{\"colorbar\": {\"outlinewidth\": 0, \"ticks\": \"\"}, \"colorscale\": [[0.0, \"#0d0887\"], [0.1111111111111111, \"#46039f\"], [0.2222222222222222, \"#7201a8\"], [0.3333333333333333, \"#9c179e\"], [0.4444444444444444, \"#bd3786\"], [0.5555555555555556, \"#d8576b\"], [0.6666666666666666, \"#ed7953\"], [0.7777777777777778, \"#fb9f3a\"], [0.8888888888888888, \"#fdca26\"], [1.0, \"#f0f921\"]], \"type\": \"histogram2dcontour\"}], \"mesh3d\": [{\"colorbar\": {\"outlinewidth\": 0, \"ticks\": \"\"}, \"type\": \"mesh3d\"}], \"parcoords\": [{\"line\": {\"colorbar\": {\"outlinewidth\": 0, \"ticks\": \"\"}}, \"type\": \"parcoords\"}], \"pie\": [{\"automargin\": true, \"type\": \"pie\"}], \"scatter\": [{\"marker\": {\"colorbar\": {\"outlinewidth\": 0, \"ticks\": \"\"}}, \"type\": \"scatter\"}], \"scatter3d\": [{\"line\": {\"colorbar\": {\"outlinewidth\": 0, \"ticks\": \"\"}}, \"marker\": {\"colorbar\": {\"outlinewidth\": 0, \"ticks\": \"\"}}, \"type\": \"scatter3d\"}], \"scattercarpet\": [{\"marker\": {\"colorbar\": {\"outlinewidth\": 0, \"ticks\": \"\"}}, \"type\": \"scattercarpet\"}], \"scattergeo\": [{\"marker\": {\"colorbar\": {\"outlinewidth\": 0, \"ticks\": \"\"}}, \"type\": \"scattergeo\"}], \"scattergl\": [{\"marker\": {\"colorbar\": {\"outlinewidth\": 0, \"ticks\": \"\"}}, \"type\": \"scattergl\"}], \"scattermapbox\": [{\"marker\": {\"colorbar\": {\"outlinewidth\": 0, \"ticks\": \"\"}}, \"type\": \"scattermapbox\"}], \"scatterpolar\": [{\"marker\": {\"colorbar\": {\"outlinewidth\": 0, \"ticks\": \"\"}}, \"type\": \"scatterpolar\"}], \"scatterpolargl\": [{\"marker\": {\"colorbar\": {\"outlinewidth\": 0, \"ticks\": \"\"}}, \"type\": \"scatterpolargl\"}], \"scatterternary\": [{\"marker\": {\"colorbar\": {\"outlinewidth\": 0, \"ticks\": \"\"}}, \"type\": \"scatterternary\"}], \"surface\": [{\"colorbar\": {\"outlinewidth\": 0, \"ticks\": \"\"}, \"colorscale\": [[0.0, \"#0d0887\"], [0.1111111111111111, \"#46039f\"], [0.2222222222222222, \"#7201a8\"], [0.3333333333333333, \"#9c179e\"], [0.4444444444444444, \"#bd3786\"], [0.5555555555555556, \"#d8576b\"], [0.6666666666666666, \"#ed7953\"], [0.7777777777777778, \"#fb9f3a\"], [0.8888888888888888, \"#fdca26\"], [1.0, \"#f0f921\"]], \"type\": \"surface\"}], \"table\": [{\"cells\": {\"fill\": {\"color\": \"#EBF0F8\"}, \"line\": {\"color\": \"white\"}}, \"header\": {\"fill\": {\"color\": \"#C8D4E3\"}, \"line\": {\"color\": \"white\"}}, \"type\": \"table\"}]}, \"layout\": {\"annotationdefaults\": {\"arrowcolor\": \"#2a3f5f\", \"arrowhead\": 0, \"arrowwidth\": 1}, \"coloraxis\": {\"colorbar\": {\"outlinewidth\": 0, \"ticks\": \"\"}}, \"colorscale\": {\"diverging\": [[0, \"#8e0152\"], [0.1, \"#c51b7d\"], [0.2, \"#de77ae\"], [0.3, \"#f1b6da\"], [0.4, \"#fde0ef\"], [0.5, \"#f7f7f7\"], [0.6, \"#e6f5d0\"], [0.7, \"#b8e186\"], [0.8, \"#7fbc41\"], [0.9, \"#4d9221\"], [1, \"#276419\"]], \"sequential\": [[0.0, \"#0d0887\"], [0.1111111111111111, \"#46039f\"], [0.2222222222222222, \"#7201a8\"], [0.3333333333333333, \"#9c179e\"], [0.4444444444444444, \"#bd3786\"], [0.5555555555555556, \"#d8576b\"], [0.6666666666666666, \"#ed7953\"], [0.7777777777777778, \"#fb9f3a\"], [0.8888888888888888, \"#fdca26\"], [1.0, \"#f0f921\"]], \"sequentialminus\": [[0.0, \"#0d0887\"], [0.1111111111111111, \"#46039f\"], [0.2222222222222222, \"#7201a8\"], [0.3333333333333333, \"#9c179e\"], [0.4444444444444444, \"#bd3786\"], [0.5555555555555556, \"#d8576b\"], [0.6666666666666666, \"#ed7953\"], [0.7777777777777778, \"#fb9f3a\"], [0.8888888888888888, \"#fdca26\"], [1.0, \"#f0f921\"]]}, \"colorway\": [\"#636efa\", \"#EF553B\", \"#00cc96\", \"#ab63fa\", \"#FFA15A\", \"#19d3f3\", \"#FF6692\", \"#B6E880\", \"#FF97FF\", \"#FECB52\"], \"font\": {\"color\": \"#2a3f5f\"}, \"geo\": {\"bgcolor\": \"white\", \"lakecolor\": \"white\", \"landcolor\": \"#E5ECF6\", \"showlakes\": true, \"showland\": true, \"subunitcolor\": \"white\"}, \"hoverlabel\": {\"align\": \"left\"}, \"hovermode\": \"closest\", \"mapbox\": {\"style\": \"light\"}, \"paper_bgcolor\": \"white\", \"plot_bgcolor\": \"#E5ECF6\", \"polar\": {\"angularaxis\": {\"gridcolor\": \"white\", \"linecolor\": \"white\", \"ticks\": \"\"}, \"bgcolor\": \"#E5ECF6\", \"radialaxis\": {\"gridcolor\": \"white\", \"linecolor\": \"white\", \"ticks\": \"\"}}, \"scene\": {\"xaxis\": {\"backgroundcolor\": \"#E5ECF6\", \"gridcolor\": \"white\", \"gridwidth\": 2, \"linecolor\": \"white\", \"showbackground\": true, \"ticks\": \"\", \"zerolinecolor\": \"white\"}, \"yaxis\": {\"backgroundcolor\": \"#E5ECF6\", \"gridcolor\": \"white\", \"gridwidth\": 2, \"linecolor\": \"white\", \"showbackground\": true, \"ticks\": \"\", \"zerolinecolor\": \"white\"}, \"zaxis\": {\"backgroundcolor\": \"#E5ECF6\", \"gridcolor\": \"white\", \"gridwidth\": 2, \"linecolor\": \"white\", \"showbackground\": true, \"ticks\": \"\", \"zerolinecolor\": \"white\"}}, \"shapedefaults\": {\"line\": {\"color\": \"#2a3f5f\"}}, \"ternary\": {\"aaxis\": {\"gridcolor\": \"white\", \"linecolor\": \"white\", \"ticks\": \"\"}, \"baxis\": {\"gridcolor\": \"white\", \"linecolor\": \"white\", \"ticks\": \"\"}, \"bgcolor\": \"#E5ECF6\", \"caxis\": {\"gridcolor\": \"white\", \"linecolor\": \"white\", \"ticks\": \"\"}}, \"title\": {\"x\": 0.05}, \"xaxis\": {\"automargin\": true, \"gridcolor\": \"white\", \"linecolor\": \"white\", \"ticks\": \"\", \"title\": {\"standoff\": 15}, \"zerolinecolor\": \"white\", \"zerolinewidth\": 2}, \"yaxis\": {\"automargin\": true, \"gridcolor\": \"white\", \"linecolor\": \"white\", \"ticks\": \"\", \"title\": {\"standoff\": 15}, \"zerolinecolor\": \"white\", \"zerolinewidth\": 2}}}, \"title\": {\"font\": {\"color\": \"#4D5663\"}}, \"xaxis\": {\"gridcolor\": \"#E1E5ED\", \"showgrid\": true, \"tickfont\": {\"color\": \"#4D5663\"}, \"title\": {\"font\": {\"color\": \"#4D5663\"}, \"text\": \"\"}, \"zerolinecolor\": \"#E1E5ED\"}, \"yaxis\": {\"gridcolor\": \"#E1E5ED\", \"showgrid\": true, \"tickfont\": {\"color\": \"#4D5663\"}, \"title\": {\"font\": {\"color\": \"#4D5663\"}, \"text\": \"\"}, \"zerolinecolor\": \"#E1E5ED\"}},\n",
       "                        {\"showLink\": true, \"linkText\": \"Export to plot.ly\", \"plotlyServerURL\": \"https://plot.ly\", \"responsive\": true}\n",
       "                    ).then(function(){\n",
       "                            \n",
       "var gd = document.getElementById('30f845ff-bf60-47fd-8ff5-d6e737c2d7aa');\n",
       "var x = new MutationObserver(function (mutations, observer) {{\n",
       "        var display = window.getComputedStyle(gd).display;\n",
       "        if (!display || display === 'none') {{\n",
       "            console.log([gd, 'removed!']);\n",
       "            Plotly.purge(gd);\n",
       "            observer.disconnect();\n",
       "        }}\n",
       "}});\n",
       "\n",
       "// Listen for the removal of the full notebook cells\n",
       "var notebookContainer = gd.closest('#notebook-container');\n",
       "if (notebookContainer) {{\n",
       "    x.observe(notebookContainer, {childList: true});\n",
       "}}\n",
       "\n",
       "// Listen for the clearing of the current output cell\n",
       "var outputEl = gd.closest('.output');\n",
       "if (outputEl) {{\n",
       "    x.observe(outputEl, {childList: true});\n",
       "}}\n",
       "\n",
       "                        })\n",
       "                };\n",
       "                });\n",
       "            </script>\n",
       "        </div>"
      ]
     },
     "metadata": {},
     "output_type": "display_data"
    }
   ],
   "source": [
    "df2.iplot(kind='bar',x='Category',y='Values',color='red')"
   ]
  },
  {
   "cell_type": "code",
   "execution_count": 13,
   "metadata": {},
   "outputs": [
    {
     "data": {
      "application/vnd.plotly.v1+json": {
       "config": {
        "linkText": "Export to plot.ly",
        "plotlyServerURL": "https://plot.ly",
        "showLink": true
       },
       "data": [
        {
         "marker": {
          "color": "rgba(0, 0, 0, 0.6)",
          "line": {
           "color": "rgba(0, 0, 0, 1.0)",
           "width": 1
          }
         },
         "name": "None",
         "orientation": "v",
         "text": "",
         "type": "bar",
         "x": [
          "A",
          "B",
          "C",
          "D"
         ],
         "y": [
          100,
          100,
          100,
          100
         ]
        }
       ],
       "layout": {
        "legend": {
         "bgcolor": "#F5F6F9",
         "font": {
          "color": "#4D5663"
         }
        },
        "paper_bgcolor": "#F5F6F9",
        "plot_bgcolor": "#F5F6F9",
        "template": {
         "data": {
          "bar": [
           {
            "error_x": {
             "color": "#2a3f5f"
            },
            "error_y": {
             "color": "#2a3f5f"
            },
            "marker": {
             "line": {
              "color": "#E5ECF6",
              "width": 0.5
             }
            },
            "type": "bar"
           }
          ],
          "barpolar": [
           {
            "marker": {
             "line": {
              "color": "#E5ECF6",
              "width": 0.5
             }
            },
            "type": "barpolar"
           }
          ],
          "carpet": [
           {
            "aaxis": {
             "endlinecolor": "#2a3f5f",
             "gridcolor": "white",
             "linecolor": "white",
             "minorgridcolor": "white",
             "startlinecolor": "#2a3f5f"
            },
            "baxis": {
             "endlinecolor": "#2a3f5f",
             "gridcolor": "white",
             "linecolor": "white",
             "minorgridcolor": "white",
             "startlinecolor": "#2a3f5f"
            },
            "type": "carpet"
           }
          ],
          "choropleth": [
           {
            "colorbar": {
             "outlinewidth": 0,
             "ticks": ""
            },
            "type": "choropleth"
           }
          ],
          "contour": [
           {
            "colorbar": {
             "outlinewidth": 0,
             "ticks": ""
            },
            "colorscale": [
             [
              0,
              "#0d0887"
             ],
             [
              0.1111111111111111,
              "#46039f"
             ],
             [
              0.2222222222222222,
              "#7201a8"
             ],
             [
              0.3333333333333333,
              "#9c179e"
             ],
             [
              0.4444444444444444,
              "#bd3786"
             ],
             [
              0.5555555555555556,
              "#d8576b"
             ],
             [
              0.6666666666666666,
              "#ed7953"
             ],
             [
              0.7777777777777778,
              "#fb9f3a"
             ],
             [
              0.8888888888888888,
              "#fdca26"
             ],
             [
              1,
              "#f0f921"
             ]
            ],
            "type": "contour"
           }
          ],
          "contourcarpet": [
           {
            "colorbar": {
             "outlinewidth": 0,
             "ticks": ""
            },
            "type": "contourcarpet"
           }
          ],
          "heatmap": [
           {
            "colorbar": {
             "outlinewidth": 0,
             "ticks": ""
            },
            "colorscale": [
             [
              0,
              "#0d0887"
             ],
             [
              0.1111111111111111,
              "#46039f"
             ],
             [
              0.2222222222222222,
              "#7201a8"
             ],
             [
              0.3333333333333333,
              "#9c179e"
             ],
             [
              0.4444444444444444,
              "#bd3786"
             ],
             [
              0.5555555555555556,
              "#d8576b"
             ],
             [
              0.6666666666666666,
              "#ed7953"
             ],
             [
              0.7777777777777778,
              "#fb9f3a"
             ],
             [
              0.8888888888888888,
              "#fdca26"
             ],
             [
              1,
              "#f0f921"
             ]
            ],
            "type": "heatmap"
           }
          ],
          "heatmapgl": [
           {
            "colorbar": {
             "outlinewidth": 0,
             "ticks": ""
            },
            "colorscale": [
             [
              0,
              "#0d0887"
             ],
             [
              0.1111111111111111,
              "#46039f"
             ],
             [
              0.2222222222222222,
              "#7201a8"
             ],
             [
              0.3333333333333333,
              "#9c179e"
             ],
             [
              0.4444444444444444,
              "#bd3786"
             ],
             [
              0.5555555555555556,
              "#d8576b"
             ],
             [
              0.6666666666666666,
              "#ed7953"
             ],
             [
              0.7777777777777778,
              "#fb9f3a"
             ],
             [
              0.8888888888888888,
              "#fdca26"
             ],
             [
              1,
              "#f0f921"
             ]
            ],
            "type": "heatmapgl"
           }
          ],
          "histogram": [
           {
            "marker": {
             "colorbar": {
              "outlinewidth": 0,
              "ticks": ""
             }
            },
            "type": "histogram"
           }
          ],
          "histogram2d": [
           {
            "colorbar": {
             "outlinewidth": 0,
             "ticks": ""
            },
            "colorscale": [
             [
              0,
              "#0d0887"
             ],
             [
              0.1111111111111111,
              "#46039f"
             ],
             [
              0.2222222222222222,
              "#7201a8"
             ],
             [
              0.3333333333333333,
              "#9c179e"
             ],
             [
              0.4444444444444444,
              "#bd3786"
             ],
             [
              0.5555555555555556,
              "#d8576b"
             ],
             [
              0.6666666666666666,
              "#ed7953"
             ],
             [
              0.7777777777777778,
              "#fb9f3a"
             ],
             [
              0.8888888888888888,
              "#fdca26"
             ],
             [
              1,
              "#f0f921"
             ]
            ],
            "type": "histogram2d"
           }
          ],
          "histogram2dcontour": [
           {
            "colorbar": {
             "outlinewidth": 0,
             "ticks": ""
            },
            "colorscale": [
             [
              0,
              "#0d0887"
             ],
             [
              0.1111111111111111,
              "#46039f"
             ],
             [
              0.2222222222222222,
              "#7201a8"
             ],
             [
              0.3333333333333333,
              "#9c179e"
             ],
             [
              0.4444444444444444,
              "#bd3786"
             ],
             [
              0.5555555555555556,
              "#d8576b"
             ],
             [
              0.6666666666666666,
              "#ed7953"
             ],
             [
              0.7777777777777778,
              "#fb9f3a"
             ],
             [
              0.8888888888888888,
              "#fdca26"
             ],
             [
              1,
              "#f0f921"
             ]
            ],
            "type": "histogram2dcontour"
           }
          ],
          "mesh3d": [
           {
            "colorbar": {
             "outlinewidth": 0,
             "ticks": ""
            },
            "type": "mesh3d"
           }
          ],
          "parcoords": [
           {
            "line": {
             "colorbar": {
              "outlinewidth": 0,
              "ticks": ""
             }
            },
            "type": "parcoords"
           }
          ],
          "pie": [
           {
            "automargin": true,
            "type": "pie"
           }
          ],
          "scatter": [
           {
            "marker": {
             "colorbar": {
              "outlinewidth": 0,
              "ticks": ""
             }
            },
            "type": "scatter"
           }
          ],
          "scatter3d": [
           {
            "line": {
             "colorbar": {
              "outlinewidth": 0,
              "ticks": ""
             }
            },
            "marker": {
             "colorbar": {
              "outlinewidth": 0,
              "ticks": ""
             }
            },
            "type": "scatter3d"
           }
          ],
          "scattercarpet": [
           {
            "marker": {
             "colorbar": {
              "outlinewidth": 0,
              "ticks": ""
             }
            },
            "type": "scattercarpet"
           }
          ],
          "scattergeo": [
           {
            "marker": {
             "colorbar": {
              "outlinewidth": 0,
              "ticks": ""
             }
            },
            "type": "scattergeo"
           }
          ],
          "scattergl": [
           {
            "marker": {
             "colorbar": {
              "outlinewidth": 0,
              "ticks": ""
             }
            },
            "type": "scattergl"
           }
          ],
          "scattermapbox": [
           {
            "marker": {
             "colorbar": {
              "outlinewidth": 0,
              "ticks": ""
             }
            },
            "type": "scattermapbox"
           }
          ],
          "scatterpolar": [
           {
            "marker": {
             "colorbar": {
              "outlinewidth": 0,
              "ticks": ""
             }
            },
            "type": "scatterpolar"
           }
          ],
          "scatterpolargl": [
           {
            "marker": {
             "colorbar": {
              "outlinewidth": 0,
              "ticks": ""
             }
            },
            "type": "scatterpolargl"
           }
          ],
          "scatterternary": [
           {
            "marker": {
             "colorbar": {
              "outlinewidth": 0,
              "ticks": ""
             }
            },
            "type": "scatterternary"
           }
          ],
          "surface": [
           {
            "colorbar": {
             "outlinewidth": 0,
             "ticks": ""
            },
            "colorscale": [
             [
              0,
              "#0d0887"
             ],
             [
              0.1111111111111111,
              "#46039f"
             ],
             [
              0.2222222222222222,
              "#7201a8"
             ],
             [
              0.3333333333333333,
              "#9c179e"
             ],
             [
              0.4444444444444444,
              "#bd3786"
             ],
             [
              0.5555555555555556,
              "#d8576b"
             ],
             [
              0.6666666666666666,
              "#ed7953"
             ],
             [
              0.7777777777777778,
              "#fb9f3a"
             ],
             [
              0.8888888888888888,
              "#fdca26"
             ],
             [
              1,
              "#f0f921"
             ]
            ],
            "type": "surface"
           }
          ],
          "table": [
           {
            "cells": {
             "fill": {
              "color": "#EBF0F8"
             },
             "line": {
              "color": "white"
             }
            },
            "header": {
             "fill": {
              "color": "#C8D4E3"
             },
             "line": {
              "color": "white"
             }
            },
            "type": "table"
           }
          ]
         },
         "layout": {
          "annotationdefaults": {
           "arrowcolor": "#2a3f5f",
           "arrowhead": 0,
           "arrowwidth": 1
          },
          "coloraxis": {
           "colorbar": {
            "outlinewidth": 0,
            "ticks": ""
           }
          },
          "colorscale": {
           "diverging": [
            [
             0,
             "#8e0152"
            ],
            [
             0.1,
             "#c51b7d"
            ],
            [
             0.2,
             "#de77ae"
            ],
            [
             0.3,
             "#f1b6da"
            ],
            [
             0.4,
             "#fde0ef"
            ],
            [
             0.5,
             "#f7f7f7"
            ],
            [
             0.6,
             "#e6f5d0"
            ],
            [
             0.7,
             "#b8e186"
            ],
            [
             0.8,
             "#7fbc41"
            ],
            [
             0.9,
             "#4d9221"
            ],
            [
             1,
             "#276419"
            ]
           ],
           "sequential": [
            [
             0,
             "#0d0887"
            ],
            [
             0.1111111111111111,
             "#46039f"
            ],
            [
             0.2222222222222222,
             "#7201a8"
            ],
            [
             0.3333333333333333,
             "#9c179e"
            ],
            [
             0.4444444444444444,
             "#bd3786"
            ],
            [
             0.5555555555555556,
             "#d8576b"
            ],
            [
             0.6666666666666666,
             "#ed7953"
            ],
            [
             0.7777777777777778,
             "#fb9f3a"
            ],
            [
             0.8888888888888888,
             "#fdca26"
            ],
            [
             1,
             "#f0f921"
            ]
           ],
           "sequentialminus": [
            [
             0,
             "#0d0887"
            ],
            [
             0.1111111111111111,
             "#46039f"
            ],
            [
             0.2222222222222222,
             "#7201a8"
            ],
            [
             0.3333333333333333,
             "#9c179e"
            ],
            [
             0.4444444444444444,
             "#bd3786"
            ],
            [
             0.5555555555555556,
             "#d8576b"
            ],
            [
             0.6666666666666666,
             "#ed7953"
            ],
            [
             0.7777777777777778,
             "#fb9f3a"
            ],
            [
             0.8888888888888888,
             "#fdca26"
            ],
            [
             1,
             "#f0f921"
            ]
           ]
          },
          "colorway": [
           "#636efa",
           "#EF553B",
           "#00cc96",
           "#ab63fa",
           "#FFA15A",
           "#19d3f3",
           "#FF6692",
           "#B6E880",
           "#FF97FF",
           "#FECB52"
          ],
          "font": {
           "color": "#2a3f5f"
          },
          "geo": {
           "bgcolor": "white",
           "lakecolor": "white",
           "landcolor": "#E5ECF6",
           "showlakes": true,
           "showland": true,
           "subunitcolor": "white"
          },
          "hoverlabel": {
           "align": "left"
          },
          "hovermode": "closest",
          "mapbox": {
           "style": "light"
          },
          "paper_bgcolor": "white",
          "plot_bgcolor": "#E5ECF6",
          "polar": {
           "angularaxis": {
            "gridcolor": "white",
            "linecolor": "white",
            "ticks": ""
           },
           "bgcolor": "#E5ECF6",
           "radialaxis": {
            "gridcolor": "white",
            "linecolor": "white",
            "ticks": ""
           }
          },
          "scene": {
           "xaxis": {
            "backgroundcolor": "#E5ECF6",
            "gridcolor": "white",
            "gridwidth": 2,
            "linecolor": "white",
            "showbackground": true,
            "ticks": "",
            "zerolinecolor": "white"
           },
           "yaxis": {
            "backgroundcolor": "#E5ECF6",
            "gridcolor": "white",
            "gridwidth": 2,
            "linecolor": "white",
            "showbackground": true,
            "ticks": "",
            "zerolinecolor": "white"
           },
           "zaxis": {
            "backgroundcolor": "#E5ECF6",
            "gridcolor": "white",
            "gridwidth": 2,
            "linecolor": "white",
            "showbackground": true,
            "ticks": "",
            "zerolinecolor": "white"
           }
          },
          "shapedefaults": {
           "line": {
            "color": "#2a3f5f"
           }
          },
          "ternary": {
           "aaxis": {
            "gridcolor": "white",
            "linecolor": "white",
            "ticks": ""
           },
           "baxis": {
            "gridcolor": "white",
            "linecolor": "white",
            "ticks": ""
           },
           "bgcolor": "#E5ECF6",
           "caxis": {
            "gridcolor": "white",
            "linecolor": "white",
            "ticks": ""
           }
          },
          "title": {
           "x": 0.05
          },
          "xaxis": {
           "automargin": true,
           "gridcolor": "white",
           "linecolor": "white",
           "ticks": "",
           "title": {
            "standoff": 15
           },
           "zerolinecolor": "white",
           "zerolinewidth": 2
          },
          "yaxis": {
           "automargin": true,
           "gridcolor": "white",
           "linecolor": "white",
           "ticks": "",
           "title": {
            "standoff": 15
           },
           "zerolinecolor": "white",
           "zerolinewidth": 2
          }
         }
        },
        "title": {
         "font": {
          "color": "#4D5663"
         }
        },
        "xaxis": {
         "gridcolor": "#E1E5ED",
         "showgrid": true,
         "tickfont": {
          "color": "#4D5663"
         },
         "title": {
          "font": {
           "color": "#4D5663"
          },
          "text": ""
         },
         "zerolinecolor": "#E1E5ED"
        },
        "yaxis": {
         "gridcolor": "#E1E5ED",
         "showgrid": true,
         "tickfont": {
          "color": "#4D5663"
         },
         "title": {
          "font": {
           "color": "#4D5663"
          },
          "text": ""
         },
         "zerolinecolor": "#E1E5ED"
        }
       }
      },
      "text/html": [
       "<div>\n",
       "        \n",
       "        \n",
       "            <div id=\"b653a493-92e9-4c1e-a317-32dc6cf86fdf\" class=\"plotly-graph-div\" style=\"height:525px; width:100%;\"></div>\n",
       "            <script type=\"text/javascript\">\n",
       "                require([\"plotly\"], function(Plotly) {\n",
       "                    window.PLOTLYENV=window.PLOTLYENV || {};\n",
       "                    window.PLOTLYENV.BASE_URL='https://plot.ly';\n",
       "                    \n",
       "                if (document.getElementById(\"b653a493-92e9-4c1e-a317-32dc6cf86fdf\")) {\n",
       "                    Plotly.newPlot(\n",
       "                        'b653a493-92e9-4c1e-a317-32dc6cf86fdf',\n",
       "                        [{\"marker\": {\"color\": \"rgba(0, 0, 0, 0.6)\", \"line\": {\"color\": \"rgba(0, 0, 0, 1.0)\", \"width\": 1}}, \"name\": \"None\", \"orientation\": \"v\", \"text\": \"\", \"type\": \"bar\", \"x\": [\"A\", \"B\", \"C\", \"D\"], \"y\": [100, 100, 100, 100]}],\n",
       "                        {\"legend\": {\"bgcolor\": \"#F5F6F9\", \"font\": {\"color\": \"#4D5663\"}}, \"paper_bgcolor\": \"#F5F6F9\", \"plot_bgcolor\": \"#F5F6F9\", \"template\": {\"data\": {\"bar\": [{\"error_x\": {\"color\": \"#2a3f5f\"}, \"error_y\": {\"color\": \"#2a3f5f\"}, \"marker\": {\"line\": {\"color\": \"#E5ECF6\", \"width\": 0.5}}, \"type\": \"bar\"}], \"barpolar\": [{\"marker\": {\"line\": {\"color\": \"#E5ECF6\", \"width\": 0.5}}, \"type\": \"barpolar\"}], \"carpet\": [{\"aaxis\": {\"endlinecolor\": \"#2a3f5f\", \"gridcolor\": \"white\", \"linecolor\": \"white\", \"minorgridcolor\": \"white\", \"startlinecolor\": \"#2a3f5f\"}, \"baxis\": {\"endlinecolor\": \"#2a3f5f\", \"gridcolor\": \"white\", \"linecolor\": \"white\", \"minorgridcolor\": \"white\", \"startlinecolor\": \"#2a3f5f\"}, \"type\": \"carpet\"}], \"choropleth\": [{\"colorbar\": {\"outlinewidth\": 0, \"ticks\": \"\"}, \"type\": \"choropleth\"}], \"contour\": [{\"colorbar\": {\"outlinewidth\": 0, \"ticks\": \"\"}, \"colorscale\": [[0.0, \"#0d0887\"], [0.1111111111111111, \"#46039f\"], [0.2222222222222222, \"#7201a8\"], [0.3333333333333333, \"#9c179e\"], [0.4444444444444444, \"#bd3786\"], [0.5555555555555556, \"#d8576b\"], [0.6666666666666666, \"#ed7953\"], [0.7777777777777778, \"#fb9f3a\"], [0.8888888888888888, \"#fdca26\"], [1.0, \"#f0f921\"]], \"type\": \"contour\"}], \"contourcarpet\": [{\"colorbar\": {\"outlinewidth\": 0, \"ticks\": \"\"}, \"type\": \"contourcarpet\"}], \"heatmap\": [{\"colorbar\": {\"outlinewidth\": 0, \"ticks\": \"\"}, \"colorscale\": [[0.0, \"#0d0887\"], [0.1111111111111111, \"#46039f\"], [0.2222222222222222, \"#7201a8\"], [0.3333333333333333, \"#9c179e\"], [0.4444444444444444, \"#bd3786\"], [0.5555555555555556, \"#d8576b\"], [0.6666666666666666, \"#ed7953\"], [0.7777777777777778, \"#fb9f3a\"], [0.8888888888888888, \"#fdca26\"], [1.0, \"#f0f921\"]], \"type\": \"heatmap\"}], \"heatmapgl\": [{\"colorbar\": {\"outlinewidth\": 0, \"ticks\": \"\"}, \"colorscale\": [[0.0, \"#0d0887\"], [0.1111111111111111, \"#46039f\"], [0.2222222222222222, \"#7201a8\"], [0.3333333333333333, \"#9c179e\"], [0.4444444444444444, \"#bd3786\"], [0.5555555555555556, \"#d8576b\"], [0.6666666666666666, \"#ed7953\"], [0.7777777777777778, \"#fb9f3a\"], [0.8888888888888888, \"#fdca26\"], [1.0, \"#f0f921\"]], \"type\": \"heatmapgl\"}], \"histogram\": [{\"marker\": {\"colorbar\": {\"outlinewidth\": 0, \"ticks\": \"\"}}, \"type\": \"histogram\"}], \"histogram2d\": [{\"colorbar\": {\"outlinewidth\": 0, \"ticks\": \"\"}, \"colorscale\": [[0.0, \"#0d0887\"], [0.1111111111111111, \"#46039f\"], [0.2222222222222222, \"#7201a8\"], [0.3333333333333333, \"#9c179e\"], [0.4444444444444444, \"#bd3786\"], [0.5555555555555556, \"#d8576b\"], [0.6666666666666666, \"#ed7953\"], [0.7777777777777778, \"#fb9f3a\"], [0.8888888888888888, \"#fdca26\"], [1.0, \"#f0f921\"]], \"type\": \"histogram2d\"}], \"histogram2dcontour\": [{\"colorbar\": {\"outlinewidth\": 0, \"ticks\": \"\"}, \"colorscale\": [[0.0, \"#0d0887\"], [0.1111111111111111, \"#46039f\"], [0.2222222222222222, \"#7201a8\"], [0.3333333333333333, \"#9c179e\"], [0.4444444444444444, \"#bd3786\"], [0.5555555555555556, \"#d8576b\"], [0.6666666666666666, \"#ed7953\"], [0.7777777777777778, \"#fb9f3a\"], [0.8888888888888888, \"#fdca26\"], [1.0, \"#f0f921\"]], \"type\": \"histogram2dcontour\"}], \"mesh3d\": [{\"colorbar\": {\"outlinewidth\": 0, \"ticks\": \"\"}, \"type\": \"mesh3d\"}], \"parcoords\": [{\"line\": {\"colorbar\": {\"outlinewidth\": 0, \"ticks\": \"\"}}, \"type\": \"parcoords\"}], \"pie\": [{\"automargin\": true, \"type\": \"pie\"}], \"scatter\": [{\"marker\": {\"colorbar\": {\"outlinewidth\": 0, \"ticks\": \"\"}}, \"type\": \"scatter\"}], \"scatter3d\": [{\"line\": {\"colorbar\": {\"outlinewidth\": 0, \"ticks\": \"\"}}, \"marker\": {\"colorbar\": {\"outlinewidth\": 0, \"ticks\": \"\"}}, \"type\": \"scatter3d\"}], \"scattercarpet\": [{\"marker\": {\"colorbar\": {\"outlinewidth\": 0, \"ticks\": \"\"}}, \"type\": \"scattercarpet\"}], \"scattergeo\": [{\"marker\": {\"colorbar\": {\"outlinewidth\": 0, \"ticks\": \"\"}}, \"type\": \"scattergeo\"}], \"scattergl\": [{\"marker\": {\"colorbar\": {\"outlinewidth\": 0, \"ticks\": \"\"}}, \"type\": \"scattergl\"}], \"scattermapbox\": [{\"marker\": {\"colorbar\": {\"outlinewidth\": 0, \"ticks\": \"\"}}, \"type\": \"scattermapbox\"}], \"scatterpolar\": [{\"marker\": {\"colorbar\": {\"outlinewidth\": 0, \"ticks\": \"\"}}, \"type\": \"scatterpolar\"}], \"scatterpolargl\": [{\"marker\": {\"colorbar\": {\"outlinewidth\": 0, \"ticks\": \"\"}}, \"type\": \"scatterpolargl\"}], \"scatterternary\": [{\"marker\": {\"colorbar\": {\"outlinewidth\": 0, \"ticks\": \"\"}}, \"type\": \"scatterternary\"}], \"surface\": [{\"colorbar\": {\"outlinewidth\": 0, \"ticks\": \"\"}, \"colorscale\": [[0.0, \"#0d0887\"], [0.1111111111111111, \"#46039f\"], [0.2222222222222222, \"#7201a8\"], [0.3333333333333333, \"#9c179e\"], [0.4444444444444444, \"#bd3786\"], [0.5555555555555556, \"#d8576b\"], [0.6666666666666666, \"#ed7953\"], [0.7777777777777778, \"#fb9f3a\"], [0.8888888888888888, \"#fdca26\"], [1.0, \"#f0f921\"]], \"type\": \"surface\"}], \"table\": [{\"cells\": {\"fill\": {\"color\": \"#EBF0F8\"}, \"line\": {\"color\": \"white\"}}, \"header\": {\"fill\": {\"color\": \"#C8D4E3\"}, \"line\": {\"color\": \"white\"}}, \"type\": \"table\"}]}, \"layout\": {\"annotationdefaults\": {\"arrowcolor\": \"#2a3f5f\", \"arrowhead\": 0, \"arrowwidth\": 1}, \"coloraxis\": {\"colorbar\": {\"outlinewidth\": 0, \"ticks\": \"\"}}, \"colorscale\": {\"diverging\": [[0, \"#8e0152\"], [0.1, \"#c51b7d\"], [0.2, \"#de77ae\"], [0.3, \"#f1b6da\"], [0.4, \"#fde0ef\"], [0.5, \"#f7f7f7\"], [0.6, \"#e6f5d0\"], [0.7, \"#b8e186\"], [0.8, \"#7fbc41\"], [0.9, \"#4d9221\"], [1, \"#276419\"]], \"sequential\": [[0.0, \"#0d0887\"], [0.1111111111111111, \"#46039f\"], [0.2222222222222222, \"#7201a8\"], [0.3333333333333333, \"#9c179e\"], [0.4444444444444444, \"#bd3786\"], [0.5555555555555556, \"#d8576b\"], [0.6666666666666666, \"#ed7953\"], [0.7777777777777778, \"#fb9f3a\"], [0.8888888888888888, \"#fdca26\"], [1.0, \"#f0f921\"]], \"sequentialminus\": [[0.0, \"#0d0887\"], [0.1111111111111111, \"#46039f\"], [0.2222222222222222, \"#7201a8\"], [0.3333333333333333, \"#9c179e\"], [0.4444444444444444, \"#bd3786\"], [0.5555555555555556, \"#d8576b\"], [0.6666666666666666, \"#ed7953\"], [0.7777777777777778, \"#fb9f3a\"], [0.8888888888888888, \"#fdca26\"], [1.0, \"#f0f921\"]]}, \"colorway\": [\"#636efa\", \"#EF553B\", \"#00cc96\", \"#ab63fa\", \"#FFA15A\", \"#19d3f3\", \"#FF6692\", \"#B6E880\", \"#FF97FF\", \"#FECB52\"], \"font\": {\"color\": \"#2a3f5f\"}, \"geo\": {\"bgcolor\": \"white\", \"lakecolor\": \"white\", \"landcolor\": \"#E5ECF6\", \"showlakes\": true, \"showland\": true, \"subunitcolor\": \"white\"}, \"hoverlabel\": {\"align\": \"left\"}, \"hovermode\": \"closest\", \"mapbox\": {\"style\": \"light\"}, \"paper_bgcolor\": \"white\", \"plot_bgcolor\": \"#E5ECF6\", \"polar\": {\"angularaxis\": {\"gridcolor\": \"white\", \"linecolor\": \"white\", \"ticks\": \"\"}, \"bgcolor\": \"#E5ECF6\", \"radialaxis\": {\"gridcolor\": \"white\", \"linecolor\": \"white\", \"ticks\": \"\"}}, \"scene\": {\"xaxis\": {\"backgroundcolor\": \"#E5ECF6\", \"gridcolor\": \"white\", \"gridwidth\": 2, \"linecolor\": \"white\", \"showbackground\": true, \"ticks\": \"\", \"zerolinecolor\": \"white\"}, \"yaxis\": {\"backgroundcolor\": \"#E5ECF6\", \"gridcolor\": \"white\", \"gridwidth\": 2, \"linecolor\": \"white\", \"showbackground\": true, \"ticks\": \"\", \"zerolinecolor\": \"white\"}, \"zaxis\": {\"backgroundcolor\": \"#E5ECF6\", \"gridcolor\": \"white\", \"gridwidth\": 2, \"linecolor\": \"white\", \"showbackground\": true, \"ticks\": \"\", \"zerolinecolor\": \"white\"}}, \"shapedefaults\": {\"line\": {\"color\": \"#2a3f5f\"}}, \"ternary\": {\"aaxis\": {\"gridcolor\": \"white\", \"linecolor\": \"white\", \"ticks\": \"\"}, \"baxis\": {\"gridcolor\": \"white\", \"linecolor\": \"white\", \"ticks\": \"\"}, \"bgcolor\": \"#E5ECF6\", \"caxis\": {\"gridcolor\": \"white\", \"linecolor\": \"white\", \"ticks\": \"\"}}, \"title\": {\"x\": 0.05}, \"xaxis\": {\"automargin\": true, \"gridcolor\": \"white\", \"linecolor\": \"white\", \"ticks\": \"\", \"title\": {\"standoff\": 15}, \"zerolinecolor\": \"white\", \"zerolinewidth\": 2}, \"yaxis\": {\"automargin\": true, \"gridcolor\": \"white\", \"linecolor\": \"white\", \"ticks\": \"\", \"title\": {\"standoff\": 15}, \"zerolinecolor\": \"white\", \"zerolinewidth\": 2}}}, \"title\": {\"font\": {\"color\": \"#4D5663\"}}, \"xaxis\": {\"gridcolor\": \"#E1E5ED\", \"showgrid\": true, \"tickfont\": {\"color\": \"#4D5663\"}, \"title\": {\"font\": {\"color\": \"#4D5663\"}, \"text\": \"\"}, \"zerolinecolor\": \"#E1E5ED\"}, \"yaxis\": {\"gridcolor\": \"#E1E5ED\", \"showgrid\": true, \"tickfont\": {\"color\": \"#4D5663\"}, \"title\": {\"font\": {\"color\": \"#4D5663\"}, \"text\": \"\"}, \"zerolinecolor\": \"#E1E5ED\"}},\n",
       "                        {\"showLink\": true, \"linkText\": \"Export to plot.ly\", \"plotlyServerURL\": \"https://plot.ly\", \"responsive\": true}\n",
       "                    ).then(function(){\n",
       "                            \n",
       "var gd = document.getElementById('b653a493-92e9-4c1e-a317-32dc6cf86fdf');\n",
       "var x = new MutationObserver(function (mutations, observer) {{\n",
       "        var display = window.getComputedStyle(gd).display;\n",
       "        if (!display || display === 'none') {{\n",
       "            console.log([gd, 'removed!']);\n",
       "            Plotly.purge(gd);\n",
       "            observer.disconnect();\n",
       "        }}\n",
       "}});\n",
       "\n",
       "// Listen for the removal of the full notebook cells\n",
       "var notebookContainer = gd.closest('#notebook-container');\n",
       "if (notebookContainer) {{\n",
       "    x.observe(notebookContainer, {childList: true});\n",
       "}}\n",
       "\n",
       "// Listen for the clearing of the current output cell\n",
       "var outputEl = gd.closest('.output');\n",
       "if (outputEl) {{\n",
       "    x.observe(outputEl, {childList: true});\n",
       "}}\n",
       "\n",
       "                        })\n",
       "                };\n",
       "                });\n",
       "            </script>\n",
       "        </div>"
      ]
     },
     "metadata": {},
     "output_type": "display_data"
    }
   ],
   "source": [
    "df.count().iplot(kind='bar',color='black')"
   ]
  },
  {
   "cell_type": "markdown",
   "metadata": {},
   "source": [
    "## Boxplots"
   ]
  },
  {
   "cell_type": "code",
   "execution_count": 14,
   "metadata": {},
   "outputs": [
    {
     "data": {
      "application/vnd.plotly.v1+json": {
       "config": {
        "linkText": "Export to plot.ly",
        "plotlyServerURL": "https://plot.ly",
        "showLink": true
       },
       "data": [
        {
         "boxpoints": false,
         "line": {
          "width": 1.3
         },
         "marker": {
          "color": "rgba(255, 153, 51, 1.0)"
         },
         "name": "A",
         "orientation": "v",
         "type": "box",
         "y": [
          0.5607480575046337,
          -0.3708633475833689,
          0.4230264901718323,
          -0.9549106351528698,
          -0.20741263670876842,
          -1.024518844287343,
          -1.0367249687928646,
          2.0584447684824885,
          -1.4187588960747235,
          -0.046585194692532424,
          0.36787548846534923,
          -2.044211812156692,
          -2.550339562813716,
          0.40015190479056917,
          0.5681708126504649,
          0.7940914617616944,
          -1.068967565955156,
          0.07867740459071079,
          0.4235998492954107,
          0.39095912999154775,
          1.327686045467365,
          -1.754462647693073,
          -0.578173012072137,
          -1.0779798184582985,
          -1.891079726438191,
          0.4659456386036681,
          -0.21802135906844125,
          0.19367326395113266,
          -1.9603362574570133,
          0.14932514499258526,
          -0.9529428773655932,
          0.7856639631456367,
          0.4156555358714044,
          0.7153211913364734,
          -1.3322882860784802,
          0.4139571120324161,
          0.3967036149503087,
          0.4803572763821211,
          -0.15324245046653046,
          -0.3119030508533104,
          0.9967146023695868,
          -0.47050022120553125,
          -0.4892774201067624,
          -1.85008249779815,
          -1.7845525458308382,
          0.1353531820802186,
          0.8699058267717776,
          -0.595527228953319,
          -0.49038254076086707,
          0.14079245442134247,
          -1.6579724363407244,
          2.418537608960433,
          0.27571151766342716,
          -1.2092357839728465,
          0.37547517010499964,
          -1.0630914256315618,
          -0.21351316426565678,
          -0.27672782264169615,
          1.1129222293747094,
          -0.28712792311619945,
          0.7129540586172829,
          -1.566751562768234,
          0.9296950897556568,
          -0.9935280386456603,
          -1.1710637069029972,
          1.0331173300172627,
          -0.7779591509796198,
          0.21686394225833813,
          0.9654083038662515,
          0.03337425399400426,
          0.2108971788093691,
          -2.3580895215396565,
          0.896589310994641,
          0.674101904339704,
          -0.38463931465655277,
          -0.23191184444903365,
          -0.8086330854286654,
          -1.445946605784175,
          -1.9764770166489303,
          -0.37283081828887904,
          0.8367782985876825,
          -0.30237097827066195,
          0.380435715262536,
          0.031050281970491544,
          -1.0946115915704187,
          2.2558393050008103,
          -0.12197341968923685,
          0.1407793346328531,
          -0.7188373798798,
          0.8657765896581454,
          -0.13382126496639835,
          0.970122231997722,
          -0.029542020767768597,
          -0.8690891890937565,
          -1.0338929783040642,
          -0.6267558462723102,
          -1.4157502451975266,
          -0.5785252269504768,
          0.23779112418985437,
          -0.158700233859291
         ]
        },
        {
         "boxpoints": false,
         "line": {
          "width": 1.3
         },
         "marker": {
          "color": "rgba(55, 128, 191, 1.0)"
         },
         "name": "B",
         "orientation": "v",
         "type": "box",
         "y": [
          0.08628323394041917,
          0.1996020788959708,
          0.20815944961259064,
          2.131671412751742,
          -0.6230820414858802,
          -0.20059453914798314,
          0.30850312105249406,
          1.7452481067756915,
          0.7328641159155839,
          2.1251837923160504,
          0.47887481994342734,
          -0.1825069749191838,
          2.138799212851821,
          1.0451685881907276,
          0.7434135269810468,
          0.3442098404393374,
          -0.6667688075567253,
          0.06371752400275227,
          0.0027046037096464712,
          0.08321386399124807,
          0.22243369389629775,
          0.4755975179492282,
          -0.8979402876528175,
          -1.85402118299806,
          -0.9247498611392219,
          -0.8602848187962258,
          0.04358900306148492,
          -0.5676161630929298,
          -0.07734514221487851,
          0.18994788348417663,
          -0.7365699535202821,
          0.32817276921175176,
          0.5845710556239431,
          0.5504481459044616,
          -0.7217255921692333,
          1.3536859978584614,
          0.7413518060931923,
          0.4954504182405843,
          -1.297639979562549,
          -1.5211164017484191,
          -0.5356313159929892,
          -0.14139501644207536,
          -2.535185047270597,
          -1.3972714221877187,
          0.08578376083602648,
          -1.8771408047470939,
          -0.1382002174398529,
          -0.4319456408707257,
          -0.6873636767251813,
          -2.154901585183574,
          0.8349884750677796,
          -0.29344606963996633,
          -2.0646176720779064,
          0.2715258162942724,
          -0.8987499333895042,
          0.6737517491122544,
          -0.8903450187141376,
          -0.5865223603579941,
          1.2182908148049052,
          0.5438298456028653,
          -0.9955332831521326,
          -0.9267142054469677,
          -1.8737830394162058,
          0.4155025883669216,
          1.4072161601242574,
          1.6558356000102168,
          0.1809956349868083,
          0.05305950380555659,
          -0.9973706957566846,
          0.8485135367398966,
          -0.09069496672792628,
          1.2575460701823191,
          -1.1954067348628163,
          -0.03249315387521831,
          0.28128026601803596,
          -1.0405636511730798,
          -0.17966114977992012,
          -0.19911305400341872,
          -0.04475203909549446,
          -0.33144565439472856,
          2.7808030289348644,
          0.08125916906489697,
          -1.5582135882821042,
          -1.288804376166216,
          0.14180622305606383,
          0.5449416201336499,
          -0.39609729585126346,
          -0.12395381701788742,
          0.07703560202435866,
          -1.0272511213580646,
          0.013861719718305783,
          -0.10758763900023838,
          -0.3976760311590689,
          1.1015906152909287,
          -0.6678659159520443,
          -0.8442929808644131,
          0.8409636359623852,
          0.28507155270790163,
          -0.6297736460594562,
          -2.9931078502086437
         ]
        },
        {
         "boxpoints": false,
         "line": {
          "width": 1.3
         },
         "marker": {
          "color": "rgba(50, 171, 96, 1.0)"
         },
         "name": "C",
         "orientation": "v",
         "type": "box",
         "y": [
          2.038102357710706,
          0.2576996643892817,
          -1.1798196348353838,
          0.4157702614131842,
          -1.1012351243432212,
          0.16243256677021015,
          0.3195838918073923,
          -0.42163946571452043,
          -0.5624454929238729,
          -0.6294645434405128,
          0.3271658984857019,
          1.5098386680081353,
          -0.42329324229384124,
          2.3648631071382713,
          -0.6889084121465173,
          0.6156641704478799,
          1.1851224297767595,
          0.22740394959544033,
          -0.08161112165280739,
          0.1445006384531758,
          -0.0075238161668971385,
          -0.6110805416197159,
          -0.25606087590304366,
          1.3443060281974812,
          -0.7388932514568775,
          -0.7695496258394001,
          -0.7873817375146055,
          0.4297837429016983,
          0.9579503469593186,
          -1.164752419424204,
          -1.276315432288413,
          0.02053447733297226,
          -2.4317108807142573,
          -0.24770284951243285,
          0.5406704807880074,
          -0.6938050496735396,
          0.6339706052865337,
          1.1093520601630171,
          -0.32163042371408884,
          0.37507601689143294,
          -0.648118710188847,
          -0.5515887216458849,
          0.2527639200133479,
          -0.47386103063949947,
          1.5657496158271567,
          0.28793560012679836,
          1.6264063683510546,
          0.45312392396668183,
          0.013940264815367073,
          -0.8458398937119691,
          0.34161508358595044,
          0.5464580959173527,
          0.4291498719884774,
          0.32002922017412805,
          1.0895515741012827,
          0.5681379084099052,
          0.4158120212337378,
          0.6678856985111923,
          -0.0160716737410791,
          0.5077164219306115,
          -0.47237927437833765,
          -0.23295608254637346,
          -1.1472519618841157,
          2.514952980286407,
          -0.7964223189433736,
          -0.580551760148871,
          -0.07954941725492208,
          -0.3510567235837107,
          -0.4688298882576997,
          -0.8384028189859069,
          0.45792184059746244,
          1.9152580396167196,
          -0.8352155282336406,
          -0.23946842071359362,
          -0.7288389214662799,
          -0.6423181117562349,
          -0.825304444929453,
          -0.16657784662202907,
          0.08458906577422094,
          2.2811408452149315,
          -1.5977696389242177,
          1.0032587671269737,
          -0.588110777473575,
          -0.2619393559738801,
          -0.4989960405369848,
          -1.177242495157639,
          0.8135642767816046,
          -0.9392292364320963,
          -0.13327949316349333,
          -1.2694780872024656,
          -0.5277346956879497,
          -1.2704014388203406,
          1.4092428406270736,
          0.40461680992503957,
          -1.2318734780816807,
          2.257885368505444,
          1.081994437484539,
          -0.8962135328256043,
          0.1394341878823279,
          -1.5322769011678719
         ]
        },
        {
         "boxpoints": false,
         "line": {
          "width": 1.3
         },
         "marker": {
          "color": "rgba(128, 0, 128, 1.0)"
         },
         "name": "D",
         "orientation": "v",
         "type": "box",
         "y": [
          -2.0168295111392105,
          -0.21013946544226061,
          -1.258031148952199,
          0.13601150195186626,
          -0.9326675103109121,
          1.611415931881721,
          -0.5546502912770421,
          1.1727916704060484,
          -1.0378299808439229,
          0.06632263585327085,
          0.7511309954204283,
          1.809412952840736,
          -0.044220581261604344,
          -0.8068498078280052,
          -1.3597344031658158,
          -0.6557923731449656,
          1.2420221885242144,
          0.9524935708464101,
          0.17723258748445941,
          1.167990665130411,
          0.05880026319073873,
          -0.04623484159031213,
          0.18090316066269005,
          0.9267191286977249,
          0.16553458024891518,
          -1.3136390901784187,
          -0.06581785804893786,
          -0.7411958743274716,
          -0.40268998521209426,
          -1.5232465692913328,
          0.1902404762177136,
          1.6039351141622544,
          1.2114609571160415,
          -1.515347397523287,
          0.07181238623888106,
          -0.07873744523145464,
          0.11247408248408321,
          1.4511470206604198,
          -0.8050589159007769,
          0.8711861823124123,
          1.0007029677650339,
          0.8137507804035743,
          -0.6543433291379487,
          1.5289305214001112,
          0.014782093150927886,
          0.6200951298097656,
          1.150455514064878,
          0.9553906535290986,
          -0.41683051193560994,
          -0.23144950051061663,
          0.6887180371482181,
          -0.596392242147904,
          1.2543891626130692,
          0.0030724698669582803,
          0.12362507474079651,
          0.6226124546708929,
          0.42466444466556386,
          0.47926413631075265,
          1.5774490366605967,
          0.2640923627476357,
          -0.7993459891468951,
          -0.36172350204577075,
          -1.544160511315879,
          0.14890998512774686,
          1.1163820612050082,
          -0.0030689004076699545,
          0.3731074916210108,
          0.3805955800175891,
          0.07829472340075247,
          0.4604484607902768,
          1.104119895280711,
          -0.9967704117259928,
          0.8405830043238202,
          -0.3608568411009861,
          1.235374755446539,
          1.3474524590877468,
          0.1491539960997328,
          1.3356519668737115,
          1.264942923231072,
          0.7106069315969047,
          -1.2563731252580563,
          -0.29577964756996483,
          -1.8018826832220123,
          0.5817820085802042,
          1.062697781721015,
          0.7620137522866587,
          -0.8314965510589846,
          0.0364211117304112,
          -0.7113461269231741,
          2.482943491654735,
          -0.2875647729877446,
          0.2651044673195494,
          0.8422507841040974,
          -0.7072892593682847,
          0.5394853919155316,
          1.4497737247702585,
          0.3207280886261204,
          -0.6897627137375941,
          1.3082921742928493,
          0.8083137004369385
         ]
        }
       ],
       "layout": {
        "legend": {
         "bgcolor": "#F5F6F9",
         "font": {
          "color": "#4D5663"
         }
        },
        "paper_bgcolor": "#F5F6F9",
        "plot_bgcolor": "#F5F6F9",
        "template": {
         "data": {
          "bar": [
           {
            "error_x": {
             "color": "#2a3f5f"
            },
            "error_y": {
             "color": "#2a3f5f"
            },
            "marker": {
             "line": {
              "color": "#E5ECF6",
              "width": 0.5
             }
            },
            "type": "bar"
           }
          ],
          "barpolar": [
           {
            "marker": {
             "line": {
              "color": "#E5ECF6",
              "width": 0.5
             }
            },
            "type": "barpolar"
           }
          ],
          "carpet": [
           {
            "aaxis": {
             "endlinecolor": "#2a3f5f",
             "gridcolor": "white",
             "linecolor": "white",
             "minorgridcolor": "white",
             "startlinecolor": "#2a3f5f"
            },
            "baxis": {
             "endlinecolor": "#2a3f5f",
             "gridcolor": "white",
             "linecolor": "white",
             "minorgridcolor": "white",
             "startlinecolor": "#2a3f5f"
            },
            "type": "carpet"
           }
          ],
          "choropleth": [
           {
            "colorbar": {
             "outlinewidth": 0,
             "ticks": ""
            },
            "type": "choropleth"
           }
          ],
          "contour": [
           {
            "colorbar": {
             "outlinewidth": 0,
             "ticks": ""
            },
            "colorscale": [
             [
              0,
              "#0d0887"
             ],
             [
              0.1111111111111111,
              "#46039f"
             ],
             [
              0.2222222222222222,
              "#7201a8"
             ],
             [
              0.3333333333333333,
              "#9c179e"
             ],
             [
              0.4444444444444444,
              "#bd3786"
             ],
             [
              0.5555555555555556,
              "#d8576b"
             ],
             [
              0.6666666666666666,
              "#ed7953"
             ],
             [
              0.7777777777777778,
              "#fb9f3a"
             ],
             [
              0.8888888888888888,
              "#fdca26"
             ],
             [
              1,
              "#f0f921"
             ]
            ],
            "type": "contour"
           }
          ],
          "contourcarpet": [
           {
            "colorbar": {
             "outlinewidth": 0,
             "ticks": ""
            },
            "type": "contourcarpet"
           }
          ],
          "heatmap": [
           {
            "colorbar": {
             "outlinewidth": 0,
             "ticks": ""
            },
            "colorscale": [
             [
              0,
              "#0d0887"
             ],
             [
              0.1111111111111111,
              "#46039f"
             ],
             [
              0.2222222222222222,
              "#7201a8"
             ],
             [
              0.3333333333333333,
              "#9c179e"
             ],
             [
              0.4444444444444444,
              "#bd3786"
             ],
             [
              0.5555555555555556,
              "#d8576b"
             ],
             [
              0.6666666666666666,
              "#ed7953"
             ],
             [
              0.7777777777777778,
              "#fb9f3a"
             ],
             [
              0.8888888888888888,
              "#fdca26"
             ],
             [
              1,
              "#f0f921"
             ]
            ],
            "type": "heatmap"
           }
          ],
          "heatmapgl": [
           {
            "colorbar": {
             "outlinewidth": 0,
             "ticks": ""
            },
            "colorscale": [
             [
              0,
              "#0d0887"
             ],
             [
              0.1111111111111111,
              "#46039f"
             ],
             [
              0.2222222222222222,
              "#7201a8"
             ],
             [
              0.3333333333333333,
              "#9c179e"
             ],
             [
              0.4444444444444444,
              "#bd3786"
             ],
             [
              0.5555555555555556,
              "#d8576b"
             ],
             [
              0.6666666666666666,
              "#ed7953"
             ],
             [
              0.7777777777777778,
              "#fb9f3a"
             ],
             [
              0.8888888888888888,
              "#fdca26"
             ],
             [
              1,
              "#f0f921"
             ]
            ],
            "type": "heatmapgl"
           }
          ],
          "histogram": [
           {
            "marker": {
             "colorbar": {
              "outlinewidth": 0,
              "ticks": ""
             }
            },
            "type": "histogram"
           }
          ],
          "histogram2d": [
           {
            "colorbar": {
             "outlinewidth": 0,
             "ticks": ""
            },
            "colorscale": [
             [
              0,
              "#0d0887"
             ],
             [
              0.1111111111111111,
              "#46039f"
             ],
             [
              0.2222222222222222,
              "#7201a8"
             ],
             [
              0.3333333333333333,
              "#9c179e"
             ],
             [
              0.4444444444444444,
              "#bd3786"
             ],
             [
              0.5555555555555556,
              "#d8576b"
             ],
             [
              0.6666666666666666,
              "#ed7953"
             ],
             [
              0.7777777777777778,
              "#fb9f3a"
             ],
             [
              0.8888888888888888,
              "#fdca26"
             ],
             [
              1,
              "#f0f921"
             ]
            ],
            "type": "histogram2d"
           }
          ],
          "histogram2dcontour": [
           {
            "colorbar": {
             "outlinewidth": 0,
             "ticks": ""
            },
            "colorscale": [
             [
              0,
              "#0d0887"
             ],
             [
              0.1111111111111111,
              "#46039f"
             ],
             [
              0.2222222222222222,
              "#7201a8"
             ],
             [
              0.3333333333333333,
              "#9c179e"
             ],
             [
              0.4444444444444444,
              "#bd3786"
             ],
             [
              0.5555555555555556,
              "#d8576b"
             ],
             [
              0.6666666666666666,
              "#ed7953"
             ],
             [
              0.7777777777777778,
              "#fb9f3a"
             ],
             [
              0.8888888888888888,
              "#fdca26"
             ],
             [
              1,
              "#f0f921"
             ]
            ],
            "type": "histogram2dcontour"
           }
          ],
          "mesh3d": [
           {
            "colorbar": {
             "outlinewidth": 0,
             "ticks": ""
            },
            "type": "mesh3d"
           }
          ],
          "parcoords": [
           {
            "line": {
             "colorbar": {
              "outlinewidth": 0,
              "ticks": ""
             }
            },
            "type": "parcoords"
           }
          ],
          "pie": [
           {
            "automargin": true,
            "type": "pie"
           }
          ],
          "scatter": [
           {
            "marker": {
             "colorbar": {
              "outlinewidth": 0,
              "ticks": ""
             }
            },
            "type": "scatter"
           }
          ],
          "scatter3d": [
           {
            "line": {
             "colorbar": {
              "outlinewidth": 0,
              "ticks": ""
             }
            },
            "marker": {
             "colorbar": {
              "outlinewidth": 0,
              "ticks": ""
             }
            },
            "type": "scatter3d"
           }
          ],
          "scattercarpet": [
           {
            "marker": {
             "colorbar": {
              "outlinewidth": 0,
              "ticks": ""
             }
            },
            "type": "scattercarpet"
           }
          ],
          "scattergeo": [
           {
            "marker": {
             "colorbar": {
              "outlinewidth": 0,
              "ticks": ""
             }
            },
            "type": "scattergeo"
           }
          ],
          "scattergl": [
           {
            "marker": {
             "colorbar": {
              "outlinewidth": 0,
              "ticks": ""
             }
            },
            "type": "scattergl"
           }
          ],
          "scattermapbox": [
           {
            "marker": {
             "colorbar": {
              "outlinewidth": 0,
              "ticks": ""
             }
            },
            "type": "scattermapbox"
           }
          ],
          "scatterpolar": [
           {
            "marker": {
             "colorbar": {
              "outlinewidth": 0,
              "ticks": ""
             }
            },
            "type": "scatterpolar"
           }
          ],
          "scatterpolargl": [
           {
            "marker": {
             "colorbar": {
              "outlinewidth": 0,
              "ticks": ""
             }
            },
            "type": "scatterpolargl"
           }
          ],
          "scatterternary": [
           {
            "marker": {
             "colorbar": {
              "outlinewidth": 0,
              "ticks": ""
             }
            },
            "type": "scatterternary"
           }
          ],
          "surface": [
           {
            "colorbar": {
             "outlinewidth": 0,
             "ticks": ""
            },
            "colorscale": [
             [
              0,
              "#0d0887"
             ],
             [
              0.1111111111111111,
              "#46039f"
             ],
             [
              0.2222222222222222,
              "#7201a8"
             ],
             [
              0.3333333333333333,
              "#9c179e"
             ],
             [
              0.4444444444444444,
              "#bd3786"
             ],
             [
              0.5555555555555556,
              "#d8576b"
             ],
             [
              0.6666666666666666,
              "#ed7953"
             ],
             [
              0.7777777777777778,
              "#fb9f3a"
             ],
             [
              0.8888888888888888,
              "#fdca26"
             ],
             [
              1,
              "#f0f921"
             ]
            ],
            "type": "surface"
           }
          ],
          "table": [
           {
            "cells": {
             "fill": {
              "color": "#EBF0F8"
             },
             "line": {
              "color": "white"
             }
            },
            "header": {
             "fill": {
              "color": "#C8D4E3"
             },
             "line": {
              "color": "white"
             }
            },
            "type": "table"
           }
          ]
         },
         "layout": {
          "annotationdefaults": {
           "arrowcolor": "#2a3f5f",
           "arrowhead": 0,
           "arrowwidth": 1
          },
          "coloraxis": {
           "colorbar": {
            "outlinewidth": 0,
            "ticks": ""
           }
          },
          "colorscale": {
           "diverging": [
            [
             0,
             "#8e0152"
            ],
            [
             0.1,
             "#c51b7d"
            ],
            [
             0.2,
             "#de77ae"
            ],
            [
             0.3,
             "#f1b6da"
            ],
            [
             0.4,
             "#fde0ef"
            ],
            [
             0.5,
             "#f7f7f7"
            ],
            [
             0.6,
             "#e6f5d0"
            ],
            [
             0.7,
             "#b8e186"
            ],
            [
             0.8,
             "#7fbc41"
            ],
            [
             0.9,
             "#4d9221"
            ],
            [
             1,
             "#276419"
            ]
           ],
           "sequential": [
            [
             0,
             "#0d0887"
            ],
            [
             0.1111111111111111,
             "#46039f"
            ],
            [
             0.2222222222222222,
             "#7201a8"
            ],
            [
             0.3333333333333333,
             "#9c179e"
            ],
            [
             0.4444444444444444,
             "#bd3786"
            ],
            [
             0.5555555555555556,
             "#d8576b"
            ],
            [
             0.6666666666666666,
             "#ed7953"
            ],
            [
             0.7777777777777778,
             "#fb9f3a"
            ],
            [
             0.8888888888888888,
             "#fdca26"
            ],
            [
             1,
             "#f0f921"
            ]
           ],
           "sequentialminus": [
            [
             0,
             "#0d0887"
            ],
            [
             0.1111111111111111,
             "#46039f"
            ],
            [
             0.2222222222222222,
             "#7201a8"
            ],
            [
             0.3333333333333333,
             "#9c179e"
            ],
            [
             0.4444444444444444,
             "#bd3786"
            ],
            [
             0.5555555555555556,
             "#d8576b"
            ],
            [
             0.6666666666666666,
             "#ed7953"
            ],
            [
             0.7777777777777778,
             "#fb9f3a"
            ],
            [
             0.8888888888888888,
             "#fdca26"
            ],
            [
             1,
             "#f0f921"
            ]
           ]
          },
          "colorway": [
           "#636efa",
           "#EF553B",
           "#00cc96",
           "#ab63fa",
           "#FFA15A",
           "#19d3f3",
           "#FF6692",
           "#B6E880",
           "#FF97FF",
           "#FECB52"
          ],
          "font": {
           "color": "#2a3f5f"
          },
          "geo": {
           "bgcolor": "white",
           "lakecolor": "white",
           "landcolor": "#E5ECF6",
           "showlakes": true,
           "showland": true,
           "subunitcolor": "white"
          },
          "hoverlabel": {
           "align": "left"
          },
          "hovermode": "closest",
          "mapbox": {
           "style": "light"
          },
          "paper_bgcolor": "white",
          "plot_bgcolor": "#E5ECF6",
          "polar": {
           "angularaxis": {
            "gridcolor": "white",
            "linecolor": "white",
            "ticks": ""
           },
           "bgcolor": "#E5ECF6",
           "radialaxis": {
            "gridcolor": "white",
            "linecolor": "white",
            "ticks": ""
           }
          },
          "scene": {
           "xaxis": {
            "backgroundcolor": "#E5ECF6",
            "gridcolor": "white",
            "gridwidth": 2,
            "linecolor": "white",
            "showbackground": true,
            "ticks": "",
            "zerolinecolor": "white"
           },
           "yaxis": {
            "backgroundcolor": "#E5ECF6",
            "gridcolor": "white",
            "gridwidth": 2,
            "linecolor": "white",
            "showbackground": true,
            "ticks": "",
            "zerolinecolor": "white"
           },
           "zaxis": {
            "backgroundcolor": "#E5ECF6",
            "gridcolor": "white",
            "gridwidth": 2,
            "linecolor": "white",
            "showbackground": true,
            "ticks": "",
            "zerolinecolor": "white"
           }
          },
          "shapedefaults": {
           "line": {
            "color": "#2a3f5f"
           }
          },
          "ternary": {
           "aaxis": {
            "gridcolor": "white",
            "linecolor": "white",
            "ticks": ""
           },
           "baxis": {
            "gridcolor": "white",
            "linecolor": "white",
            "ticks": ""
           },
           "bgcolor": "#E5ECF6",
           "caxis": {
            "gridcolor": "white",
            "linecolor": "white",
            "ticks": ""
           }
          },
          "title": {
           "x": 0.05
          },
          "xaxis": {
           "automargin": true,
           "gridcolor": "white",
           "linecolor": "white",
           "ticks": "",
           "title": {
            "standoff": 15
           },
           "zerolinecolor": "white",
           "zerolinewidth": 2
          },
          "yaxis": {
           "automargin": true,
           "gridcolor": "white",
           "linecolor": "white",
           "ticks": "",
           "title": {
            "standoff": 15
           },
           "zerolinecolor": "white",
           "zerolinewidth": 2
          }
         }
        },
        "title": {
         "font": {
          "color": "#4D5663"
         }
        },
        "xaxis": {
         "gridcolor": "#E1E5ED",
         "showgrid": true,
         "tickfont": {
          "color": "#4D5663"
         },
         "title": {
          "font": {
           "color": "#4D5663"
          },
          "text": ""
         },
         "zerolinecolor": "#E1E5ED"
        },
        "yaxis": {
         "gridcolor": "#E1E5ED",
         "showgrid": true,
         "tickfont": {
          "color": "#4D5663"
         },
         "title": {
          "font": {
           "color": "#4D5663"
          },
          "text": ""
         },
         "zerolinecolor": "#E1E5ED"
        }
       }
      },
      "text/html": [
       "<div>\n",
       "        \n",
       "        \n",
       "            <div id=\"27854c7a-e104-4392-a7bc-62e10d4dc257\" class=\"plotly-graph-div\" style=\"height:525px; width:100%;\"></div>\n",
       "            <script type=\"text/javascript\">\n",
       "                require([\"plotly\"], function(Plotly) {\n",
       "                    window.PLOTLYENV=window.PLOTLYENV || {};\n",
       "                    window.PLOTLYENV.BASE_URL='https://plot.ly';\n",
       "                    \n",
       "                if (document.getElementById(\"27854c7a-e104-4392-a7bc-62e10d4dc257\")) {\n",
       "                    Plotly.newPlot(\n",
       "                        '27854c7a-e104-4392-a7bc-62e10d4dc257',\n",
       "                        [{\"boxpoints\": false, \"line\": {\"width\": 1.3}, \"marker\": {\"color\": \"rgba(255, 153, 51, 1.0)\"}, \"name\": \"A\", \"orientation\": \"v\", \"type\": \"box\", \"y\": [0.5607480575046337, -0.3708633475833689, 0.4230264901718323, -0.9549106351528698, -0.20741263670876842, -1.024518844287343, -1.0367249687928646, 2.0584447684824885, -1.4187588960747235, -0.046585194692532424, 0.36787548846534923, -2.044211812156692, -2.550339562813716, 0.40015190479056917, 0.5681708126504649, 0.7940914617616944, -1.068967565955156, 0.07867740459071079, 0.4235998492954107, 0.39095912999154775, 1.327686045467365, -1.754462647693073, -0.578173012072137, -1.0779798184582985, -1.891079726438191, 0.4659456386036681, -0.21802135906844125, 0.19367326395113266, -1.9603362574570133, 0.14932514499258526, -0.9529428773655932, 0.7856639631456367, 0.4156555358714044, 0.7153211913364734, -1.3322882860784802, 0.4139571120324161, 0.3967036149503087, 0.4803572763821211, -0.15324245046653046, -0.3119030508533104, 0.9967146023695868, -0.47050022120553125, -0.4892774201067624, -1.85008249779815, -1.7845525458308382, 0.1353531820802186, 0.8699058267717776, -0.595527228953319, -0.49038254076086707, 0.14079245442134247, -1.6579724363407244, 2.418537608960433, 0.27571151766342716, -1.2092357839728465, 0.37547517010499964, -1.0630914256315618, -0.21351316426565678, -0.27672782264169615, 1.1129222293747094, -0.28712792311619945, 0.7129540586172829, -1.566751562768234, 0.9296950897556568, -0.9935280386456603, -1.1710637069029972, 1.0331173300172627, -0.7779591509796198, 0.21686394225833813, 0.9654083038662515, 0.03337425399400426, 0.2108971788093691, -2.3580895215396565, 0.896589310994641, 0.674101904339704, -0.38463931465655277, -0.23191184444903365, -0.8086330854286654, -1.445946605784175, -1.9764770166489303, -0.37283081828887904, 0.8367782985876825, -0.30237097827066195, 0.380435715262536, 0.031050281970491544, -1.0946115915704187, 2.2558393050008103, -0.12197341968923685, 0.1407793346328531, -0.7188373798798, 0.8657765896581454, -0.13382126496639835, 0.970122231997722, -0.029542020767768597, -0.8690891890937565, -1.0338929783040642, -0.6267558462723102, -1.4157502451975266, -0.5785252269504768, 0.23779112418985437, -0.158700233859291]}, {\"boxpoints\": false, \"line\": {\"width\": 1.3}, \"marker\": {\"color\": \"rgba(55, 128, 191, 1.0)\"}, \"name\": \"B\", \"orientation\": \"v\", \"type\": \"box\", \"y\": [0.08628323394041917, 0.1996020788959708, 0.20815944961259064, 2.131671412751742, -0.6230820414858802, -0.20059453914798314, 0.30850312105249406, 1.7452481067756915, 0.7328641159155839, 2.1251837923160504, 0.47887481994342734, -0.1825069749191838, 2.138799212851821, 1.0451685881907276, 0.7434135269810468, 0.3442098404393374, -0.6667688075567253, 0.06371752400275227, 0.0027046037096464712, 0.08321386399124807, 0.22243369389629775, 0.4755975179492282, -0.8979402876528175, -1.85402118299806, -0.9247498611392219, -0.8602848187962258, 0.04358900306148492, -0.5676161630929298, -0.07734514221487851, 0.18994788348417663, -0.7365699535202821, 0.32817276921175176, 0.5845710556239431, 0.5504481459044616, -0.7217255921692333, 1.3536859978584614, 0.7413518060931923, 0.4954504182405843, -1.297639979562549, -1.5211164017484191, -0.5356313159929892, -0.14139501644207536, -2.535185047270597, -1.3972714221877187, 0.08578376083602648, -1.8771408047470939, -0.1382002174398529, -0.4319456408707257, -0.6873636767251813, -2.154901585183574, 0.8349884750677796, -0.29344606963996633, -2.0646176720779064, 0.2715258162942724, -0.8987499333895042, 0.6737517491122544, -0.8903450187141376, -0.5865223603579941, 1.2182908148049052, 0.5438298456028653, -0.9955332831521326, -0.9267142054469677, -1.8737830394162058, 0.4155025883669216, 1.4072161601242574, 1.6558356000102168, 0.1809956349868083, 0.05305950380555659, -0.9973706957566846, 0.8485135367398966, -0.09069496672792628, 1.2575460701823191, -1.1954067348628163, -0.03249315387521831, 0.28128026601803596, -1.0405636511730798, -0.17966114977992012, -0.19911305400341872, -0.04475203909549446, -0.33144565439472856, 2.7808030289348644, 0.08125916906489697, -1.5582135882821042, -1.288804376166216, 0.14180622305606383, 0.5449416201336499, -0.39609729585126346, -0.12395381701788742, 0.07703560202435866, -1.0272511213580646, 0.013861719718305783, -0.10758763900023838, -0.3976760311590689, 1.1015906152909287, -0.6678659159520443, -0.8442929808644131, 0.8409636359623852, 0.28507155270790163, -0.6297736460594562, -2.9931078502086437]}, {\"boxpoints\": false, \"line\": {\"width\": 1.3}, \"marker\": {\"color\": \"rgba(50, 171, 96, 1.0)\"}, \"name\": \"C\", \"orientation\": \"v\", \"type\": \"box\", \"y\": [2.038102357710706, 0.2576996643892817, -1.1798196348353838, 0.4157702614131842, -1.1012351243432212, 0.16243256677021015, 0.3195838918073923, -0.42163946571452043, -0.5624454929238729, -0.6294645434405128, 0.3271658984857019, 1.5098386680081353, -0.42329324229384124, 2.3648631071382713, -0.6889084121465173, 0.6156641704478799, 1.1851224297767595, 0.22740394959544033, -0.08161112165280739, 0.1445006384531758, -0.0075238161668971385, -0.6110805416197159, -0.25606087590304366, 1.3443060281974812, -0.7388932514568775, -0.7695496258394001, -0.7873817375146055, 0.4297837429016983, 0.9579503469593186, -1.164752419424204, -1.276315432288413, 0.02053447733297226, -2.4317108807142573, -0.24770284951243285, 0.5406704807880074, -0.6938050496735396, 0.6339706052865337, 1.1093520601630171, -0.32163042371408884, 0.37507601689143294, -0.648118710188847, -0.5515887216458849, 0.2527639200133479, -0.47386103063949947, 1.5657496158271567, 0.28793560012679836, 1.6264063683510546, 0.45312392396668183, 0.013940264815367073, -0.8458398937119691, 0.34161508358595044, 0.5464580959173527, 0.4291498719884774, 0.32002922017412805, 1.0895515741012827, 0.5681379084099052, 0.4158120212337378, 0.6678856985111923, -0.0160716737410791, 0.5077164219306115, -0.47237927437833765, -0.23295608254637346, -1.1472519618841157, 2.514952980286407, -0.7964223189433736, -0.580551760148871, -0.07954941725492208, -0.3510567235837107, -0.4688298882576997, -0.8384028189859069, 0.45792184059746244, 1.9152580396167196, -0.8352155282336406, -0.23946842071359362, -0.7288389214662799, -0.6423181117562349, -0.825304444929453, -0.16657784662202907, 0.08458906577422094, 2.2811408452149315, -1.5977696389242177, 1.0032587671269737, -0.588110777473575, -0.2619393559738801, -0.4989960405369848, -1.177242495157639, 0.8135642767816046, -0.9392292364320963, -0.13327949316349333, -1.2694780872024656, -0.5277346956879497, -1.2704014388203406, 1.4092428406270736, 0.40461680992503957, -1.2318734780816807, 2.257885368505444, 1.081994437484539, -0.8962135328256043, 0.1394341878823279, -1.5322769011678719]}, {\"boxpoints\": false, \"line\": {\"width\": 1.3}, \"marker\": {\"color\": \"rgba(128, 0, 128, 1.0)\"}, \"name\": \"D\", \"orientation\": \"v\", \"type\": \"box\", \"y\": [-2.0168295111392105, -0.21013946544226061, -1.258031148952199, 0.13601150195186626, -0.9326675103109121, 1.611415931881721, -0.5546502912770421, 1.1727916704060484, -1.0378299808439229, 0.06632263585327085, 0.7511309954204283, 1.809412952840736, -0.044220581261604344, -0.8068498078280052, -1.3597344031658158, -0.6557923731449656, 1.2420221885242144, 0.9524935708464101, 0.17723258748445941, 1.167990665130411, 0.05880026319073873, -0.04623484159031213, 0.18090316066269005, 0.9267191286977249, 0.16553458024891518, -1.3136390901784187, -0.06581785804893786, -0.7411958743274716, -0.40268998521209426, -1.5232465692913328, 0.1902404762177136, 1.6039351141622544, 1.2114609571160415, -1.515347397523287, 0.07181238623888106, -0.07873744523145464, 0.11247408248408321, 1.4511470206604198, -0.8050589159007769, 0.8711861823124123, 1.0007029677650339, 0.8137507804035743, -0.6543433291379487, 1.5289305214001112, 0.014782093150927886, 0.6200951298097656, 1.150455514064878, 0.9553906535290986, -0.41683051193560994, -0.23144950051061663, 0.6887180371482181, -0.596392242147904, 1.2543891626130692, 0.0030724698669582803, 0.12362507474079651, 0.6226124546708929, 0.42466444466556386, 0.47926413631075265, 1.5774490366605967, 0.2640923627476357, -0.7993459891468951, -0.36172350204577075, -1.544160511315879, 0.14890998512774686, 1.1163820612050082, -0.0030689004076699545, 0.3731074916210108, 0.3805955800175891, 0.07829472340075247, 0.4604484607902768, 1.104119895280711, -0.9967704117259928, 0.8405830043238202, -0.3608568411009861, 1.235374755446539, 1.3474524590877468, 0.1491539960997328, 1.3356519668737115, 1.264942923231072, 0.7106069315969047, -1.2563731252580563, -0.29577964756996483, -1.8018826832220123, 0.5817820085802042, 1.062697781721015, 0.7620137522866587, -0.8314965510589846, 0.0364211117304112, -0.7113461269231741, 2.482943491654735, -0.2875647729877446, 0.2651044673195494, 0.8422507841040974, -0.7072892593682847, 0.5394853919155316, 1.4497737247702585, 0.3207280886261204, -0.6897627137375941, 1.3082921742928493, 0.8083137004369385]}],\n",
       "                        {\"legend\": {\"bgcolor\": \"#F5F6F9\", \"font\": {\"color\": \"#4D5663\"}}, \"paper_bgcolor\": \"#F5F6F9\", \"plot_bgcolor\": \"#F5F6F9\", \"template\": {\"data\": {\"bar\": [{\"error_x\": {\"color\": \"#2a3f5f\"}, \"error_y\": {\"color\": \"#2a3f5f\"}, \"marker\": {\"line\": {\"color\": \"#E5ECF6\", \"width\": 0.5}}, \"type\": \"bar\"}], \"barpolar\": [{\"marker\": {\"line\": {\"color\": \"#E5ECF6\", \"width\": 0.5}}, \"type\": \"barpolar\"}], \"carpet\": [{\"aaxis\": {\"endlinecolor\": \"#2a3f5f\", \"gridcolor\": \"white\", \"linecolor\": \"white\", \"minorgridcolor\": \"white\", \"startlinecolor\": \"#2a3f5f\"}, \"baxis\": {\"endlinecolor\": \"#2a3f5f\", \"gridcolor\": \"white\", \"linecolor\": \"white\", \"minorgridcolor\": \"white\", \"startlinecolor\": \"#2a3f5f\"}, \"type\": \"carpet\"}], \"choropleth\": [{\"colorbar\": {\"outlinewidth\": 0, \"ticks\": \"\"}, \"type\": \"choropleth\"}], \"contour\": [{\"colorbar\": {\"outlinewidth\": 0, \"ticks\": \"\"}, \"colorscale\": [[0.0, \"#0d0887\"], [0.1111111111111111, \"#46039f\"], [0.2222222222222222, \"#7201a8\"], [0.3333333333333333, \"#9c179e\"], [0.4444444444444444, \"#bd3786\"], [0.5555555555555556, \"#d8576b\"], [0.6666666666666666, \"#ed7953\"], [0.7777777777777778, \"#fb9f3a\"], [0.8888888888888888, \"#fdca26\"], [1.0, \"#f0f921\"]], \"type\": \"contour\"}], \"contourcarpet\": [{\"colorbar\": {\"outlinewidth\": 0, \"ticks\": \"\"}, \"type\": \"contourcarpet\"}], \"heatmap\": [{\"colorbar\": {\"outlinewidth\": 0, \"ticks\": \"\"}, \"colorscale\": [[0.0, \"#0d0887\"], [0.1111111111111111, \"#46039f\"], [0.2222222222222222, \"#7201a8\"], [0.3333333333333333, \"#9c179e\"], [0.4444444444444444, \"#bd3786\"], [0.5555555555555556, \"#d8576b\"], [0.6666666666666666, \"#ed7953\"], [0.7777777777777778, \"#fb9f3a\"], [0.8888888888888888, \"#fdca26\"], [1.0, \"#f0f921\"]], \"type\": \"heatmap\"}], \"heatmapgl\": [{\"colorbar\": {\"outlinewidth\": 0, \"ticks\": \"\"}, \"colorscale\": [[0.0, \"#0d0887\"], [0.1111111111111111, \"#46039f\"], [0.2222222222222222, \"#7201a8\"], [0.3333333333333333, \"#9c179e\"], [0.4444444444444444, \"#bd3786\"], [0.5555555555555556, \"#d8576b\"], [0.6666666666666666, \"#ed7953\"], [0.7777777777777778, \"#fb9f3a\"], [0.8888888888888888, \"#fdca26\"], [1.0, \"#f0f921\"]], \"type\": \"heatmapgl\"}], \"histogram\": [{\"marker\": {\"colorbar\": {\"outlinewidth\": 0, \"ticks\": \"\"}}, \"type\": \"histogram\"}], \"histogram2d\": [{\"colorbar\": {\"outlinewidth\": 0, \"ticks\": \"\"}, \"colorscale\": [[0.0, \"#0d0887\"], [0.1111111111111111, \"#46039f\"], [0.2222222222222222, \"#7201a8\"], [0.3333333333333333, \"#9c179e\"], [0.4444444444444444, \"#bd3786\"], [0.5555555555555556, \"#d8576b\"], [0.6666666666666666, \"#ed7953\"], [0.7777777777777778, \"#fb9f3a\"], [0.8888888888888888, \"#fdca26\"], [1.0, \"#f0f921\"]], \"type\": \"histogram2d\"}], \"histogram2dcontour\": [{\"colorbar\": {\"outlinewidth\": 0, \"ticks\": \"\"}, \"colorscale\": [[0.0, \"#0d0887\"], [0.1111111111111111, \"#46039f\"], [0.2222222222222222, \"#7201a8\"], [0.3333333333333333, \"#9c179e\"], [0.4444444444444444, \"#bd3786\"], [0.5555555555555556, \"#d8576b\"], [0.6666666666666666, \"#ed7953\"], [0.7777777777777778, \"#fb9f3a\"], [0.8888888888888888, \"#fdca26\"], [1.0, \"#f0f921\"]], \"type\": \"histogram2dcontour\"}], \"mesh3d\": [{\"colorbar\": {\"outlinewidth\": 0, \"ticks\": \"\"}, \"type\": \"mesh3d\"}], \"parcoords\": [{\"line\": {\"colorbar\": {\"outlinewidth\": 0, \"ticks\": \"\"}}, \"type\": \"parcoords\"}], \"pie\": [{\"automargin\": true, \"type\": \"pie\"}], \"scatter\": [{\"marker\": {\"colorbar\": {\"outlinewidth\": 0, \"ticks\": \"\"}}, \"type\": \"scatter\"}], \"scatter3d\": [{\"line\": {\"colorbar\": {\"outlinewidth\": 0, \"ticks\": \"\"}}, \"marker\": {\"colorbar\": {\"outlinewidth\": 0, \"ticks\": \"\"}}, \"type\": \"scatter3d\"}], \"scattercarpet\": [{\"marker\": {\"colorbar\": {\"outlinewidth\": 0, \"ticks\": \"\"}}, \"type\": \"scattercarpet\"}], \"scattergeo\": [{\"marker\": {\"colorbar\": {\"outlinewidth\": 0, \"ticks\": \"\"}}, \"type\": \"scattergeo\"}], \"scattergl\": [{\"marker\": {\"colorbar\": {\"outlinewidth\": 0, \"ticks\": \"\"}}, \"type\": \"scattergl\"}], \"scattermapbox\": [{\"marker\": {\"colorbar\": {\"outlinewidth\": 0, \"ticks\": \"\"}}, \"type\": \"scattermapbox\"}], \"scatterpolar\": [{\"marker\": {\"colorbar\": {\"outlinewidth\": 0, \"ticks\": \"\"}}, \"type\": \"scatterpolar\"}], \"scatterpolargl\": [{\"marker\": {\"colorbar\": {\"outlinewidth\": 0, \"ticks\": \"\"}}, \"type\": \"scatterpolargl\"}], \"scatterternary\": [{\"marker\": {\"colorbar\": {\"outlinewidth\": 0, \"ticks\": \"\"}}, \"type\": \"scatterternary\"}], \"surface\": [{\"colorbar\": {\"outlinewidth\": 0, \"ticks\": \"\"}, \"colorscale\": [[0.0, \"#0d0887\"], [0.1111111111111111, \"#46039f\"], [0.2222222222222222, \"#7201a8\"], [0.3333333333333333, \"#9c179e\"], [0.4444444444444444, \"#bd3786\"], [0.5555555555555556, \"#d8576b\"], [0.6666666666666666, \"#ed7953\"], [0.7777777777777778, \"#fb9f3a\"], [0.8888888888888888, \"#fdca26\"], [1.0, \"#f0f921\"]], \"type\": \"surface\"}], \"table\": [{\"cells\": {\"fill\": {\"color\": \"#EBF0F8\"}, \"line\": {\"color\": \"white\"}}, \"header\": {\"fill\": {\"color\": \"#C8D4E3\"}, \"line\": {\"color\": \"white\"}}, \"type\": \"table\"}]}, \"layout\": {\"annotationdefaults\": {\"arrowcolor\": \"#2a3f5f\", \"arrowhead\": 0, \"arrowwidth\": 1}, \"coloraxis\": {\"colorbar\": {\"outlinewidth\": 0, \"ticks\": \"\"}}, \"colorscale\": {\"diverging\": [[0, \"#8e0152\"], [0.1, \"#c51b7d\"], [0.2, \"#de77ae\"], [0.3, \"#f1b6da\"], [0.4, \"#fde0ef\"], [0.5, \"#f7f7f7\"], [0.6, \"#e6f5d0\"], [0.7, \"#b8e186\"], [0.8, \"#7fbc41\"], [0.9, \"#4d9221\"], [1, \"#276419\"]], \"sequential\": [[0.0, \"#0d0887\"], [0.1111111111111111, \"#46039f\"], [0.2222222222222222, \"#7201a8\"], [0.3333333333333333, \"#9c179e\"], [0.4444444444444444, \"#bd3786\"], [0.5555555555555556, \"#d8576b\"], [0.6666666666666666, \"#ed7953\"], [0.7777777777777778, \"#fb9f3a\"], [0.8888888888888888, \"#fdca26\"], [1.0, \"#f0f921\"]], \"sequentialminus\": [[0.0, \"#0d0887\"], [0.1111111111111111, \"#46039f\"], [0.2222222222222222, \"#7201a8\"], [0.3333333333333333, \"#9c179e\"], [0.4444444444444444, \"#bd3786\"], [0.5555555555555556, \"#d8576b\"], [0.6666666666666666, \"#ed7953\"], [0.7777777777777778, \"#fb9f3a\"], [0.8888888888888888, \"#fdca26\"], [1.0, \"#f0f921\"]]}, \"colorway\": [\"#636efa\", \"#EF553B\", \"#00cc96\", \"#ab63fa\", \"#FFA15A\", \"#19d3f3\", \"#FF6692\", \"#B6E880\", \"#FF97FF\", \"#FECB52\"], \"font\": {\"color\": \"#2a3f5f\"}, \"geo\": {\"bgcolor\": \"white\", \"lakecolor\": \"white\", \"landcolor\": \"#E5ECF6\", \"showlakes\": true, \"showland\": true, \"subunitcolor\": \"white\"}, \"hoverlabel\": {\"align\": \"left\"}, \"hovermode\": \"closest\", \"mapbox\": {\"style\": \"light\"}, \"paper_bgcolor\": \"white\", \"plot_bgcolor\": \"#E5ECF6\", \"polar\": {\"angularaxis\": {\"gridcolor\": \"white\", \"linecolor\": \"white\", \"ticks\": \"\"}, \"bgcolor\": \"#E5ECF6\", \"radialaxis\": {\"gridcolor\": \"white\", \"linecolor\": \"white\", \"ticks\": \"\"}}, \"scene\": {\"xaxis\": {\"backgroundcolor\": \"#E5ECF6\", \"gridcolor\": \"white\", \"gridwidth\": 2, \"linecolor\": \"white\", \"showbackground\": true, \"ticks\": \"\", \"zerolinecolor\": \"white\"}, \"yaxis\": {\"backgroundcolor\": \"#E5ECF6\", \"gridcolor\": \"white\", \"gridwidth\": 2, \"linecolor\": \"white\", \"showbackground\": true, \"ticks\": \"\", \"zerolinecolor\": \"white\"}, \"zaxis\": {\"backgroundcolor\": \"#E5ECF6\", \"gridcolor\": \"white\", \"gridwidth\": 2, \"linecolor\": \"white\", \"showbackground\": true, \"ticks\": \"\", \"zerolinecolor\": \"white\"}}, \"shapedefaults\": {\"line\": {\"color\": \"#2a3f5f\"}}, \"ternary\": {\"aaxis\": {\"gridcolor\": \"white\", \"linecolor\": \"white\", \"ticks\": \"\"}, \"baxis\": {\"gridcolor\": \"white\", \"linecolor\": \"white\", \"ticks\": \"\"}, \"bgcolor\": \"#E5ECF6\", \"caxis\": {\"gridcolor\": \"white\", \"linecolor\": \"white\", \"ticks\": \"\"}}, \"title\": {\"x\": 0.05}, \"xaxis\": {\"automargin\": true, \"gridcolor\": \"white\", \"linecolor\": \"white\", \"ticks\": \"\", \"title\": {\"standoff\": 15}, \"zerolinecolor\": \"white\", \"zerolinewidth\": 2}, \"yaxis\": {\"automargin\": true, \"gridcolor\": \"white\", \"linecolor\": \"white\", \"ticks\": \"\", \"title\": {\"standoff\": 15}, \"zerolinecolor\": \"white\", \"zerolinewidth\": 2}}}, \"title\": {\"font\": {\"color\": \"#4D5663\"}}, \"xaxis\": {\"gridcolor\": \"#E1E5ED\", \"showgrid\": true, \"tickfont\": {\"color\": \"#4D5663\"}, \"title\": {\"font\": {\"color\": \"#4D5663\"}, \"text\": \"\"}, \"zerolinecolor\": \"#E1E5ED\"}, \"yaxis\": {\"gridcolor\": \"#E1E5ED\", \"showgrid\": true, \"tickfont\": {\"color\": \"#4D5663\"}, \"title\": {\"font\": {\"color\": \"#4D5663\"}, \"text\": \"\"}, \"zerolinecolor\": \"#E1E5ED\"}},\n",
       "                        {\"showLink\": true, \"linkText\": \"Export to plot.ly\", \"plotlyServerURL\": \"https://plot.ly\", \"responsive\": true}\n",
       "                    ).then(function(){\n",
       "                            \n",
       "var gd = document.getElementById('27854c7a-e104-4392-a7bc-62e10d4dc257');\n",
       "var x = new MutationObserver(function (mutations, observer) {{\n",
       "        var display = window.getComputedStyle(gd).display;\n",
       "        if (!display || display === 'none') {{\n",
       "            console.log([gd, 'removed!']);\n",
       "            Plotly.purge(gd);\n",
       "            observer.disconnect();\n",
       "        }}\n",
       "}});\n",
       "\n",
       "// Listen for the removal of the full notebook cells\n",
       "var notebookContainer = gd.closest('#notebook-container');\n",
       "if (notebookContainer) {{\n",
       "    x.observe(notebookContainer, {childList: true});\n",
       "}}\n",
       "\n",
       "// Listen for the clearing of the current output cell\n",
       "var outputEl = gd.closest('.output');\n",
       "if (outputEl) {{\n",
       "    x.observe(outputEl, {childList: true});\n",
       "}}\n",
       "\n",
       "                        })\n",
       "                };\n",
       "                });\n",
       "            </script>\n",
       "        </div>"
      ]
     },
     "metadata": {},
     "output_type": "display_data"
    }
   ],
   "source": [
    "df.iplot(kind='box')"
   ]
  },
  {
   "cell_type": "markdown",
   "metadata": {},
   "source": [
    "## 3d Surface"
   ]
  },
  {
   "cell_type": "code",
   "execution_count": 15,
   "metadata": {},
   "outputs": [
    {
     "data": {
      "application/vnd.plotly.v1+json": {
       "config": {
        "linkText": "Export to plot.ly",
        "plotlyServerURL": "https://plot.ly",
        "showLink": true
       },
       "data": [
        {
         "colorscale": [
          [
           0,
           "rgb(165,0,38)"
          ],
          [
           0.1,
           "rgb(215,48,39)"
          ],
          [
           0.2,
           "rgb(244,109,67)"
          ],
          [
           0.3,
           "rgb(253,174,97)"
          ],
          [
           0.4,
           "rgb(254,224,144)"
          ],
          [
           0.5,
           "rgb(255,255,191)"
          ],
          [
           0.6,
           "rgb(224,243,248)"
          ],
          [
           0.7,
           "rgb(171,217,233)"
          ],
          [
           0.8,
           "rgb(116,173,209)"
          ],
          [
           0.9,
           "rgb(69,117,180)"
          ],
          [
           1,
           "rgb(49,54,149)"
          ]
         ],
         "type": "surface",
         "x": [
          0,
          1,
          2,
          3,
          4
         ],
         "y": [
          "x",
          "y",
          "z"
         ],
         "z": [
          [
           1,
           2,
           3,
           4,
           5
          ],
          [
           10,
           20,
           30,
           20,
           10
          ],
          [
           5,
           4,
           3,
           2,
           1
          ]
         ]
        }
       ],
       "layout": {
        "legend": {
         "bgcolor": "#F5F6F9",
         "font": {
          "color": "#4D5663"
         }
        },
        "paper_bgcolor": "#F5F6F9",
        "plot_bgcolor": "#F5F6F9",
        "template": {
         "data": {
          "bar": [
           {
            "error_x": {
             "color": "#2a3f5f"
            },
            "error_y": {
             "color": "#2a3f5f"
            },
            "marker": {
             "line": {
              "color": "#E5ECF6",
              "width": 0.5
             }
            },
            "type": "bar"
           }
          ],
          "barpolar": [
           {
            "marker": {
             "line": {
              "color": "#E5ECF6",
              "width": 0.5
             }
            },
            "type": "barpolar"
           }
          ],
          "carpet": [
           {
            "aaxis": {
             "endlinecolor": "#2a3f5f",
             "gridcolor": "white",
             "linecolor": "white",
             "minorgridcolor": "white",
             "startlinecolor": "#2a3f5f"
            },
            "baxis": {
             "endlinecolor": "#2a3f5f",
             "gridcolor": "white",
             "linecolor": "white",
             "minorgridcolor": "white",
             "startlinecolor": "#2a3f5f"
            },
            "type": "carpet"
           }
          ],
          "choropleth": [
           {
            "colorbar": {
             "outlinewidth": 0,
             "ticks": ""
            },
            "type": "choropleth"
           }
          ],
          "contour": [
           {
            "colorbar": {
             "outlinewidth": 0,
             "ticks": ""
            },
            "colorscale": [
             [
              0,
              "#0d0887"
             ],
             [
              0.1111111111111111,
              "#46039f"
             ],
             [
              0.2222222222222222,
              "#7201a8"
             ],
             [
              0.3333333333333333,
              "#9c179e"
             ],
             [
              0.4444444444444444,
              "#bd3786"
             ],
             [
              0.5555555555555556,
              "#d8576b"
             ],
             [
              0.6666666666666666,
              "#ed7953"
             ],
             [
              0.7777777777777778,
              "#fb9f3a"
             ],
             [
              0.8888888888888888,
              "#fdca26"
             ],
             [
              1,
              "#f0f921"
             ]
            ],
            "type": "contour"
           }
          ],
          "contourcarpet": [
           {
            "colorbar": {
             "outlinewidth": 0,
             "ticks": ""
            },
            "type": "contourcarpet"
           }
          ],
          "heatmap": [
           {
            "colorbar": {
             "outlinewidth": 0,
             "ticks": ""
            },
            "colorscale": [
             [
              0,
              "#0d0887"
             ],
             [
              0.1111111111111111,
              "#46039f"
             ],
             [
              0.2222222222222222,
              "#7201a8"
             ],
             [
              0.3333333333333333,
              "#9c179e"
             ],
             [
              0.4444444444444444,
              "#bd3786"
             ],
             [
              0.5555555555555556,
              "#d8576b"
             ],
             [
              0.6666666666666666,
              "#ed7953"
             ],
             [
              0.7777777777777778,
              "#fb9f3a"
             ],
             [
              0.8888888888888888,
              "#fdca26"
             ],
             [
              1,
              "#f0f921"
             ]
            ],
            "type": "heatmap"
           }
          ],
          "heatmapgl": [
           {
            "colorbar": {
             "outlinewidth": 0,
             "ticks": ""
            },
            "colorscale": [
             [
              0,
              "#0d0887"
             ],
             [
              0.1111111111111111,
              "#46039f"
             ],
             [
              0.2222222222222222,
              "#7201a8"
             ],
             [
              0.3333333333333333,
              "#9c179e"
             ],
             [
              0.4444444444444444,
              "#bd3786"
             ],
             [
              0.5555555555555556,
              "#d8576b"
             ],
             [
              0.6666666666666666,
              "#ed7953"
             ],
             [
              0.7777777777777778,
              "#fb9f3a"
             ],
             [
              0.8888888888888888,
              "#fdca26"
             ],
             [
              1,
              "#f0f921"
             ]
            ],
            "type": "heatmapgl"
           }
          ],
          "histogram": [
           {
            "marker": {
             "colorbar": {
              "outlinewidth": 0,
              "ticks": ""
             }
            },
            "type": "histogram"
           }
          ],
          "histogram2d": [
           {
            "colorbar": {
             "outlinewidth": 0,
             "ticks": ""
            },
            "colorscale": [
             [
              0,
              "#0d0887"
             ],
             [
              0.1111111111111111,
              "#46039f"
             ],
             [
              0.2222222222222222,
              "#7201a8"
             ],
             [
              0.3333333333333333,
              "#9c179e"
             ],
             [
              0.4444444444444444,
              "#bd3786"
             ],
             [
              0.5555555555555556,
              "#d8576b"
             ],
             [
              0.6666666666666666,
              "#ed7953"
             ],
             [
              0.7777777777777778,
              "#fb9f3a"
             ],
             [
              0.8888888888888888,
              "#fdca26"
             ],
             [
              1,
              "#f0f921"
             ]
            ],
            "type": "histogram2d"
           }
          ],
          "histogram2dcontour": [
           {
            "colorbar": {
             "outlinewidth": 0,
             "ticks": ""
            },
            "colorscale": [
             [
              0,
              "#0d0887"
             ],
             [
              0.1111111111111111,
              "#46039f"
             ],
             [
              0.2222222222222222,
              "#7201a8"
             ],
             [
              0.3333333333333333,
              "#9c179e"
             ],
             [
              0.4444444444444444,
              "#bd3786"
             ],
             [
              0.5555555555555556,
              "#d8576b"
             ],
             [
              0.6666666666666666,
              "#ed7953"
             ],
             [
              0.7777777777777778,
              "#fb9f3a"
             ],
             [
              0.8888888888888888,
              "#fdca26"
             ],
             [
              1,
              "#f0f921"
             ]
            ],
            "type": "histogram2dcontour"
           }
          ],
          "mesh3d": [
           {
            "colorbar": {
             "outlinewidth": 0,
             "ticks": ""
            },
            "type": "mesh3d"
           }
          ],
          "parcoords": [
           {
            "line": {
             "colorbar": {
              "outlinewidth": 0,
              "ticks": ""
             }
            },
            "type": "parcoords"
           }
          ],
          "pie": [
           {
            "automargin": true,
            "type": "pie"
           }
          ],
          "scatter": [
           {
            "marker": {
             "colorbar": {
              "outlinewidth": 0,
              "ticks": ""
             }
            },
            "type": "scatter"
           }
          ],
          "scatter3d": [
           {
            "line": {
             "colorbar": {
              "outlinewidth": 0,
              "ticks": ""
             }
            },
            "marker": {
             "colorbar": {
              "outlinewidth": 0,
              "ticks": ""
             }
            },
            "type": "scatter3d"
           }
          ],
          "scattercarpet": [
           {
            "marker": {
             "colorbar": {
              "outlinewidth": 0,
              "ticks": ""
             }
            },
            "type": "scattercarpet"
           }
          ],
          "scattergeo": [
           {
            "marker": {
             "colorbar": {
              "outlinewidth": 0,
              "ticks": ""
             }
            },
            "type": "scattergeo"
           }
          ],
          "scattergl": [
           {
            "marker": {
             "colorbar": {
              "outlinewidth": 0,
              "ticks": ""
             }
            },
            "type": "scattergl"
           }
          ],
          "scattermapbox": [
           {
            "marker": {
             "colorbar": {
              "outlinewidth": 0,
              "ticks": ""
             }
            },
            "type": "scattermapbox"
           }
          ],
          "scatterpolar": [
           {
            "marker": {
             "colorbar": {
              "outlinewidth": 0,
              "ticks": ""
             }
            },
            "type": "scatterpolar"
           }
          ],
          "scatterpolargl": [
           {
            "marker": {
             "colorbar": {
              "outlinewidth": 0,
              "ticks": ""
             }
            },
            "type": "scatterpolargl"
           }
          ],
          "scatterternary": [
           {
            "marker": {
             "colorbar": {
              "outlinewidth": 0,
              "ticks": ""
             }
            },
            "type": "scatterternary"
           }
          ],
          "surface": [
           {
            "colorbar": {
             "outlinewidth": 0,
             "ticks": ""
            },
            "colorscale": [
             [
              0,
              "#0d0887"
             ],
             [
              0.1111111111111111,
              "#46039f"
             ],
             [
              0.2222222222222222,
              "#7201a8"
             ],
             [
              0.3333333333333333,
              "#9c179e"
             ],
             [
              0.4444444444444444,
              "#bd3786"
             ],
             [
              0.5555555555555556,
              "#d8576b"
             ],
             [
              0.6666666666666666,
              "#ed7953"
             ],
             [
              0.7777777777777778,
              "#fb9f3a"
             ],
             [
              0.8888888888888888,
              "#fdca26"
             ],
             [
              1,
              "#f0f921"
             ]
            ],
            "type": "surface"
           }
          ],
          "table": [
           {
            "cells": {
             "fill": {
              "color": "#EBF0F8"
             },
             "line": {
              "color": "white"
             }
            },
            "header": {
             "fill": {
              "color": "#C8D4E3"
             },
             "line": {
              "color": "white"
             }
            },
            "type": "table"
           }
          ]
         },
         "layout": {
          "annotationdefaults": {
           "arrowcolor": "#2a3f5f",
           "arrowhead": 0,
           "arrowwidth": 1
          },
          "coloraxis": {
           "colorbar": {
            "outlinewidth": 0,
            "ticks": ""
           }
          },
          "colorscale": {
           "diverging": [
            [
             0,
             "#8e0152"
            ],
            [
             0.1,
             "#c51b7d"
            ],
            [
             0.2,
             "#de77ae"
            ],
            [
             0.3,
             "#f1b6da"
            ],
            [
             0.4,
             "#fde0ef"
            ],
            [
             0.5,
             "#f7f7f7"
            ],
            [
             0.6,
             "#e6f5d0"
            ],
            [
             0.7,
             "#b8e186"
            ],
            [
             0.8,
             "#7fbc41"
            ],
            [
             0.9,
             "#4d9221"
            ],
            [
             1,
             "#276419"
            ]
           ],
           "sequential": [
            [
             0,
             "#0d0887"
            ],
            [
             0.1111111111111111,
             "#46039f"
            ],
            [
             0.2222222222222222,
             "#7201a8"
            ],
            [
             0.3333333333333333,
             "#9c179e"
            ],
            [
             0.4444444444444444,
             "#bd3786"
            ],
            [
             0.5555555555555556,
             "#d8576b"
            ],
            [
             0.6666666666666666,
             "#ed7953"
            ],
            [
             0.7777777777777778,
             "#fb9f3a"
            ],
            [
             0.8888888888888888,
             "#fdca26"
            ],
            [
             1,
             "#f0f921"
            ]
           ],
           "sequentialminus": [
            [
             0,
             "#0d0887"
            ],
            [
             0.1111111111111111,
             "#46039f"
            ],
            [
             0.2222222222222222,
             "#7201a8"
            ],
            [
             0.3333333333333333,
             "#9c179e"
            ],
            [
             0.4444444444444444,
             "#bd3786"
            ],
            [
             0.5555555555555556,
             "#d8576b"
            ],
            [
             0.6666666666666666,
             "#ed7953"
            ],
            [
             0.7777777777777778,
             "#fb9f3a"
            ],
            [
             0.8888888888888888,
             "#fdca26"
            ],
            [
             1,
             "#f0f921"
            ]
           ]
          },
          "colorway": [
           "#636efa",
           "#EF553B",
           "#00cc96",
           "#ab63fa",
           "#FFA15A",
           "#19d3f3",
           "#FF6692",
           "#B6E880",
           "#FF97FF",
           "#FECB52"
          ],
          "font": {
           "color": "#2a3f5f"
          },
          "geo": {
           "bgcolor": "white",
           "lakecolor": "white",
           "landcolor": "#E5ECF6",
           "showlakes": true,
           "showland": true,
           "subunitcolor": "white"
          },
          "hoverlabel": {
           "align": "left"
          },
          "hovermode": "closest",
          "mapbox": {
           "style": "light"
          },
          "paper_bgcolor": "white",
          "plot_bgcolor": "#E5ECF6",
          "polar": {
           "angularaxis": {
            "gridcolor": "white",
            "linecolor": "white",
            "ticks": ""
           },
           "bgcolor": "#E5ECF6",
           "radialaxis": {
            "gridcolor": "white",
            "linecolor": "white",
            "ticks": ""
           }
          },
          "scene": {
           "xaxis": {
            "backgroundcolor": "#E5ECF6",
            "gridcolor": "white",
            "gridwidth": 2,
            "linecolor": "white",
            "showbackground": true,
            "ticks": "",
            "zerolinecolor": "white"
           },
           "yaxis": {
            "backgroundcolor": "#E5ECF6",
            "gridcolor": "white",
            "gridwidth": 2,
            "linecolor": "white",
            "showbackground": true,
            "ticks": "",
            "zerolinecolor": "white"
           },
           "zaxis": {
            "backgroundcolor": "#E5ECF6",
            "gridcolor": "white",
            "gridwidth": 2,
            "linecolor": "white",
            "showbackground": true,
            "ticks": "",
            "zerolinecolor": "white"
           }
          },
          "shapedefaults": {
           "line": {
            "color": "#2a3f5f"
           }
          },
          "ternary": {
           "aaxis": {
            "gridcolor": "white",
            "linecolor": "white",
            "ticks": ""
           },
           "baxis": {
            "gridcolor": "white",
            "linecolor": "white",
            "ticks": ""
           },
           "bgcolor": "#E5ECF6",
           "caxis": {
            "gridcolor": "white",
            "linecolor": "white",
            "ticks": ""
           }
          },
          "title": {
           "x": 0.05
          },
          "xaxis": {
           "automargin": true,
           "gridcolor": "white",
           "linecolor": "white",
           "ticks": "",
           "title": {
            "standoff": 15
           },
           "zerolinecolor": "white",
           "zerolinewidth": 2
          },
          "yaxis": {
           "automargin": true,
           "gridcolor": "white",
           "linecolor": "white",
           "ticks": "",
           "title": {
            "standoff": 15
           },
           "zerolinecolor": "white",
           "zerolinewidth": 2
          }
         }
        },
        "title": {
         "font": {
          "color": "#4D5663"
         }
        },
        "xaxis": {
         "gridcolor": "#E1E5ED",
         "showgrid": true,
         "tickfont": {
          "color": "#4D5663"
         },
         "title": {
          "font": {
           "color": "#4D5663"
          },
          "text": ""
         },
         "zerolinecolor": "#E1E5ED"
        },
        "yaxis": {
         "gridcolor": "#E1E5ED",
         "showgrid": true,
         "tickfont": {
          "color": "#4D5663"
         },
         "title": {
          "font": {
           "color": "#4D5663"
          },
          "text": ""
         },
         "zerolinecolor": "#E1E5ED"
        }
       }
      },
      "text/html": [
       "<div>\n",
       "        \n",
       "        \n",
       "            <div id=\"fd14108c-b489-4469-ab8b-4cbccd5911e3\" class=\"plotly-graph-div\" style=\"height:525px; width:100%;\"></div>\n",
       "            <script type=\"text/javascript\">\n",
       "                require([\"plotly\"], function(Plotly) {\n",
       "                    window.PLOTLYENV=window.PLOTLYENV || {};\n",
       "                    window.PLOTLYENV.BASE_URL='https://plot.ly';\n",
       "                    \n",
       "                if (document.getElementById(\"fd14108c-b489-4469-ab8b-4cbccd5911e3\")) {\n",
       "                    Plotly.newPlot(\n",
       "                        'fd14108c-b489-4469-ab8b-4cbccd5911e3',\n",
       "                        [{\"colorscale\": [[0.0, \"rgb(165,0,38)\"], [0.1, \"rgb(215,48,39)\"], [0.2, \"rgb(244,109,67)\"], [0.3, \"rgb(253,174,97)\"], [0.4, \"rgb(254,224,144)\"], [0.5, \"rgb(255,255,191)\"], [0.6, \"rgb(224,243,248)\"], [0.7, \"rgb(171,217,233)\"], [0.8, \"rgb(116,173,209)\"], [0.9, \"rgb(69,117,180)\"], [1.0, \"rgb(49,54,149)\"]], \"type\": \"surface\", \"x\": [0, 1, 2, 3, 4], \"y\": [\"x\", \"y\", \"z\"], \"z\": [[1, 2, 3, 4, 5], [10, 20, 30, 20, 10], [5, 4, 3, 2, 1]]}],\n",
       "                        {\"legend\": {\"bgcolor\": \"#F5F6F9\", \"font\": {\"color\": \"#4D5663\"}}, \"paper_bgcolor\": \"#F5F6F9\", \"plot_bgcolor\": \"#F5F6F9\", \"template\": {\"data\": {\"bar\": [{\"error_x\": {\"color\": \"#2a3f5f\"}, \"error_y\": {\"color\": \"#2a3f5f\"}, \"marker\": {\"line\": {\"color\": \"#E5ECF6\", \"width\": 0.5}}, \"type\": \"bar\"}], \"barpolar\": [{\"marker\": {\"line\": {\"color\": \"#E5ECF6\", \"width\": 0.5}}, \"type\": \"barpolar\"}], \"carpet\": [{\"aaxis\": {\"endlinecolor\": \"#2a3f5f\", \"gridcolor\": \"white\", \"linecolor\": \"white\", \"minorgridcolor\": \"white\", \"startlinecolor\": \"#2a3f5f\"}, \"baxis\": {\"endlinecolor\": \"#2a3f5f\", \"gridcolor\": \"white\", \"linecolor\": \"white\", \"minorgridcolor\": \"white\", \"startlinecolor\": \"#2a3f5f\"}, \"type\": \"carpet\"}], \"choropleth\": [{\"colorbar\": {\"outlinewidth\": 0, \"ticks\": \"\"}, \"type\": \"choropleth\"}], \"contour\": [{\"colorbar\": {\"outlinewidth\": 0, \"ticks\": \"\"}, \"colorscale\": [[0.0, \"#0d0887\"], [0.1111111111111111, \"#46039f\"], [0.2222222222222222, \"#7201a8\"], [0.3333333333333333, \"#9c179e\"], [0.4444444444444444, \"#bd3786\"], [0.5555555555555556, \"#d8576b\"], [0.6666666666666666, \"#ed7953\"], [0.7777777777777778, \"#fb9f3a\"], [0.8888888888888888, \"#fdca26\"], [1.0, \"#f0f921\"]], \"type\": \"contour\"}], \"contourcarpet\": [{\"colorbar\": {\"outlinewidth\": 0, \"ticks\": \"\"}, \"type\": \"contourcarpet\"}], \"heatmap\": [{\"colorbar\": {\"outlinewidth\": 0, \"ticks\": \"\"}, \"colorscale\": [[0.0, \"#0d0887\"], [0.1111111111111111, \"#46039f\"], [0.2222222222222222, \"#7201a8\"], [0.3333333333333333, \"#9c179e\"], [0.4444444444444444, \"#bd3786\"], [0.5555555555555556, \"#d8576b\"], [0.6666666666666666, \"#ed7953\"], [0.7777777777777778, \"#fb9f3a\"], [0.8888888888888888, \"#fdca26\"], [1.0, \"#f0f921\"]], \"type\": \"heatmap\"}], \"heatmapgl\": [{\"colorbar\": {\"outlinewidth\": 0, \"ticks\": \"\"}, \"colorscale\": [[0.0, \"#0d0887\"], [0.1111111111111111, \"#46039f\"], [0.2222222222222222, \"#7201a8\"], [0.3333333333333333, \"#9c179e\"], [0.4444444444444444, \"#bd3786\"], [0.5555555555555556, \"#d8576b\"], [0.6666666666666666, \"#ed7953\"], [0.7777777777777778, \"#fb9f3a\"], [0.8888888888888888, \"#fdca26\"], [1.0, \"#f0f921\"]], \"type\": \"heatmapgl\"}], \"histogram\": [{\"marker\": {\"colorbar\": {\"outlinewidth\": 0, \"ticks\": \"\"}}, \"type\": \"histogram\"}], \"histogram2d\": [{\"colorbar\": {\"outlinewidth\": 0, \"ticks\": \"\"}, \"colorscale\": [[0.0, \"#0d0887\"], [0.1111111111111111, \"#46039f\"], [0.2222222222222222, \"#7201a8\"], [0.3333333333333333, \"#9c179e\"], [0.4444444444444444, \"#bd3786\"], [0.5555555555555556, \"#d8576b\"], [0.6666666666666666, \"#ed7953\"], [0.7777777777777778, \"#fb9f3a\"], [0.8888888888888888, \"#fdca26\"], [1.0, \"#f0f921\"]], \"type\": \"histogram2d\"}], \"histogram2dcontour\": [{\"colorbar\": {\"outlinewidth\": 0, \"ticks\": \"\"}, \"colorscale\": [[0.0, \"#0d0887\"], [0.1111111111111111, \"#46039f\"], [0.2222222222222222, \"#7201a8\"], [0.3333333333333333, \"#9c179e\"], [0.4444444444444444, \"#bd3786\"], [0.5555555555555556, \"#d8576b\"], [0.6666666666666666, \"#ed7953\"], [0.7777777777777778, \"#fb9f3a\"], [0.8888888888888888, \"#fdca26\"], [1.0, \"#f0f921\"]], \"type\": \"histogram2dcontour\"}], \"mesh3d\": [{\"colorbar\": {\"outlinewidth\": 0, \"ticks\": \"\"}, \"type\": \"mesh3d\"}], \"parcoords\": [{\"line\": {\"colorbar\": {\"outlinewidth\": 0, \"ticks\": \"\"}}, \"type\": \"parcoords\"}], \"pie\": [{\"automargin\": true, \"type\": \"pie\"}], \"scatter\": [{\"marker\": {\"colorbar\": {\"outlinewidth\": 0, \"ticks\": \"\"}}, \"type\": \"scatter\"}], \"scatter3d\": [{\"line\": {\"colorbar\": {\"outlinewidth\": 0, \"ticks\": \"\"}}, \"marker\": {\"colorbar\": {\"outlinewidth\": 0, \"ticks\": \"\"}}, \"type\": \"scatter3d\"}], \"scattercarpet\": [{\"marker\": {\"colorbar\": {\"outlinewidth\": 0, \"ticks\": \"\"}}, \"type\": \"scattercarpet\"}], \"scattergeo\": [{\"marker\": {\"colorbar\": {\"outlinewidth\": 0, \"ticks\": \"\"}}, \"type\": \"scattergeo\"}], \"scattergl\": [{\"marker\": {\"colorbar\": {\"outlinewidth\": 0, \"ticks\": \"\"}}, \"type\": \"scattergl\"}], \"scattermapbox\": [{\"marker\": {\"colorbar\": {\"outlinewidth\": 0, \"ticks\": \"\"}}, \"type\": \"scattermapbox\"}], \"scatterpolar\": [{\"marker\": {\"colorbar\": {\"outlinewidth\": 0, \"ticks\": \"\"}}, \"type\": \"scatterpolar\"}], \"scatterpolargl\": [{\"marker\": {\"colorbar\": {\"outlinewidth\": 0, \"ticks\": \"\"}}, \"type\": \"scatterpolargl\"}], \"scatterternary\": [{\"marker\": {\"colorbar\": {\"outlinewidth\": 0, \"ticks\": \"\"}}, \"type\": \"scatterternary\"}], \"surface\": [{\"colorbar\": {\"outlinewidth\": 0, \"ticks\": \"\"}, \"colorscale\": [[0.0, \"#0d0887\"], [0.1111111111111111, \"#46039f\"], [0.2222222222222222, \"#7201a8\"], [0.3333333333333333, \"#9c179e\"], [0.4444444444444444, \"#bd3786\"], [0.5555555555555556, \"#d8576b\"], [0.6666666666666666, \"#ed7953\"], [0.7777777777777778, \"#fb9f3a\"], [0.8888888888888888, \"#fdca26\"], [1.0, \"#f0f921\"]], \"type\": \"surface\"}], \"table\": [{\"cells\": {\"fill\": {\"color\": \"#EBF0F8\"}, \"line\": {\"color\": \"white\"}}, \"header\": {\"fill\": {\"color\": \"#C8D4E3\"}, \"line\": {\"color\": \"white\"}}, \"type\": \"table\"}]}, \"layout\": {\"annotationdefaults\": {\"arrowcolor\": \"#2a3f5f\", \"arrowhead\": 0, \"arrowwidth\": 1}, \"coloraxis\": {\"colorbar\": {\"outlinewidth\": 0, \"ticks\": \"\"}}, \"colorscale\": {\"diverging\": [[0, \"#8e0152\"], [0.1, \"#c51b7d\"], [0.2, \"#de77ae\"], [0.3, \"#f1b6da\"], [0.4, \"#fde0ef\"], [0.5, \"#f7f7f7\"], [0.6, \"#e6f5d0\"], [0.7, \"#b8e186\"], [0.8, \"#7fbc41\"], [0.9, \"#4d9221\"], [1, \"#276419\"]], \"sequential\": [[0.0, \"#0d0887\"], [0.1111111111111111, \"#46039f\"], [0.2222222222222222, \"#7201a8\"], [0.3333333333333333, \"#9c179e\"], [0.4444444444444444, \"#bd3786\"], [0.5555555555555556, \"#d8576b\"], [0.6666666666666666, \"#ed7953\"], [0.7777777777777778, \"#fb9f3a\"], [0.8888888888888888, \"#fdca26\"], [1.0, \"#f0f921\"]], \"sequentialminus\": [[0.0, \"#0d0887\"], [0.1111111111111111, \"#46039f\"], [0.2222222222222222, \"#7201a8\"], [0.3333333333333333, \"#9c179e\"], [0.4444444444444444, \"#bd3786\"], [0.5555555555555556, \"#d8576b\"], [0.6666666666666666, \"#ed7953\"], [0.7777777777777778, \"#fb9f3a\"], [0.8888888888888888, \"#fdca26\"], [1.0, \"#f0f921\"]]}, \"colorway\": [\"#636efa\", \"#EF553B\", \"#00cc96\", \"#ab63fa\", \"#FFA15A\", \"#19d3f3\", \"#FF6692\", \"#B6E880\", \"#FF97FF\", \"#FECB52\"], \"font\": {\"color\": \"#2a3f5f\"}, \"geo\": {\"bgcolor\": \"white\", \"lakecolor\": \"white\", \"landcolor\": \"#E5ECF6\", \"showlakes\": true, \"showland\": true, \"subunitcolor\": \"white\"}, \"hoverlabel\": {\"align\": \"left\"}, \"hovermode\": \"closest\", \"mapbox\": {\"style\": \"light\"}, \"paper_bgcolor\": \"white\", \"plot_bgcolor\": \"#E5ECF6\", \"polar\": {\"angularaxis\": {\"gridcolor\": \"white\", \"linecolor\": \"white\", \"ticks\": \"\"}, \"bgcolor\": \"#E5ECF6\", \"radialaxis\": {\"gridcolor\": \"white\", \"linecolor\": \"white\", \"ticks\": \"\"}}, \"scene\": {\"xaxis\": {\"backgroundcolor\": \"#E5ECF6\", \"gridcolor\": \"white\", \"gridwidth\": 2, \"linecolor\": \"white\", \"showbackground\": true, \"ticks\": \"\", \"zerolinecolor\": \"white\"}, \"yaxis\": {\"backgroundcolor\": \"#E5ECF6\", \"gridcolor\": \"white\", \"gridwidth\": 2, \"linecolor\": \"white\", \"showbackground\": true, \"ticks\": \"\", \"zerolinecolor\": \"white\"}, \"zaxis\": {\"backgroundcolor\": \"#E5ECF6\", \"gridcolor\": \"white\", \"gridwidth\": 2, \"linecolor\": \"white\", \"showbackground\": true, \"ticks\": \"\", \"zerolinecolor\": \"white\"}}, \"shapedefaults\": {\"line\": {\"color\": \"#2a3f5f\"}}, \"ternary\": {\"aaxis\": {\"gridcolor\": \"white\", \"linecolor\": \"white\", \"ticks\": \"\"}, \"baxis\": {\"gridcolor\": \"white\", \"linecolor\": \"white\", \"ticks\": \"\"}, \"bgcolor\": \"#E5ECF6\", \"caxis\": {\"gridcolor\": \"white\", \"linecolor\": \"white\", \"ticks\": \"\"}}, \"title\": {\"x\": 0.05}, \"xaxis\": {\"automargin\": true, \"gridcolor\": \"white\", \"linecolor\": \"white\", \"ticks\": \"\", \"title\": {\"standoff\": 15}, \"zerolinecolor\": \"white\", \"zerolinewidth\": 2}, \"yaxis\": {\"automargin\": true, \"gridcolor\": \"white\", \"linecolor\": \"white\", \"ticks\": \"\", \"title\": {\"standoff\": 15}, \"zerolinecolor\": \"white\", \"zerolinewidth\": 2}}}, \"title\": {\"font\": {\"color\": \"#4D5663\"}}, \"xaxis\": {\"gridcolor\": \"#E1E5ED\", \"showgrid\": true, \"tickfont\": {\"color\": \"#4D5663\"}, \"title\": {\"font\": {\"color\": \"#4D5663\"}, \"text\": \"\"}, \"zerolinecolor\": \"#E1E5ED\"}, \"yaxis\": {\"gridcolor\": \"#E1E5ED\", \"showgrid\": true, \"tickfont\": {\"color\": \"#4D5663\"}, \"title\": {\"font\": {\"color\": \"#4D5663\"}, \"text\": \"\"}, \"zerolinecolor\": \"#E1E5ED\"}},\n",
       "                        {\"showLink\": true, \"linkText\": \"Export to plot.ly\", \"plotlyServerURL\": \"https://plot.ly\", \"responsive\": true}\n",
       "                    ).then(function(){\n",
       "                            \n",
       "var gd = document.getElementById('fd14108c-b489-4469-ab8b-4cbccd5911e3');\n",
       "var x = new MutationObserver(function (mutations, observer) {{\n",
       "        var display = window.getComputedStyle(gd).display;\n",
       "        if (!display || display === 'none') {{\n",
       "            console.log([gd, 'removed!']);\n",
       "            Plotly.purge(gd);\n",
       "            observer.disconnect();\n",
       "        }}\n",
       "}});\n",
       "\n",
       "// Listen for the removal of the full notebook cells\n",
       "var notebookContainer = gd.closest('#notebook-container');\n",
       "if (notebookContainer) {{\n",
       "    x.observe(notebookContainer, {childList: true});\n",
       "}}\n",
       "\n",
       "// Listen for the clearing of the current output cell\n",
       "var outputEl = gd.closest('.output');\n",
       "if (outputEl) {{\n",
       "    x.observe(outputEl, {childList: true});\n",
       "}}\n",
       "\n",
       "                        })\n",
       "                };\n",
       "                });\n",
       "            </script>\n",
       "        </div>"
      ]
     },
     "metadata": {},
     "output_type": "display_data"
    }
   ],
   "source": [
    "df3 = pd.DataFrame({'x':[1,2,3,4,5],'y':[10,20,30,20,10],'z':[5,4,3,2,1]})\n",
    "df3.iplot(kind='surface',colorscale='rdylbu')"
   ]
  },
  {
   "cell_type": "markdown",
   "metadata": {},
   "source": [
    "## Spread"
   ]
  },
  {
   "cell_type": "code",
   "execution_count": 16,
   "metadata": {},
   "outputs": [
    {
     "name": "stderr",
     "output_type": "stream",
     "text": [
      "C:\\Users\\admin\\Anaconda3\\envs\\training\\lib\\site-packages\\cufflinks\\plotlytools.py:849: FutureWarning:\n",
      "\n",
      "The pandas.np module is deprecated and will be removed from pandas in a future version. Import numpy directly instead\n",
      "\n",
      "C:\\Users\\admin\\Anaconda3\\envs\\training\\lib\\site-packages\\cufflinks\\plotlytools.py:850: FutureWarning:\n",
      "\n",
      "The pandas.np module is deprecated and will be removed from pandas in a future version. Import numpy directly instead\n",
      "\n"
     ]
    },
    {
     "data": {
      "application/vnd.plotly.v1+json": {
       "config": {
        "linkText": "Export to plot.ly",
        "plotlyServerURL": "https://plot.ly",
        "showLink": true
       },
       "data": [
        {
         "line": {
          "color": "rgba(255, 153, 51, 1.0)",
          "dash": "solid",
          "shape": "linear",
          "width": 1.3
         },
         "mode": "lines",
         "name": "A",
         "text": "",
         "type": "scatter",
         "x": [
          0,
          1,
          2,
          3,
          4,
          5,
          6,
          7,
          8,
          9,
          10,
          11,
          12,
          13,
          14,
          15,
          16,
          17,
          18,
          19,
          20,
          21,
          22,
          23,
          24,
          25,
          26,
          27,
          28,
          29,
          30,
          31,
          32,
          33,
          34,
          35,
          36,
          37,
          38,
          39,
          40,
          41,
          42,
          43,
          44,
          45,
          46,
          47,
          48,
          49,
          50,
          51,
          52,
          53,
          54,
          55,
          56,
          57,
          58,
          59,
          60,
          61,
          62,
          63,
          64,
          65,
          66,
          67,
          68,
          69,
          70,
          71,
          72,
          73,
          74,
          75,
          76,
          77,
          78,
          79,
          80,
          81,
          82,
          83,
          84,
          85,
          86,
          87,
          88,
          89,
          90,
          91,
          92,
          93,
          94,
          95,
          96,
          97,
          98,
          99
         ],
         "y": [
          0.5607480575046337,
          -0.3708633475833689,
          0.4230264901718323,
          -0.9549106351528698,
          -0.20741263670876842,
          -1.024518844287343,
          -1.0367249687928646,
          2.0584447684824885,
          -1.4187588960747235,
          -0.046585194692532424,
          0.36787548846534923,
          -2.044211812156692,
          -2.550339562813716,
          0.40015190479056917,
          0.5681708126504649,
          0.7940914617616944,
          -1.068967565955156,
          0.07867740459071079,
          0.4235998492954107,
          0.39095912999154775,
          1.327686045467365,
          -1.754462647693073,
          -0.578173012072137,
          -1.0779798184582985,
          -1.891079726438191,
          0.4659456386036681,
          -0.21802135906844125,
          0.19367326395113266,
          -1.9603362574570133,
          0.14932514499258526,
          -0.9529428773655932,
          0.7856639631456367,
          0.4156555358714044,
          0.7153211913364734,
          -1.3322882860784802,
          0.4139571120324161,
          0.3967036149503087,
          0.4803572763821211,
          -0.15324245046653046,
          -0.3119030508533104,
          0.9967146023695868,
          -0.47050022120553125,
          -0.4892774201067624,
          -1.85008249779815,
          -1.7845525458308382,
          0.1353531820802186,
          0.8699058267717776,
          -0.595527228953319,
          -0.49038254076086707,
          0.14079245442134247,
          -1.6579724363407244,
          2.418537608960433,
          0.27571151766342716,
          -1.2092357839728465,
          0.37547517010499964,
          -1.0630914256315618,
          -0.21351316426565678,
          -0.27672782264169615,
          1.1129222293747094,
          -0.28712792311619945,
          0.7129540586172829,
          -1.566751562768234,
          0.9296950897556568,
          -0.9935280386456603,
          -1.1710637069029972,
          1.0331173300172627,
          -0.7779591509796198,
          0.21686394225833813,
          0.9654083038662515,
          0.03337425399400426,
          0.2108971788093691,
          -2.3580895215396565,
          0.896589310994641,
          0.674101904339704,
          -0.38463931465655277,
          -0.23191184444903365,
          -0.8086330854286654,
          -1.445946605784175,
          -1.9764770166489303,
          -0.37283081828887904,
          0.8367782985876825,
          -0.30237097827066195,
          0.380435715262536,
          0.031050281970491544,
          -1.0946115915704187,
          2.2558393050008103,
          -0.12197341968923685,
          0.1407793346328531,
          -0.7188373798798,
          0.8657765896581454,
          -0.13382126496639835,
          0.970122231997722,
          -0.029542020767768597,
          -0.8690891890937565,
          -1.0338929783040642,
          -0.6267558462723102,
          -1.4157502451975266,
          -0.5785252269504768,
          0.23779112418985437,
          -0.158700233859291
         ]
        },
        {
         "line": {
          "color": "rgba(55, 128, 191, 1.0)",
          "dash": "solid",
          "shape": "linear",
          "width": 1.3
         },
         "mode": "lines",
         "name": "B",
         "text": "",
         "type": "scatter",
         "x": [
          0,
          1,
          2,
          3,
          4,
          5,
          6,
          7,
          8,
          9,
          10,
          11,
          12,
          13,
          14,
          15,
          16,
          17,
          18,
          19,
          20,
          21,
          22,
          23,
          24,
          25,
          26,
          27,
          28,
          29,
          30,
          31,
          32,
          33,
          34,
          35,
          36,
          37,
          38,
          39,
          40,
          41,
          42,
          43,
          44,
          45,
          46,
          47,
          48,
          49,
          50,
          51,
          52,
          53,
          54,
          55,
          56,
          57,
          58,
          59,
          60,
          61,
          62,
          63,
          64,
          65,
          66,
          67,
          68,
          69,
          70,
          71,
          72,
          73,
          74,
          75,
          76,
          77,
          78,
          79,
          80,
          81,
          82,
          83,
          84,
          85,
          86,
          87,
          88,
          89,
          90,
          91,
          92,
          93,
          94,
          95,
          96,
          97,
          98,
          99
         ],
         "y": [
          0.08628323394041917,
          0.1996020788959708,
          0.20815944961259064,
          2.131671412751742,
          -0.6230820414858802,
          -0.20059453914798314,
          0.30850312105249406,
          1.7452481067756915,
          0.7328641159155839,
          2.1251837923160504,
          0.47887481994342734,
          -0.1825069749191838,
          2.138799212851821,
          1.0451685881907276,
          0.7434135269810468,
          0.3442098404393374,
          -0.6667688075567253,
          0.06371752400275227,
          0.0027046037096464712,
          0.08321386399124807,
          0.22243369389629775,
          0.4755975179492282,
          -0.8979402876528175,
          -1.85402118299806,
          -0.9247498611392219,
          -0.8602848187962258,
          0.04358900306148492,
          -0.5676161630929298,
          -0.07734514221487851,
          0.18994788348417663,
          -0.7365699535202821,
          0.32817276921175176,
          0.5845710556239431,
          0.5504481459044616,
          -0.7217255921692333,
          1.3536859978584614,
          0.7413518060931923,
          0.4954504182405843,
          -1.297639979562549,
          -1.5211164017484191,
          -0.5356313159929892,
          -0.14139501644207536,
          -2.535185047270597,
          -1.3972714221877187,
          0.08578376083602648,
          -1.8771408047470939,
          -0.1382002174398529,
          -0.4319456408707257,
          -0.6873636767251813,
          -2.154901585183574,
          0.8349884750677796,
          -0.29344606963996633,
          -2.0646176720779064,
          0.2715258162942724,
          -0.8987499333895042,
          0.6737517491122544,
          -0.8903450187141376,
          -0.5865223603579941,
          1.2182908148049052,
          0.5438298456028653,
          -0.9955332831521326,
          -0.9267142054469677,
          -1.8737830394162058,
          0.4155025883669216,
          1.4072161601242574,
          1.6558356000102168,
          0.1809956349868083,
          0.05305950380555659,
          -0.9973706957566846,
          0.8485135367398966,
          -0.09069496672792628,
          1.2575460701823191,
          -1.1954067348628163,
          -0.03249315387521831,
          0.28128026601803596,
          -1.0405636511730798,
          -0.17966114977992012,
          -0.19911305400341872,
          -0.04475203909549446,
          -0.33144565439472856,
          2.7808030289348644,
          0.08125916906489697,
          -1.5582135882821042,
          -1.288804376166216,
          0.14180622305606383,
          0.5449416201336499,
          -0.39609729585126346,
          -0.12395381701788742,
          0.07703560202435866,
          -1.0272511213580646,
          0.013861719718305783,
          -0.10758763900023838,
          -0.3976760311590689,
          1.1015906152909287,
          -0.6678659159520443,
          -0.8442929808644131,
          0.8409636359623852,
          0.28507155270790163,
          -0.6297736460594562,
          -2.9931078502086437
         ]
        },
        {
         "connectgaps": false,
         "fill": "tozeroy",
         "line": {
          "color": "green",
          "dash": "solid",
          "shape": "linear",
          "width": 0.5
         },
         "mode": "lines",
         "name": "Spread",
         "showlegend": false,
         "type": "scatter",
         "x": [
          0,
          1,
          2,
          3,
          4,
          5,
          6,
          7,
          8,
          9,
          10,
          11,
          12,
          13,
          14,
          15,
          16,
          17,
          18,
          19,
          20,
          21,
          22,
          23,
          24,
          25,
          26,
          27,
          28,
          29,
          30,
          31,
          32,
          33,
          34,
          35,
          36,
          37,
          38,
          39,
          40,
          41,
          42,
          43,
          44,
          45,
          46,
          47,
          48,
          49,
          50,
          51,
          52,
          53,
          54,
          55,
          56,
          57,
          58,
          59,
          60,
          61,
          62,
          63,
          64,
          65,
          66,
          67,
          68,
          69,
          70,
          71,
          72,
          73,
          74,
          75,
          76,
          77,
          78,
          79,
          80,
          81,
          82,
          83,
          84,
          85,
          86,
          87,
          88,
          89,
          90,
          91,
          92,
          93,
          94,
          95,
          96,
          97,
          98,
          99
         ],
         "xaxis": "x2",
         "y": [
          0.4744648235642146,
          "",
          0.21486704055924166,
          "",
          0.4156694047771118,
          "",
          "",
          0.31319666170679694,
          "",
          "",
          "",
          "",
          "",
          "",
          "",
          0.44988162132235704,
          "",
          0.014959880587958524,
          0.42089524558576424,
          0.30774526600029967,
          1.105252351571067,
          "",
          0.3197672755806805,
          0.7760413645397615,
          "",
          1.3262304573998938,
          "",
          0.7612894270440624,
          "",
          "",
          "",
          0.45749119393388493,
          "",
          0.16487304543201187,
          "",
          "",
          "",
          "",
          1.1443975290960187,
          1.2092133508951086,
          1.532345918362576,
          "",
          2.045907627163835,
          "",
          "",
          2.0124939868273124,
          1.0081060442116305,
          "",
          0.1969811359643142,
          2.295694039604917,
          "",
          2.711983678600399,
          2.3403291897413334,
          "",
          1.2742251034945038,
          "",
          0.6768318544484808,
          0.30979453771629795,
          "",
          "",
          1.7084873417694155,
          "",
          2.8034781291718627,
          "",
          "",
          "",
          "",
          0.16380443845278153,
          1.9627789996229361,
          "",
          0.30159214553729535,
          "",
          2.0919960458574574,
          0.7065950582149223,
          "",
          0.8086518067240461,
          "",
          "",
          "",
          "",
          "",
          "",
          1.9386493035446402,
          1.3198546581367077,
          "",
          1.7108976848671604,
          0.2741238761620266,
          0.2647331516507405,
          "",
          1.89302771101621,
          "",
          1.0777098709979605,
          0.36813401039130034,
          "",
          "",
          0.2175371345921029,
          "",
          "",
          0.8675647702493106,
          2.8344076163493526
         ],
         "yaxis": "y2"
        },
        {
         "connectgaps": false,
         "fill": "tozeroy",
         "line": {
          "color": "red",
          "dash": "solid",
          "shape": "linear",
          "width": 0.5
         },
         "mode": "lines",
         "name": "Spread",
         "showlegend": false,
         "type": "scatter",
         "x": [
          0,
          1,
          2,
          3,
          4,
          5,
          6,
          7,
          8,
          9,
          10,
          11,
          12,
          13,
          14,
          15,
          16,
          17,
          18,
          19,
          20,
          21,
          22,
          23,
          24,
          25,
          26,
          27,
          28,
          29,
          30,
          31,
          32,
          33,
          34,
          35,
          36,
          37,
          38,
          39,
          40,
          41,
          42,
          43,
          44,
          45,
          46,
          47,
          48,
          49,
          50,
          51,
          52,
          53,
          54,
          55,
          56,
          57,
          58,
          59,
          60,
          61,
          62,
          63,
          64,
          65,
          66,
          67,
          68,
          69,
          70,
          71,
          72,
          73,
          74,
          75,
          76,
          77,
          78,
          79,
          80,
          81,
          82,
          83,
          84,
          85,
          86,
          87,
          88,
          89,
          90,
          91,
          92,
          93,
          94,
          95,
          96,
          97,
          98,
          99
         ],
         "xaxis": "x2",
         "y": [
          "",
          -0.5704654264793397,
          "",
          -3.0865820479046118,
          "",
          -0.8239243051393599,
          -1.3452280898453586,
          "",
          -2.1516230119903073,
          -2.171768987008583,
          -0.11099933147807811,
          -1.861704837237508,
          -4.689138775665537,
          -0.6450166834001584,
          -0.17524271433058192,
          "",
          -0.4021987583984308,
          "",
          "",
          "",
          "",
          -2.230060165642301,
          "",
          "",
          -0.9663298652989692,
          "",
          -0.26161036212992617,
          "",
          -1.8829911152421348,
          -0.04062273849159137,
          -0.21637292384531115,
          "",
          -0.16891551975253866,
          "",
          -0.6105626939092469,
          -0.9397288858260453,
          -0.3446481911428836,
          -0.015093141858463166,
          "",
          "",
          "",
          -0.3291052047634559,
          "",
          -0.4528110756104313,
          -1.8703363066668648,
          "",
          "",
          -0.16358158808259332,
          "",
          "",
          -2.4929609114085043,
          "",
          "",
          -1.480761600267119,
          "",
          -1.7368431747438162,
          "",
          "",
          -0.10536858543019578,
          -0.8309577687190648,
          "",
          -0.6400373573212663,
          "",
          -1.4090306270125819,
          -2.5782798670272546,
          -0.6227182699929541,
          -0.958954785966428,
          "",
          "",
          -0.8151392827458923,
          "",
          -3.6156355917219756,
          "",
          "",
          -0.6659195806745888,
          "",
          -0.6289719356487453,
          -1.2468335517807563,
          -1.9317249775534358,
          -0.04138516389415048,
          -1.944024730347182,
          -0.3836301473355589,
          "",
          "",
          -1.2364178146264826,
          "",
          "",
          "",
          -0.7958729819041587,
          "",
          -0.14768298468470412,
          "",
          "",
          -1.9706798043846852,
          -0.36602706235202,
          "",
          -2.2567138811599117,
          -0.8635967796583784,
          "",
          ""
         ],
         "yaxis": "y2"
        }
       ],
       "layout": {
        "hovermode": "x",
        "legend": {
         "bgcolor": "#F5F6F9",
         "font": {
          "color": "#4D5663"
         }
        },
        "paper_bgcolor": "#F5F6F9",
        "plot_bgcolor": "#F5F6F9",
        "template": {
         "data": {
          "bar": [
           {
            "error_x": {
             "color": "#2a3f5f"
            },
            "error_y": {
             "color": "#2a3f5f"
            },
            "marker": {
             "line": {
              "color": "#E5ECF6",
              "width": 0.5
             }
            },
            "type": "bar"
           }
          ],
          "barpolar": [
           {
            "marker": {
             "line": {
              "color": "#E5ECF6",
              "width": 0.5
             }
            },
            "type": "barpolar"
           }
          ],
          "carpet": [
           {
            "aaxis": {
             "endlinecolor": "#2a3f5f",
             "gridcolor": "white",
             "linecolor": "white",
             "minorgridcolor": "white",
             "startlinecolor": "#2a3f5f"
            },
            "baxis": {
             "endlinecolor": "#2a3f5f",
             "gridcolor": "white",
             "linecolor": "white",
             "minorgridcolor": "white",
             "startlinecolor": "#2a3f5f"
            },
            "type": "carpet"
           }
          ],
          "choropleth": [
           {
            "colorbar": {
             "outlinewidth": 0,
             "ticks": ""
            },
            "type": "choropleth"
           }
          ],
          "contour": [
           {
            "colorbar": {
             "outlinewidth": 0,
             "ticks": ""
            },
            "colorscale": [
             [
              0,
              "#0d0887"
             ],
             [
              0.1111111111111111,
              "#46039f"
             ],
             [
              0.2222222222222222,
              "#7201a8"
             ],
             [
              0.3333333333333333,
              "#9c179e"
             ],
             [
              0.4444444444444444,
              "#bd3786"
             ],
             [
              0.5555555555555556,
              "#d8576b"
             ],
             [
              0.6666666666666666,
              "#ed7953"
             ],
             [
              0.7777777777777778,
              "#fb9f3a"
             ],
             [
              0.8888888888888888,
              "#fdca26"
             ],
             [
              1,
              "#f0f921"
             ]
            ],
            "type": "contour"
           }
          ],
          "contourcarpet": [
           {
            "colorbar": {
             "outlinewidth": 0,
             "ticks": ""
            },
            "type": "contourcarpet"
           }
          ],
          "heatmap": [
           {
            "colorbar": {
             "outlinewidth": 0,
             "ticks": ""
            },
            "colorscale": [
             [
              0,
              "#0d0887"
             ],
             [
              0.1111111111111111,
              "#46039f"
             ],
             [
              0.2222222222222222,
              "#7201a8"
             ],
             [
              0.3333333333333333,
              "#9c179e"
             ],
             [
              0.4444444444444444,
              "#bd3786"
             ],
             [
              0.5555555555555556,
              "#d8576b"
             ],
             [
              0.6666666666666666,
              "#ed7953"
             ],
             [
              0.7777777777777778,
              "#fb9f3a"
             ],
             [
              0.8888888888888888,
              "#fdca26"
             ],
             [
              1,
              "#f0f921"
             ]
            ],
            "type": "heatmap"
           }
          ],
          "heatmapgl": [
           {
            "colorbar": {
             "outlinewidth": 0,
             "ticks": ""
            },
            "colorscale": [
             [
              0,
              "#0d0887"
             ],
             [
              0.1111111111111111,
              "#46039f"
             ],
             [
              0.2222222222222222,
              "#7201a8"
             ],
             [
              0.3333333333333333,
              "#9c179e"
             ],
             [
              0.4444444444444444,
              "#bd3786"
             ],
             [
              0.5555555555555556,
              "#d8576b"
             ],
             [
              0.6666666666666666,
              "#ed7953"
             ],
             [
              0.7777777777777778,
              "#fb9f3a"
             ],
             [
              0.8888888888888888,
              "#fdca26"
             ],
             [
              1,
              "#f0f921"
             ]
            ],
            "type": "heatmapgl"
           }
          ],
          "histogram": [
           {
            "marker": {
             "colorbar": {
              "outlinewidth": 0,
              "ticks": ""
             }
            },
            "type": "histogram"
           }
          ],
          "histogram2d": [
           {
            "colorbar": {
             "outlinewidth": 0,
             "ticks": ""
            },
            "colorscale": [
             [
              0,
              "#0d0887"
             ],
             [
              0.1111111111111111,
              "#46039f"
             ],
             [
              0.2222222222222222,
              "#7201a8"
             ],
             [
              0.3333333333333333,
              "#9c179e"
             ],
             [
              0.4444444444444444,
              "#bd3786"
             ],
             [
              0.5555555555555556,
              "#d8576b"
             ],
             [
              0.6666666666666666,
              "#ed7953"
             ],
             [
              0.7777777777777778,
              "#fb9f3a"
             ],
             [
              0.8888888888888888,
              "#fdca26"
             ],
             [
              1,
              "#f0f921"
             ]
            ],
            "type": "histogram2d"
           }
          ],
          "histogram2dcontour": [
           {
            "colorbar": {
             "outlinewidth": 0,
             "ticks": ""
            },
            "colorscale": [
             [
              0,
              "#0d0887"
             ],
             [
              0.1111111111111111,
              "#46039f"
             ],
             [
              0.2222222222222222,
              "#7201a8"
             ],
             [
              0.3333333333333333,
              "#9c179e"
             ],
             [
              0.4444444444444444,
              "#bd3786"
             ],
             [
              0.5555555555555556,
              "#d8576b"
             ],
             [
              0.6666666666666666,
              "#ed7953"
             ],
             [
              0.7777777777777778,
              "#fb9f3a"
             ],
             [
              0.8888888888888888,
              "#fdca26"
             ],
             [
              1,
              "#f0f921"
             ]
            ],
            "type": "histogram2dcontour"
           }
          ],
          "mesh3d": [
           {
            "colorbar": {
             "outlinewidth": 0,
             "ticks": ""
            },
            "type": "mesh3d"
           }
          ],
          "parcoords": [
           {
            "line": {
             "colorbar": {
              "outlinewidth": 0,
              "ticks": ""
             }
            },
            "type": "parcoords"
           }
          ],
          "pie": [
           {
            "automargin": true,
            "type": "pie"
           }
          ],
          "scatter": [
           {
            "marker": {
             "colorbar": {
              "outlinewidth": 0,
              "ticks": ""
             }
            },
            "type": "scatter"
           }
          ],
          "scatter3d": [
           {
            "line": {
             "colorbar": {
              "outlinewidth": 0,
              "ticks": ""
             }
            },
            "marker": {
             "colorbar": {
              "outlinewidth": 0,
              "ticks": ""
             }
            },
            "type": "scatter3d"
           }
          ],
          "scattercarpet": [
           {
            "marker": {
             "colorbar": {
              "outlinewidth": 0,
              "ticks": ""
             }
            },
            "type": "scattercarpet"
           }
          ],
          "scattergeo": [
           {
            "marker": {
             "colorbar": {
              "outlinewidth": 0,
              "ticks": ""
             }
            },
            "type": "scattergeo"
           }
          ],
          "scattergl": [
           {
            "marker": {
             "colorbar": {
              "outlinewidth": 0,
              "ticks": ""
             }
            },
            "type": "scattergl"
           }
          ],
          "scattermapbox": [
           {
            "marker": {
             "colorbar": {
              "outlinewidth": 0,
              "ticks": ""
             }
            },
            "type": "scattermapbox"
           }
          ],
          "scatterpolar": [
           {
            "marker": {
             "colorbar": {
              "outlinewidth": 0,
              "ticks": ""
             }
            },
            "type": "scatterpolar"
           }
          ],
          "scatterpolargl": [
           {
            "marker": {
             "colorbar": {
              "outlinewidth": 0,
              "ticks": ""
             }
            },
            "type": "scatterpolargl"
           }
          ],
          "scatterternary": [
           {
            "marker": {
             "colorbar": {
              "outlinewidth": 0,
              "ticks": ""
             }
            },
            "type": "scatterternary"
           }
          ],
          "surface": [
           {
            "colorbar": {
             "outlinewidth": 0,
             "ticks": ""
            },
            "colorscale": [
             [
              0,
              "#0d0887"
             ],
             [
              0.1111111111111111,
              "#46039f"
             ],
             [
              0.2222222222222222,
              "#7201a8"
             ],
             [
              0.3333333333333333,
              "#9c179e"
             ],
             [
              0.4444444444444444,
              "#bd3786"
             ],
             [
              0.5555555555555556,
              "#d8576b"
             ],
             [
              0.6666666666666666,
              "#ed7953"
             ],
             [
              0.7777777777777778,
              "#fb9f3a"
             ],
             [
              0.8888888888888888,
              "#fdca26"
             ],
             [
              1,
              "#f0f921"
             ]
            ],
            "type": "surface"
           }
          ],
          "table": [
           {
            "cells": {
             "fill": {
              "color": "#EBF0F8"
             },
             "line": {
              "color": "white"
             }
            },
            "header": {
             "fill": {
              "color": "#C8D4E3"
             },
             "line": {
              "color": "white"
             }
            },
            "type": "table"
           }
          ]
         },
         "layout": {
          "annotationdefaults": {
           "arrowcolor": "#2a3f5f",
           "arrowhead": 0,
           "arrowwidth": 1
          },
          "coloraxis": {
           "colorbar": {
            "outlinewidth": 0,
            "ticks": ""
           }
          },
          "colorscale": {
           "diverging": [
            [
             0,
             "#8e0152"
            ],
            [
             0.1,
             "#c51b7d"
            ],
            [
             0.2,
             "#de77ae"
            ],
            [
             0.3,
             "#f1b6da"
            ],
            [
             0.4,
             "#fde0ef"
            ],
            [
             0.5,
             "#f7f7f7"
            ],
            [
             0.6,
             "#e6f5d0"
            ],
            [
             0.7,
             "#b8e186"
            ],
            [
             0.8,
             "#7fbc41"
            ],
            [
             0.9,
             "#4d9221"
            ],
            [
             1,
             "#276419"
            ]
           ],
           "sequential": [
            [
             0,
             "#0d0887"
            ],
            [
             0.1111111111111111,
             "#46039f"
            ],
            [
             0.2222222222222222,
             "#7201a8"
            ],
            [
             0.3333333333333333,
             "#9c179e"
            ],
            [
             0.4444444444444444,
             "#bd3786"
            ],
            [
             0.5555555555555556,
             "#d8576b"
            ],
            [
             0.6666666666666666,
             "#ed7953"
            ],
            [
             0.7777777777777778,
             "#fb9f3a"
            ],
            [
             0.8888888888888888,
             "#fdca26"
            ],
            [
             1,
             "#f0f921"
            ]
           ],
           "sequentialminus": [
            [
             0,
             "#0d0887"
            ],
            [
             0.1111111111111111,
             "#46039f"
            ],
            [
             0.2222222222222222,
             "#7201a8"
            ],
            [
             0.3333333333333333,
             "#9c179e"
            ],
            [
             0.4444444444444444,
             "#bd3786"
            ],
            [
             0.5555555555555556,
             "#d8576b"
            ],
            [
             0.6666666666666666,
             "#ed7953"
            ],
            [
             0.7777777777777778,
             "#fb9f3a"
            ],
            [
             0.8888888888888888,
             "#fdca26"
            ],
            [
             1,
             "#f0f921"
            ]
           ]
          },
          "colorway": [
           "#636efa",
           "#EF553B",
           "#00cc96",
           "#ab63fa",
           "#FFA15A",
           "#19d3f3",
           "#FF6692",
           "#B6E880",
           "#FF97FF",
           "#FECB52"
          ],
          "font": {
           "color": "#2a3f5f"
          },
          "geo": {
           "bgcolor": "white",
           "lakecolor": "white",
           "landcolor": "#E5ECF6",
           "showlakes": true,
           "showland": true,
           "subunitcolor": "white"
          },
          "hoverlabel": {
           "align": "left"
          },
          "hovermode": "closest",
          "mapbox": {
           "style": "light"
          },
          "paper_bgcolor": "white",
          "plot_bgcolor": "#E5ECF6",
          "polar": {
           "angularaxis": {
            "gridcolor": "white",
            "linecolor": "white",
            "ticks": ""
           },
           "bgcolor": "#E5ECF6",
           "radialaxis": {
            "gridcolor": "white",
            "linecolor": "white",
            "ticks": ""
           }
          },
          "scene": {
           "xaxis": {
            "backgroundcolor": "#E5ECF6",
            "gridcolor": "white",
            "gridwidth": 2,
            "linecolor": "white",
            "showbackground": true,
            "ticks": "",
            "zerolinecolor": "white"
           },
           "yaxis": {
            "backgroundcolor": "#E5ECF6",
            "gridcolor": "white",
            "gridwidth": 2,
            "linecolor": "white",
            "showbackground": true,
            "ticks": "",
            "zerolinecolor": "white"
           },
           "zaxis": {
            "backgroundcolor": "#E5ECF6",
            "gridcolor": "white",
            "gridwidth": 2,
            "linecolor": "white",
            "showbackground": true,
            "ticks": "",
            "zerolinecolor": "white"
           }
          },
          "shapedefaults": {
           "line": {
            "color": "#2a3f5f"
           }
          },
          "ternary": {
           "aaxis": {
            "gridcolor": "white",
            "linecolor": "white",
            "ticks": ""
           },
           "baxis": {
            "gridcolor": "white",
            "linecolor": "white",
            "ticks": ""
           },
           "bgcolor": "#E5ECF6",
           "caxis": {
            "gridcolor": "white",
            "linecolor": "white",
            "ticks": ""
           }
          },
          "title": {
           "x": 0.05
          },
          "xaxis": {
           "automargin": true,
           "gridcolor": "white",
           "linecolor": "white",
           "ticks": "",
           "title": {
            "standoff": 15
           },
           "zerolinecolor": "white",
           "zerolinewidth": 2
          },
          "yaxis": {
           "automargin": true,
           "gridcolor": "white",
           "linecolor": "white",
           "ticks": "",
           "title": {
            "standoff": 15
           },
           "zerolinecolor": "white",
           "zerolinewidth": 2
          }
         }
        },
        "title": {
         "font": {
          "color": "#4D5663"
         }
        },
        "xaxis": {
         "gridcolor": "#E1E5ED",
         "showgrid": true,
         "tickfont": {
          "color": "#4D5663"
         },
         "title": {
          "font": {
           "color": "#4D5663"
          },
          "text": ""
         },
         "zerolinecolor": "#E1E5ED"
        },
        "xaxis2": {
         "anchor": "y2",
         "gridcolor": "#E1E5ED",
         "showgrid": true,
         "showticklabels": false,
         "tickfont": {
          "color": "#4D5663"
         },
         "title": {
          "font": {
           "color": "#4D5663"
          },
          "text": ""
         },
         "zerolinecolor": "#E1E5ED"
        },
        "yaxis": {
         "domain": [
          0.3,
          1
         ],
         "gridcolor": "#E1E5ED",
         "showgrid": true,
         "tickfont": {
          "color": "#4D5663"
         },
         "title": {
          "font": {
           "color": "#4D5663"
          },
          "text": ""
         },
         "zerolinecolor": "#E1E5ED"
        },
        "yaxis2": {
         "domain": [
          0,
          0.25
         ],
         "gridcolor": "#E1E5ED",
         "showgrid": true,
         "tickfont": {
          "color": "#4D5663"
         },
         "title": {
          "font": {
           "color": "#4D5663"
          },
          "text": "Spread"
         },
         "zerolinecolor": "#E1E5ED"
        }
       }
      },
      "text/html": [
       "<div>\n",
       "        \n",
       "        \n",
       "            <div id=\"6ba1ea17-aa32-4dda-ac01-b0bce823a68c\" class=\"plotly-graph-div\" style=\"height:525px; width:100%;\"></div>\n",
       "            <script type=\"text/javascript\">\n",
       "                require([\"plotly\"], function(Plotly) {\n",
       "                    window.PLOTLYENV=window.PLOTLYENV || {};\n",
       "                    window.PLOTLYENV.BASE_URL='https://plot.ly';\n",
       "                    \n",
       "                if (document.getElementById(\"6ba1ea17-aa32-4dda-ac01-b0bce823a68c\")) {\n",
       "                    Plotly.newPlot(\n",
       "                        '6ba1ea17-aa32-4dda-ac01-b0bce823a68c',\n",
       "                        [{\"line\": {\"color\": \"rgba(255, 153, 51, 1.0)\", \"dash\": \"solid\", \"shape\": \"linear\", \"width\": 1.3}, \"mode\": \"lines\", \"name\": \"A\", \"text\": \"\", \"type\": \"scatter\", \"x\": [0, 1, 2, 3, 4, 5, 6, 7, 8, 9, 10, 11, 12, 13, 14, 15, 16, 17, 18, 19, 20, 21, 22, 23, 24, 25, 26, 27, 28, 29, 30, 31, 32, 33, 34, 35, 36, 37, 38, 39, 40, 41, 42, 43, 44, 45, 46, 47, 48, 49, 50, 51, 52, 53, 54, 55, 56, 57, 58, 59, 60, 61, 62, 63, 64, 65, 66, 67, 68, 69, 70, 71, 72, 73, 74, 75, 76, 77, 78, 79, 80, 81, 82, 83, 84, 85, 86, 87, 88, 89, 90, 91, 92, 93, 94, 95, 96, 97, 98, 99], \"y\": [0.5607480575046337, -0.3708633475833689, 0.4230264901718323, -0.9549106351528698, -0.20741263670876842, -1.024518844287343, -1.0367249687928646, 2.0584447684824885, -1.4187588960747235, -0.046585194692532424, 0.36787548846534923, -2.044211812156692, -2.550339562813716, 0.40015190479056917, 0.5681708126504649, 0.7940914617616944, -1.068967565955156, 0.07867740459071079, 0.4235998492954107, 0.39095912999154775, 1.327686045467365, -1.754462647693073, -0.578173012072137, -1.0779798184582985, -1.891079726438191, 0.4659456386036681, -0.21802135906844125, 0.19367326395113266, -1.9603362574570133, 0.14932514499258526, -0.9529428773655932, 0.7856639631456367, 0.4156555358714044, 0.7153211913364734, -1.3322882860784802, 0.4139571120324161, 0.3967036149503087, 0.4803572763821211, -0.15324245046653046, -0.3119030508533104, 0.9967146023695868, -0.47050022120553125, -0.4892774201067624, -1.85008249779815, -1.7845525458308382, 0.1353531820802186, 0.8699058267717776, -0.595527228953319, -0.49038254076086707, 0.14079245442134247, -1.6579724363407244, 2.418537608960433, 0.27571151766342716, -1.2092357839728465, 0.37547517010499964, -1.0630914256315618, -0.21351316426565678, -0.27672782264169615, 1.1129222293747094, -0.28712792311619945, 0.7129540586172829, -1.566751562768234, 0.9296950897556568, -0.9935280386456603, -1.1710637069029972, 1.0331173300172627, -0.7779591509796198, 0.21686394225833813, 0.9654083038662515, 0.03337425399400426, 0.2108971788093691, -2.3580895215396565, 0.896589310994641, 0.674101904339704, -0.38463931465655277, -0.23191184444903365, -0.8086330854286654, -1.445946605784175, -1.9764770166489303, -0.37283081828887904, 0.8367782985876825, -0.30237097827066195, 0.380435715262536, 0.031050281970491544, -1.0946115915704187, 2.2558393050008103, -0.12197341968923685, 0.1407793346328531, -0.7188373798798, 0.8657765896581454, -0.13382126496639835, 0.970122231997722, -0.029542020767768597, -0.8690891890937565, -1.0338929783040642, -0.6267558462723102, -1.4157502451975266, -0.5785252269504768, 0.23779112418985437, -0.158700233859291]}, {\"line\": {\"color\": \"rgba(55, 128, 191, 1.0)\", \"dash\": \"solid\", \"shape\": \"linear\", \"width\": 1.3}, \"mode\": \"lines\", \"name\": \"B\", \"text\": \"\", \"type\": \"scatter\", \"x\": [0, 1, 2, 3, 4, 5, 6, 7, 8, 9, 10, 11, 12, 13, 14, 15, 16, 17, 18, 19, 20, 21, 22, 23, 24, 25, 26, 27, 28, 29, 30, 31, 32, 33, 34, 35, 36, 37, 38, 39, 40, 41, 42, 43, 44, 45, 46, 47, 48, 49, 50, 51, 52, 53, 54, 55, 56, 57, 58, 59, 60, 61, 62, 63, 64, 65, 66, 67, 68, 69, 70, 71, 72, 73, 74, 75, 76, 77, 78, 79, 80, 81, 82, 83, 84, 85, 86, 87, 88, 89, 90, 91, 92, 93, 94, 95, 96, 97, 98, 99], \"y\": [0.08628323394041917, 0.1996020788959708, 0.20815944961259064, 2.131671412751742, -0.6230820414858802, -0.20059453914798314, 0.30850312105249406, 1.7452481067756915, 0.7328641159155839, 2.1251837923160504, 0.47887481994342734, -0.1825069749191838, 2.138799212851821, 1.0451685881907276, 0.7434135269810468, 0.3442098404393374, -0.6667688075567253, 0.06371752400275227, 0.0027046037096464712, 0.08321386399124807, 0.22243369389629775, 0.4755975179492282, -0.8979402876528175, -1.85402118299806, -0.9247498611392219, -0.8602848187962258, 0.04358900306148492, -0.5676161630929298, -0.07734514221487851, 0.18994788348417663, -0.7365699535202821, 0.32817276921175176, 0.5845710556239431, 0.5504481459044616, -0.7217255921692333, 1.3536859978584614, 0.7413518060931923, 0.4954504182405843, -1.297639979562549, -1.5211164017484191, -0.5356313159929892, -0.14139501644207536, -2.535185047270597, -1.3972714221877187, 0.08578376083602648, -1.8771408047470939, -0.1382002174398529, -0.4319456408707257, -0.6873636767251813, -2.154901585183574, 0.8349884750677796, -0.29344606963996633, -2.0646176720779064, 0.2715258162942724, -0.8987499333895042, 0.6737517491122544, -0.8903450187141376, -0.5865223603579941, 1.2182908148049052, 0.5438298456028653, -0.9955332831521326, -0.9267142054469677, -1.8737830394162058, 0.4155025883669216, 1.4072161601242574, 1.6558356000102168, 0.1809956349868083, 0.05305950380555659, -0.9973706957566846, 0.8485135367398966, -0.09069496672792628, 1.2575460701823191, -1.1954067348628163, -0.03249315387521831, 0.28128026601803596, -1.0405636511730798, -0.17966114977992012, -0.19911305400341872, -0.04475203909549446, -0.33144565439472856, 2.7808030289348644, 0.08125916906489697, -1.5582135882821042, -1.288804376166216, 0.14180622305606383, 0.5449416201336499, -0.39609729585126346, -0.12395381701788742, 0.07703560202435866, -1.0272511213580646, 0.013861719718305783, -0.10758763900023838, -0.3976760311590689, 1.1015906152909287, -0.6678659159520443, -0.8442929808644131, 0.8409636359623852, 0.28507155270790163, -0.6297736460594562, -2.9931078502086437]}, {\"connectgaps\": false, \"fill\": \"tozeroy\", \"line\": {\"color\": \"green\", \"dash\": \"solid\", \"shape\": \"linear\", \"width\": 0.5}, \"mode\": \"lines\", \"name\": \"Spread\", \"showlegend\": false, \"type\": \"scatter\", \"x\": [0, 1, 2, 3, 4, 5, 6, 7, 8, 9, 10, 11, 12, 13, 14, 15, 16, 17, 18, 19, 20, 21, 22, 23, 24, 25, 26, 27, 28, 29, 30, 31, 32, 33, 34, 35, 36, 37, 38, 39, 40, 41, 42, 43, 44, 45, 46, 47, 48, 49, 50, 51, 52, 53, 54, 55, 56, 57, 58, 59, 60, 61, 62, 63, 64, 65, 66, 67, 68, 69, 70, 71, 72, 73, 74, 75, 76, 77, 78, 79, 80, 81, 82, 83, 84, 85, 86, 87, 88, 89, 90, 91, 92, 93, 94, 95, 96, 97, 98, 99], \"xaxis\": \"x2\", \"y\": [0.4744648235642146, \"\", 0.21486704055924166, \"\", 0.4156694047771118, \"\", \"\", 0.31319666170679694, \"\", \"\", \"\", \"\", \"\", \"\", \"\", 0.44988162132235704, \"\", 0.014959880587958524, 0.42089524558576424, 0.30774526600029967, 1.105252351571067, \"\", 0.3197672755806805, 0.7760413645397615, \"\", 1.3262304573998938, \"\", 0.7612894270440624, \"\", \"\", \"\", 0.45749119393388493, \"\", 0.16487304543201187, \"\", \"\", \"\", \"\", 1.1443975290960187, 1.2092133508951086, 1.532345918362576, \"\", 2.045907627163835, \"\", \"\", 2.0124939868273124, 1.0081060442116305, \"\", 0.1969811359643142, 2.295694039604917, \"\", 2.711983678600399, 2.3403291897413334, \"\", 1.2742251034945038, \"\", 0.6768318544484808, 0.30979453771629795, \"\", \"\", 1.7084873417694155, \"\", 2.8034781291718627, \"\", \"\", \"\", \"\", 0.16380443845278153, 1.9627789996229361, \"\", 0.30159214553729535, \"\", 2.0919960458574574, 0.7065950582149223, \"\", 0.8086518067240461, \"\", \"\", \"\", \"\", \"\", \"\", 1.9386493035446402, 1.3198546581367077, \"\", 1.7108976848671604, 0.2741238761620266, 0.2647331516507405, \"\", 1.89302771101621, \"\", 1.0777098709979605, 0.36813401039130034, \"\", \"\", 0.2175371345921029, \"\", \"\", 0.8675647702493106, 2.8344076163493526], \"yaxis\": \"y2\"}, {\"connectgaps\": false, \"fill\": \"tozeroy\", \"line\": {\"color\": \"red\", \"dash\": \"solid\", \"shape\": \"linear\", \"width\": 0.5}, \"mode\": \"lines\", \"name\": \"Spread\", \"showlegend\": false, \"type\": \"scatter\", \"x\": [0, 1, 2, 3, 4, 5, 6, 7, 8, 9, 10, 11, 12, 13, 14, 15, 16, 17, 18, 19, 20, 21, 22, 23, 24, 25, 26, 27, 28, 29, 30, 31, 32, 33, 34, 35, 36, 37, 38, 39, 40, 41, 42, 43, 44, 45, 46, 47, 48, 49, 50, 51, 52, 53, 54, 55, 56, 57, 58, 59, 60, 61, 62, 63, 64, 65, 66, 67, 68, 69, 70, 71, 72, 73, 74, 75, 76, 77, 78, 79, 80, 81, 82, 83, 84, 85, 86, 87, 88, 89, 90, 91, 92, 93, 94, 95, 96, 97, 98, 99], \"xaxis\": \"x2\", \"y\": [\"\", -0.5704654264793397, \"\", -3.0865820479046118, \"\", -0.8239243051393599, -1.3452280898453586, \"\", -2.1516230119903073, -2.171768987008583, -0.11099933147807811, -1.861704837237508, -4.689138775665537, -0.6450166834001584, -0.17524271433058192, \"\", -0.4021987583984308, \"\", \"\", \"\", \"\", -2.230060165642301, \"\", \"\", -0.9663298652989692, \"\", -0.26161036212992617, \"\", -1.8829911152421348, -0.04062273849159137, -0.21637292384531115, \"\", -0.16891551975253866, \"\", -0.6105626939092469, -0.9397288858260453, -0.3446481911428836, -0.015093141858463166, \"\", \"\", \"\", -0.3291052047634559, \"\", -0.4528110756104313, -1.8703363066668648, \"\", \"\", -0.16358158808259332, \"\", \"\", -2.4929609114085043, \"\", \"\", -1.480761600267119, \"\", -1.7368431747438162, \"\", \"\", -0.10536858543019578, -0.8309577687190648, \"\", -0.6400373573212663, \"\", -1.4090306270125819, -2.5782798670272546, -0.6227182699929541, -0.958954785966428, \"\", \"\", -0.8151392827458923, \"\", -3.6156355917219756, \"\", \"\", -0.6659195806745888, \"\", -0.6289719356487453, -1.2468335517807563, -1.9317249775534358, -0.04138516389415048, -1.944024730347182, -0.3836301473355589, \"\", \"\", -1.2364178146264826, \"\", \"\", \"\", -0.7958729819041587, \"\", -0.14768298468470412, \"\", \"\", -1.9706798043846852, -0.36602706235202, \"\", -2.2567138811599117, -0.8635967796583784, \"\", \"\"], \"yaxis\": \"y2\"}],\n",
       "                        {\"hovermode\": \"x\", \"legend\": {\"bgcolor\": \"#F5F6F9\", \"font\": {\"color\": \"#4D5663\"}}, \"paper_bgcolor\": \"#F5F6F9\", \"plot_bgcolor\": \"#F5F6F9\", \"template\": {\"data\": {\"bar\": [{\"error_x\": {\"color\": \"#2a3f5f\"}, \"error_y\": {\"color\": \"#2a3f5f\"}, \"marker\": {\"line\": {\"color\": \"#E5ECF6\", \"width\": 0.5}}, \"type\": \"bar\"}], \"barpolar\": [{\"marker\": {\"line\": {\"color\": \"#E5ECF6\", \"width\": 0.5}}, \"type\": \"barpolar\"}], \"carpet\": [{\"aaxis\": {\"endlinecolor\": \"#2a3f5f\", \"gridcolor\": \"white\", \"linecolor\": \"white\", \"minorgridcolor\": \"white\", \"startlinecolor\": \"#2a3f5f\"}, \"baxis\": {\"endlinecolor\": \"#2a3f5f\", \"gridcolor\": \"white\", \"linecolor\": \"white\", \"minorgridcolor\": \"white\", \"startlinecolor\": \"#2a3f5f\"}, \"type\": \"carpet\"}], \"choropleth\": [{\"colorbar\": {\"outlinewidth\": 0, \"ticks\": \"\"}, \"type\": \"choropleth\"}], \"contour\": [{\"colorbar\": {\"outlinewidth\": 0, \"ticks\": \"\"}, \"colorscale\": [[0.0, \"#0d0887\"], [0.1111111111111111, \"#46039f\"], [0.2222222222222222, \"#7201a8\"], [0.3333333333333333, \"#9c179e\"], [0.4444444444444444, \"#bd3786\"], [0.5555555555555556, \"#d8576b\"], [0.6666666666666666, \"#ed7953\"], [0.7777777777777778, \"#fb9f3a\"], [0.8888888888888888, \"#fdca26\"], [1.0, \"#f0f921\"]], \"type\": \"contour\"}], \"contourcarpet\": [{\"colorbar\": {\"outlinewidth\": 0, \"ticks\": \"\"}, \"type\": \"contourcarpet\"}], \"heatmap\": [{\"colorbar\": {\"outlinewidth\": 0, \"ticks\": \"\"}, \"colorscale\": [[0.0, \"#0d0887\"], [0.1111111111111111, \"#46039f\"], [0.2222222222222222, \"#7201a8\"], [0.3333333333333333, \"#9c179e\"], [0.4444444444444444, \"#bd3786\"], [0.5555555555555556, \"#d8576b\"], [0.6666666666666666, \"#ed7953\"], [0.7777777777777778, \"#fb9f3a\"], [0.8888888888888888, \"#fdca26\"], [1.0, \"#f0f921\"]], \"type\": \"heatmap\"}], \"heatmapgl\": [{\"colorbar\": {\"outlinewidth\": 0, \"ticks\": \"\"}, \"colorscale\": [[0.0, \"#0d0887\"], [0.1111111111111111, \"#46039f\"], [0.2222222222222222, \"#7201a8\"], [0.3333333333333333, \"#9c179e\"], [0.4444444444444444, \"#bd3786\"], [0.5555555555555556, \"#d8576b\"], [0.6666666666666666, \"#ed7953\"], [0.7777777777777778, \"#fb9f3a\"], [0.8888888888888888, \"#fdca26\"], [1.0, \"#f0f921\"]], \"type\": \"heatmapgl\"}], \"histogram\": [{\"marker\": {\"colorbar\": {\"outlinewidth\": 0, \"ticks\": \"\"}}, \"type\": \"histogram\"}], \"histogram2d\": [{\"colorbar\": {\"outlinewidth\": 0, \"ticks\": \"\"}, \"colorscale\": [[0.0, \"#0d0887\"], [0.1111111111111111, \"#46039f\"], [0.2222222222222222, \"#7201a8\"], [0.3333333333333333, \"#9c179e\"], [0.4444444444444444, \"#bd3786\"], [0.5555555555555556, \"#d8576b\"], [0.6666666666666666, \"#ed7953\"], [0.7777777777777778, \"#fb9f3a\"], [0.8888888888888888, \"#fdca26\"], [1.0, \"#f0f921\"]], \"type\": \"histogram2d\"}], \"histogram2dcontour\": [{\"colorbar\": {\"outlinewidth\": 0, \"ticks\": \"\"}, \"colorscale\": [[0.0, \"#0d0887\"], [0.1111111111111111, \"#46039f\"], [0.2222222222222222, \"#7201a8\"], [0.3333333333333333, \"#9c179e\"], [0.4444444444444444, \"#bd3786\"], [0.5555555555555556, \"#d8576b\"], [0.6666666666666666, \"#ed7953\"], [0.7777777777777778, \"#fb9f3a\"], [0.8888888888888888, \"#fdca26\"], [1.0, \"#f0f921\"]], \"type\": \"histogram2dcontour\"}], \"mesh3d\": [{\"colorbar\": {\"outlinewidth\": 0, \"ticks\": \"\"}, \"type\": \"mesh3d\"}], \"parcoords\": [{\"line\": {\"colorbar\": {\"outlinewidth\": 0, \"ticks\": \"\"}}, \"type\": \"parcoords\"}], \"pie\": [{\"automargin\": true, \"type\": \"pie\"}], \"scatter\": [{\"marker\": {\"colorbar\": {\"outlinewidth\": 0, \"ticks\": \"\"}}, \"type\": \"scatter\"}], \"scatter3d\": [{\"line\": {\"colorbar\": {\"outlinewidth\": 0, \"ticks\": \"\"}}, \"marker\": {\"colorbar\": {\"outlinewidth\": 0, \"ticks\": \"\"}}, \"type\": \"scatter3d\"}], \"scattercarpet\": [{\"marker\": {\"colorbar\": {\"outlinewidth\": 0, \"ticks\": \"\"}}, \"type\": \"scattercarpet\"}], \"scattergeo\": [{\"marker\": {\"colorbar\": {\"outlinewidth\": 0, \"ticks\": \"\"}}, \"type\": \"scattergeo\"}], \"scattergl\": [{\"marker\": {\"colorbar\": {\"outlinewidth\": 0, \"ticks\": \"\"}}, \"type\": \"scattergl\"}], \"scattermapbox\": [{\"marker\": {\"colorbar\": {\"outlinewidth\": 0, \"ticks\": \"\"}}, \"type\": \"scattermapbox\"}], \"scatterpolar\": [{\"marker\": {\"colorbar\": {\"outlinewidth\": 0, \"ticks\": \"\"}}, \"type\": \"scatterpolar\"}], \"scatterpolargl\": [{\"marker\": {\"colorbar\": {\"outlinewidth\": 0, \"ticks\": \"\"}}, \"type\": \"scatterpolargl\"}], \"scatterternary\": [{\"marker\": {\"colorbar\": {\"outlinewidth\": 0, \"ticks\": \"\"}}, \"type\": \"scatterternary\"}], \"surface\": [{\"colorbar\": {\"outlinewidth\": 0, \"ticks\": \"\"}, \"colorscale\": [[0.0, \"#0d0887\"], [0.1111111111111111, \"#46039f\"], [0.2222222222222222, \"#7201a8\"], [0.3333333333333333, \"#9c179e\"], [0.4444444444444444, \"#bd3786\"], [0.5555555555555556, \"#d8576b\"], [0.6666666666666666, \"#ed7953\"], [0.7777777777777778, \"#fb9f3a\"], [0.8888888888888888, \"#fdca26\"], [1.0, \"#f0f921\"]], \"type\": \"surface\"}], \"table\": [{\"cells\": {\"fill\": {\"color\": \"#EBF0F8\"}, \"line\": {\"color\": \"white\"}}, \"header\": {\"fill\": {\"color\": \"#C8D4E3\"}, \"line\": {\"color\": \"white\"}}, \"type\": \"table\"}]}, \"layout\": {\"annotationdefaults\": {\"arrowcolor\": \"#2a3f5f\", \"arrowhead\": 0, \"arrowwidth\": 1}, \"coloraxis\": {\"colorbar\": {\"outlinewidth\": 0, \"ticks\": \"\"}}, \"colorscale\": {\"diverging\": [[0, \"#8e0152\"], [0.1, \"#c51b7d\"], [0.2, \"#de77ae\"], [0.3, \"#f1b6da\"], [0.4, \"#fde0ef\"], [0.5, \"#f7f7f7\"], [0.6, \"#e6f5d0\"], [0.7, \"#b8e186\"], [0.8, \"#7fbc41\"], [0.9, \"#4d9221\"], [1, \"#276419\"]], \"sequential\": [[0.0, \"#0d0887\"], [0.1111111111111111, \"#46039f\"], [0.2222222222222222, \"#7201a8\"], [0.3333333333333333, \"#9c179e\"], [0.4444444444444444, \"#bd3786\"], [0.5555555555555556, \"#d8576b\"], [0.6666666666666666, \"#ed7953\"], [0.7777777777777778, \"#fb9f3a\"], [0.8888888888888888, \"#fdca26\"], [1.0, \"#f0f921\"]], \"sequentialminus\": [[0.0, \"#0d0887\"], [0.1111111111111111, \"#46039f\"], [0.2222222222222222, \"#7201a8\"], [0.3333333333333333, \"#9c179e\"], [0.4444444444444444, \"#bd3786\"], [0.5555555555555556, \"#d8576b\"], [0.6666666666666666, \"#ed7953\"], [0.7777777777777778, \"#fb9f3a\"], [0.8888888888888888, \"#fdca26\"], [1.0, \"#f0f921\"]]}, \"colorway\": [\"#636efa\", \"#EF553B\", \"#00cc96\", \"#ab63fa\", \"#FFA15A\", \"#19d3f3\", \"#FF6692\", \"#B6E880\", \"#FF97FF\", \"#FECB52\"], \"font\": {\"color\": \"#2a3f5f\"}, \"geo\": {\"bgcolor\": \"white\", \"lakecolor\": \"white\", \"landcolor\": \"#E5ECF6\", \"showlakes\": true, \"showland\": true, \"subunitcolor\": \"white\"}, \"hoverlabel\": {\"align\": \"left\"}, \"hovermode\": \"closest\", \"mapbox\": {\"style\": \"light\"}, \"paper_bgcolor\": \"white\", \"plot_bgcolor\": \"#E5ECF6\", \"polar\": {\"angularaxis\": {\"gridcolor\": \"white\", \"linecolor\": \"white\", \"ticks\": \"\"}, \"bgcolor\": \"#E5ECF6\", \"radialaxis\": {\"gridcolor\": \"white\", \"linecolor\": \"white\", \"ticks\": \"\"}}, \"scene\": {\"xaxis\": {\"backgroundcolor\": \"#E5ECF6\", \"gridcolor\": \"white\", \"gridwidth\": 2, \"linecolor\": \"white\", \"showbackground\": true, \"ticks\": \"\", \"zerolinecolor\": \"white\"}, \"yaxis\": {\"backgroundcolor\": \"#E5ECF6\", \"gridcolor\": \"white\", \"gridwidth\": 2, \"linecolor\": \"white\", \"showbackground\": true, \"ticks\": \"\", \"zerolinecolor\": \"white\"}, \"zaxis\": {\"backgroundcolor\": \"#E5ECF6\", \"gridcolor\": \"white\", \"gridwidth\": 2, \"linecolor\": \"white\", \"showbackground\": true, \"ticks\": \"\", \"zerolinecolor\": \"white\"}}, \"shapedefaults\": {\"line\": {\"color\": \"#2a3f5f\"}}, \"ternary\": {\"aaxis\": {\"gridcolor\": \"white\", \"linecolor\": \"white\", \"ticks\": \"\"}, \"baxis\": {\"gridcolor\": \"white\", \"linecolor\": \"white\", \"ticks\": \"\"}, \"bgcolor\": \"#E5ECF6\", \"caxis\": {\"gridcolor\": \"white\", \"linecolor\": \"white\", \"ticks\": \"\"}}, \"title\": {\"x\": 0.05}, \"xaxis\": {\"automargin\": true, \"gridcolor\": \"white\", \"linecolor\": \"white\", \"ticks\": \"\", \"title\": {\"standoff\": 15}, \"zerolinecolor\": \"white\", \"zerolinewidth\": 2}, \"yaxis\": {\"automargin\": true, \"gridcolor\": \"white\", \"linecolor\": \"white\", \"ticks\": \"\", \"title\": {\"standoff\": 15}, \"zerolinecolor\": \"white\", \"zerolinewidth\": 2}}}, \"title\": {\"font\": {\"color\": \"#4D5663\"}}, \"xaxis\": {\"gridcolor\": \"#E1E5ED\", \"showgrid\": true, \"tickfont\": {\"color\": \"#4D5663\"}, \"title\": {\"font\": {\"color\": \"#4D5663\"}, \"text\": \"\"}, \"zerolinecolor\": \"#E1E5ED\"}, \"xaxis2\": {\"anchor\": \"y2\", \"gridcolor\": \"#E1E5ED\", \"showgrid\": true, \"showticklabels\": false, \"tickfont\": {\"color\": \"#4D5663\"}, \"title\": {\"font\": {\"color\": \"#4D5663\"}, \"text\": \"\"}, \"zerolinecolor\": \"#E1E5ED\"}, \"yaxis\": {\"domain\": [0.3, 1], \"gridcolor\": \"#E1E5ED\", \"showgrid\": true, \"tickfont\": {\"color\": \"#4D5663\"}, \"title\": {\"font\": {\"color\": \"#4D5663\"}, \"text\": \"\"}, \"zerolinecolor\": \"#E1E5ED\"}, \"yaxis2\": {\"domain\": [0, 0.25], \"gridcolor\": \"#E1E5ED\", \"showgrid\": true, \"tickfont\": {\"color\": \"#4D5663\"}, \"title\": {\"font\": {\"color\": \"#4D5663\"}, \"text\": \"Spread\"}, \"zerolinecolor\": \"#E1E5ED\"}},\n",
       "                        {\"showLink\": true, \"linkText\": \"Export to plot.ly\", \"plotlyServerURL\": \"https://plot.ly\", \"responsive\": true}\n",
       "                    ).then(function(){\n",
       "                            \n",
       "var gd = document.getElementById('6ba1ea17-aa32-4dda-ac01-b0bce823a68c');\n",
       "var x = new MutationObserver(function (mutations, observer) {{\n",
       "        var display = window.getComputedStyle(gd).display;\n",
       "        if (!display || display === 'none') {{\n",
       "            console.log([gd, 'removed!']);\n",
       "            Plotly.purge(gd);\n",
       "            observer.disconnect();\n",
       "        }}\n",
       "}});\n",
       "\n",
       "// Listen for the removal of the full notebook cells\n",
       "var notebookContainer = gd.closest('#notebook-container');\n",
       "if (notebookContainer) {{\n",
       "    x.observe(notebookContainer, {childList: true});\n",
       "}}\n",
       "\n",
       "// Listen for the clearing of the current output cell\n",
       "var outputEl = gd.closest('.output');\n",
       "if (outputEl) {{\n",
       "    x.observe(outputEl, {childList: true});\n",
       "}}\n",
       "\n",
       "                        })\n",
       "                };\n",
       "                });\n",
       "            </script>\n",
       "        </div>"
      ]
     },
     "metadata": {},
     "output_type": "display_data"
    }
   ],
   "source": [
    "df[['A','B']].iplot(kind='spread')"
   ]
  },
  {
   "cell_type": "markdown",
   "metadata": {},
   "source": [
    "## histogram"
   ]
  },
  {
   "cell_type": "code",
   "execution_count": 17,
   "metadata": {},
   "outputs": [
    {
     "data": {
      "application/vnd.plotly.v1+json": {
       "config": {
        "linkText": "Export to plot.ly",
        "plotlyServerURL": "https://plot.ly",
        "showLink": true
       },
       "data": [
        {
         "histfunc": "count",
         "histnorm": "",
         "marker": {
          "color": "rgba(255, 153, 51, 1.0)",
          "line": {
           "color": "#4D5663",
           "width": 1.3
          }
         },
         "name": "A",
         "nbinsx": 25,
         "opacity": 0.8,
         "orientation": "v",
         "type": "histogram",
         "x": [
          0.5607480575046337,
          -0.3708633475833689,
          0.4230264901718323,
          -0.9549106351528698,
          -0.20741263670876842,
          -1.024518844287343,
          -1.0367249687928646,
          2.0584447684824885,
          -1.4187588960747235,
          -0.046585194692532424,
          0.36787548846534923,
          -2.044211812156692,
          -2.550339562813716,
          0.40015190479056917,
          0.5681708126504649,
          0.7940914617616944,
          -1.068967565955156,
          0.07867740459071079,
          0.4235998492954107,
          0.39095912999154775,
          1.327686045467365,
          -1.754462647693073,
          -0.578173012072137,
          -1.0779798184582985,
          -1.891079726438191,
          0.4659456386036681,
          -0.21802135906844125,
          0.19367326395113266,
          -1.9603362574570133,
          0.14932514499258526,
          -0.9529428773655932,
          0.7856639631456367,
          0.4156555358714044,
          0.7153211913364734,
          -1.3322882860784802,
          0.4139571120324161,
          0.3967036149503087,
          0.4803572763821211,
          -0.15324245046653046,
          -0.3119030508533104,
          0.9967146023695868,
          -0.47050022120553125,
          -0.4892774201067624,
          -1.85008249779815,
          -1.7845525458308382,
          0.1353531820802186,
          0.8699058267717776,
          -0.595527228953319,
          -0.49038254076086707,
          0.14079245442134247,
          -1.6579724363407244,
          2.418537608960433,
          0.27571151766342716,
          -1.2092357839728465,
          0.37547517010499964,
          -1.0630914256315618,
          -0.21351316426565678,
          -0.27672782264169615,
          1.1129222293747094,
          -0.28712792311619945,
          0.7129540586172829,
          -1.566751562768234,
          0.9296950897556568,
          -0.9935280386456603,
          -1.1710637069029972,
          1.0331173300172627,
          -0.7779591509796198,
          0.21686394225833813,
          0.9654083038662515,
          0.03337425399400426,
          0.2108971788093691,
          -2.3580895215396565,
          0.896589310994641,
          0.674101904339704,
          -0.38463931465655277,
          -0.23191184444903365,
          -0.8086330854286654,
          -1.445946605784175,
          -1.9764770166489303,
          -0.37283081828887904,
          0.8367782985876825,
          -0.30237097827066195,
          0.380435715262536,
          0.031050281970491544,
          -1.0946115915704187,
          2.2558393050008103,
          -0.12197341968923685,
          0.1407793346328531,
          -0.7188373798798,
          0.8657765896581454,
          -0.13382126496639835,
          0.970122231997722,
          -0.029542020767768597,
          -0.8690891890937565,
          -1.0338929783040642,
          -0.6267558462723102,
          -1.4157502451975266,
          -0.5785252269504768,
          0.23779112418985437,
          -0.158700233859291
         ]
        }
       ],
       "layout": {
        "barmode": "overlay",
        "legend": {
         "bgcolor": "#F5F6F9",
         "font": {
          "color": "#4D5663"
         }
        },
        "paper_bgcolor": "#F5F6F9",
        "plot_bgcolor": "#F5F6F9",
        "template": {
         "data": {
          "bar": [
           {
            "error_x": {
             "color": "#2a3f5f"
            },
            "error_y": {
             "color": "#2a3f5f"
            },
            "marker": {
             "line": {
              "color": "#E5ECF6",
              "width": 0.5
             }
            },
            "type": "bar"
           }
          ],
          "barpolar": [
           {
            "marker": {
             "line": {
              "color": "#E5ECF6",
              "width": 0.5
             }
            },
            "type": "barpolar"
           }
          ],
          "carpet": [
           {
            "aaxis": {
             "endlinecolor": "#2a3f5f",
             "gridcolor": "white",
             "linecolor": "white",
             "minorgridcolor": "white",
             "startlinecolor": "#2a3f5f"
            },
            "baxis": {
             "endlinecolor": "#2a3f5f",
             "gridcolor": "white",
             "linecolor": "white",
             "minorgridcolor": "white",
             "startlinecolor": "#2a3f5f"
            },
            "type": "carpet"
           }
          ],
          "choropleth": [
           {
            "colorbar": {
             "outlinewidth": 0,
             "ticks": ""
            },
            "type": "choropleth"
           }
          ],
          "contour": [
           {
            "colorbar": {
             "outlinewidth": 0,
             "ticks": ""
            },
            "colorscale": [
             [
              0,
              "#0d0887"
             ],
             [
              0.1111111111111111,
              "#46039f"
             ],
             [
              0.2222222222222222,
              "#7201a8"
             ],
             [
              0.3333333333333333,
              "#9c179e"
             ],
             [
              0.4444444444444444,
              "#bd3786"
             ],
             [
              0.5555555555555556,
              "#d8576b"
             ],
             [
              0.6666666666666666,
              "#ed7953"
             ],
             [
              0.7777777777777778,
              "#fb9f3a"
             ],
             [
              0.8888888888888888,
              "#fdca26"
             ],
             [
              1,
              "#f0f921"
             ]
            ],
            "type": "contour"
           }
          ],
          "contourcarpet": [
           {
            "colorbar": {
             "outlinewidth": 0,
             "ticks": ""
            },
            "type": "contourcarpet"
           }
          ],
          "heatmap": [
           {
            "colorbar": {
             "outlinewidth": 0,
             "ticks": ""
            },
            "colorscale": [
             [
              0,
              "#0d0887"
             ],
             [
              0.1111111111111111,
              "#46039f"
             ],
             [
              0.2222222222222222,
              "#7201a8"
             ],
             [
              0.3333333333333333,
              "#9c179e"
             ],
             [
              0.4444444444444444,
              "#bd3786"
             ],
             [
              0.5555555555555556,
              "#d8576b"
             ],
             [
              0.6666666666666666,
              "#ed7953"
             ],
             [
              0.7777777777777778,
              "#fb9f3a"
             ],
             [
              0.8888888888888888,
              "#fdca26"
             ],
             [
              1,
              "#f0f921"
             ]
            ],
            "type": "heatmap"
           }
          ],
          "heatmapgl": [
           {
            "colorbar": {
             "outlinewidth": 0,
             "ticks": ""
            },
            "colorscale": [
             [
              0,
              "#0d0887"
             ],
             [
              0.1111111111111111,
              "#46039f"
             ],
             [
              0.2222222222222222,
              "#7201a8"
             ],
             [
              0.3333333333333333,
              "#9c179e"
             ],
             [
              0.4444444444444444,
              "#bd3786"
             ],
             [
              0.5555555555555556,
              "#d8576b"
             ],
             [
              0.6666666666666666,
              "#ed7953"
             ],
             [
              0.7777777777777778,
              "#fb9f3a"
             ],
             [
              0.8888888888888888,
              "#fdca26"
             ],
             [
              1,
              "#f0f921"
             ]
            ],
            "type": "heatmapgl"
           }
          ],
          "histogram": [
           {
            "marker": {
             "colorbar": {
              "outlinewidth": 0,
              "ticks": ""
             }
            },
            "type": "histogram"
           }
          ],
          "histogram2d": [
           {
            "colorbar": {
             "outlinewidth": 0,
             "ticks": ""
            },
            "colorscale": [
             [
              0,
              "#0d0887"
             ],
             [
              0.1111111111111111,
              "#46039f"
             ],
             [
              0.2222222222222222,
              "#7201a8"
             ],
             [
              0.3333333333333333,
              "#9c179e"
             ],
             [
              0.4444444444444444,
              "#bd3786"
             ],
             [
              0.5555555555555556,
              "#d8576b"
             ],
             [
              0.6666666666666666,
              "#ed7953"
             ],
             [
              0.7777777777777778,
              "#fb9f3a"
             ],
             [
              0.8888888888888888,
              "#fdca26"
             ],
             [
              1,
              "#f0f921"
             ]
            ],
            "type": "histogram2d"
           }
          ],
          "histogram2dcontour": [
           {
            "colorbar": {
             "outlinewidth": 0,
             "ticks": ""
            },
            "colorscale": [
             [
              0,
              "#0d0887"
             ],
             [
              0.1111111111111111,
              "#46039f"
             ],
             [
              0.2222222222222222,
              "#7201a8"
             ],
             [
              0.3333333333333333,
              "#9c179e"
             ],
             [
              0.4444444444444444,
              "#bd3786"
             ],
             [
              0.5555555555555556,
              "#d8576b"
             ],
             [
              0.6666666666666666,
              "#ed7953"
             ],
             [
              0.7777777777777778,
              "#fb9f3a"
             ],
             [
              0.8888888888888888,
              "#fdca26"
             ],
             [
              1,
              "#f0f921"
             ]
            ],
            "type": "histogram2dcontour"
           }
          ],
          "mesh3d": [
           {
            "colorbar": {
             "outlinewidth": 0,
             "ticks": ""
            },
            "type": "mesh3d"
           }
          ],
          "parcoords": [
           {
            "line": {
             "colorbar": {
              "outlinewidth": 0,
              "ticks": ""
             }
            },
            "type": "parcoords"
           }
          ],
          "pie": [
           {
            "automargin": true,
            "type": "pie"
           }
          ],
          "scatter": [
           {
            "marker": {
             "colorbar": {
              "outlinewidth": 0,
              "ticks": ""
             }
            },
            "type": "scatter"
           }
          ],
          "scatter3d": [
           {
            "line": {
             "colorbar": {
              "outlinewidth": 0,
              "ticks": ""
             }
            },
            "marker": {
             "colorbar": {
              "outlinewidth": 0,
              "ticks": ""
             }
            },
            "type": "scatter3d"
           }
          ],
          "scattercarpet": [
           {
            "marker": {
             "colorbar": {
              "outlinewidth": 0,
              "ticks": ""
             }
            },
            "type": "scattercarpet"
           }
          ],
          "scattergeo": [
           {
            "marker": {
             "colorbar": {
              "outlinewidth": 0,
              "ticks": ""
             }
            },
            "type": "scattergeo"
           }
          ],
          "scattergl": [
           {
            "marker": {
             "colorbar": {
              "outlinewidth": 0,
              "ticks": ""
             }
            },
            "type": "scattergl"
           }
          ],
          "scattermapbox": [
           {
            "marker": {
             "colorbar": {
              "outlinewidth": 0,
              "ticks": ""
             }
            },
            "type": "scattermapbox"
           }
          ],
          "scatterpolar": [
           {
            "marker": {
             "colorbar": {
              "outlinewidth": 0,
              "ticks": ""
             }
            },
            "type": "scatterpolar"
           }
          ],
          "scatterpolargl": [
           {
            "marker": {
             "colorbar": {
              "outlinewidth": 0,
              "ticks": ""
             }
            },
            "type": "scatterpolargl"
           }
          ],
          "scatterternary": [
           {
            "marker": {
             "colorbar": {
              "outlinewidth": 0,
              "ticks": ""
             }
            },
            "type": "scatterternary"
           }
          ],
          "surface": [
           {
            "colorbar": {
             "outlinewidth": 0,
             "ticks": ""
            },
            "colorscale": [
             [
              0,
              "#0d0887"
             ],
             [
              0.1111111111111111,
              "#46039f"
             ],
             [
              0.2222222222222222,
              "#7201a8"
             ],
             [
              0.3333333333333333,
              "#9c179e"
             ],
             [
              0.4444444444444444,
              "#bd3786"
             ],
             [
              0.5555555555555556,
              "#d8576b"
             ],
             [
              0.6666666666666666,
              "#ed7953"
             ],
             [
              0.7777777777777778,
              "#fb9f3a"
             ],
             [
              0.8888888888888888,
              "#fdca26"
             ],
             [
              1,
              "#f0f921"
             ]
            ],
            "type": "surface"
           }
          ],
          "table": [
           {
            "cells": {
             "fill": {
              "color": "#EBF0F8"
             },
             "line": {
              "color": "white"
             }
            },
            "header": {
             "fill": {
              "color": "#C8D4E3"
             },
             "line": {
              "color": "white"
             }
            },
            "type": "table"
           }
          ]
         },
         "layout": {
          "annotationdefaults": {
           "arrowcolor": "#2a3f5f",
           "arrowhead": 0,
           "arrowwidth": 1
          },
          "coloraxis": {
           "colorbar": {
            "outlinewidth": 0,
            "ticks": ""
           }
          },
          "colorscale": {
           "diverging": [
            [
             0,
             "#8e0152"
            ],
            [
             0.1,
             "#c51b7d"
            ],
            [
             0.2,
             "#de77ae"
            ],
            [
             0.3,
             "#f1b6da"
            ],
            [
             0.4,
             "#fde0ef"
            ],
            [
             0.5,
             "#f7f7f7"
            ],
            [
             0.6,
             "#e6f5d0"
            ],
            [
             0.7,
             "#b8e186"
            ],
            [
             0.8,
             "#7fbc41"
            ],
            [
             0.9,
             "#4d9221"
            ],
            [
             1,
             "#276419"
            ]
           ],
           "sequential": [
            [
             0,
             "#0d0887"
            ],
            [
             0.1111111111111111,
             "#46039f"
            ],
            [
             0.2222222222222222,
             "#7201a8"
            ],
            [
             0.3333333333333333,
             "#9c179e"
            ],
            [
             0.4444444444444444,
             "#bd3786"
            ],
            [
             0.5555555555555556,
             "#d8576b"
            ],
            [
             0.6666666666666666,
             "#ed7953"
            ],
            [
             0.7777777777777778,
             "#fb9f3a"
            ],
            [
             0.8888888888888888,
             "#fdca26"
            ],
            [
             1,
             "#f0f921"
            ]
           ],
           "sequentialminus": [
            [
             0,
             "#0d0887"
            ],
            [
             0.1111111111111111,
             "#46039f"
            ],
            [
             0.2222222222222222,
             "#7201a8"
            ],
            [
             0.3333333333333333,
             "#9c179e"
            ],
            [
             0.4444444444444444,
             "#bd3786"
            ],
            [
             0.5555555555555556,
             "#d8576b"
            ],
            [
             0.6666666666666666,
             "#ed7953"
            ],
            [
             0.7777777777777778,
             "#fb9f3a"
            ],
            [
             0.8888888888888888,
             "#fdca26"
            ],
            [
             1,
             "#f0f921"
            ]
           ]
          },
          "colorway": [
           "#636efa",
           "#EF553B",
           "#00cc96",
           "#ab63fa",
           "#FFA15A",
           "#19d3f3",
           "#FF6692",
           "#B6E880",
           "#FF97FF",
           "#FECB52"
          ],
          "font": {
           "color": "#2a3f5f"
          },
          "geo": {
           "bgcolor": "white",
           "lakecolor": "white",
           "landcolor": "#E5ECF6",
           "showlakes": true,
           "showland": true,
           "subunitcolor": "white"
          },
          "hoverlabel": {
           "align": "left"
          },
          "hovermode": "closest",
          "mapbox": {
           "style": "light"
          },
          "paper_bgcolor": "white",
          "plot_bgcolor": "#E5ECF6",
          "polar": {
           "angularaxis": {
            "gridcolor": "white",
            "linecolor": "white",
            "ticks": ""
           },
           "bgcolor": "#E5ECF6",
           "radialaxis": {
            "gridcolor": "white",
            "linecolor": "white",
            "ticks": ""
           }
          },
          "scene": {
           "xaxis": {
            "backgroundcolor": "#E5ECF6",
            "gridcolor": "white",
            "gridwidth": 2,
            "linecolor": "white",
            "showbackground": true,
            "ticks": "",
            "zerolinecolor": "white"
           },
           "yaxis": {
            "backgroundcolor": "#E5ECF6",
            "gridcolor": "white",
            "gridwidth": 2,
            "linecolor": "white",
            "showbackground": true,
            "ticks": "",
            "zerolinecolor": "white"
           },
           "zaxis": {
            "backgroundcolor": "#E5ECF6",
            "gridcolor": "white",
            "gridwidth": 2,
            "linecolor": "white",
            "showbackground": true,
            "ticks": "",
            "zerolinecolor": "white"
           }
          },
          "shapedefaults": {
           "line": {
            "color": "#2a3f5f"
           }
          },
          "ternary": {
           "aaxis": {
            "gridcolor": "white",
            "linecolor": "white",
            "ticks": ""
           },
           "baxis": {
            "gridcolor": "white",
            "linecolor": "white",
            "ticks": ""
           },
           "bgcolor": "#E5ECF6",
           "caxis": {
            "gridcolor": "white",
            "linecolor": "white",
            "ticks": ""
           }
          },
          "title": {
           "x": 0.05
          },
          "xaxis": {
           "automargin": true,
           "gridcolor": "white",
           "linecolor": "white",
           "ticks": "",
           "title": {
            "standoff": 15
           },
           "zerolinecolor": "white",
           "zerolinewidth": 2
          },
          "yaxis": {
           "automargin": true,
           "gridcolor": "white",
           "linecolor": "white",
           "ticks": "",
           "title": {
            "standoff": 15
           },
           "zerolinecolor": "white",
           "zerolinewidth": 2
          }
         }
        },
        "title": {
         "font": {
          "color": "#4D5663"
         }
        },
        "xaxis": {
         "gridcolor": "#E1E5ED",
         "showgrid": true,
         "tickfont": {
          "color": "#4D5663"
         },
         "title": {
          "font": {
           "color": "#4D5663"
          },
          "text": ""
         },
         "zerolinecolor": "#E1E5ED"
        },
        "yaxis": {
         "gridcolor": "#E1E5ED",
         "showgrid": true,
         "tickfont": {
          "color": "#4D5663"
         },
         "title": {
          "font": {
           "color": "#4D5663"
          },
          "text": ""
         },
         "zerolinecolor": "#E1E5ED"
        }
       }
      },
      "text/html": [
       "<div>\n",
       "        \n",
       "        \n",
       "            <div id=\"fac65643-1651-4513-81dd-79bbe65c056c\" class=\"plotly-graph-div\" style=\"height:525px; width:100%;\"></div>\n",
       "            <script type=\"text/javascript\">\n",
       "                require([\"plotly\"], function(Plotly) {\n",
       "                    window.PLOTLYENV=window.PLOTLYENV || {};\n",
       "                    window.PLOTLYENV.BASE_URL='https://plot.ly';\n",
       "                    \n",
       "                if (document.getElementById(\"fac65643-1651-4513-81dd-79bbe65c056c\")) {\n",
       "                    Plotly.newPlot(\n",
       "                        'fac65643-1651-4513-81dd-79bbe65c056c',\n",
       "                        [{\"histfunc\": \"count\", \"histnorm\": \"\", \"marker\": {\"color\": \"rgba(255, 153, 51, 1.0)\", \"line\": {\"color\": \"#4D5663\", \"width\": 1.3}}, \"name\": \"A\", \"nbinsx\": 25, \"opacity\": 0.8, \"orientation\": \"v\", \"type\": \"histogram\", \"x\": [0.5607480575046337, -0.3708633475833689, 0.4230264901718323, -0.9549106351528698, -0.20741263670876842, -1.024518844287343, -1.0367249687928646, 2.0584447684824885, -1.4187588960747235, -0.046585194692532424, 0.36787548846534923, -2.044211812156692, -2.550339562813716, 0.40015190479056917, 0.5681708126504649, 0.7940914617616944, -1.068967565955156, 0.07867740459071079, 0.4235998492954107, 0.39095912999154775, 1.327686045467365, -1.754462647693073, -0.578173012072137, -1.0779798184582985, -1.891079726438191, 0.4659456386036681, -0.21802135906844125, 0.19367326395113266, -1.9603362574570133, 0.14932514499258526, -0.9529428773655932, 0.7856639631456367, 0.4156555358714044, 0.7153211913364734, -1.3322882860784802, 0.4139571120324161, 0.3967036149503087, 0.4803572763821211, -0.15324245046653046, -0.3119030508533104, 0.9967146023695868, -0.47050022120553125, -0.4892774201067624, -1.85008249779815, -1.7845525458308382, 0.1353531820802186, 0.8699058267717776, -0.595527228953319, -0.49038254076086707, 0.14079245442134247, -1.6579724363407244, 2.418537608960433, 0.27571151766342716, -1.2092357839728465, 0.37547517010499964, -1.0630914256315618, -0.21351316426565678, -0.27672782264169615, 1.1129222293747094, -0.28712792311619945, 0.7129540586172829, -1.566751562768234, 0.9296950897556568, -0.9935280386456603, -1.1710637069029972, 1.0331173300172627, -0.7779591509796198, 0.21686394225833813, 0.9654083038662515, 0.03337425399400426, 0.2108971788093691, -2.3580895215396565, 0.896589310994641, 0.674101904339704, -0.38463931465655277, -0.23191184444903365, -0.8086330854286654, -1.445946605784175, -1.9764770166489303, -0.37283081828887904, 0.8367782985876825, -0.30237097827066195, 0.380435715262536, 0.031050281970491544, -1.0946115915704187, 2.2558393050008103, -0.12197341968923685, 0.1407793346328531, -0.7188373798798, 0.8657765896581454, -0.13382126496639835, 0.970122231997722, -0.029542020767768597, -0.8690891890937565, -1.0338929783040642, -0.6267558462723102, -1.4157502451975266, -0.5785252269504768, 0.23779112418985437, -0.158700233859291]}],\n",
       "                        {\"barmode\": \"overlay\", \"legend\": {\"bgcolor\": \"#F5F6F9\", \"font\": {\"color\": \"#4D5663\"}}, \"paper_bgcolor\": \"#F5F6F9\", \"plot_bgcolor\": \"#F5F6F9\", \"template\": {\"data\": {\"bar\": [{\"error_x\": {\"color\": \"#2a3f5f\"}, \"error_y\": {\"color\": \"#2a3f5f\"}, \"marker\": {\"line\": {\"color\": \"#E5ECF6\", \"width\": 0.5}}, \"type\": \"bar\"}], \"barpolar\": [{\"marker\": {\"line\": {\"color\": \"#E5ECF6\", \"width\": 0.5}}, \"type\": \"barpolar\"}], \"carpet\": [{\"aaxis\": {\"endlinecolor\": \"#2a3f5f\", \"gridcolor\": \"white\", \"linecolor\": \"white\", \"minorgridcolor\": \"white\", \"startlinecolor\": \"#2a3f5f\"}, \"baxis\": {\"endlinecolor\": \"#2a3f5f\", \"gridcolor\": \"white\", \"linecolor\": \"white\", \"minorgridcolor\": \"white\", \"startlinecolor\": \"#2a3f5f\"}, \"type\": \"carpet\"}], \"choropleth\": [{\"colorbar\": {\"outlinewidth\": 0, \"ticks\": \"\"}, \"type\": \"choropleth\"}], \"contour\": [{\"colorbar\": {\"outlinewidth\": 0, \"ticks\": \"\"}, \"colorscale\": [[0.0, \"#0d0887\"], [0.1111111111111111, \"#46039f\"], [0.2222222222222222, \"#7201a8\"], [0.3333333333333333, \"#9c179e\"], [0.4444444444444444, \"#bd3786\"], [0.5555555555555556, \"#d8576b\"], [0.6666666666666666, \"#ed7953\"], [0.7777777777777778, \"#fb9f3a\"], [0.8888888888888888, \"#fdca26\"], [1.0, \"#f0f921\"]], \"type\": \"contour\"}], \"contourcarpet\": [{\"colorbar\": {\"outlinewidth\": 0, \"ticks\": \"\"}, \"type\": \"contourcarpet\"}], \"heatmap\": [{\"colorbar\": {\"outlinewidth\": 0, \"ticks\": \"\"}, \"colorscale\": [[0.0, \"#0d0887\"], [0.1111111111111111, \"#46039f\"], [0.2222222222222222, \"#7201a8\"], [0.3333333333333333, \"#9c179e\"], [0.4444444444444444, \"#bd3786\"], [0.5555555555555556, \"#d8576b\"], [0.6666666666666666, \"#ed7953\"], [0.7777777777777778, \"#fb9f3a\"], [0.8888888888888888, \"#fdca26\"], [1.0, \"#f0f921\"]], \"type\": \"heatmap\"}], \"heatmapgl\": [{\"colorbar\": {\"outlinewidth\": 0, \"ticks\": \"\"}, \"colorscale\": [[0.0, \"#0d0887\"], [0.1111111111111111, \"#46039f\"], [0.2222222222222222, \"#7201a8\"], [0.3333333333333333, \"#9c179e\"], [0.4444444444444444, \"#bd3786\"], [0.5555555555555556, \"#d8576b\"], [0.6666666666666666, \"#ed7953\"], [0.7777777777777778, \"#fb9f3a\"], [0.8888888888888888, \"#fdca26\"], [1.0, \"#f0f921\"]], \"type\": \"heatmapgl\"}], \"histogram\": [{\"marker\": {\"colorbar\": {\"outlinewidth\": 0, \"ticks\": \"\"}}, \"type\": \"histogram\"}], \"histogram2d\": [{\"colorbar\": {\"outlinewidth\": 0, \"ticks\": \"\"}, \"colorscale\": [[0.0, \"#0d0887\"], [0.1111111111111111, \"#46039f\"], [0.2222222222222222, \"#7201a8\"], [0.3333333333333333, \"#9c179e\"], [0.4444444444444444, \"#bd3786\"], [0.5555555555555556, \"#d8576b\"], [0.6666666666666666, \"#ed7953\"], [0.7777777777777778, \"#fb9f3a\"], [0.8888888888888888, \"#fdca26\"], [1.0, \"#f0f921\"]], \"type\": \"histogram2d\"}], \"histogram2dcontour\": [{\"colorbar\": {\"outlinewidth\": 0, \"ticks\": \"\"}, \"colorscale\": [[0.0, \"#0d0887\"], [0.1111111111111111, \"#46039f\"], [0.2222222222222222, \"#7201a8\"], [0.3333333333333333, \"#9c179e\"], [0.4444444444444444, \"#bd3786\"], [0.5555555555555556, \"#d8576b\"], [0.6666666666666666, \"#ed7953\"], [0.7777777777777778, \"#fb9f3a\"], [0.8888888888888888, \"#fdca26\"], [1.0, \"#f0f921\"]], \"type\": \"histogram2dcontour\"}], \"mesh3d\": [{\"colorbar\": {\"outlinewidth\": 0, \"ticks\": \"\"}, \"type\": \"mesh3d\"}], \"parcoords\": [{\"line\": {\"colorbar\": {\"outlinewidth\": 0, \"ticks\": \"\"}}, \"type\": \"parcoords\"}], \"pie\": [{\"automargin\": true, \"type\": \"pie\"}], \"scatter\": [{\"marker\": {\"colorbar\": {\"outlinewidth\": 0, \"ticks\": \"\"}}, \"type\": \"scatter\"}], \"scatter3d\": [{\"line\": {\"colorbar\": {\"outlinewidth\": 0, \"ticks\": \"\"}}, \"marker\": {\"colorbar\": {\"outlinewidth\": 0, \"ticks\": \"\"}}, \"type\": \"scatter3d\"}], \"scattercarpet\": [{\"marker\": {\"colorbar\": {\"outlinewidth\": 0, \"ticks\": \"\"}}, \"type\": \"scattercarpet\"}], \"scattergeo\": [{\"marker\": {\"colorbar\": {\"outlinewidth\": 0, \"ticks\": \"\"}}, \"type\": \"scattergeo\"}], \"scattergl\": [{\"marker\": {\"colorbar\": {\"outlinewidth\": 0, \"ticks\": \"\"}}, \"type\": \"scattergl\"}], \"scattermapbox\": [{\"marker\": {\"colorbar\": {\"outlinewidth\": 0, \"ticks\": \"\"}}, \"type\": \"scattermapbox\"}], \"scatterpolar\": [{\"marker\": {\"colorbar\": {\"outlinewidth\": 0, \"ticks\": \"\"}}, \"type\": \"scatterpolar\"}], \"scatterpolargl\": [{\"marker\": {\"colorbar\": {\"outlinewidth\": 0, \"ticks\": \"\"}}, \"type\": \"scatterpolargl\"}], \"scatterternary\": [{\"marker\": {\"colorbar\": {\"outlinewidth\": 0, \"ticks\": \"\"}}, \"type\": \"scatterternary\"}], \"surface\": [{\"colorbar\": {\"outlinewidth\": 0, \"ticks\": \"\"}, \"colorscale\": [[0.0, \"#0d0887\"], [0.1111111111111111, \"#46039f\"], [0.2222222222222222, \"#7201a8\"], [0.3333333333333333, \"#9c179e\"], [0.4444444444444444, \"#bd3786\"], [0.5555555555555556, \"#d8576b\"], [0.6666666666666666, \"#ed7953\"], [0.7777777777777778, \"#fb9f3a\"], [0.8888888888888888, \"#fdca26\"], [1.0, \"#f0f921\"]], \"type\": \"surface\"}], \"table\": [{\"cells\": {\"fill\": {\"color\": \"#EBF0F8\"}, \"line\": {\"color\": \"white\"}}, \"header\": {\"fill\": {\"color\": \"#C8D4E3\"}, \"line\": {\"color\": \"white\"}}, \"type\": \"table\"}]}, \"layout\": {\"annotationdefaults\": {\"arrowcolor\": \"#2a3f5f\", \"arrowhead\": 0, \"arrowwidth\": 1}, \"coloraxis\": {\"colorbar\": {\"outlinewidth\": 0, \"ticks\": \"\"}}, \"colorscale\": {\"diverging\": [[0, \"#8e0152\"], [0.1, \"#c51b7d\"], [0.2, \"#de77ae\"], [0.3, \"#f1b6da\"], [0.4, \"#fde0ef\"], [0.5, \"#f7f7f7\"], [0.6, \"#e6f5d0\"], [0.7, \"#b8e186\"], [0.8, \"#7fbc41\"], [0.9, \"#4d9221\"], [1, \"#276419\"]], \"sequential\": [[0.0, \"#0d0887\"], [0.1111111111111111, \"#46039f\"], [0.2222222222222222, \"#7201a8\"], [0.3333333333333333, \"#9c179e\"], [0.4444444444444444, \"#bd3786\"], [0.5555555555555556, \"#d8576b\"], [0.6666666666666666, \"#ed7953\"], [0.7777777777777778, \"#fb9f3a\"], [0.8888888888888888, \"#fdca26\"], [1.0, \"#f0f921\"]], \"sequentialminus\": [[0.0, \"#0d0887\"], [0.1111111111111111, \"#46039f\"], [0.2222222222222222, \"#7201a8\"], [0.3333333333333333, \"#9c179e\"], [0.4444444444444444, \"#bd3786\"], [0.5555555555555556, \"#d8576b\"], [0.6666666666666666, \"#ed7953\"], [0.7777777777777778, \"#fb9f3a\"], [0.8888888888888888, \"#fdca26\"], [1.0, \"#f0f921\"]]}, \"colorway\": [\"#636efa\", \"#EF553B\", \"#00cc96\", \"#ab63fa\", \"#FFA15A\", \"#19d3f3\", \"#FF6692\", \"#B6E880\", \"#FF97FF\", \"#FECB52\"], \"font\": {\"color\": \"#2a3f5f\"}, \"geo\": {\"bgcolor\": \"white\", \"lakecolor\": \"white\", \"landcolor\": \"#E5ECF6\", \"showlakes\": true, \"showland\": true, \"subunitcolor\": \"white\"}, \"hoverlabel\": {\"align\": \"left\"}, \"hovermode\": \"closest\", \"mapbox\": {\"style\": \"light\"}, \"paper_bgcolor\": \"white\", \"plot_bgcolor\": \"#E5ECF6\", \"polar\": {\"angularaxis\": {\"gridcolor\": \"white\", \"linecolor\": \"white\", \"ticks\": \"\"}, \"bgcolor\": \"#E5ECF6\", \"radialaxis\": {\"gridcolor\": \"white\", \"linecolor\": \"white\", \"ticks\": \"\"}}, \"scene\": {\"xaxis\": {\"backgroundcolor\": \"#E5ECF6\", \"gridcolor\": \"white\", \"gridwidth\": 2, \"linecolor\": \"white\", \"showbackground\": true, \"ticks\": \"\", \"zerolinecolor\": \"white\"}, \"yaxis\": {\"backgroundcolor\": \"#E5ECF6\", \"gridcolor\": \"white\", \"gridwidth\": 2, \"linecolor\": \"white\", \"showbackground\": true, \"ticks\": \"\", \"zerolinecolor\": \"white\"}, \"zaxis\": {\"backgroundcolor\": \"#E5ECF6\", \"gridcolor\": \"white\", \"gridwidth\": 2, \"linecolor\": \"white\", \"showbackground\": true, \"ticks\": \"\", \"zerolinecolor\": \"white\"}}, \"shapedefaults\": {\"line\": {\"color\": \"#2a3f5f\"}}, \"ternary\": {\"aaxis\": {\"gridcolor\": \"white\", \"linecolor\": \"white\", \"ticks\": \"\"}, \"baxis\": {\"gridcolor\": \"white\", \"linecolor\": \"white\", \"ticks\": \"\"}, \"bgcolor\": \"#E5ECF6\", \"caxis\": {\"gridcolor\": \"white\", \"linecolor\": \"white\", \"ticks\": \"\"}}, \"title\": {\"x\": 0.05}, \"xaxis\": {\"automargin\": true, \"gridcolor\": \"white\", \"linecolor\": \"white\", \"ticks\": \"\", \"title\": {\"standoff\": 15}, \"zerolinecolor\": \"white\", \"zerolinewidth\": 2}, \"yaxis\": {\"automargin\": true, \"gridcolor\": \"white\", \"linecolor\": \"white\", \"ticks\": \"\", \"title\": {\"standoff\": 15}, \"zerolinecolor\": \"white\", \"zerolinewidth\": 2}}}, \"title\": {\"font\": {\"color\": \"#4D5663\"}}, \"xaxis\": {\"gridcolor\": \"#E1E5ED\", \"showgrid\": true, \"tickfont\": {\"color\": \"#4D5663\"}, \"title\": {\"font\": {\"color\": \"#4D5663\"}, \"text\": \"\"}, \"zerolinecolor\": \"#E1E5ED\"}, \"yaxis\": {\"gridcolor\": \"#E1E5ED\", \"showgrid\": true, \"tickfont\": {\"color\": \"#4D5663\"}, \"title\": {\"font\": {\"color\": \"#4D5663\"}, \"text\": \"\"}, \"zerolinecolor\": \"#E1E5ED\"}},\n",
       "                        {\"showLink\": true, \"linkText\": \"Export to plot.ly\", \"plotlyServerURL\": \"https://plot.ly\", \"responsive\": true}\n",
       "                    ).then(function(){\n",
       "                            \n",
       "var gd = document.getElementById('fac65643-1651-4513-81dd-79bbe65c056c');\n",
       "var x = new MutationObserver(function (mutations, observer) {{\n",
       "        var display = window.getComputedStyle(gd).display;\n",
       "        if (!display || display === 'none') {{\n",
       "            console.log([gd, 'removed!']);\n",
       "            Plotly.purge(gd);\n",
       "            observer.disconnect();\n",
       "        }}\n",
       "}});\n",
       "\n",
       "// Listen for the removal of the full notebook cells\n",
       "var notebookContainer = gd.closest('#notebook-container');\n",
       "if (notebookContainer) {{\n",
       "    x.observe(notebookContainer, {childList: true});\n",
       "}}\n",
       "\n",
       "// Listen for the clearing of the current output cell\n",
       "var outputEl = gd.closest('.output');\n",
       "if (outputEl) {{\n",
       "    x.observe(outputEl, {childList: true});\n",
       "}}\n",
       "\n",
       "                        })\n",
       "                };\n",
       "                });\n",
       "            </script>\n",
       "        </div>"
      ]
     },
     "metadata": {},
     "output_type": "display_data"
    }
   ],
   "source": [
    "df['A'].iplot(kind='hist',bins=25)"
   ]
  },
  {
   "cell_type": "code",
   "execution_count": 18,
   "metadata": {},
   "outputs": [
    {
     "data": {
      "application/vnd.plotly.v1+json": {
       "config": {
        "linkText": "Export to plot.ly",
        "plotlyServerURL": "https://plot.ly",
        "showLink": true
       },
       "data": [
        {
         "marker": {
          "color": [
           "rgb(255, 153, 51)",
           "rgb(55, 128, 191)",
           "rgb(50, 171, 96)",
           "rgb(128, 0, 128)",
           "rgb(219, 64, 82)",
           "rgb(0, 128, 128)",
           "rgb(255, 255, 51)",
           "rgb(128, 128, 0)",
           "rgb(251, 128, 114)",
           "rgb(128, 177, 211)"
          ],
          "line": {
           "width": 1.3
          },
          "size": [
           74,
           55,
           71,
           44,
           59,
           42,
           42,
           104,
           34,
           62,
           70,
           22,
           12,
           71,
           74,
           79,
           41,
           64,
           71,
           71,
           90,
           28,
           51,
           41,
           25,
           72,
           58,
           67,
           23,
           66,
           44,
           79,
           71,
           77,
           36,
           71,
           71,
           72,
           60,
           57,
           83,
           53,
           53,
           26,
           27,
           66,
           80,
           51,
           53,
           66,
           29,
           112,
           68,
           38,
           70,
           41,
           59,
           57,
           85,
           57,
           77,
           31,
           82,
           43,
           39,
           84,
           47,
           67,
           82,
           63,
           67,
           15,
           81,
           76,
           55,
           58,
           47,
           34,
           23,
           55,
           80,
           57,
           70,
           63,
           41,
           108,
           60,
           66,
           48,
           80,
           60,
           82,
           62,
           45,
           42,
           50,
           34,
           51,
           68,
           60
          ],
          "symbol": "circle"
         },
         "mode": "markers",
         "text": "",
         "type": "scatter",
         "x": [
          0.5607480575046337,
          -0.3708633475833689,
          0.4230264901718323,
          -0.9549106351528698,
          -0.20741263670876842,
          -1.024518844287343,
          -1.0367249687928646,
          2.0584447684824885,
          -1.4187588960747235,
          -0.046585194692532424,
          0.36787548846534923,
          -2.044211812156692,
          -2.550339562813716,
          0.40015190479056917,
          0.5681708126504649,
          0.7940914617616944,
          -1.068967565955156,
          0.07867740459071079,
          0.4235998492954107,
          0.39095912999154775,
          1.327686045467365,
          -1.754462647693073,
          -0.578173012072137,
          -1.0779798184582985,
          -1.891079726438191,
          0.4659456386036681,
          -0.21802135906844125,
          0.19367326395113266,
          -1.9603362574570133,
          0.14932514499258526,
          -0.9529428773655932,
          0.7856639631456367,
          0.4156555358714044,
          0.7153211913364734,
          -1.3322882860784802,
          0.4139571120324161,
          0.3967036149503087,
          0.4803572763821211,
          -0.15324245046653046,
          -0.3119030508533104,
          0.9967146023695868,
          -0.47050022120553125,
          -0.4892774201067624,
          -1.85008249779815,
          -1.7845525458308382,
          0.1353531820802186,
          0.8699058267717776,
          -0.595527228953319,
          -0.49038254076086707,
          0.14079245442134247,
          -1.6579724363407244,
          2.418537608960433,
          0.27571151766342716,
          -1.2092357839728465,
          0.37547517010499964,
          -1.0630914256315618,
          -0.21351316426565678,
          -0.27672782264169615,
          1.1129222293747094,
          -0.28712792311619945,
          0.7129540586172829,
          -1.566751562768234,
          0.9296950897556568,
          -0.9935280386456603,
          -1.1710637069029972,
          1.0331173300172627,
          -0.7779591509796198,
          0.21686394225833813,
          0.9654083038662515,
          0.03337425399400426,
          0.2108971788093691,
          -2.3580895215396565,
          0.896589310994641,
          0.674101904339704,
          -0.38463931465655277,
          -0.23191184444903365,
          -0.8086330854286654,
          -1.445946605784175,
          -1.9764770166489303,
          -0.37283081828887904,
          0.8367782985876825,
          -0.30237097827066195,
          0.380435715262536,
          0.031050281970491544,
          -1.0946115915704187,
          2.2558393050008103,
          -0.12197341968923685,
          0.1407793346328531,
          -0.7188373798798,
          0.8657765896581454,
          -0.13382126496639835,
          0.970122231997722,
          -0.029542020767768597,
          -0.8690891890937565,
          -1.0338929783040642,
          -0.6267558462723102,
          -1.4157502451975266,
          -0.5785252269504768,
          0.23779112418985437,
          -0.158700233859291
         ],
         "y": [
          0.08628323394041917,
          0.1996020788959708,
          0.20815944961259064,
          2.131671412751742,
          -0.6230820414858802,
          -0.20059453914798314,
          0.30850312105249406,
          1.7452481067756915,
          0.7328641159155839,
          2.1251837923160504,
          0.47887481994342734,
          -0.1825069749191838,
          2.138799212851821,
          1.0451685881907276,
          0.7434135269810468,
          0.3442098404393374,
          -0.6667688075567253,
          0.06371752400275227,
          0.0027046037096464712,
          0.08321386399124807,
          0.22243369389629775,
          0.4755975179492282,
          -0.8979402876528175,
          -1.85402118299806,
          -0.9247498611392219,
          -0.8602848187962258,
          0.04358900306148492,
          -0.5676161630929298,
          -0.07734514221487851,
          0.18994788348417663,
          -0.7365699535202821,
          0.32817276921175176,
          0.5845710556239431,
          0.5504481459044616,
          -0.7217255921692333,
          1.3536859978584614,
          0.7413518060931923,
          0.4954504182405843,
          -1.297639979562549,
          -1.5211164017484191,
          -0.5356313159929892,
          -0.14139501644207536,
          -2.535185047270597,
          -1.3972714221877187,
          0.08578376083602648,
          -1.8771408047470939,
          -0.1382002174398529,
          -0.4319456408707257,
          -0.6873636767251813,
          -2.154901585183574,
          0.8349884750677796,
          -0.29344606963996633,
          -2.0646176720779064,
          0.2715258162942724,
          -0.8987499333895042,
          0.6737517491122544,
          -0.8903450187141376,
          -0.5865223603579941,
          1.2182908148049052,
          0.5438298456028653,
          -0.9955332831521326,
          -0.9267142054469677,
          -1.8737830394162058,
          0.4155025883669216,
          1.4072161601242574,
          1.6558356000102168,
          0.1809956349868083,
          0.05305950380555659,
          -0.9973706957566846,
          0.8485135367398966,
          -0.09069496672792628,
          1.2575460701823191,
          -1.1954067348628163,
          -0.03249315387521831,
          0.28128026601803596,
          -1.0405636511730798,
          -0.17966114977992012,
          -0.19911305400341872,
          -0.04475203909549446,
          -0.33144565439472856,
          2.7808030289348644,
          0.08125916906489697,
          -1.5582135882821042,
          -1.288804376166216,
          0.14180622305606383,
          0.5449416201336499,
          -0.39609729585126346,
          -0.12395381701788742,
          0.07703560202435866,
          -1.0272511213580646,
          0.013861719718305783,
          -0.10758763900023838,
          -0.3976760311590689,
          1.1015906152909287,
          -0.6678659159520443,
          -0.8442929808644131,
          0.8409636359623852,
          0.28507155270790163,
          -0.6297736460594562,
          -2.9931078502086437
         ]
        }
       ],
       "layout": {
        "legend": {
         "bgcolor": "#F5F6F9",
         "font": {
          "color": "#4D5663"
         }
        },
        "paper_bgcolor": "#F5F6F9",
        "plot_bgcolor": "#F5F6F9",
        "template": {
         "data": {
          "bar": [
           {
            "error_x": {
             "color": "#2a3f5f"
            },
            "error_y": {
             "color": "#2a3f5f"
            },
            "marker": {
             "line": {
              "color": "#E5ECF6",
              "width": 0.5
             }
            },
            "type": "bar"
           }
          ],
          "barpolar": [
           {
            "marker": {
             "line": {
              "color": "#E5ECF6",
              "width": 0.5
             }
            },
            "type": "barpolar"
           }
          ],
          "carpet": [
           {
            "aaxis": {
             "endlinecolor": "#2a3f5f",
             "gridcolor": "white",
             "linecolor": "white",
             "minorgridcolor": "white",
             "startlinecolor": "#2a3f5f"
            },
            "baxis": {
             "endlinecolor": "#2a3f5f",
             "gridcolor": "white",
             "linecolor": "white",
             "minorgridcolor": "white",
             "startlinecolor": "#2a3f5f"
            },
            "type": "carpet"
           }
          ],
          "choropleth": [
           {
            "colorbar": {
             "outlinewidth": 0,
             "ticks": ""
            },
            "type": "choropleth"
           }
          ],
          "contour": [
           {
            "colorbar": {
             "outlinewidth": 0,
             "ticks": ""
            },
            "colorscale": [
             [
              0,
              "#0d0887"
             ],
             [
              0.1111111111111111,
              "#46039f"
             ],
             [
              0.2222222222222222,
              "#7201a8"
             ],
             [
              0.3333333333333333,
              "#9c179e"
             ],
             [
              0.4444444444444444,
              "#bd3786"
             ],
             [
              0.5555555555555556,
              "#d8576b"
             ],
             [
              0.6666666666666666,
              "#ed7953"
             ],
             [
              0.7777777777777778,
              "#fb9f3a"
             ],
             [
              0.8888888888888888,
              "#fdca26"
             ],
             [
              1,
              "#f0f921"
             ]
            ],
            "type": "contour"
           }
          ],
          "contourcarpet": [
           {
            "colorbar": {
             "outlinewidth": 0,
             "ticks": ""
            },
            "type": "contourcarpet"
           }
          ],
          "heatmap": [
           {
            "colorbar": {
             "outlinewidth": 0,
             "ticks": ""
            },
            "colorscale": [
             [
              0,
              "#0d0887"
             ],
             [
              0.1111111111111111,
              "#46039f"
             ],
             [
              0.2222222222222222,
              "#7201a8"
             ],
             [
              0.3333333333333333,
              "#9c179e"
             ],
             [
              0.4444444444444444,
              "#bd3786"
             ],
             [
              0.5555555555555556,
              "#d8576b"
             ],
             [
              0.6666666666666666,
              "#ed7953"
             ],
             [
              0.7777777777777778,
              "#fb9f3a"
             ],
             [
              0.8888888888888888,
              "#fdca26"
             ],
             [
              1,
              "#f0f921"
             ]
            ],
            "type": "heatmap"
           }
          ],
          "heatmapgl": [
           {
            "colorbar": {
             "outlinewidth": 0,
             "ticks": ""
            },
            "colorscale": [
             [
              0,
              "#0d0887"
             ],
             [
              0.1111111111111111,
              "#46039f"
             ],
             [
              0.2222222222222222,
              "#7201a8"
             ],
             [
              0.3333333333333333,
              "#9c179e"
             ],
             [
              0.4444444444444444,
              "#bd3786"
             ],
             [
              0.5555555555555556,
              "#d8576b"
             ],
             [
              0.6666666666666666,
              "#ed7953"
             ],
             [
              0.7777777777777778,
              "#fb9f3a"
             ],
             [
              0.8888888888888888,
              "#fdca26"
             ],
             [
              1,
              "#f0f921"
             ]
            ],
            "type": "heatmapgl"
           }
          ],
          "histogram": [
           {
            "marker": {
             "colorbar": {
              "outlinewidth": 0,
              "ticks": ""
             }
            },
            "type": "histogram"
           }
          ],
          "histogram2d": [
           {
            "colorbar": {
             "outlinewidth": 0,
             "ticks": ""
            },
            "colorscale": [
             [
              0,
              "#0d0887"
             ],
             [
              0.1111111111111111,
              "#46039f"
             ],
             [
              0.2222222222222222,
              "#7201a8"
             ],
             [
              0.3333333333333333,
              "#9c179e"
             ],
             [
              0.4444444444444444,
              "#bd3786"
             ],
             [
              0.5555555555555556,
              "#d8576b"
             ],
             [
              0.6666666666666666,
              "#ed7953"
             ],
             [
              0.7777777777777778,
              "#fb9f3a"
             ],
             [
              0.8888888888888888,
              "#fdca26"
             ],
             [
              1,
              "#f0f921"
             ]
            ],
            "type": "histogram2d"
           }
          ],
          "histogram2dcontour": [
           {
            "colorbar": {
             "outlinewidth": 0,
             "ticks": ""
            },
            "colorscale": [
             [
              0,
              "#0d0887"
             ],
             [
              0.1111111111111111,
              "#46039f"
             ],
             [
              0.2222222222222222,
              "#7201a8"
             ],
             [
              0.3333333333333333,
              "#9c179e"
             ],
             [
              0.4444444444444444,
              "#bd3786"
             ],
             [
              0.5555555555555556,
              "#d8576b"
             ],
             [
              0.6666666666666666,
              "#ed7953"
             ],
             [
              0.7777777777777778,
              "#fb9f3a"
             ],
             [
              0.8888888888888888,
              "#fdca26"
             ],
             [
              1,
              "#f0f921"
             ]
            ],
            "type": "histogram2dcontour"
           }
          ],
          "mesh3d": [
           {
            "colorbar": {
             "outlinewidth": 0,
             "ticks": ""
            },
            "type": "mesh3d"
           }
          ],
          "parcoords": [
           {
            "line": {
             "colorbar": {
              "outlinewidth": 0,
              "ticks": ""
             }
            },
            "type": "parcoords"
           }
          ],
          "pie": [
           {
            "automargin": true,
            "type": "pie"
           }
          ],
          "scatter": [
           {
            "marker": {
             "colorbar": {
              "outlinewidth": 0,
              "ticks": ""
             }
            },
            "type": "scatter"
           }
          ],
          "scatter3d": [
           {
            "line": {
             "colorbar": {
              "outlinewidth": 0,
              "ticks": ""
             }
            },
            "marker": {
             "colorbar": {
              "outlinewidth": 0,
              "ticks": ""
             }
            },
            "type": "scatter3d"
           }
          ],
          "scattercarpet": [
           {
            "marker": {
             "colorbar": {
              "outlinewidth": 0,
              "ticks": ""
             }
            },
            "type": "scattercarpet"
           }
          ],
          "scattergeo": [
           {
            "marker": {
             "colorbar": {
              "outlinewidth": 0,
              "ticks": ""
             }
            },
            "type": "scattergeo"
           }
          ],
          "scattergl": [
           {
            "marker": {
             "colorbar": {
              "outlinewidth": 0,
              "ticks": ""
             }
            },
            "type": "scattergl"
           }
          ],
          "scattermapbox": [
           {
            "marker": {
             "colorbar": {
              "outlinewidth": 0,
              "ticks": ""
             }
            },
            "type": "scattermapbox"
           }
          ],
          "scatterpolar": [
           {
            "marker": {
             "colorbar": {
              "outlinewidth": 0,
              "ticks": ""
             }
            },
            "type": "scatterpolar"
           }
          ],
          "scatterpolargl": [
           {
            "marker": {
             "colorbar": {
              "outlinewidth": 0,
              "ticks": ""
             }
            },
            "type": "scatterpolargl"
           }
          ],
          "scatterternary": [
           {
            "marker": {
             "colorbar": {
              "outlinewidth": 0,
              "ticks": ""
             }
            },
            "type": "scatterternary"
           }
          ],
          "surface": [
           {
            "colorbar": {
             "outlinewidth": 0,
             "ticks": ""
            },
            "colorscale": [
             [
              0,
              "#0d0887"
             ],
             [
              0.1111111111111111,
              "#46039f"
             ],
             [
              0.2222222222222222,
              "#7201a8"
             ],
             [
              0.3333333333333333,
              "#9c179e"
             ],
             [
              0.4444444444444444,
              "#bd3786"
             ],
             [
              0.5555555555555556,
              "#d8576b"
             ],
             [
              0.6666666666666666,
              "#ed7953"
             ],
             [
              0.7777777777777778,
              "#fb9f3a"
             ],
             [
              0.8888888888888888,
              "#fdca26"
             ],
             [
              1,
              "#f0f921"
             ]
            ],
            "type": "surface"
           }
          ],
          "table": [
           {
            "cells": {
             "fill": {
              "color": "#EBF0F8"
             },
             "line": {
              "color": "white"
             }
            },
            "header": {
             "fill": {
              "color": "#C8D4E3"
             },
             "line": {
              "color": "white"
             }
            },
            "type": "table"
           }
          ]
         },
         "layout": {
          "annotationdefaults": {
           "arrowcolor": "#2a3f5f",
           "arrowhead": 0,
           "arrowwidth": 1
          },
          "coloraxis": {
           "colorbar": {
            "outlinewidth": 0,
            "ticks": ""
           }
          },
          "colorscale": {
           "diverging": [
            [
             0,
             "#8e0152"
            ],
            [
             0.1,
             "#c51b7d"
            ],
            [
             0.2,
             "#de77ae"
            ],
            [
             0.3,
             "#f1b6da"
            ],
            [
             0.4,
             "#fde0ef"
            ],
            [
             0.5,
             "#f7f7f7"
            ],
            [
             0.6,
             "#e6f5d0"
            ],
            [
             0.7,
             "#b8e186"
            ],
            [
             0.8,
             "#7fbc41"
            ],
            [
             0.9,
             "#4d9221"
            ],
            [
             1,
             "#276419"
            ]
           ],
           "sequential": [
            [
             0,
             "#0d0887"
            ],
            [
             0.1111111111111111,
             "#46039f"
            ],
            [
             0.2222222222222222,
             "#7201a8"
            ],
            [
             0.3333333333333333,
             "#9c179e"
            ],
            [
             0.4444444444444444,
             "#bd3786"
            ],
            [
             0.5555555555555556,
             "#d8576b"
            ],
            [
             0.6666666666666666,
             "#ed7953"
            ],
            [
             0.7777777777777778,
             "#fb9f3a"
            ],
            [
             0.8888888888888888,
             "#fdca26"
            ],
            [
             1,
             "#f0f921"
            ]
           ],
           "sequentialminus": [
            [
             0,
             "#0d0887"
            ],
            [
             0.1111111111111111,
             "#46039f"
            ],
            [
             0.2222222222222222,
             "#7201a8"
            ],
            [
             0.3333333333333333,
             "#9c179e"
            ],
            [
             0.4444444444444444,
             "#bd3786"
            ],
            [
             0.5555555555555556,
             "#d8576b"
            ],
            [
             0.6666666666666666,
             "#ed7953"
            ],
            [
             0.7777777777777778,
             "#fb9f3a"
            ],
            [
             0.8888888888888888,
             "#fdca26"
            ],
            [
             1,
             "#f0f921"
            ]
           ]
          },
          "colorway": [
           "#636efa",
           "#EF553B",
           "#00cc96",
           "#ab63fa",
           "#FFA15A",
           "#19d3f3",
           "#FF6692",
           "#B6E880",
           "#FF97FF",
           "#FECB52"
          ],
          "font": {
           "color": "#2a3f5f"
          },
          "geo": {
           "bgcolor": "white",
           "lakecolor": "white",
           "landcolor": "#E5ECF6",
           "showlakes": true,
           "showland": true,
           "subunitcolor": "white"
          },
          "hoverlabel": {
           "align": "left"
          },
          "hovermode": "closest",
          "mapbox": {
           "style": "light"
          },
          "paper_bgcolor": "white",
          "plot_bgcolor": "#E5ECF6",
          "polar": {
           "angularaxis": {
            "gridcolor": "white",
            "linecolor": "white",
            "ticks": ""
           },
           "bgcolor": "#E5ECF6",
           "radialaxis": {
            "gridcolor": "white",
            "linecolor": "white",
            "ticks": ""
           }
          },
          "scene": {
           "xaxis": {
            "backgroundcolor": "#E5ECF6",
            "gridcolor": "white",
            "gridwidth": 2,
            "linecolor": "white",
            "showbackground": true,
            "ticks": "",
            "zerolinecolor": "white"
           },
           "yaxis": {
            "backgroundcolor": "#E5ECF6",
            "gridcolor": "white",
            "gridwidth": 2,
            "linecolor": "white",
            "showbackground": true,
            "ticks": "",
            "zerolinecolor": "white"
           },
           "zaxis": {
            "backgroundcolor": "#E5ECF6",
            "gridcolor": "white",
            "gridwidth": 2,
            "linecolor": "white",
            "showbackground": true,
            "ticks": "",
            "zerolinecolor": "white"
           }
          },
          "shapedefaults": {
           "line": {
            "color": "#2a3f5f"
           }
          },
          "ternary": {
           "aaxis": {
            "gridcolor": "white",
            "linecolor": "white",
            "ticks": ""
           },
           "baxis": {
            "gridcolor": "white",
            "linecolor": "white",
            "ticks": ""
           },
           "bgcolor": "#E5ECF6",
           "caxis": {
            "gridcolor": "white",
            "linecolor": "white",
            "ticks": ""
           }
          },
          "title": {
           "x": 0.05
          },
          "xaxis": {
           "automargin": true,
           "gridcolor": "white",
           "linecolor": "white",
           "ticks": "",
           "title": {
            "standoff": 15
           },
           "zerolinecolor": "white",
           "zerolinewidth": 2
          },
          "yaxis": {
           "automargin": true,
           "gridcolor": "white",
           "linecolor": "white",
           "ticks": "",
           "title": {
            "standoff": 15
           },
           "zerolinecolor": "white",
           "zerolinewidth": 2
          }
         }
        },
        "title": {
         "font": {
          "color": "#4D5663"
         }
        },
        "xaxis": {
         "gridcolor": "#E1E5ED",
         "showgrid": true,
         "tickfont": {
          "color": "#4D5663"
         },
         "title": {
          "font": {
           "color": "#4D5663"
          },
          "text": ""
         },
         "zerolinecolor": "#E1E5ED"
        },
        "yaxis": {
         "gridcolor": "#E1E5ED",
         "showgrid": true,
         "tickfont": {
          "color": "#4D5663"
         },
         "title": {
          "font": {
           "color": "#4D5663"
          },
          "text": ""
         },
         "zerolinecolor": "#E1E5ED"
        }
       }
      },
      "text/html": [
       "<div>\n",
       "        \n",
       "        \n",
       "            <div id=\"523e8ad1-88c8-4f1d-b1ee-c78338cb7d5a\" class=\"plotly-graph-div\" style=\"height:525px; width:100%;\"></div>\n",
       "            <script type=\"text/javascript\">\n",
       "                require([\"plotly\"], function(Plotly) {\n",
       "                    window.PLOTLYENV=window.PLOTLYENV || {};\n",
       "                    window.PLOTLYENV.BASE_URL='https://plot.ly';\n",
       "                    \n",
       "                if (document.getElementById(\"523e8ad1-88c8-4f1d-b1ee-c78338cb7d5a\")) {\n",
       "                    Plotly.newPlot(\n",
       "                        '523e8ad1-88c8-4f1d-b1ee-c78338cb7d5a',\n",
       "                        [{\"marker\": {\"color\": [\"rgb(255, 153, 51)\", \"rgb(55, 128, 191)\", \"rgb(50, 171, 96)\", \"rgb(128, 0, 128)\", \"rgb(219, 64, 82)\", \"rgb(0, 128, 128)\", \"rgb(255, 255, 51)\", \"rgb(128, 128, 0)\", \"rgb(251, 128, 114)\", \"rgb(128, 177, 211)\"], \"line\": {\"width\": 1.3}, \"size\": [74, 55, 71, 44, 59, 42, 42, 104, 34, 62, 70, 22, 12, 71, 74, 79, 41, 64, 71, 71, 90, 28, 51, 41, 25, 72, 58, 67, 23, 66, 44, 79, 71, 77, 36, 71, 71, 72, 60, 57, 83, 53, 53, 26, 27, 66, 80, 51, 53, 66, 29, 112, 68, 38, 70, 41, 59, 57, 85, 57, 77, 31, 82, 43, 39, 84, 47, 67, 82, 63, 67, 15, 81, 76, 55, 58, 47, 34, 23, 55, 80, 57, 70, 63, 41, 108, 60, 66, 48, 80, 60, 82, 62, 45, 42, 50, 34, 51, 68, 60], \"symbol\": \"circle\"}, \"mode\": \"markers\", \"text\": \"\", \"type\": \"scatter\", \"x\": [0.5607480575046337, -0.3708633475833689, 0.4230264901718323, -0.9549106351528698, -0.20741263670876842, -1.024518844287343, -1.0367249687928646, 2.0584447684824885, -1.4187588960747235, -0.046585194692532424, 0.36787548846534923, -2.044211812156692, -2.550339562813716, 0.40015190479056917, 0.5681708126504649, 0.7940914617616944, -1.068967565955156, 0.07867740459071079, 0.4235998492954107, 0.39095912999154775, 1.327686045467365, -1.754462647693073, -0.578173012072137, -1.0779798184582985, -1.891079726438191, 0.4659456386036681, -0.21802135906844125, 0.19367326395113266, -1.9603362574570133, 0.14932514499258526, -0.9529428773655932, 0.7856639631456367, 0.4156555358714044, 0.7153211913364734, -1.3322882860784802, 0.4139571120324161, 0.3967036149503087, 0.4803572763821211, -0.15324245046653046, -0.3119030508533104, 0.9967146023695868, -0.47050022120553125, -0.4892774201067624, -1.85008249779815, -1.7845525458308382, 0.1353531820802186, 0.8699058267717776, -0.595527228953319, -0.49038254076086707, 0.14079245442134247, -1.6579724363407244, 2.418537608960433, 0.27571151766342716, -1.2092357839728465, 0.37547517010499964, -1.0630914256315618, -0.21351316426565678, -0.27672782264169615, 1.1129222293747094, -0.28712792311619945, 0.7129540586172829, -1.566751562768234, 0.9296950897556568, -0.9935280386456603, -1.1710637069029972, 1.0331173300172627, -0.7779591509796198, 0.21686394225833813, 0.9654083038662515, 0.03337425399400426, 0.2108971788093691, -2.3580895215396565, 0.896589310994641, 0.674101904339704, -0.38463931465655277, -0.23191184444903365, -0.8086330854286654, -1.445946605784175, -1.9764770166489303, -0.37283081828887904, 0.8367782985876825, -0.30237097827066195, 0.380435715262536, 0.031050281970491544, -1.0946115915704187, 2.2558393050008103, -0.12197341968923685, 0.1407793346328531, -0.7188373798798, 0.8657765896581454, -0.13382126496639835, 0.970122231997722, -0.029542020767768597, -0.8690891890937565, -1.0338929783040642, -0.6267558462723102, -1.4157502451975266, -0.5785252269504768, 0.23779112418985437, -0.158700233859291], \"y\": [0.08628323394041917, 0.1996020788959708, 0.20815944961259064, 2.131671412751742, -0.6230820414858802, -0.20059453914798314, 0.30850312105249406, 1.7452481067756915, 0.7328641159155839, 2.1251837923160504, 0.47887481994342734, -0.1825069749191838, 2.138799212851821, 1.0451685881907276, 0.7434135269810468, 0.3442098404393374, -0.6667688075567253, 0.06371752400275227, 0.0027046037096464712, 0.08321386399124807, 0.22243369389629775, 0.4755975179492282, -0.8979402876528175, -1.85402118299806, -0.9247498611392219, -0.8602848187962258, 0.04358900306148492, -0.5676161630929298, -0.07734514221487851, 0.18994788348417663, -0.7365699535202821, 0.32817276921175176, 0.5845710556239431, 0.5504481459044616, -0.7217255921692333, 1.3536859978584614, 0.7413518060931923, 0.4954504182405843, -1.297639979562549, -1.5211164017484191, -0.5356313159929892, -0.14139501644207536, -2.535185047270597, -1.3972714221877187, 0.08578376083602648, -1.8771408047470939, -0.1382002174398529, -0.4319456408707257, -0.6873636767251813, -2.154901585183574, 0.8349884750677796, -0.29344606963996633, -2.0646176720779064, 0.2715258162942724, -0.8987499333895042, 0.6737517491122544, -0.8903450187141376, -0.5865223603579941, 1.2182908148049052, 0.5438298456028653, -0.9955332831521326, -0.9267142054469677, -1.8737830394162058, 0.4155025883669216, 1.4072161601242574, 1.6558356000102168, 0.1809956349868083, 0.05305950380555659, -0.9973706957566846, 0.8485135367398966, -0.09069496672792628, 1.2575460701823191, -1.1954067348628163, -0.03249315387521831, 0.28128026601803596, -1.0405636511730798, -0.17966114977992012, -0.19911305400341872, -0.04475203909549446, -0.33144565439472856, 2.7808030289348644, 0.08125916906489697, -1.5582135882821042, -1.288804376166216, 0.14180622305606383, 0.5449416201336499, -0.39609729585126346, -0.12395381701788742, 0.07703560202435866, -1.0272511213580646, 0.013861719718305783, -0.10758763900023838, -0.3976760311590689, 1.1015906152909287, -0.6678659159520443, -0.8442929808644131, 0.8409636359623852, 0.28507155270790163, -0.6297736460594562, -2.9931078502086437]}],\n",
       "                        {\"legend\": {\"bgcolor\": \"#F5F6F9\", \"font\": {\"color\": \"#4D5663\"}}, \"paper_bgcolor\": \"#F5F6F9\", \"plot_bgcolor\": \"#F5F6F9\", \"template\": {\"data\": {\"bar\": [{\"error_x\": {\"color\": \"#2a3f5f\"}, \"error_y\": {\"color\": \"#2a3f5f\"}, \"marker\": {\"line\": {\"color\": \"#E5ECF6\", \"width\": 0.5}}, \"type\": \"bar\"}], \"barpolar\": [{\"marker\": {\"line\": {\"color\": \"#E5ECF6\", \"width\": 0.5}}, \"type\": \"barpolar\"}], \"carpet\": [{\"aaxis\": {\"endlinecolor\": \"#2a3f5f\", \"gridcolor\": \"white\", \"linecolor\": \"white\", \"minorgridcolor\": \"white\", \"startlinecolor\": \"#2a3f5f\"}, \"baxis\": {\"endlinecolor\": \"#2a3f5f\", \"gridcolor\": \"white\", \"linecolor\": \"white\", \"minorgridcolor\": \"white\", \"startlinecolor\": \"#2a3f5f\"}, \"type\": \"carpet\"}], \"choropleth\": [{\"colorbar\": {\"outlinewidth\": 0, \"ticks\": \"\"}, \"type\": \"choropleth\"}], \"contour\": [{\"colorbar\": {\"outlinewidth\": 0, \"ticks\": \"\"}, \"colorscale\": [[0.0, \"#0d0887\"], [0.1111111111111111, \"#46039f\"], [0.2222222222222222, \"#7201a8\"], [0.3333333333333333, \"#9c179e\"], [0.4444444444444444, \"#bd3786\"], [0.5555555555555556, \"#d8576b\"], [0.6666666666666666, \"#ed7953\"], [0.7777777777777778, \"#fb9f3a\"], [0.8888888888888888, \"#fdca26\"], [1.0, \"#f0f921\"]], \"type\": \"contour\"}], \"contourcarpet\": [{\"colorbar\": {\"outlinewidth\": 0, \"ticks\": \"\"}, \"type\": \"contourcarpet\"}], \"heatmap\": [{\"colorbar\": {\"outlinewidth\": 0, \"ticks\": \"\"}, \"colorscale\": [[0.0, \"#0d0887\"], [0.1111111111111111, \"#46039f\"], [0.2222222222222222, \"#7201a8\"], [0.3333333333333333, \"#9c179e\"], [0.4444444444444444, \"#bd3786\"], [0.5555555555555556, \"#d8576b\"], [0.6666666666666666, \"#ed7953\"], [0.7777777777777778, \"#fb9f3a\"], [0.8888888888888888, \"#fdca26\"], [1.0, \"#f0f921\"]], \"type\": \"heatmap\"}], \"heatmapgl\": [{\"colorbar\": {\"outlinewidth\": 0, \"ticks\": \"\"}, \"colorscale\": [[0.0, \"#0d0887\"], [0.1111111111111111, \"#46039f\"], [0.2222222222222222, \"#7201a8\"], [0.3333333333333333, \"#9c179e\"], [0.4444444444444444, \"#bd3786\"], [0.5555555555555556, \"#d8576b\"], [0.6666666666666666, \"#ed7953\"], [0.7777777777777778, \"#fb9f3a\"], [0.8888888888888888, \"#fdca26\"], [1.0, \"#f0f921\"]], \"type\": \"heatmapgl\"}], \"histogram\": [{\"marker\": {\"colorbar\": {\"outlinewidth\": 0, \"ticks\": \"\"}}, \"type\": \"histogram\"}], \"histogram2d\": [{\"colorbar\": {\"outlinewidth\": 0, \"ticks\": \"\"}, \"colorscale\": [[0.0, \"#0d0887\"], [0.1111111111111111, \"#46039f\"], [0.2222222222222222, \"#7201a8\"], [0.3333333333333333, \"#9c179e\"], [0.4444444444444444, \"#bd3786\"], [0.5555555555555556, \"#d8576b\"], [0.6666666666666666, \"#ed7953\"], [0.7777777777777778, \"#fb9f3a\"], [0.8888888888888888, \"#fdca26\"], [1.0, \"#f0f921\"]], \"type\": \"histogram2d\"}], \"histogram2dcontour\": [{\"colorbar\": {\"outlinewidth\": 0, \"ticks\": \"\"}, \"colorscale\": [[0.0, \"#0d0887\"], [0.1111111111111111, \"#46039f\"], [0.2222222222222222, \"#7201a8\"], [0.3333333333333333, \"#9c179e\"], [0.4444444444444444, \"#bd3786\"], [0.5555555555555556, \"#d8576b\"], [0.6666666666666666, \"#ed7953\"], [0.7777777777777778, \"#fb9f3a\"], [0.8888888888888888, \"#fdca26\"], [1.0, \"#f0f921\"]], \"type\": \"histogram2dcontour\"}], \"mesh3d\": [{\"colorbar\": {\"outlinewidth\": 0, \"ticks\": \"\"}, \"type\": \"mesh3d\"}], \"parcoords\": [{\"line\": {\"colorbar\": {\"outlinewidth\": 0, \"ticks\": \"\"}}, \"type\": \"parcoords\"}], \"pie\": [{\"automargin\": true, \"type\": \"pie\"}], \"scatter\": [{\"marker\": {\"colorbar\": {\"outlinewidth\": 0, \"ticks\": \"\"}}, \"type\": \"scatter\"}], \"scatter3d\": [{\"line\": {\"colorbar\": {\"outlinewidth\": 0, \"ticks\": \"\"}}, \"marker\": {\"colorbar\": {\"outlinewidth\": 0, \"ticks\": \"\"}}, \"type\": \"scatter3d\"}], \"scattercarpet\": [{\"marker\": {\"colorbar\": {\"outlinewidth\": 0, \"ticks\": \"\"}}, \"type\": \"scattercarpet\"}], \"scattergeo\": [{\"marker\": {\"colorbar\": {\"outlinewidth\": 0, \"ticks\": \"\"}}, \"type\": \"scattergeo\"}], \"scattergl\": [{\"marker\": {\"colorbar\": {\"outlinewidth\": 0, \"ticks\": \"\"}}, \"type\": \"scattergl\"}], \"scattermapbox\": [{\"marker\": {\"colorbar\": {\"outlinewidth\": 0, \"ticks\": \"\"}}, \"type\": \"scattermapbox\"}], \"scatterpolar\": [{\"marker\": {\"colorbar\": {\"outlinewidth\": 0, \"ticks\": \"\"}}, \"type\": \"scatterpolar\"}], \"scatterpolargl\": [{\"marker\": {\"colorbar\": {\"outlinewidth\": 0, \"ticks\": \"\"}}, \"type\": \"scatterpolargl\"}], \"scatterternary\": [{\"marker\": {\"colorbar\": {\"outlinewidth\": 0, \"ticks\": \"\"}}, \"type\": \"scatterternary\"}], \"surface\": [{\"colorbar\": {\"outlinewidth\": 0, \"ticks\": \"\"}, \"colorscale\": [[0.0, \"#0d0887\"], [0.1111111111111111, \"#46039f\"], [0.2222222222222222, \"#7201a8\"], [0.3333333333333333, \"#9c179e\"], [0.4444444444444444, \"#bd3786\"], [0.5555555555555556, \"#d8576b\"], [0.6666666666666666, \"#ed7953\"], [0.7777777777777778, \"#fb9f3a\"], [0.8888888888888888, \"#fdca26\"], [1.0, \"#f0f921\"]], \"type\": \"surface\"}], \"table\": [{\"cells\": {\"fill\": {\"color\": \"#EBF0F8\"}, \"line\": {\"color\": \"white\"}}, \"header\": {\"fill\": {\"color\": \"#C8D4E3\"}, \"line\": {\"color\": \"white\"}}, \"type\": \"table\"}]}, \"layout\": {\"annotationdefaults\": {\"arrowcolor\": \"#2a3f5f\", \"arrowhead\": 0, \"arrowwidth\": 1}, \"coloraxis\": {\"colorbar\": {\"outlinewidth\": 0, \"ticks\": \"\"}}, \"colorscale\": {\"diverging\": [[0, \"#8e0152\"], [0.1, \"#c51b7d\"], [0.2, \"#de77ae\"], [0.3, \"#f1b6da\"], [0.4, \"#fde0ef\"], [0.5, \"#f7f7f7\"], [0.6, \"#e6f5d0\"], [0.7, \"#b8e186\"], [0.8, \"#7fbc41\"], [0.9, \"#4d9221\"], [1, \"#276419\"]], \"sequential\": [[0.0, \"#0d0887\"], [0.1111111111111111, \"#46039f\"], [0.2222222222222222, \"#7201a8\"], [0.3333333333333333, \"#9c179e\"], [0.4444444444444444, \"#bd3786\"], [0.5555555555555556, \"#d8576b\"], [0.6666666666666666, \"#ed7953\"], [0.7777777777777778, \"#fb9f3a\"], [0.8888888888888888, \"#fdca26\"], [1.0, \"#f0f921\"]], \"sequentialminus\": [[0.0, \"#0d0887\"], [0.1111111111111111, \"#46039f\"], [0.2222222222222222, \"#7201a8\"], [0.3333333333333333, \"#9c179e\"], [0.4444444444444444, \"#bd3786\"], [0.5555555555555556, \"#d8576b\"], [0.6666666666666666, \"#ed7953\"], [0.7777777777777778, \"#fb9f3a\"], [0.8888888888888888, \"#fdca26\"], [1.0, \"#f0f921\"]]}, \"colorway\": [\"#636efa\", \"#EF553B\", \"#00cc96\", \"#ab63fa\", \"#FFA15A\", \"#19d3f3\", \"#FF6692\", \"#B6E880\", \"#FF97FF\", \"#FECB52\"], \"font\": {\"color\": \"#2a3f5f\"}, \"geo\": {\"bgcolor\": \"white\", \"lakecolor\": \"white\", \"landcolor\": \"#E5ECF6\", \"showlakes\": true, \"showland\": true, \"subunitcolor\": \"white\"}, \"hoverlabel\": {\"align\": \"left\"}, \"hovermode\": \"closest\", \"mapbox\": {\"style\": \"light\"}, \"paper_bgcolor\": \"white\", \"plot_bgcolor\": \"#E5ECF6\", \"polar\": {\"angularaxis\": {\"gridcolor\": \"white\", \"linecolor\": \"white\", \"ticks\": \"\"}, \"bgcolor\": \"#E5ECF6\", \"radialaxis\": {\"gridcolor\": \"white\", \"linecolor\": \"white\", \"ticks\": \"\"}}, \"scene\": {\"xaxis\": {\"backgroundcolor\": \"#E5ECF6\", \"gridcolor\": \"white\", \"gridwidth\": 2, \"linecolor\": \"white\", \"showbackground\": true, \"ticks\": \"\", \"zerolinecolor\": \"white\"}, \"yaxis\": {\"backgroundcolor\": \"#E5ECF6\", \"gridcolor\": \"white\", \"gridwidth\": 2, \"linecolor\": \"white\", \"showbackground\": true, \"ticks\": \"\", \"zerolinecolor\": \"white\"}, \"zaxis\": {\"backgroundcolor\": \"#E5ECF6\", \"gridcolor\": \"white\", \"gridwidth\": 2, \"linecolor\": \"white\", \"showbackground\": true, \"ticks\": \"\", \"zerolinecolor\": \"white\"}}, \"shapedefaults\": {\"line\": {\"color\": \"#2a3f5f\"}}, \"ternary\": {\"aaxis\": {\"gridcolor\": \"white\", \"linecolor\": \"white\", \"ticks\": \"\"}, \"baxis\": {\"gridcolor\": \"white\", \"linecolor\": \"white\", \"ticks\": \"\"}, \"bgcolor\": \"#E5ECF6\", \"caxis\": {\"gridcolor\": \"white\", \"linecolor\": \"white\", \"ticks\": \"\"}}, \"title\": {\"x\": 0.05}, \"xaxis\": {\"automargin\": true, \"gridcolor\": \"white\", \"linecolor\": \"white\", \"ticks\": \"\", \"title\": {\"standoff\": 15}, \"zerolinecolor\": \"white\", \"zerolinewidth\": 2}, \"yaxis\": {\"automargin\": true, \"gridcolor\": \"white\", \"linecolor\": \"white\", \"ticks\": \"\", \"title\": {\"standoff\": 15}, \"zerolinecolor\": \"white\", \"zerolinewidth\": 2}}}, \"title\": {\"font\": {\"color\": \"#4D5663\"}}, \"xaxis\": {\"gridcolor\": \"#E1E5ED\", \"showgrid\": true, \"tickfont\": {\"color\": \"#4D5663\"}, \"title\": {\"font\": {\"color\": \"#4D5663\"}, \"text\": \"\"}, \"zerolinecolor\": \"#E1E5ED\"}, \"yaxis\": {\"gridcolor\": \"#E1E5ED\", \"showgrid\": true, \"tickfont\": {\"color\": \"#4D5663\"}, \"title\": {\"font\": {\"color\": \"#4D5663\"}, \"text\": \"\"}, \"zerolinecolor\": \"#E1E5ED\"}},\n",
       "                        {\"showLink\": true, \"linkText\": \"Export to plot.ly\", \"plotlyServerURL\": \"https://plot.ly\", \"responsive\": true}\n",
       "                    ).then(function(){\n",
       "                            \n",
       "var gd = document.getElementById('523e8ad1-88c8-4f1d-b1ee-c78338cb7d5a');\n",
       "var x = new MutationObserver(function (mutations, observer) {{\n",
       "        var display = window.getComputedStyle(gd).display;\n",
       "        if (!display || display === 'none') {{\n",
       "            console.log([gd, 'removed!']);\n",
       "            Plotly.purge(gd);\n",
       "            observer.disconnect();\n",
       "        }}\n",
       "}});\n",
       "\n",
       "// Listen for the removal of the full notebook cells\n",
       "var notebookContainer = gd.closest('#notebook-container');\n",
       "if (notebookContainer) {{\n",
       "    x.observe(notebookContainer, {childList: true});\n",
       "}}\n",
       "\n",
       "// Listen for the clearing of the current output cell\n",
       "var outputEl = gd.closest('.output');\n",
       "if (outputEl) {{\n",
       "    x.observe(outputEl, {childList: true});\n",
       "}}\n",
       "\n",
       "                        })\n",
       "                };\n",
       "                });\n",
       "            </script>\n",
       "        </div>"
      ]
     },
     "metadata": {},
     "output_type": "display_data"
    }
   ],
   "source": [
    "df.iplot(kind='bubble',x='A',y='B',size='A')"
   ]
  },
  {
   "cell_type": "markdown",
   "metadata": {},
   "source": [
    "## scatter_matrix()\n",
    "\n",
    "Similar to sns.pairplot()"
   ]
  },
  {
   "cell_type": "code",
   "execution_count": 19,
   "metadata": {},
   "outputs": [
    {
     "data": {
      "application/vnd.plotly.v1+json": {
       "config": {
        "linkText": "Export to plot.ly",
        "plotlyServerURL": "https://plot.ly",
        "showLink": true
       },
       "data": [
        {
         "histfunc": "count",
         "histnorm": "",
         "marker": {
          "color": "rgba(255, 153, 51, 1.0)",
          "line": {
           "color": "#4D5663",
           "width": 1.3
          }
         },
         "name": "A",
         "nbinsx": 10,
         "opacity": 0.8,
         "orientation": "v",
         "type": "histogram",
         "x": [
          0.5607480575046337,
          -0.3708633475833689,
          0.4230264901718323,
          -0.9549106351528698,
          -0.20741263670876842,
          -1.024518844287343,
          -1.0367249687928646,
          2.0584447684824885,
          -1.4187588960747235,
          -0.046585194692532424,
          0.36787548846534923,
          -2.044211812156692,
          -2.550339562813716,
          0.40015190479056917,
          0.5681708126504649,
          0.7940914617616944,
          -1.068967565955156,
          0.07867740459071079,
          0.4235998492954107,
          0.39095912999154775,
          1.327686045467365,
          -1.754462647693073,
          -0.578173012072137,
          -1.0779798184582985,
          -1.891079726438191,
          0.4659456386036681,
          -0.21802135906844125,
          0.19367326395113266,
          -1.9603362574570133,
          0.14932514499258526,
          -0.9529428773655932,
          0.7856639631456367,
          0.4156555358714044,
          0.7153211913364734,
          -1.3322882860784802,
          0.4139571120324161,
          0.3967036149503087,
          0.4803572763821211,
          -0.15324245046653046,
          -0.3119030508533104,
          0.9967146023695868,
          -0.47050022120553125,
          -0.4892774201067624,
          -1.85008249779815,
          -1.7845525458308382,
          0.1353531820802186,
          0.8699058267717776,
          -0.595527228953319,
          -0.49038254076086707,
          0.14079245442134247,
          -1.6579724363407244,
          2.418537608960433,
          0.27571151766342716,
          -1.2092357839728465,
          0.37547517010499964,
          -1.0630914256315618,
          -0.21351316426565678,
          -0.27672782264169615,
          1.1129222293747094,
          -0.28712792311619945,
          0.7129540586172829,
          -1.566751562768234,
          0.9296950897556568,
          -0.9935280386456603,
          -1.1710637069029972,
          1.0331173300172627,
          -0.7779591509796198,
          0.21686394225833813,
          0.9654083038662515,
          0.03337425399400426,
          0.2108971788093691,
          -2.3580895215396565,
          0.896589310994641,
          0.674101904339704,
          -0.38463931465655277,
          -0.23191184444903365,
          -0.8086330854286654,
          -1.445946605784175,
          -1.9764770166489303,
          -0.37283081828887904,
          0.8367782985876825,
          -0.30237097827066195,
          0.380435715262536,
          0.031050281970491544,
          -1.0946115915704187,
          2.2558393050008103,
          -0.12197341968923685,
          0.1407793346328531,
          -0.7188373798798,
          0.8657765896581454,
          -0.13382126496639835,
          0.970122231997722,
          -0.029542020767768597,
          -0.8690891890937565,
          -1.0338929783040642,
          -0.6267558462723102,
          -1.4157502451975266,
          -0.5785252269504768,
          0.23779112418985437,
          -0.158700233859291
         ],
         "xaxis": "x",
         "yaxis": "y"
        },
        {
         "line": {
          "color": "rgba(128, 128, 128, 1.0)",
          "dash": "solid",
          "shape": "linear",
          "width": 1.3
         },
         "marker": {
          "size": 2,
          "symbol": "circle"
         },
         "mode": "markers",
         "name": "A",
         "text": "",
         "type": "scatter",
         "x": [
          0.08628323394041917,
          0.1996020788959708,
          0.20815944961259064,
          2.131671412751742,
          -0.6230820414858802,
          -0.20059453914798314,
          0.30850312105249406,
          1.7452481067756915,
          0.7328641159155839,
          2.1251837923160504,
          0.47887481994342734,
          -0.1825069749191838,
          2.138799212851821,
          1.0451685881907276,
          0.7434135269810468,
          0.3442098404393374,
          -0.6667688075567253,
          0.06371752400275227,
          0.0027046037096464712,
          0.08321386399124807,
          0.22243369389629775,
          0.4755975179492282,
          -0.8979402876528175,
          -1.85402118299806,
          -0.9247498611392219,
          -0.8602848187962258,
          0.04358900306148492,
          -0.5676161630929298,
          -0.07734514221487851,
          0.18994788348417663,
          -0.7365699535202821,
          0.32817276921175176,
          0.5845710556239431,
          0.5504481459044616,
          -0.7217255921692333,
          1.3536859978584614,
          0.7413518060931923,
          0.4954504182405843,
          -1.297639979562549,
          -1.5211164017484191,
          -0.5356313159929892,
          -0.14139501644207536,
          -2.535185047270597,
          -1.3972714221877187,
          0.08578376083602648,
          -1.8771408047470939,
          -0.1382002174398529,
          -0.4319456408707257,
          -0.6873636767251813,
          -2.154901585183574,
          0.8349884750677796,
          -0.29344606963996633,
          -2.0646176720779064,
          0.2715258162942724,
          -0.8987499333895042,
          0.6737517491122544,
          -0.8903450187141376,
          -0.5865223603579941,
          1.2182908148049052,
          0.5438298456028653,
          -0.9955332831521326,
          -0.9267142054469677,
          -1.8737830394162058,
          0.4155025883669216,
          1.4072161601242574,
          1.6558356000102168,
          0.1809956349868083,
          0.05305950380555659,
          -0.9973706957566846,
          0.8485135367398966,
          -0.09069496672792628,
          1.2575460701823191,
          -1.1954067348628163,
          -0.03249315387521831,
          0.28128026601803596,
          -1.0405636511730798,
          -0.17966114977992012,
          -0.19911305400341872,
          -0.04475203909549446,
          -0.33144565439472856,
          2.7808030289348644,
          0.08125916906489697,
          -1.5582135882821042,
          -1.288804376166216,
          0.14180622305606383,
          0.5449416201336499,
          -0.39609729585126346,
          -0.12395381701788742,
          0.07703560202435866,
          -1.0272511213580646,
          0.013861719718305783,
          -0.10758763900023838,
          -0.3976760311590689,
          1.1015906152909287,
          -0.6678659159520443,
          -0.8442929808644131,
          0.8409636359623852,
          0.28507155270790163,
          -0.6297736460594562,
          -2.9931078502086437
         ],
         "xaxis": "x2",
         "y": [
          0.5607480575046337,
          -0.3708633475833689,
          0.4230264901718323,
          -0.9549106351528698,
          -0.20741263670876842,
          -1.024518844287343,
          -1.0367249687928646,
          2.0584447684824885,
          -1.4187588960747235,
          -0.046585194692532424,
          0.36787548846534923,
          -2.044211812156692,
          -2.550339562813716,
          0.40015190479056917,
          0.5681708126504649,
          0.7940914617616944,
          -1.068967565955156,
          0.07867740459071079,
          0.4235998492954107,
          0.39095912999154775,
          1.327686045467365,
          -1.754462647693073,
          -0.578173012072137,
          -1.0779798184582985,
          -1.891079726438191,
          0.4659456386036681,
          -0.21802135906844125,
          0.19367326395113266,
          -1.9603362574570133,
          0.14932514499258526,
          -0.9529428773655932,
          0.7856639631456367,
          0.4156555358714044,
          0.7153211913364734,
          -1.3322882860784802,
          0.4139571120324161,
          0.3967036149503087,
          0.4803572763821211,
          -0.15324245046653046,
          -0.3119030508533104,
          0.9967146023695868,
          -0.47050022120553125,
          -0.4892774201067624,
          -1.85008249779815,
          -1.7845525458308382,
          0.1353531820802186,
          0.8699058267717776,
          -0.595527228953319,
          -0.49038254076086707,
          0.14079245442134247,
          -1.6579724363407244,
          2.418537608960433,
          0.27571151766342716,
          -1.2092357839728465,
          0.37547517010499964,
          -1.0630914256315618,
          -0.21351316426565678,
          -0.27672782264169615,
          1.1129222293747094,
          -0.28712792311619945,
          0.7129540586172829,
          -1.566751562768234,
          0.9296950897556568,
          -0.9935280386456603,
          -1.1710637069029972,
          1.0331173300172627,
          -0.7779591509796198,
          0.21686394225833813,
          0.9654083038662515,
          0.03337425399400426,
          0.2108971788093691,
          -2.3580895215396565,
          0.896589310994641,
          0.674101904339704,
          -0.38463931465655277,
          -0.23191184444903365,
          -0.8086330854286654,
          -1.445946605784175,
          -1.9764770166489303,
          -0.37283081828887904,
          0.8367782985876825,
          -0.30237097827066195,
          0.380435715262536,
          0.031050281970491544,
          -1.0946115915704187,
          2.2558393050008103,
          -0.12197341968923685,
          0.1407793346328531,
          -0.7188373798798,
          0.8657765896581454,
          -0.13382126496639835,
          0.970122231997722,
          -0.029542020767768597,
          -0.8690891890937565,
          -1.0338929783040642,
          -0.6267558462723102,
          -1.4157502451975266,
          -0.5785252269504768,
          0.23779112418985437,
          -0.158700233859291
         ],
         "yaxis": "y2"
        },
        {
         "line": {
          "color": "rgba(128, 128, 128, 1.0)",
          "dash": "solid",
          "shape": "linear",
          "width": 1.3
         },
         "marker": {
          "size": 2,
          "symbol": "circle"
         },
         "mode": "markers",
         "name": "A",
         "text": "",
         "type": "scatter",
         "x": [
          2.038102357710706,
          0.2576996643892817,
          -1.1798196348353838,
          0.4157702614131842,
          -1.1012351243432212,
          0.16243256677021015,
          0.3195838918073923,
          -0.42163946571452043,
          -0.5624454929238729,
          -0.6294645434405128,
          0.3271658984857019,
          1.5098386680081353,
          -0.42329324229384124,
          2.3648631071382713,
          -0.6889084121465173,
          0.6156641704478799,
          1.1851224297767595,
          0.22740394959544033,
          -0.08161112165280739,
          0.1445006384531758,
          -0.0075238161668971385,
          -0.6110805416197159,
          -0.25606087590304366,
          1.3443060281974812,
          -0.7388932514568775,
          -0.7695496258394001,
          -0.7873817375146055,
          0.4297837429016983,
          0.9579503469593186,
          -1.164752419424204,
          -1.276315432288413,
          0.02053447733297226,
          -2.4317108807142573,
          -0.24770284951243285,
          0.5406704807880074,
          -0.6938050496735396,
          0.6339706052865337,
          1.1093520601630171,
          -0.32163042371408884,
          0.37507601689143294,
          -0.648118710188847,
          -0.5515887216458849,
          0.2527639200133479,
          -0.47386103063949947,
          1.5657496158271567,
          0.28793560012679836,
          1.6264063683510546,
          0.45312392396668183,
          0.013940264815367073,
          -0.8458398937119691,
          0.34161508358595044,
          0.5464580959173527,
          0.4291498719884774,
          0.32002922017412805,
          1.0895515741012827,
          0.5681379084099052,
          0.4158120212337378,
          0.6678856985111923,
          -0.0160716737410791,
          0.5077164219306115,
          -0.47237927437833765,
          -0.23295608254637346,
          -1.1472519618841157,
          2.514952980286407,
          -0.7964223189433736,
          -0.580551760148871,
          -0.07954941725492208,
          -0.3510567235837107,
          -0.4688298882576997,
          -0.8384028189859069,
          0.45792184059746244,
          1.9152580396167196,
          -0.8352155282336406,
          -0.23946842071359362,
          -0.7288389214662799,
          -0.6423181117562349,
          -0.825304444929453,
          -0.16657784662202907,
          0.08458906577422094,
          2.2811408452149315,
          -1.5977696389242177,
          1.0032587671269737,
          -0.588110777473575,
          -0.2619393559738801,
          -0.4989960405369848,
          -1.177242495157639,
          0.8135642767816046,
          -0.9392292364320963,
          -0.13327949316349333,
          -1.2694780872024656,
          -0.5277346956879497,
          -1.2704014388203406,
          1.4092428406270736,
          0.40461680992503957,
          -1.2318734780816807,
          2.257885368505444,
          1.081994437484539,
          -0.8962135328256043,
          0.1394341878823279,
          -1.5322769011678719
         ],
         "xaxis": "x3",
         "y": [
          0.5607480575046337,
          -0.3708633475833689,
          0.4230264901718323,
          -0.9549106351528698,
          -0.20741263670876842,
          -1.024518844287343,
          -1.0367249687928646,
          2.0584447684824885,
          -1.4187588960747235,
          -0.046585194692532424,
          0.36787548846534923,
          -2.044211812156692,
          -2.550339562813716,
          0.40015190479056917,
          0.5681708126504649,
          0.7940914617616944,
          -1.068967565955156,
          0.07867740459071079,
          0.4235998492954107,
          0.39095912999154775,
          1.327686045467365,
          -1.754462647693073,
          -0.578173012072137,
          -1.0779798184582985,
          -1.891079726438191,
          0.4659456386036681,
          -0.21802135906844125,
          0.19367326395113266,
          -1.9603362574570133,
          0.14932514499258526,
          -0.9529428773655932,
          0.7856639631456367,
          0.4156555358714044,
          0.7153211913364734,
          -1.3322882860784802,
          0.4139571120324161,
          0.3967036149503087,
          0.4803572763821211,
          -0.15324245046653046,
          -0.3119030508533104,
          0.9967146023695868,
          -0.47050022120553125,
          -0.4892774201067624,
          -1.85008249779815,
          -1.7845525458308382,
          0.1353531820802186,
          0.8699058267717776,
          -0.595527228953319,
          -0.49038254076086707,
          0.14079245442134247,
          -1.6579724363407244,
          2.418537608960433,
          0.27571151766342716,
          -1.2092357839728465,
          0.37547517010499964,
          -1.0630914256315618,
          -0.21351316426565678,
          -0.27672782264169615,
          1.1129222293747094,
          -0.28712792311619945,
          0.7129540586172829,
          -1.566751562768234,
          0.9296950897556568,
          -0.9935280386456603,
          -1.1710637069029972,
          1.0331173300172627,
          -0.7779591509796198,
          0.21686394225833813,
          0.9654083038662515,
          0.03337425399400426,
          0.2108971788093691,
          -2.3580895215396565,
          0.896589310994641,
          0.674101904339704,
          -0.38463931465655277,
          -0.23191184444903365,
          -0.8086330854286654,
          -1.445946605784175,
          -1.9764770166489303,
          -0.37283081828887904,
          0.8367782985876825,
          -0.30237097827066195,
          0.380435715262536,
          0.031050281970491544,
          -1.0946115915704187,
          2.2558393050008103,
          -0.12197341968923685,
          0.1407793346328531,
          -0.7188373798798,
          0.8657765896581454,
          -0.13382126496639835,
          0.970122231997722,
          -0.029542020767768597,
          -0.8690891890937565,
          -1.0338929783040642,
          -0.6267558462723102,
          -1.4157502451975266,
          -0.5785252269504768,
          0.23779112418985437,
          -0.158700233859291
         ],
         "yaxis": "y3"
        },
        {
         "line": {
          "color": "rgba(128, 128, 128, 1.0)",
          "dash": "solid",
          "shape": "linear",
          "width": 1.3
         },
         "marker": {
          "size": 2,
          "symbol": "circle"
         },
         "mode": "markers",
         "name": "A",
         "text": "",
         "type": "scatter",
         "x": [
          -2.0168295111392105,
          -0.21013946544226061,
          -1.258031148952199,
          0.13601150195186626,
          -0.9326675103109121,
          1.611415931881721,
          -0.5546502912770421,
          1.1727916704060484,
          -1.0378299808439229,
          0.06632263585327085,
          0.7511309954204283,
          1.809412952840736,
          -0.044220581261604344,
          -0.8068498078280052,
          -1.3597344031658158,
          -0.6557923731449656,
          1.2420221885242144,
          0.9524935708464101,
          0.17723258748445941,
          1.167990665130411,
          0.05880026319073873,
          -0.04623484159031213,
          0.18090316066269005,
          0.9267191286977249,
          0.16553458024891518,
          -1.3136390901784187,
          -0.06581785804893786,
          -0.7411958743274716,
          -0.40268998521209426,
          -1.5232465692913328,
          0.1902404762177136,
          1.6039351141622544,
          1.2114609571160415,
          -1.515347397523287,
          0.07181238623888106,
          -0.07873744523145464,
          0.11247408248408321,
          1.4511470206604198,
          -0.8050589159007769,
          0.8711861823124123,
          1.0007029677650339,
          0.8137507804035743,
          -0.6543433291379487,
          1.5289305214001112,
          0.014782093150927886,
          0.6200951298097656,
          1.150455514064878,
          0.9553906535290986,
          -0.41683051193560994,
          -0.23144950051061663,
          0.6887180371482181,
          -0.596392242147904,
          1.2543891626130692,
          0.0030724698669582803,
          0.12362507474079651,
          0.6226124546708929,
          0.42466444466556386,
          0.47926413631075265,
          1.5774490366605967,
          0.2640923627476357,
          -0.7993459891468951,
          -0.36172350204577075,
          -1.544160511315879,
          0.14890998512774686,
          1.1163820612050082,
          -0.0030689004076699545,
          0.3731074916210108,
          0.3805955800175891,
          0.07829472340075247,
          0.4604484607902768,
          1.104119895280711,
          -0.9967704117259928,
          0.8405830043238202,
          -0.3608568411009861,
          1.235374755446539,
          1.3474524590877468,
          0.1491539960997328,
          1.3356519668737115,
          1.264942923231072,
          0.7106069315969047,
          -1.2563731252580563,
          -0.29577964756996483,
          -1.8018826832220123,
          0.5817820085802042,
          1.062697781721015,
          0.7620137522866587,
          -0.8314965510589846,
          0.0364211117304112,
          -0.7113461269231741,
          2.482943491654735,
          -0.2875647729877446,
          0.2651044673195494,
          0.8422507841040974,
          -0.7072892593682847,
          0.5394853919155316,
          1.4497737247702585,
          0.3207280886261204,
          -0.6897627137375941,
          1.3082921742928493,
          0.8083137004369385
         ],
         "xaxis": "x4",
         "y": [
          0.5607480575046337,
          -0.3708633475833689,
          0.4230264901718323,
          -0.9549106351528698,
          -0.20741263670876842,
          -1.024518844287343,
          -1.0367249687928646,
          2.0584447684824885,
          -1.4187588960747235,
          -0.046585194692532424,
          0.36787548846534923,
          -2.044211812156692,
          -2.550339562813716,
          0.40015190479056917,
          0.5681708126504649,
          0.7940914617616944,
          -1.068967565955156,
          0.07867740459071079,
          0.4235998492954107,
          0.39095912999154775,
          1.327686045467365,
          -1.754462647693073,
          -0.578173012072137,
          -1.0779798184582985,
          -1.891079726438191,
          0.4659456386036681,
          -0.21802135906844125,
          0.19367326395113266,
          -1.9603362574570133,
          0.14932514499258526,
          -0.9529428773655932,
          0.7856639631456367,
          0.4156555358714044,
          0.7153211913364734,
          -1.3322882860784802,
          0.4139571120324161,
          0.3967036149503087,
          0.4803572763821211,
          -0.15324245046653046,
          -0.3119030508533104,
          0.9967146023695868,
          -0.47050022120553125,
          -0.4892774201067624,
          -1.85008249779815,
          -1.7845525458308382,
          0.1353531820802186,
          0.8699058267717776,
          -0.595527228953319,
          -0.49038254076086707,
          0.14079245442134247,
          -1.6579724363407244,
          2.418537608960433,
          0.27571151766342716,
          -1.2092357839728465,
          0.37547517010499964,
          -1.0630914256315618,
          -0.21351316426565678,
          -0.27672782264169615,
          1.1129222293747094,
          -0.28712792311619945,
          0.7129540586172829,
          -1.566751562768234,
          0.9296950897556568,
          -0.9935280386456603,
          -1.1710637069029972,
          1.0331173300172627,
          -0.7779591509796198,
          0.21686394225833813,
          0.9654083038662515,
          0.03337425399400426,
          0.2108971788093691,
          -2.3580895215396565,
          0.896589310994641,
          0.674101904339704,
          -0.38463931465655277,
          -0.23191184444903365,
          -0.8086330854286654,
          -1.445946605784175,
          -1.9764770166489303,
          -0.37283081828887904,
          0.8367782985876825,
          -0.30237097827066195,
          0.380435715262536,
          0.031050281970491544,
          -1.0946115915704187,
          2.2558393050008103,
          -0.12197341968923685,
          0.1407793346328531,
          -0.7188373798798,
          0.8657765896581454,
          -0.13382126496639835,
          0.970122231997722,
          -0.029542020767768597,
          -0.8690891890937565,
          -1.0338929783040642,
          -0.6267558462723102,
          -1.4157502451975266,
          -0.5785252269504768,
          0.23779112418985437,
          -0.158700233859291
         ],
         "yaxis": "y4"
        },
        {
         "line": {
          "color": "rgba(128, 128, 128, 1.0)",
          "dash": "solid",
          "shape": "linear",
          "width": 1.3
         },
         "marker": {
          "size": 2,
          "symbol": "circle"
         },
         "mode": "markers",
         "name": "B",
         "text": "",
         "type": "scatter",
         "x": [
          0.5607480575046337,
          -0.3708633475833689,
          0.4230264901718323,
          -0.9549106351528698,
          -0.20741263670876842,
          -1.024518844287343,
          -1.0367249687928646,
          2.0584447684824885,
          -1.4187588960747235,
          -0.046585194692532424,
          0.36787548846534923,
          -2.044211812156692,
          -2.550339562813716,
          0.40015190479056917,
          0.5681708126504649,
          0.7940914617616944,
          -1.068967565955156,
          0.07867740459071079,
          0.4235998492954107,
          0.39095912999154775,
          1.327686045467365,
          -1.754462647693073,
          -0.578173012072137,
          -1.0779798184582985,
          -1.891079726438191,
          0.4659456386036681,
          -0.21802135906844125,
          0.19367326395113266,
          -1.9603362574570133,
          0.14932514499258526,
          -0.9529428773655932,
          0.7856639631456367,
          0.4156555358714044,
          0.7153211913364734,
          -1.3322882860784802,
          0.4139571120324161,
          0.3967036149503087,
          0.4803572763821211,
          -0.15324245046653046,
          -0.3119030508533104,
          0.9967146023695868,
          -0.47050022120553125,
          -0.4892774201067624,
          -1.85008249779815,
          -1.7845525458308382,
          0.1353531820802186,
          0.8699058267717776,
          -0.595527228953319,
          -0.49038254076086707,
          0.14079245442134247,
          -1.6579724363407244,
          2.418537608960433,
          0.27571151766342716,
          -1.2092357839728465,
          0.37547517010499964,
          -1.0630914256315618,
          -0.21351316426565678,
          -0.27672782264169615,
          1.1129222293747094,
          -0.28712792311619945,
          0.7129540586172829,
          -1.566751562768234,
          0.9296950897556568,
          -0.9935280386456603,
          -1.1710637069029972,
          1.0331173300172627,
          -0.7779591509796198,
          0.21686394225833813,
          0.9654083038662515,
          0.03337425399400426,
          0.2108971788093691,
          -2.3580895215396565,
          0.896589310994641,
          0.674101904339704,
          -0.38463931465655277,
          -0.23191184444903365,
          -0.8086330854286654,
          -1.445946605784175,
          -1.9764770166489303,
          -0.37283081828887904,
          0.8367782985876825,
          -0.30237097827066195,
          0.380435715262536,
          0.031050281970491544,
          -1.0946115915704187,
          2.2558393050008103,
          -0.12197341968923685,
          0.1407793346328531,
          -0.7188373798798,
          0.8657765896581454,
          -0.13382126496639835,
          0.970122231997722,
          -0.029542020767768597,
          -0.8690891890937565,
          -1.0338929783040642,
          -0.6267558462723102,
          -1.4157502451975266,
          -0.5785252269504768,
          0.23779112418985437,
          -0.158700233859291
         ],
         "xaxis": "x5",
         "y": [
          0.08628323394041917,
          0.1996020788959708,
          0.20815944961259064,
          2.131671412751742,
          -0.6230820414858802,
          -0.20059453914798314,
          0.30850312105249406,
          1.7452481067756915,
          0.7328641159155839,
          2.1251837923160504,
          0.47887481994342734,
          -0.1825069749191838,
          2.138799212851821,
          1.0451685881907276,
          0.7434135269810468,
          0.3442098404393374,
          -0.6667688075567253,
          0.06371752400275227,
          0.0027046037096464712,
          0.08321386399124807,
          0.22243369389629775,
          0.4755975179492282,
          -0.8979402876528175,
          -1.85402118299806,
          -0.9247498611392219,
          -0.8602848187962258,
          0.04358900306148492,
          -0.5676161630929298,
          -0.07734514221487851,
          0.18994788348417663,
          -0.7365699535202821,
          0.32817276921175176,
          0.5845710556239431,
          0.5504481459044616,
          -0.7217255921692333,
          1.3536859978584614,
          0.7413518060931923,
          0.4954504182405843,
          -1.297639979562549,
          -1.5211164017484191,
          -0.5356313159929892,
          -0.14139501644207536,
          -2.535185047270597,
          -1.3972714221877187,
          0.08578376083602648,
          -1.8771408047470939,
          -0.1382002174398529,
          -0.4319456408707257,
          -0.6873636767251813,
          -2.154901585183574,
          0.8349884750677796,
          -0.29344606963996633,
          -2.0646176720779064,
          0.2715258162942724,
          -0.8987499333895042,
          0.6737517491122544,
          -0.8903450187141376,
          -0.5865223603579941,
          1.2182908148049052,
          0.5438298456028653,
          -0.9955332831521326,
          -0.9267142054469677,
          -1.8737830394162058,
          0.4155025883669216,
          1.4072161601242574,
          1.6558356000102168,
          0.1809956349868083,
          0.05305950380555659,
          -0.9973706957566846,
          0.8485135367398966,
          -0.09069496672792628,
          1.2575460701823191,
          -1.1954067348628163,
          -0.03249315387521831,
          0.28128026601803596,
          -1.0405636511730798,
          -0.17966114977992012,
          -0.19911305400341872,
          -0.04475203909549446,
          -0.33144565439472856,
          2.7808030289348644,
          0.08125916906489697,
          -1.5582135882821042,
          -1.288804376166216,
          0.14180622305606383,
          0.5449416201336499,
          -0.39609729585126346,
          -0.12395381701788742,
          0.07703560202435866,
          -1.0272511213580646,
          0.013861719718305783,
          -0.10758763900023838,
          -0.3976760311590689,
          1.1015906152909287,
          -0.6678659159520443,
          -0.8442929808644131,
          0.8409636359623852,
          0.28507155270790163,
          -0.6297736460594562,
          -2.9931078502086437
         ],
         "yaxis": "y5"
        },
        {
         "histfunc": "count",
         "histnorm": "",
         "marker": {
          "color": "rgba(55, 128, 191, 1.0)",
          "line": {
           "color": "#4D5663",
           "width": 1.3
          }
         },
         "name": "B",
         "nbinsx": 10,
         "opacity": 0.8,
         "orientation": "v",
         "type": "histogram",
         "x": [
          0.08628323394041917,
          0.1996020788959708,
          0.20815944961259064,
          2.131671412751742,
          -0.6230820414858802,
          -0.20059453914798314,
          0.30850312105249406,
          1.7452481067756915,
          0.7328641159155839,
          2.1251837923160504,
          0.47887481994342734,
          -0.1825069749191838,
          2.138799212851821,
          1.0451685881907276,
          0.7434135269810468,
          0.3442098404393374,
          -0.6667688075567253,
          0.06371752400275227,
          0.0027046037096464712,
          0.08321386399124807,
          0.22243369389629775,
          0.4755975179492282,
          -0.8979402876528175,
          -1.85402118299806,
          -0.9247498611392219,
          -0.8602848187962258,
          0.04358900306148492,
          -0.5676161630929298,
          -0.07734514221487851,
          0.18994788348417663,
          -0.7365699535202821,
          0.32817276921175176,
          0.5845710556239431,
          0.5504481459044616,
          -0.7217255921692333,
          1.3536859978584614,
          0.7413518060931923,
          0.4954504182405843,
          -1.297639979562549,
          -1.5211164017484191,
          -0.5356313159929892,
          -0.14139501644207536,
          -2.535185047270597,
          -1.3972714221877187,
          0.08578376083602648,
          -1.8771408047470939,
          -0.1382002174398529,
          -0.4319456408707257,
          -0.6873636767251813,
          -2.154901585183574,
          0.8349884750677796,
          -0.29344606963996633,
          -2.0646176720779064,
          0.2715258162942724,
          -0.8987499333895042,
          0.6737517491122544,
          -0.8903450187141376,
          -0.5865223603579941,
          1.2182908148049052,
          0.5438298456028653,
          -0.9955332831521326,
          -0.9267142054469677,
          -1.8737830394162058,
          0.4155025883669216,
          1.4072161601242574,
          1.6558356000102168,
          0.1809956349868083,
          0.05305950380555659,
          -0.9973706957566846,
          0.8485135367398966,
          -0.09069496672792628,
          1.2575460701823191,
          -1.1954067348628163,
          -0.03249315387521831,
          0.28128026601803596,
          -1.0405636511730798,
          -0.17966114977992012,
          -0.19911305400341872,
          -0.04475203909549446,
          -0.33144565439472856,
          2.7808030289348644,
          0.08125916906489697,
          -1.5582135882821042,
          -1.288804376166216,
          0.14180622305606383,
          0.5449416201336499,
          -0.39609729585126346,
          -0.12395381701788742,
          0.07703560202435866,
          -1.0272511213580646,
          0.013861719718305783,
          -0.10758763900023838,
          -0.3976760311590689,
          1.1015906152909287,
          -0.6678659159520443,
          -0.8442929808644131,
          0.8409636359623852,
          0.28507155270790163,
          -0.6297736460594562,
          -2.9931078502086437
         ],
         "xaxis": "x6",
         "yaxis": "y6"
        },
        {
         "line": {
          "color": "rgba(128, 128, 128, 1.0)",
          "dash": "solid",
          "shape": "linear",
          "width": 1.3
         },
         "marker": {
          "size": 2,
          "symbol": "circle"
         },
         "mode": "markers",
         "name": "B",
         "text": "",
         "type": "scatter",
         "x": [
          2.038102357710706,
          0.2576996643892817,
          -1.1798196348353838,
          0.4157702614131842,
          -1.1012351243432212,
          0.16243256677021015,
          0.3195838918073923,
          -0.42163946571452043,
          -0.5624454929238729,
          -0.6294645434405128,
          0.3271658984857019,
          1.5098386680081353,
          -0.42329324229384124,
          2.3648631071382713,
          -0.6889084121465173,
          0.6156641704478799,
          1.1851224297767595,
          0.22740394959544033,
          -0.08161112165280739,
          0.1445006384531758,
          -0.0075238161668971385,
          -0.6110805416197159,
          -0.25606087590304366,
          1.3443060281974812,
          -0.7388932514568775,
          -0.7695496258394001,
          -0.7873817375146055,
          0.4297837429016983,
          0.9579503469593186,
          -1.164752419424204,
          -1.276315432288413,
          0.02053447733297226,
          -2.4317108807142573,
          -0.24770284951243285,
          0.5406704807880074,
          -0.6938050496735396,
          0.6339706052865337,
          1.1093520601630171,
          -0.32163042371408884,
          0.37507601689143294,
          -0.648118710188847,
          -0.5515887216458849,
          0.2527639200133479,
          -0.47386103063949947,
          1.5657496158271567,
          0.28793560012679836,
          1.6264063683510546,
          0.45312392396668183,
          0.013940264815367073,
          -0.8458398937119691,
          0.34161508358595044,
          0.5464580959173527,
          0.4291498719884774,
          0.32002922017412805,
          1.0895515741012827,
          0.5681379084099052,
          0.4158120212337378,
          0.6678856985111923,
          -0.0160716737410791,
          0.5077164219306115,
          -0.47237927437833765,
          -0.23295608254637346,
          -1.1472519618841157,
          2.514952980286407,
          -0.7964223189433736,
          -0.580551760148871,
          -0.07954941725492208,
          -0.3510567235837107,
          -0.4688298882576997,
          -0.8384028189859069,
          0.45792184059746244,
          1.9152580396167196,
          -0.8352155282336406,
          -0.23946842071359362,
          -0.7288389214662799,
          -0.6423181117562349,
          -0.825304444929453,
          -0.16657784662202907,
          0.08458906577422094,
          2.2811408452149315,
          -1.5977696389242177,
          1.0032587671269737,
          -0.588110777473575,
          -0.2619393559738801,
          -0.4989960405369848,
          -1.177242495157639,
          0.8135642767816046,
          -0.9392292364320963,
          -0.13327949316349333,
          -1.2694780872024656,
          -0.5277346956879497,
          -1.2704014388203406,
          1.4092428406270736,
          0.40461680992503957,
          -1.2318734780816807,
          2.257885368505444,
          1.081994437484539,
          -0.8962135328256043,
          0.1394341878823279,
          -1.5322769011678719
         ],
         "xaxis": "x7",
         "y": [
          0.08628323394041917,
          0.1996020788959708,
          0.20815944961259064,
          2.131671412751742,
          -0.6230820414858802,
          -0.20059453914798314,
          0.30850312105249406,
          1.7452481067756915,
          0.7328641159155839,
          2.1251837923160504,
          0.47887481994342734,
          -0.1825069749191838,
          2.138799212851821,
          1.0451685881907276,
          0.7434135269810468,
          0.3442098404393374,
          -0.6667688075567253,
          0.06371752400275227,
          0.0027046037096464712,
          0.08321386399124807,
          0.22243369389629775,
          0.4755975179492282,
          -0.8979402876528175,
          -1.85402118299806,
          -0.9247498611392219,
          -0.8602848187962258,
          0.04358900306148492,
          -0.5676161630929298,
          -0.07734514221487851,
          0.18994788348417663,
          -0.7365699535202821,
          0.32817276921175176,
          0.5845710556239431,
          0.5504481459044616,
          -0.7217255921692333,
          1.3536859978584614,
          0.7413518060931923,
          0.4954504182405843,
          -1.297639979562549,
          -1.5211164017484191,
          -0.5356313159929892,
          -0.14139501644207536,
          -2.535185047270597,
          -1.3972714221877187,
          0.08578376083602648,
          -1.8771408047470939,
          -0.1382002174398529,
          -0.4319456408707257,
          -0.6873636767251813,
          -2.154901585183574,
          0.8349884750677796,
          -0.29344606963996633,
          -2.0646176720779064,
          0.2715258162942724,
          -0.8987499333895042,
          0.6737517491122544,
          -0.8903450187141376,
          -0.5865223603579941,
          1.2182908148049052,
          0.5438298456028653,
          -0.9955332831521326,
          -0.9267142054469677,
          -1.8737830394162058,
          0.4155025883669216,
          1.4072161601242574,
          1.6558356000102168,
          0.1809956349868083,
          0.05305950380555659,
          -0.9973706957566846,
          0.8485135367398966,
          -0.09069496672792628,
          1.2575460701823191,
          -1.1954067348628163,
          -0.03249315387521831,
          0.28128026601803596,
          -1.0405636511730798,
          -0.17966114977992012,
          -0.19911305400341872,
          -0.04475203909549446,
          -0.33144565439472856,
          2.7808030289348644,
          0.08125916906489697,
          -1.5582135882821042,
          -1.288804376166216,
          0.14180622305606383,
          0.5449416201336499,
          -0.39609729585126346,
          -0.12395381701788742,
          0.07703560202435866,
          -1.0272511213580646,
          0.013861719718305783,
          -0.10758763900023838,
          -0.3976760311590689,
          1.1015906152909287,
          -0.6678659159520443,
          -0.8442929808644131,
          0.8409636359623852,
          0.28507155270790163,
          -0.6297736460594562,
          -2.9931078502086437
         ],
         "yaxis": "y7"
        },
        {
         "line": {
          "color": "rgba(128, 128, 128, 1.0)",
          "dash": "solid",
          "shape": "linear",
          "width": 1.3
         },
         "marker": {
          "size": 2,
          "symbol": "circle"
         },
         "mode": "markers",
         "name": "B",
         "text": "",
         "type": "scatter",
         "x": [
          -2.0168295111392105,
          -0.21013946544226061,
          -1.258031148952199,
          0.13601150195186626,
          -0.9326675103109121,
          1.611415931881721,
          -0.5546502912770421,
          1.1727916704060484,
          -1.0378299808439229,
          0.06632263585327085,
          0.7511309954204283,
          1.809412952840736,
          -0.044220581261604344,
          -0.8068498078280052,
          -1.3597344031658158,
          -0.6557923731449656,
          1.2420221885242144,
          0.9524935708464101,
          0.17723258748445941,
          1.167990665130411,
          0.05880026319073873,
          -0.04623484159031213,
          0.18090316066269005,
          0.9267191286977249,
          0.16553458024891518,
          -1.3136390901784187,
          -0.06581785804893786,
          -0.7411958743274716,
          -0.40268998521209426,
          -1.5232465692913328,
          0.1902404762177136,
          1.6039351141622544,
          1.2114609571160415,
          -1.515347397523287,
          0.07181238623888106,
          -0.07873744523145464,
          0.11247408248408321,
          1.4511470206604198,
          -0.8050589159007769,
          0.8711861823124123,
          1.0007029677650339,
          0.8137507804035743,
          -0.6543433291379487,
          1.5289305214001112,
          0.014782093150927886,
          0.6200951298097656,
          1.150455514064878,
          0.9553906535290986,
          -0.41683051193560994,
          -0.23144950051061663,
          0.6887180371482181,
          -0.596392242147904,
          1.2543891626130692,
          0.0030724698669582803,
          0.12362507474079651,
          0.6226124546708929,
          0.42466444466556386,
          0.47926413631075265,
          1.5774490366605967,
          0.2640923627476357,
          -0.7993459891468951,
          -0.36172350204577075,
          -1.544160511315879,
          0.14890998512774686,
          1.1163820612050082,
          -0.0030689004076699545,
          0.3731074916210108,
          0.3805955800175891,
          0.07829472340075247,
          0.4604484607902768,
          1.104119895280711,
          -0.9967704117259928,
          0.8405830043238202,
          -0.3608568411009861,
          1.235374755446539,
          1.3474524590877468,
          0.1491539960997328,
          1.3356519668737115,
          1.264942923231072,
          0.7106069315969047,
          -1.2563731252580563,
          -0.29577964756996483,
          -1.8018826832220123,
          0.5817820085802042,
          1.062697781721015,
          0.7620137522866587,
          -0.8314965510589846,
          0.0364211117304112,
          -0.7113461269231741,
          2.482943491654735,
          -0.2875647729877446,
          0.2651044673195494,
          0.8422507841040974,
          -0.7072892593682847,
          0.5394853919155316,
          1.4497737247702585,
          0.3207280886261204,
          -0.6897627137375941,
          1.3082921742928493,
          0.8083137004369385
         ],
         "xaxis": "x8",
         "y": [
          0.08628323394041917,
          0.1996020788959708,
          0.20815944961259064,
          2.131671412751742,
          -0.6230820414858802,
          -0.20059453914798314,
          0.30850312105249406,
          1.7452481067756915,
          0.7328641159155839,
          2.1251837923160504,
          0.47887481994342734,
          -0.1825069749191838,
          2.138799212851821,
          1.0451685881907276,
          0.7434135269810468,
          0.3442098404393374,
          -0.6667688075567253,
          0.06371752400275227,
          0.0027046037096464712,
          0.08321386399124807,
          0.22243369389629775,
          0.4755975179492282,
          -0.8979402876528175,
          -1.85402118299806,
          -0.9247498611392219,
          -0.8602848187962258,
          0.04358900306148492,
          -0.5676161630929298,
          -0.07734514221487851,
          0.18994788348417663,
          -0.7365699535202821,
          0.32817276921175176,
          0.5845710556239431,
          0.5504481459044616,
          -0.7217255921692333,
          1.3536859978584614,
          0.7413518060931923,
          0.4954504182405843,
          -1.297639979562549,
          -1.5211164017484191,
          -0.5356313159929892,
          -0.14139501644207536,
          -2.535185047270597,
          -1.3972714221877187,
          0.08578376083602648,
          -1.8771408047470939,
          -0.1382002174398529,
          -0.4319456408707257,
          -0.6873636767251813,
          -2.154901585183574,
          0.8349884750677796,
          -0.29344606963996633,
          -2.0646176720779064,
          0.2715258162942724,
          -0.8987499333895042,
          0.6737517491122544,
          -0.8903450187141376,
          -0.5865223603579941,
          1.2182908148049052,
          0.5438298456028653,
          -0.9955332831521326,
          -0.9267142054469677,
          -1.8737830394162058,
          0.4155025883669216,
          1.4072161601242574,
          1.6558356000102168,
          0.1809956349868083,
          0.05305950380555659,
          -0.9973706957566846,
          0.8485135367398966,
          -0.09069496672792628,
          1.2575460701823191,
          -1.1954067348628163,
          -0.03249315387521831,
          0.28128026601803596,
          -1.0405636511730798,
          -0.17966114977992012,
          -0.19911305400341872,
          -0.04475203909549446,
          -0.33144565439472856,
          2.7808030289348644,
          0.08125916906489697,
          -1.5582135882821042,
          -1.288804376166216,
          0.14180622305606383,
          0.5449416201336499,
          -0.39609729585126346,
          -0.12395381701788742,
          0.07703560202435866,
          -1.0272511213580646,
          0.013861719718305783,
          -0.10758763900023838,
          -0.3976760311590689,
          1.1015906152909287,
          -0.6678659159520443,
          -0.8442929808644131,
          0.8409636359623852,
          0.28507155270790163,
          -0.6297736460594562,
          -2.9931078502086437
         ],
         "yaxis": "y8"
        },
        {
         "line": {
          "color": "rgba(128, 128, 128, 1.0)",
          "dash": "solid",
          "shape": "linear",
          "width": 1.3
         },
         "marker": {
          "size": 2,
          "symbol": "circle"
         },
         "mode": "markers",
         "name": "C",
         "text": "",
         "type": "scatter",
         "x": [
          0.5607480575046337,
          -0.3708633475833689,
          0.4230264901718323,
          -0.9549106351528698,
          -0.20741263670876842,
          -1.024518844287343,
          -1.0367249687928646,
          2.0584447684824885,
          -1.4187588960747235,
          -0.046585194692532424,
          0.36787548846534923,
          -2.044211812156692,
          -2.550339562813716,
          0.40015190479056917,
          0.5681708126504649,
          0.7940914617616944,
          -1.068967565955156,
          0.07867740459071079,
          0.4235998492954107,
          0.39095912999154775,
          1.327686045467365,
          -1.754462647693073,
          -0.578173012072137,
          -1.0779798184582985,
          -1.891079726438191,
          0.4659456386036681,
          -0.21802135906844125,
          0.19367326395113266,
          -1.9603362574570133,
          0.14932514499258526,
          -0.9529428773655932,
          0.7856639631456367,
          0.4156555358714044,
          0.7153211913364734,
          -1.3322882860784802,
          0.4139571120324161,
          0.3967036149503087,
          0.4803572763821211,
          -0.15324245046653046,
          -0.3119030508533104,
          0.9967146023695868,
          -0.47050022120553125,
          -0.4892774201067624,
          -1.85008249779815,
          -1.7845525458308382,
          0.1353531820802186,
          0.8699058267717776,
          -0.595527228953319,
          -0.49038254076086707,
          0.14079245442134247,
          -1.6579724363407244,
          2.418537608960433,
          0.27571151766342716,
          -1.2092357839728465,
          0.37547517010499964,
          -1.0630914256315618,
          -0.21351316426565678,
          -0.27672782264169615,
          1.1129222293747094,
          -0.28712792311619945,
          0.7129540586172829,
          -1.566751562768234,
          0.9296950897556568,
          -0.9935280386456603,
          -1.1710637069029972,
          1.0331173300172627,
          -0.7779591509796198,
          0.21686394225833813,
          0.9654083038662515,
          0.03337425399400426,
          0.2108971788093691,
          -2.3580895215396565,
          0.896589310994641,
          0.674101904339704,
          -0.38463931465655277,
          -0.23191184444903365,
          -0.8086330854286654,
          -1.445946605784175,
          -1.9764770166489303,
          -0.37283081828887904,
          0.8367782985876825,
          -0.30237097827066195,
          0.380435715262536,
          0.031050281970491544,
          -1.0946115915704187,
          2.2558393050008103,
          -0.12197341968923685,
          0.1407793346328531,
          -0.7188373798798,
          0.8657765896581454,
          -0.13382126496639835,
          0.970122231997722,
          -0.029542020767768597,
          -0.8690891890937565,
          -1.0338929783040642,
          -0.6267558462723102,
          -1.4157502451975266,
          -0.5785252269504768,
          0.23779112418985437,
          -0.158700233859291
         ],
         "xaxis": "x9",
         "y": [
          2.038102357710706,
          0.2576996643892817,
          -1.1798196348353838,
          0.4157702614131842,
          -1.1012351243432212,
          0.16243256677021015,
          0.3195838918073923,
          -0.42163946571452043,
          -0.5624454929238729,
          -0.6294645434405128,
          0.3271658984857019,
          1.5098386680081353,
          -0.42329324229384124,
          2.3648631071382713,
          -0.6889084121465173,
          0.6156641704478799,
          1.1851224297767595,
          0.22740394959544033,
          -0.08161112165280739,
          0.1445006384531758,
          -0.0075238161668971385,
          -0.6110805416197159,
          -0.25606087590304366,
          1.3443060281974812,
          -0.7388932514568775,
          -0.7695496258394001,
          -0.7873817375146055,
          0.4297837429016983,
          0.9579503469593186,
          -1.164752419424204,
          -1.276315432288413,
          0.02053447733297226,
          -2.4317108807142573,
          -0.24770284951243285,
          0.5406704807880074,
          -0.6938050496735396,
          0.6339706052865337,
          1.1093520601630171,
          -0.32163042371408884,
          0.37507601689143294,
          -0.648118710188847,
          -0.5515887216458849,
          0.2527639200133479,
          -0.47386103063949947,
          1.5657496158271567,
          0.28793560012679836,
          1.6264063683510546,
          0.45312392396668183,
          0.013940264815367073,
          -0.8458398937119691,
          0.34161508358595044,
          0.5464580959173527,
          0.4291498719884774,
          0.32002922017412805,
          1.0895515741012827,
          0.5681379084099052,
          0.4158120212337378,
          0.6678856985111923,
          -0.0160716737410791,
          0.5077164219306115,
          -0.47237927437833765,
          -0.23295608254637346,
          -1.1472519618841157,
          2.514952980286407,
          -0.7964223189433736,
          -0.580551760148871,
          -0.07954941725492208,
          -0.3510567235837107,
          -0.4688298882576997,
          -0.8384028189859069,
          0.45792184059746244,
          1.9152580396167196,
          -0.8352155282336406,
          -0.23946842071359362,
          -0.7288389214662799,
          -0.6423181117562349,
          -0.825304444929453,
          -0.16657784662202907,
          0.08458906577422094,
          2.2811408452149315,
          -1.5977696389242177,
          1.0032587671269737,
          -0.588110777473575,
          -0.2619393559738801,
          -0.4989960405369848,
          -1.177242495157639,
          0.8135642767816046,
          -0.9392292364320963,
          -0.13327949316349333,
          -1.2694780872024656,
          -0.5277346956879497,
          -1.2704014388203406,
          1.4092428406270736,
          0.40461680992503957,
          -1.2318734780816807,
          2.257885368505444,
          1.081994437484539,
          -0.8962135328256043,
          0.1394341878823279,
          -1.5322769011678719
         ],
         "yaxis": "y9"
        },
        {
         "line": {
          "color": "rgba(128, 128, 128, 1.0)",
          "dash": "solid",
          "shape": "linear",
          "width": 1.3
         },
         "marker": {
          "size": 2,
          "symbol": "circle"
         },
         "mode": "markers",
         "name": "C",
         "text": "",
         "type": "scatter",
         "x": [
          0.08628323394041917,
          0.1996020788959708,
          0.20815944961259064,
          2.131671412751742,
          -0.6230820414858802,
          -0.20059453914798314,
          0.30850312105249406,
          1.7452481067756915,
          0.7328641159155839,
          2.1251837923160504,
          0.47887481994342734,
          -0.1825069749191838,
          2.138799212851821,
          1.0451685881907276,
          0.7434135269810468,
          0.3442098404393374,
          -0.6667688075567253,
          0.06371752400275227,
          0.0027046037096464712,
          0.08321386399124807,
          0.22243369389629775,
          0.4755975179492282,
          -0.8979402876528175,
          -1.85402118299806,
          -0.9247498611392219,
          -0.8602848187962258,
          0.04358900306148492,
          -0.5676161630929298,
          -0.07734514221487851,
          0.18994788348417663,
          -0.7365699535202821,
          0.32817276921175176,
          0.5845710556239431,
          0.5504481459044616,
          -0.7217255921692333,
          1.3536859978584614,
          0.7413518060931923,
          0.4954504182405843,
          -1.297639979562549,
          -1.5211164017484191,
          -0.5356313159929892,
          -0.14139501644207536,
          -2.535185047270597,
          -1.3972714221877187,
          0.08578376083602648,
          -1.8771408047470939,
          -0.1382002174398529,
          -0.4319456408707257,
          -0.6873636767251813,
          -2.154901585183574,
          0.8349884750677796,
          -0.29344606963996633,
          -2.0646176720779064,
          0.2715258162942724,
          -0.8987499333895042,
          0.6737517491122544,
          -0.8903450187141376,
          -0.5865223603579941,
          1.2182908148049052,
          0.5438298456028653,
          -0.9955332831521326,
          -0.9267142054469677,
          -1.8737830394162058,
          0.4155025883669216,
          1.4072161601242574,
          1.6558356000102168,
          0.1809956349868083,
          0.05305950380555659,
          -0.9973706957566846,
          0.8485135367398966,
          -0.09069496672792628,
          1.2575460701823191,
          -1.1954067348628163,
          -0.03249315387521831,
          0.28128026601803596,
          -1.0405636511730798,
          -0.17966114977992012,
          -0.19911305400341872,
          -0.04475203909549446,
          -0.33144565439472856,
          2.7808030289348644,
          0.08125916906489697,
          -1.5582135882821042,
          -1.288804376166216,
          0.14180622305606383,
          0.5449416201336499,
          -0.39609729585126346,
          -0.12395381701788742,
          0.07703560202435866,
          -1.0272511213580646,
          0.013861719718305783,
          -0.10758763900023838,
          -0.3976760311590689,
          1.1015906152909287,
          -0.6678659159520443,
          -0.8442929808644131,
          0.8409636359623852,
          0.28507155270790163,
          -0.6297736460594562,
          -2.9931078502086437
         ],
         "xaxis": "x10",
         "y": [
          2.038102357710706,
          0.2576996643892817,
          -1.1798196348353838,
          0.4157702614131842,
          -1.1012351243432212,
          0.16243256677021015,
          0.3195838918073923,
          -0.42163946571452043,
          -0.5624454929238729,
          -0.6294645434405128,
          0.3271658984857019,
          1.5098386680081353,
          -0.42329324229384124,
          2.3648631071382713,
          -0.6889084121465173,
          0.6156641704478799,
          1.1851224297767595,
          0.22740394959544033,
          -0.08161112165280739,
          0.1445006384531758,
          -0.0075238161668971385,
          -0.6110805416197159,
          -0.25606087590304366,
          1.3443060281974812,
          -0.7388932514568775,
          -0.7695496258394001,
          -0.7873817375146055,
          0.4297837429016983,
          0.9579503469593186,
          -1.164752419424204,
          -1.276315432288413,
          0.02053447733297226,
          -2.4317108807142573,
          -0.24770284951243285,
          0.5406704807880074,
          -0.6938050496735396,
          0.6339706052865337,
          1.1093520601630171,
          -0.32163042371408884,
          0.37507601689143294,
          -0.648118710188847,
          -0.5515887216458849,
          0.2527639200133479,
          -0.47386103063949947,
          1.5657496158271567,
          0.28793560012679836,
          1.6264063683510546,
          0.45312392396668183,
          0.013940264815367073,
          -0.8458398937119691,
          0.34161508358595044,
          0.5464580959173527,
          0.4291498719884774,
          0.32002922017412805,
          1.0895515741012827,
          0.5681379084099052,
          0.4158120212337378,
          0.6678856985111923,
          -0.0160716737410791,
          0.5077164219306115,
          -0.47237927437833765,
          -0.23295608254637346,
          -1.1472519618841157,
          2.514952980286407,
          -0.7964223189433736,
          -0.580551760148871,
          -0.07954941725492208,
          -0.3510567235837107,
          -0.4688298882576997,
          -0.8384028189859069,
          0.45792184059746244,
          1.9152580396167196,
          -0.8352155282336406,
          -0.23946842071359362,
          -0.7288389214662799,
          -0.6423181117562349,
          -0.825304444929453,
          -0.16657784662202907,
          0.08458906577422094,
          2.2811408452149315,
          -1.5977696389242177,
          1.0032587671269737,
          -0.588110777473575,
          -0.2619393559738801,
          -0.4989960405369848,
          -1.177242495157639,
          0.8135642767816046,
          -0.9392292364320963,
          -0.13327949316349333,
          -1.2694780872024656,
          -0.5277346956879497,
          -1.2704014388203406,
          1.4092428406270736,
          0.40461680992503957,
          -1.2318734780816807,
          2.257885368505444,
          1.081994437484539,
          -0.8962135328256043,
          0.1394341878823279,
          -1.5322769011678719
         ],
         "yaxis": "y10"
        },
        {
         "histfunc": "count",
         "histnorm": "",
         "marker": {
          "color": "rgba(50, 171, 96, 1.0)",
          "line": {
           "color": "#4D5663",
           "width": 1.3
          }
         },
         "name": "C",
         "nbinsx": 10,
         "opacity": 0.8,
         "orientation": "v",
         "type": "histogram",
         "x": [
          2.038102357710706,
          0.2576996643892817,
          -1.1798196348353838,
          0.4157702614131842,
          -1.1012351243432212,
          0.16243256677021015,
          0.3195838918073923,
          -0.42163946571452043,
          -0.5624454929238729,
          -0.6294645434405128,
          0.3271658984857019,
          1.5098386680081353,
          -0.42329324229384124,
          2.3648631071382713,
          -0.6889084121465173,
          0.6156641704478799,
          1.1851224297767595,
          0.22740394959544033,
          -0.08161112165280739,
          0.1445006384531758,
          -0.0075238161668971385,
          -0.6110805416197159,
          -0.25606087590304366,
          1.3443060281974812,
          -0.7388932514568775,
          -0.7695496258394001,
          -0.7873817375146055,
          0.4297837429016983,
          0.9579503469593186,
          -1.164752419424204,
          -1.276315432288413,
          0.02053447733297226,
          -2.4317108807142573,
          -0.24770284951243285,
          0.5406704807880074,
          -0.6938050496735396,
          0.6339706052865337,
          1.1093520601630171,
          -0.32163042371408884,
          0.37507601689143294,
          -0.648118710188847,
          -0.5515887216458849,
          0.2527639200133479,
          -0.47386103063949947,
          1.5657496158271567,
          0.28793560012679836,
          1.6264063683510546,
          0.45312392396668183,
          0.013940264815367073,
          -0.8458398937119691,
          0.34161508358595044,
          0.5464580959173527,
          0.4291498719884774,
          0.32002922017412805,
          1.0895515741012827,
          0.5681379084099052,
          0.4158120212337378,
          0.6678856985111923,
          -0.0160716737410791,
          0.5077164219306115,
          -0.47237927437833765,
          -0.23295608254637346,
          -1.1472519618841157,
          2.514952980286407,
          -0.7964223189433736,
          -0.580551760148871,
          -0.07954941725492208,
          -0.3510567235837107,
          -0.4688298882576997,
          -0.8384028189859069,
          0.45792184059746244,
          1.9152580396167196,
          -0.8352155282336406,
          -0.23946842071359362,
          -0.7288389214662799,
          -0.6423181117562349,
          -0.825304444929453,
          -0.16657784662202907,
          0.08458906577422094,
          2.2811408452149315,
          -1.5977696389242177,
          1.0032587671269737,
          -0.588110777473575,
          -0.2619393559738801,
          -0.4989960405369848,
          -1.177242495157639,
          0.8135642767816046,
          -0.9392292364320963,
          -0.13327949316349333,
          -1.2694780872024656,
          -0.5277346956879497,
          -1.2704014388203406,
          1.4092428406270736,
          0.40461680992503957,
          -1.2318734780816807,
          2.257885368505444,
          1.081994437484539,
          -0.8962135328256043,
          0.1394341878823279,
          -1.5322769011678719
         ],
         "xaxis": "x11",
         "yaxis": "y11"
        },
        {
         "line": {
          "color": "rgba(128, 128, 128, 1.0)",
          "dash": "solid",
          "shape": "linear",
          "width": 1.3
         },
         "marker": {
          "size": 2,
          "symbol": "circle"
         },
         "mode": "markers",
         "name": "C",
         "text": "",
         "type": "scatter",
         "x": [
          -2.0168295111392105,
          -0.21013946544226061,
          -1.258031148952199,
          0.13601150195186626,
          -0.9326675103109121,
          1.611415931881721,
          -0.5546502912770421,
          1.1727916704060484,
          -1.0378299808439229,
          0.06632263585327085,
          0.7511309954204283,
          1.809412952840736,
          -0.044220581261604344,
          -0.8068498078280052,
          -1.3597344031658158,
          -0.6557923731449656,
          1.2420221885242144,
          0.9524935708464101,
          0.17723258748445941,
          1.167990665130411,
          0.05880026319073873,
          -0.04623484159031213,
          0.18090316066269005,
          0.9267191286977249,
          0.16553458024891518,
          -1.3136390901784187,
          -0.06581785804893786,
          -0.7411958743274716,
          -0.40268998521209426,
          -1.5232465692913328,
          0.1902404762177136,
          1.6039351141622544,
          1.2114609571160415,
          -1.515347397523287,
          0.07181238623888106,
          -0.07873744523145464,
          0.11247408248408321,
          1.4511470206604198,
          -0.8050589159007769,
          0.8711861823124123,
          1.0007029677650339,
          0.8137507804035743,
          -0.6543433291379487,
          1.5289305214001112,
          0.014782093150927886,
          0.6200951298097656,
          1.150455514064878,
          0.9553906535290986,
          -0.41683051193560994,
          -0.23144950051061663,
          0.6887180371482181,
          -0.596392242147904,
          1.2543891626130692,
          0.0030724698669582803,
          0.12362507474079651,
          0.6226124546708929,
          0.42466444466556386,
          0.47926413631075265,
          1.5774490366605967,
          0.2640923627476357,
          -0.7993459891468951,
          -0.36172350204577075,
          -1.544160511315879,
          0.14890998512774686,
          1.1163820612050082,
          -0.0030689004076699545,
          0.3731074916210108,
          0.3805955800175891,
          0.07829472340075247,
          0.4604484607902768,
          1.104119895280711,
          -0.9967704117259928,
          0.8405830043238202,
          -0.3608568411009861,
          1.235374755446539,
          1.3474524590877468,
          0.1491539960997328,
          1.3356519668737115,
          1.264942923231072,
          0.7106069315969047,
          -1.2563731252580563,
          -0.29577964756996483,
          -1.8018826832220123,
          0.5817820085802042,
          1.062697781721015,
          0.7620137522866587,
          -0.8314965510589846,
          0.0364211117304112,
          -0.7113461269231741,
          2.482943491654735,
          -0.2875647729877446,
          0.2651044673195494,
          0.8422507841040974,
          -0.7072892593682847,
          0.5394853919155316,
          1.4497737247702585,
          0.3207280886261204,
          -0.6897627137375941,
          1.3082921742928493,
          0.8083137004369385
         ],
         "xaxis": "x12",
         "y": [
          2.038102357710706,
          0.2576996643892817,
          -1.1798196348353838,
          0.4157702614131842,
          -1.1012351243432212,
          0.16243256677021015,
          0.3195838918073923,
          -0.42163946571452043,
          -0.5624454929238729,
          -0.6294645434405128,
          0.3271658984857019,
          1.5098386680081353,
          -0.42329324229384124,
          2.3648631071382713,
          -0.6889084121465173,
          0.6156641704478799,
          1.1851224297767595,
          0.22740394959544033,
          -0.08161112165280739,
          0.1445006384531758,
          -0.0075238161668971385,
          -0.6110805416197159,
          -0.25606087590304366,
          1.3443060281974812,
          -0.7388932514568775,
          -0.7695496258394001,
          -0.7873817375146055,
          0.4297837429016983,
          0.9579503469593186,
          -1.164752419424204,
          -1.276315432288413,
          0.02053447733297226,
          -2.4317108807142573,
          -0.24770284951243285,
          0.5406704807880074,
          -0.6938050496735396,
          0.6339706052865337,
          1.1093520601630171,
          -0.32163042371408884,
          0.37507601689143294,
          -0.648118710188847,
          -0.5515887216458849,
          0.2527639200133479,
          -0.47386103063949947,
          1.5657496158271567,
          0.28793560012679836,
          1.6264063683510546,
          0.45312392396668183,
          0.013940264815367073,
          -0.8458398937119691,
          0.34161508358595044,
          0.5464580959173527,
          0.4291498719884774,
          0.32002922017412805,
          1.0895515741012827,
          0.5681379084099052,
          0.4158120212337378,
          0.6678856985111923,
          -0.0160716737410791,
          0.5077164219306115,
          -0.47237927437833765,
          -0.23295608254637346,
          -1.1472519618841157,
          2.514952980286407,
          -0.7964223189433736,
          -0.580551760148871,
          -0.07954941725492208,
          -0.3510567235837107,
          -0.4688298882576997,
          -0.8384028189859069,
          0.45792184059746244,
          1.9152580396167196,
          -0.8352155282336406,
          -0.23946842071359362,
          -0.7288389214662799,
          -0.6423181117562349,
          -0.825304444929453,
          -0.16657784662202907,
          0.08458906577422094,
          2.2811408452149315,
          -1.5977696389242177,
          1.0032587671269737,
          -0.588110777473575,
          -0.2619393559738801,
          -0.4989960405369848,
          -1.177242495157639,
          0.8135642767816046,
          -0.9392292364320963,
          -0.13327949316349333,
          -1.2694780872024656,
          -0.5277346956879497,
          -1.2704014388203406,
          1.4092428406270736,
          0.40461680992503957,
          -1.2318734780816807,
          2.257885368505444,
          1.081994437484539,
          -0.8962135328256043,
          0.1394341878823279,
          -1.5322769011678719
         ],
         "yaxis": "y12"
        },
        {
         "line": {
          "color": "rgba(128, 128, 128, 1.0)",
          "dash": "solid",
          "shape": "linear",
          "width": 1.3
         },
         "marker": {
          "size": 2,
          "symbol": "circle"
         },
         "mode": "markers",
         "name": "D",
         "text": "",
         "type": "scatter",
         "x": [
          0.5607480575046337,
          -0.3708633475833689,
          0.4230264901718323,
          -0.9549106351528698,
          -0.20741263670876842,
          -1.024518844287343,
          -1.0367249687928646,
          2.0584447684824885,
          -1.4187588960747235,
          -0.046585194692532424,
          0.36787548846534923,
          -2.044211812156692,
          -2.550339562813716,
          0.40015190479056917,
          0.5681708126504649,
          0.7940914617616944,
          -1.068967565955156,
          0.07867740459071079,
          0.4235998492954107,
          0.39095912999154775,
          1.327686045467365,
          -1.754462647693073,
          -0.578173012072137,
          -1.0779798184582985,
          -1.891079726438191,
          0.4659456386036681,
          -0.21802135906844125,
          0.19367326395113266,
          -1.9603362574570133,
          0.14932514499258526,
          -0.9529428773655932,
          0.7856639631456367,
          0.4156555358714044,
          0.7153211913364734,
          -1.3322882860784802,
          0.4139571120324161,
          0.3967036149503087,
          0.4803572763821211,
          -0.15324245046653046,
          -0.3119030508533104,
          0.9967146023695868,
          -0.47050022120553125,
          -0.4892774201067624,
          -1.85008249779815,
          -1.7845525458308382,
          0.1353531820802186,
          0.8699058267717776,
          -0.595527228953319,
          -0.49038254076086707,
          0.14079245442134247,
          -1.6579724363407244,
          2.418537608960433,
          0.27571151766342716,
          -1.2092357839728465,
          0.37547517010499964,
          -1.0630914256315618,
          -0.21351316426565678,
          -0.27672782264169615,
          1.1129222293747094,
          -0.28712792311619945,
          0.7129540586172829,
          -1.566751562768234,
          0.9296950897556568,
          -0.9935280386456603,
          -1.1710637069029972,
          1.0331173300172627,
          -0.7779591509796198,
          0.21686394225833813,
          0.9654083038662515,
          0.03337425399400426,
          0.2108971788093691,
          -2.3580895215396565,
          0.896589310994641,
          0.674101904339704,
          -0.38463931465655277,
          -0.23191184444903365,
          -0.8086330854286654,
          -1.445946605784175,
          -1.9764770166489303,
          -0.37283081828887904,
          0.8367782985876825,
          -0.30237097827066195,
          0.380435715262536,
          0.031050281970491544,
          -1.0946115915704187,
          2.2558393050008103,
          -0.12197341968923685,
          0.1407793346328531,
          -0.7188373798798,
          0.8657765896581454,
          -0.13382126496639835,
          0.970122231997722,
          -0.029542020767768597,
          -0.8690891890937565,
          -1.0338929783040642,
          -0.6267558462723102,
          -1.4157502451975266,
          -0.5785252269504768,
          0.23779112418985437,
          -0.158700233859291
         ],
         "xaxis": "x13",
         "y": [
          -2.0168295111392105,
          -0.21013946544226061,
          -1.258031148952199,
          0.13601150195186626,
          -0.9326675103109121,
          1.611415931881721,
          -0.5546502912770421,
          1.1727916704060484,
          -1.0378299808439229,
          0.06632263585327085,
          0.7511309954204283,
          1.809412952840736,
          -0.044220581261604344,
          -0.8068498078280052,
          -1.3597344031658158,
          -0.6557923731449656,
          1.2420221885242144,
          0.9524935708464101,
          0.17723258748445941,
          1.167990665130411,
          0.05880026319073873,
          -0.04623484159031213,
          0.18090316066269005,
          0.9267191286977249,
          0.16553458024891518,
          -1.3136390901784187,
          -0.06581785804893786,
          -0.7411958743274716,
          -0.40268998521209426,
          -1.5232465692913328,
          0.1902404762177136,
          1.6039351141622544,
          1.2114609571160415,
          -1.515347397523287,
          0.07181238623888106,
          -0.07873744523145464,
          0.11247408248408321,
          1.4511470206604198,
          -0.8050589159007769,
          0.8711861823124123,
          1.0007029677650339,
          0.8137507804035743,
          -0.6543433291379487,
          1.5289305214001112,
          0.014782093150927886,
          0.6200951298097656,
          1.150455514064878,
          0.9553906535290986,
          -0.41683051193560994,
          -0.23144950051061663,
          0.6887180371482181,
          -0.596392242147904,
          1.2543891626130692,
          0.0030724698669582803,
          0.12362507474079651,
          0.6226124546708929,
          0.42466444466556386,
          0.47926413631075265,
          1.5774490366605967,
          0.2640923627476357,
          -0.7993459891468951,
          -0.36172350204577075,
          -1.544160511315879,
          0.14890998512774686,
          1.1163820612050082,
          -0.0030689004076699545,
          0.3731074916210108,
          0.3805955800175891,
          0.07829472340075247,
          0.4604484607902768,
          1.104119895280711,
          -0.9967704117259928,
          0.8405830043238202,
          -0.3608568411009861,
          1.235374755446539,
          1.3474524590877468,
          0.1491539960997328,
          1.3356519668737115,
          1.264942923231072,
          0.7106069315969047,
          -1.2563731252580563,
          -0.29577964756996483,
          -1.8018826832220123,
          0.5817820085802042,
          1.062697781721015,
          0.7620137522866587,
          -0.8314965510589846,
          0.0364211117304112,
          -0.7113461269231741,
          2.482943491654735,
          -0.2875647729877446,
          0.2651044673195494,
          0.8422507841040974,
          -0.7072892593682847,
          0.5394853919155316,
          1.4497737247702585,
          0.3207280886261204,
          -0.6897627137375941,
          1.3082921742928493,
          0.8083137004369385
         ],
         "yaxis": "y13"
        },
        {
         "line": {
          "color": "rgba(128, 128, 128, 1.0)",
          "dash": "solid",
          "shape": "linear",
          "width": 1.3
         },
         "marker": {
          "size": 2,
          "symbol": "circle"
         },
         "mode": "markers",
         "name": "D",
         "text": "",
         "type": "scatter",
         "x": [
          0.08628323394041917,
          0.1996020788959708,
          0.20815944961259064,
          2.131671412751742,
          -0.6230820414858802,
          -0.20059453914798314,
          0.30850312105249406,
          1.7452481067756915,
          0.7328641159155839,
          2.1251837923160504,
          0.47887481994342734,
          -0.1825069749191838,
          2.138799212851821,
          1.0451685881907276,
          0.7434135269810468,
          0.3442098404393374,
          -0.6667688075567253,
          0.06371752400275227,
          0.0027046037096464712,
          0.08321386399124807,
          0.22243369389629775,
          0.4755975179492282,
          -0.8979402876528175,
          -1.85402118299806,
          -0.9247498611392219,
          -0.8602848187962258,
          0.04358900306148492,
          -0.5676161630929298,
          -0.07734514221487851,
          0.18994788348417663,
          -0.7365699535202821,
          0.32817276921175176,
          0.5845710556239431,
          0.5504481459044616,
          -0.7217255921692333,
          1.3536859978584614,
          0.7413518060931923,
          0.4954504182405843,
          -1.297639979562549,
          -1.5211164017484191,
          -0.5356313159929892,
          -0.14139501644207536,
          -2.535185047270597,
          -1.3972714221877187,
          0.08578376083602648,
          -1.8771408047470939,
          -0.1382002174398529,
          -0.4319456408707257,
          -0.6873636767251813,
          -2.154901585183574,
          0.8349884750677796,
          -0.29344606963996633,
          -2.0646176720779064,
          0.2715258162942724,
          -0.8987499333895042,
          0.6737517491122544,
          -0.8903450187141376,
          -0.5865223603579941,
          1.2182908148049052,
          0.5438298456028653,
          -0.9955332831521326,
          -0.9267142054469677,
          -1.8737830394162058,
          0.4155025883669216,
          1.4072161601242574,
          1.6558356000102168,
          0.1809956349868083,
          0.05305950380555659,
          -0.9973706957566846,
          0.8485135367398966,
          -0.09069496672792628,
          1.2575460701823191,
          -1.1954067348628163,
          -0.03249315387521831,
          0.28128026601803596,
          -1.0405636511730798,
          -0.17966114977992012,
          -0.19911305400341872,
          -0.04475203909549446,
          -0.33144565439472856,
          2.7808030289348644,
          0.08125916906489697,
          -1.5582135882821042,
          -1.288804376166216,
          0.14180622305606383,
          0.5449416201336499,
          -0.39609729585126346,
          -0.12395381701788742,
          0.07703560202435866,
          -1.0272511213580646,
          0.013861719718305783,
          -0.10758763900023838,
          -0.3976760311590689,
          1.1015906152909287,
          -0.6678659159520443,
          -0.8442929808644131,
          0.8409636359623852,
          0.28507155270790163,
          -0.6297736460594562,
          -2.9931078502086437
         ],
         "xaxis": "x14",
         "y": [
          -2.0168295111392105,
          -0.21013946544226061,
          -1.258031148952199,
          0.13601150195186626,
          -0.9326675103109121,
          1.611415931881721,
          -0.5546502912770421,
          1.1727916704060484,
          -1.0378299808439229,
          0.06632263585327085,
          0.7511309954204283,
          1.809412952840736,
          -0.044220581261604344,
          -0.8068498078280052,
          -1.3597344031658158,
          -0.6557923731449656,
          1.2420221885242144,
          0.9524935708464101,
          0.17723258748445941,
          1.167990665130411,
          0.05880026319073873,
          -0.04623484159031213,
          0.18090316066269005,
          0.9267191286977249,
          0.16553458024891518,
          -1.3136390901784187,
          -0.06581785804893786,
          -0.7411958743274716,
          -0.40268998521209426,
          -1.5232465692913328,
          0.1902404762177136,
          1.6039351141622544,
          1.2114609571160415,
          -1.515347397523287,
          0.07181238623888106,
          -0.07873744523145464,
          0.11247408248408321,
          1.4511470206604198,
          -0.8050589159007769,
          0.8711861823124123,
          1.0007029677650339,
          0.8137507804035743,
          -0.6543433291379487,
          1.5289305214001112,
          0.014782093150927886,
          0.6200951298097656,
          1.150455514064878,
          0.9553906535290986,
          -0.41683051193560994,
          -0.23144950051061663,
          0.6887180371482181,
          -0.596392242147904,
          1.2543891626130692,
          0.0030724698669582803,
          0.12362507474079651,
          0.6226124546708929,
          0.42466444466556386,
          0.47926413631075265,
          1.5774490366605967,
          0.2640923627476357,
          -0.7993459891468951,
          -0.36172350204577075,
          -1.544160511315879,
          0.14890998512774686,
          1.1163820612050082,
          -0.0030689004076699545,
          0.3731074916210108,
          0.3805955800175891,
          0.07829472340075247,
          0.4604484607902768,
          1.104119895280711,
          -0.9967704117259928,
          0.8405830043238202,
          -0.3608568411009861,
          1.235374755446539,
          1.3474524590877468,
          0.1491539960997328,
          1.3356519668737115,
          1.264942923231072,
          0.7106069315969047,
          -1.2563731252580563,
          -0.29577964756996483,
          -1.8018826832220123,
          0.5817820085802042,
          1.062697781721015,
          0.7620137522866587,
          -0.8314965510589846,
          0.0364211117304112,
          -0.7113461269231741,
          2.482943491654735,
          -0.2875647729877446,
          0.2651044673195494,
          0.8422507841040974,
          -0.7072892593682847,
          0.5394853919155316,
          1.4497737247702585,
          0.3207280886261204,
          -0.6897627137375941,
          1.3082921742928493,
          0.8083137004369385
         ],
         "yaxis": "y14"
        },
        {
         "line": {
          "color": "rgba(128, 128, 128, 1.0)",
          "dash": "solid",
          "shape": "linear",
          "width": 1.3
         },
         "marker": {
          "size": 2,
          "symbol": "circle"
         },
         "mode": "markers",
         "name": "D",
         "text": "",
         "type": "scatter",
         "x": [
          2.038102357710706,
          0.2576996643892817,
          -1.1798196348353838,
          0.4157702614131842,
          -1.1012351243432212,
          0.16243256677021015,
          0.3195838918073923,
          -0.42163946571452043,
          -0.5624454929238729,
          -0.6294645434405128,
          0.3271658984857019,
          1.5098386680081353,
          -0.42329324229384124,
          2.3648631071382713,
          -0.6889084121465173,
          0.6156641704478799,
          1.1851224297767595,
          0.22740394959544033,
          -0.08161112165280739,
          0.1445006384531758,
          -0.0075238161668971385,
          -0.6110805416197159,
          -0.25606087590304366,
          1.3443060281974812,
          -0.7388932514568775,
          -0.7695496258394001,
          -0.7873817375146055,
          0.4297837429016983,
          0.9579503469593186,
          -1.164752419424204,
          -1.276315432288413,
          0.02053447733297226,
          -2.4317108807142573,
          -0.24770284951243285,
          0.5406704807880074,
          -0.6938050496735396,
          0.6339706052865337,
          1.1093520601630171,
          -0.32163042371408884,
          0.37507601689143294,
          -0.648118710188847,
          -0.5515887216458849,
          0.2527639200133479,
          -0.47386103063949947,
          1.5657496158271567,
          0.28793560012679836,
          1.6264063683510546,
          0.45312392396668183,
          0.013940264815367073,
          -0.8458398937119691,
          0.34161508358595044,
          0.5464580959173527,
          0.4291498719884774,
          0.32002922017412805,
          1.0895515741012827,
          0.5681379084099052,
          0.4158120212337378,
          0.6678856985111923,
          -0.0160716737410791,
          0.5077164219306115,
          -0.47237927437833765,
          -0.23295608254637346,
          -1.1472519618841157,
          2.514952980286407,
          -0.7964223189433736,
          -0.580551760148871,
          -0.07954941725492208,
          -0.3510567235837107,
          -0.4688298882576997,
          -0.8384028189859069,
          0.45792184059746244,
          1.9152580396167196,
          -0.8352155282336406,
          -0.23946842071359362,
          -0.7288389214662799,
          -0.6423181117562349,
          -0.825304444929453,
          -0.16657784662202907,
          0.08458906577422094,
          2.2811408452149315,
          -1.5977696389242177,
          1.0032587671269737,
          -0.588110777473575,
          -0.2619393559738801,
          -0.4989960405369848,
          -1.177242495157639,
          0.8135642767816046,
          -0.9392292364320963,
          -0.13327949316349333,
          -1.2694780872024656,
          -0.5277346956879497,
          -1.2704014388203406,
          1.4092428406270736,
          0.40461680992503957,
          -1.2318734780816807,
          2.257885368505444,
          1.081994437484539,
          -0.8962135328256043,
          0.1394341878823279,
          -1.5322769011678719
         ],
         "xaxis": "x15",
         "y": [
          -2.0168295111392105,
          -0.21013946544226061,
          -1.258031148952199,
          0.13601150195186626,
          -0.9326675103109121,
          1.611415931881721,
          -0.5546502912770421,
          1.1727916704060484,
          -1.0378299808439229,
          0.06632263585327085,
          0.7511309954204283,
          1.809412952840736,
          -0.044220581261604344,
          -0.8068498078280052,
          -1.3597344031658158,
          -0.6557923731449656,
          1.2420221885242144,
          0.9524935708464101,
          0.17723258748445941,
          1.167990665130411,
          0.05880026319073873,
          -0.04623484159031213,
          0.18090316066269005,
          0.9267191286977249,
          0.16553458024891518,
          -1.3136390901784187,
          -0.06581785804893786,
          -0.7411958743274716,
          -0.40268998521209426,
          -1.5232465692913328,
          0.1902404762177136,
          1.6039351141622544,
          1.2114609571160415,
          -1.515347397523287,
          0.07181238623888106,
          -0.07873744523145464,
          0.11247408248408321,
          1.4511470206604198,
          -0.8050589159007769,
          0.8711861823124123,
          1.0007029677650339,
          0.8137507804035743,
          -0.6543433291379487,
          1.5289305214001112,
          0.014782093150927886,
          0.6200951298097656,
          1.150455514064878,
          0.9553906535290986,
          -0.41683051193560994,
          -0.23144950051061663,
          0.6887180371482181,
          -0.596392242147904,
          1.2543891626130692,
          0.0030724698669582803,
          0.12362507474079651,
          0.6226124546708929,
          0.42466444466556386,
          0.47926413631075265,
          1.5774490366605967,
          0.2640923627476357,
          -0.7993459891468951,
          -0.36172350204577075,
          -1.544160511315879,
          0.14890998512774686,
          1.1163820612050082,
          -0.0030689004076699545,
          0.3731074916210108,
          0.3805955800175891,
          0.07829472340075247,
          0.4604484607902768,
          1.104119895280711,
          -0.9967704117259928,
          0.8405830043238202,
          -0.3608568411009861,
          1.235374755446539,
          1.3474524590877468,
          0.1491539960997328,
          1.3356519668737115,
          1.264942923231072,
          0.7106069315969047,
          -1.2563731252580563,
          -0.29577964756996483,
          -1.8018826832220123,
          0.5817820085802042,
          1.062697781721015,
          0.7620137522866587,
          -0.8314965510589846,
          0.0364211117304112,
          -0.7113461269231741,
          2.482943491654735,
          -0.2875647729877446,
          0.2651044673195494,
          0.8422507841040974,
          -0.7072892593682847,
          0.5394853919155316,
          1.4497737247702585,
          0.3207280886261204,
          -0.6897627137375941,
          1.3082921742928493,
          0.8083137004369385
         ],
         "yaxis": "y15"
        },
        {
         "histfunc": "count",
         "histnorm": "",
         "marker": {
          "color": "rgba(128, 0, 128, 1.0)",
          "line": {
           "color": "#4D5663",
           "width": 1.3
          }
         },
         "name": "D",
         "nbinsx": 10,
         "opacity": 0.8,
         "orientation": "v",
         "type": "histogram",
         "x": [
          -2.0168295111392105,
          -0.21013946544226061,
          -1.258031148952199,
          0.13601150195186626,
          -0.9326675103109121,
          1.611415931881721,
          -0.5546502912770421,
          1.1727916704060484,
          -1.0378299808439229,
          0.06632263585327085,
          0.7511309954204283,
          1.809412952840736,
          -0.044220581261604344,
          -0.8068498078280052,
          -1.3597344031658158,
          -0.6557923731449656,
          1.2420221885242144,
          0.9524935708464101,
          0.17723258748445941,
          1.167990665130411,
          0.05880026319073873,
          -0.04623484159031213,
          0.18090316066269005,
          0.9267191286977249,
          0.16553458024891518,
          -1.3136390901784187,
          -0.06581785804893786,
          -0.7411958743274716,
          -0.40268998521209426,
          -1.5232465692913328,
          0.1902404762177136,
          1.6039351141622544,
          1.2114609571160415,
          -1.515347397523287,
          0.07181238623888106,
          -0.07873744523145464,
          0.11247408248408321,
          1.4511470206604198,
          -0.8050589159007769,
          0.8711861823124123,
          1.0007029677650339,
          0.8137507804035743,
          -0.6543433291379487,
          1.5289305214001112,
          0.014782093150927886,
          0.6200951298097656,
          1.150455514064878,
          0.9553906535290986,
          -0.41683051193560994,
          -0.23144950051061663,
          0.6887180371482181,
          -0.596392242147904,
          1.2543891626130692,
          0.0030724698669582803,
          0.12362507474079651,
          0.6226124546708929,
          0.42466444466556386,
          0.47926413631075265,
          1.5774490366605967,
          0.2640923627476357,
          -0.7993459891468951,
          -0.36172350204577075,
          -1.544160511315879,
          0.14890998512774686,
          1.1163820612050082,
          -0.0030689004076699545,
          0.3731074916210108,
          0.3805955800175891,
          0.07829472340075247,
          0.4604484607902768,
          1.104119895280711,
          -0.9967704117259928,
          0.8405830043238202,
          -0.3608568411009861,
          1.235374755446539,
          1.3474524590877468,
          0.1491539960997328,
          1.3356519668737115,
          1.264942923231072,
          0.7106069315969047,
          -1.2563731252580563,
          -0.29577964756996483,
          -1.8018826832220123,
          0.5817820085802042,
          1.062697781721015,
          0.7620137522866587,
          -0.8314965510589846,
          0.0364211117304112,
          -0.7113461269231741,
          2.482943491654735,
          -0.2875647729877446,
          0.2651044673195494,
          0.8422507841040974,
          -0.7072892593682847,
          0.5394853919155316,
          1.4497737247702585,
          0.3207280886261204,
          -0.6897627137375941,
          1.3082921742928493,
          0.8083137004369385
         ],
         "xaxis": "x16",
         "yaxis": "y16"
        }
       ],
       "layout": {
        "bargap": 0.02,
        "legend": {
         "bgcolor": "#F5F6F9",
         "font": {
          "color": "#4D5663"
         }
        },
        "paper_bgcolor": "#F5F6F9",
        "plot_bgcolor": "#F5F6F9",
        "showlegend": false,
        "template": {
         "data": {
          "bar": [
           {
            "error_x": {
             "color": "#2a3f5f"
            },
            "error_y": {
             "color": "#2a3f5f"
            },
            "marker": {
             "line": {
              "color": "#E5ECF6",
              "width": 0.5
             }
            },
            "type": "bar"
           }
          ],
          "barpolar": [
           {
            "marker": {
             "line": {
              "color": "#E5ECF6",
              "width": 0.5
             }
            },
            "type": "barpolar"
           }
          ],
          "carpet": [
           {
            "aaxis": {
             "endlinecolor": "#2a3f5f",
             "gridcolor": "white",
             "linecolor": "white",
             "minorgridcolor": "white",
             "startlinecolor": "#2a3f5f"
            },
            "baxis": {
             "endlinecolor": "#2a3f5f",
             "gridcolor": "white",
             "linecolor": "white",
             "minorgridcolor": "white",
             "startlinecolor": "#2a3f5f"
            },
            "type": "carpet"
           }
          ],
          "choropleth": [
           {
            "colorbar": {
             "outlinewidth": 0,
             "ticks": ""
            },
            "type": "choropleth"
           }
          ],
          "contour": [
           {
            "colorbar": {
             "outlinewidth": 0,
             "ticks": ""
            },
            "colorscale": [
             [
              0,
              "#0d0887"
             ],
             [
              0.1111111111111111,
              "#46039f"
             ],
             [
              0.2222222222222222,
              "#7201a8"
             ],
             [
              0.3333333333333333,
              "#9c179e"
             ],
             [
              0.4444444444444444,
              "#bd3786"
             ],
             [
              0.5555555555555556,
              "#d8576b"
             ],
             [
              0.6666666666666666,
              "#ed7953"
             ],
             [
              0.7777777777777778,
              "#fb9f3a"
             ],
             [
              0.8888888888888888,
              "#fdca26"
             ],
             [
              1,
              "#f0f921"
             ]
            ],
            "type": "contour"
           }
          ],
          "contourcarpet": [
           {
            "colorbar": {
             "outlinewidth": 0,
             "ticks": ""
            },
            "type": "contourcarpet"
           }
          ],
          "heatmap": [
           {
            "colorbar": {
             "outlinewidth": 0,
             "ticks": ""
            },
            "colorscale": [
             [
              0,
              "#0d0887"
             ],
             [
              0.1111111111111111,
              "#46039f"
             ],
             [
              0.2222222222222222,
              "#7201a8"
             ],
             [
              0.3333333333333333,
              "#9c179e"
             ],
             [
              0.4444444444444444,
              "#bd3786"
             ],
             [
              0.5555555555555556,
              "#d8576b"
             ],
             [
              0.6666666666666666,
              "#ed7953"
             ],
             [
              0.7777777777777778,
              "#fb9f3a"
             ],
             [
              0.8888888888888888,
              "#fdca26"
             ],
             [
              1,
              "#f0f921"
             ]
            ],
            "type": "heatmap"
           }
          ],
          "heatmapgl": [
           {
            "colorbar": {
             "outlinewidth": 0,
             "ticks": ""
            },
            "colorscale": [
             [
              0,
              "#0d0887"
             ],
             [
              0.1111111111111111,
              "#46039f"
             ],
             [
              0.2222222222222222,
              "#7201a8"
             ],
             [
              0.3333333333333333,
              "#9c179e"
             ],
             [
              0.4444444444444444,
              "#bd3786"
             ],
             [
              0.5555555555555556,
              "#d8576b"
             ],
             [
              0.6666666666666666,
              "#ed7953"
             ],
             [
              0.7777777777777778,
              "#fb9f3a"
             ],
             [
              0.8888888888888888,
              "#fdca26"
             ],
             [
              1,
              "#f0f921"
             ]
            ],
            "type": "heatmapgl"
           }
          ],
          "histogram": [
           {
            "marker": {
             "colorbar": {
              "outlinewidth": 0,
              "ticks": ""
             }
            },
            "type": "histogram"
           }
          ],
          "histogram2d": [
           {
            "colorbar": {
             "outlinewidth": 0,
             "ticks": ""
            },
            "colorscale": [
             [
              0,
              "#0d0887"
             ],
             [
              0.1111111111111111,
              "#46039f"
             ],
             [
              0.2222222222222222,
              "#7201a8"
             ],
             [
              0.3333333333333333,
              "#9c179e"
             ],
             [
              0.4444444444444444,
              "#bd3786"
             ],
             [
              0.5555555555555556,
              "#d8576b"
             ],
             [
              0.6666666666666666,
              "#ed7953"
             ],
             [
              0.7777777777777778,
              "#fb9f3a"
             ],
             [
              0.8888888888888888,
              "#fdca26"
             ],
             [
              1,
              "#f0f921"
             ]
            ],
            "type": "histogram2d"
           }
          ],
          "histogram2dcontour": [
           {
            "colorbar": {
             "outlinewidth": 0,
             "ticks": ""
            },
            "colorscale": [
             [
              0,
              "#0d0887"
             ],
             [
              0.1111111111111111,
              "#46039f"
             ],
             [
              0.2222222222222222,
              "#7201a8"
             ],
             [
              0.3333333333333333,
              "#9c179e"
             ],
             [
              0.4444444444444444,
              "#bd3786"
             ],
             [
              0.5555555555555556,
              "#d8576b"
             ],
             [
              0.6666666666666666,
              "#ed7953"
             ],
             [
              0.7777777777777778,
              "#fb9f3a"
             ],
             [
              0.8888888888888888,
              "#fdca26"
             ],
             [
              1,
              "#f0f921"
             ]
            ],
            "type": "histogram2dcontour"
           }
          ],
          "mesh3d": [
           {
            "colorbar": {
             "outlinewidth": 0,
             "ticks": ""
            },
            "type": "mesh3d"
           }
          ],
          "parcoords": [
           {
            "line": {
             "colorbar": {
              "outlinewidth": 0,
              "ticks": ""
             }
            },
            "type": "parcoords"
           }
          ],
          "pie": [
           {
            "automargin": true,
            "type": "pie"
           }
          ],
          "scatter": [
           {
            "marker": {
             "colorbar": {
              "outlinewidth": 0,
              "ticks": ""
             }
            },
            "type": "scatter"
           }
          ],
          "scatter3d": [
           {
            "line": {
             "colorbar": {
              "outlinewidth": 0,
              "ticks": ""
             }
            },
            "marker": {
             "colorbar": {
              "outlinewidth": 0,
              "ticks": ""
             }
            },
            "type": "scatter3d"
           }
          ],
          "scattercarpet": [
           {
            "marker": {
             "colorbar": {
              "outlinewidth": 0,
              "ticks": ""
             }
            },
            "type": "scattercarpet"
           }
          ],
          "scattergeo": [
           {
            "marker": {
             "colorbar": {
              "outlinewidth": 0,
              "ticks": ""
             }
            },
            "type": "scattergeo"
           }
          ],
          "scattergl": [
           {
            "marker": {
             "colorbar": {
              "outlinewidth": 0,
              "ticks": ""
             }
            },
            "type": "scattergl"
           }
          ],
          "scattermapbox": [
           {
            "marker": {
             "colorbar": {
              "outlinewidth": 0,
              "ticks": ""
             }
            },
            "type": "scattermapbox"
           }
          ],
          "scatterpolar": [
           {
            "marker": {
             "colorbar": {
              "outlinewidth": 0,
              "ticks": ""
             }
            },
            "type": "scatterpolar"
           }
          ],
          "scatterpolargl": [
           {
            "marker": {
             "colorbar": {
              "outlinewidth": 0,
              "ticks": ""
             }
            },
            "type": "scatterpolargl"
           }
          ],
          "scatterternary": [
           {
            "marker": {
             "colorbar": {
              "outlinewidth": 0,
              "ticks": ""
             }
            },
            "type": "scatterternary"
           }
          ],
          "surface": [
           {
            "colorbar": {
             "outlinewidth": 0,
             "ticks": ""
            },
            "colorscale": [
             [
              0,
              "#0d0887"
             ],
             [
              0.1111111111111111,
              "#46039f"
             ],
             [
              0.2222222222222222,
              "#7201a8"
             ],
             [
              0.3333333333333333,
              "#9c179e"
             ],
             [
              0.4444444444444444,
              "#bd3786"
             ],
             [
              0.5555555555555556,
              "#d8576b"
             ],
             [
              0.6666666666666666,
              "#ed7953"
             ],
             [
              0.7777777777777778,
              "#fb9f3a"
             ],
             [
              0.8888888888888888,
              "#fdca26"
             ],
             [
              1,
              "#f0f921"
             ]
            ],
            "type": "surface"
           }
          ],
          "table": [
           {
            "cells": {
             "fill": {
              "color": "#EBF0F8"
             },
             "line": {
              "color": "white"
             }
            },
            "header": {
             "fill": {
              "color": "#C8D4E3"
             },
             "line": {
              "color": "white"
             }
            },
            "type": "table"
           }
          ]
         },
         "layout": {
          "annotationdefaults": {
           "arrowcolor": "#2a3f5f",
           "arrowhead": 0,
           "arrowwidth": 1
          },
          "coloraxis": {
           "colorbar": {
            "outlinewidth": 0,
            "ticks": ""
           }
          },
          "colorscale": {
           "diverging": [
            [
             0,
             "#8e0152"
            ],
            [
             0.1,
             "#c51b7d"
            ],
            [
             0.2,
             "#de77ae"
            ],
            [
             0.3,
             "#f1b6da"
            ],
            [
             0.4,
             "#fde0ef"
            ],
            [
             0.5,
             "#f7f7f7"
            ],
            [
             0.6,
             "#e6f5d0"
            ],
            [
             0.7,
             "#b8e186"
            ],
            [
             0.8,
             "#7fbc41"
            ],
            [
             0.9,
             "#4d9221"
            ],
            [
             1,
             "#276419"
            ]
           ],
           "sequential": [
            [
             0,
             "#0d0887"
            ],
            [
             0.1111111111111111,
             "#46039f"
            ],
            [
             0.2222222222222222,
             "#7201a8"
            ],
            [
             0.3333333333333333,
             "#9c179e"
            ],
            [
             0.4444444444444444,
             "#bd3786"
            ],
            [
             0.5555555555555556,
             "#d8576b"
            ],
            [
             0.6666666666666666,
             "#ed7953"
            ],
            [
             0.7777777777777778,
             "#fb9f3a"
            ],
            [
             0.8888888888888888,
             "#fdca26"
            ],
            [
             1,
             "#f0f921"
            ]
           ],
           "sequentialminus": [
            [
             0,
             "#0d0887"
            ],
            [
             0.1111111111111111,
             "#46039f"
            ],
            [
             0.2222222222222222,
             "#7201a8"
            ],
            [
             0.3333333333333333,
             "#9c179e"
            ],
            [
             0.4444444444444444,
             "#bd3786"
            ],
            [
             0.5555555555555556,
             "#d8576b"
            ],
            [
             0.6666666666666666,
             "#ed7953"
            ],
            [
             0.7777777777777778,
             "#fb9f3a"
            ],
            [
             0.8888888888888888,
             "#fdca26"
            ],
            [
             1,
             "#f0f921"
            ]
           ]
          },
          "colorway": [
           "#636efa",
           "#EF553B",
           "#00cc96",
           "#ab63fa",
           "#FFA15A",
           "#19d3f3",
           "#FF6692",
           "#B6E880",
           "#FF97FF",
           "#FECB52"
          ],
          "font": {
           "color": "#2a3f5f"
          },
          "geo": {
           "bgcolor": "white",
           "lakecolor": "white",
           "landcolor": "#E5ECF6",
           "showlakes": true,
           "showland": true,
           "subunitcolor": "white"
          },
          "hoverlabel": {
           "align": "left"
          },
          "hovermode": "closest",
          "mapbox": {
           "style": "light"
          },
          "paper_bgcolor": "white",
          "plot_bgcolor": "#E5ECF6",
          "polar": {
           "angularaxis": {
            "gridcolor": "white",
            "linecolor": "white",
            "ticks": ""
           },
           "bgcolor": "#E5ECF6",
           "radialaxis": {
            "gridcolor": "white",
            "linecolor": "white",
            "ticks": ""
           }
          },
          "scene": {
           "xaxis": {
            "backgroundcolor": "#E5ECF6",
            "gridcolor": "white",
            "gridwidth": 2,
            "linecolor": "white",
            "showbackground": true,
            "ticks": "",
            "zerolinecolor": "white"
           },
           "yaxis": {
            "backgroundcolor": "#E5ECF6",
            "gridcolor": "white",
            "gridwidth": 2,
            "linecolor": "white",
            "showbackground": true,
            "ticks": "",
            "zerolinecolor": "white"
           },
           "zaxis": {
            "backgroundcolor": "#E5ECF6",
            "gridcolor": "white",
            "gridwidth": 2,
            "linecolor": "white",
            "showbackground": true,
            "ticks": "",
            "zerolinecolor": "white"
           }
          },
          "shapedefaults": {
           "line": {
            "color": "#2a3f5f"
           }
          },
          "ternary": {
           "aaxis": {
            "gridcolor": "white",
            "linecolor": "white",
            "ticks": ""
           },
           "baxis": {
            "gridcolor": "white",
            "linecolor": "white",
            "ticks": ""
           },
           "bgcolor": "#E5ECF6",
           "caxis": {
            "gridcolor": "white",
            "linecolor": "white",
            "ticks": ""
           }
          },
          "title": {
           "x": 0.05
          },
          "xaxis": {
           "automargin": true,
           "gridcolor": "white",
           "linecolor": "white",
           "ticks": "",
           "title": {
            "standoff": 15
           },
           "zerolinecolor": "white",
           "zerolinewidth": 2
          },
          "yaxis": {
           "automargin": true,
           "gridcolor": "white",
           "linecolor": "white",
           "ticks": "",
           "title": {
            "standoff": 15
           },
           "zerolinecolor": "white",
           "zerolinewidth": 2
          }
         }
        },
        "title": {
         "font": {
          "color": "#4D5663"
         }
        },
        "xaxis": {
         "anchor": "y",
         "domain": [
          0,
          0.2125
         ],
         "gridcolor": "#E1E5ED",
         "showgrid": false,
         "tickfont": {
          "color": "#4D5663"
         },
         "title": {
          "font": {
           "color": "#4D5663"
          },
          "text": ""
         },
         "zerolinecolor": "#E1E5ED"
        },
        "xaxis10": {
         "anchor": "y10",
         "domain": [
          0.2625,
          0.475
         ],
         "gridcolor": "#E1E5ED",
         "showgrid": false,
         "tickfont": {
          "color": "#4D5663"
         },
         "title": {
          "font": {
           "color": "#4D5663"
          },
          "text": ""
         },
         "zerolinecolor": "#E1E5ED"
        },
        "xaxis11": {
         "anchor": "y11",
         "domain": [
          0.525,
          0.7375
         ],
         "gridcolor": "#E1E5ED",
         "showgrid": false,
         "tickfont": {
          "color": "#4D5663"
         },
         "title": {
          "font": {
           "color": "#4D5663"
          },
          "text": ""
         },
         "zerolinecolor": "#E1E5ED"
        },
        "xaxis12": {
         "anchor": "y12",
         "domain": [
          0.7875,
          1
         ],
         "gridcolor": "#E1E5ED",
         "showgrid": false,
         "tickfont": {
          "color": "#4D5663"
         },
         "title": {
          "font": {
           "color": "#4D5663"
          },
          "text": ""
         },
         "zerolinecolor": "#E1E5ED"
        },
        "xaxis13": {
         "anchor": "y13",
         "domain": [
          0,
          0.2125
         ],
         "gridcolor": "#E1E5ED",
         "showgrid": false,
         "tickfont": {
          "color": "#4D5663"
         },
         "title": {
          "font": {
           "color": "#4D5663"
          },
          "text": ""
         },
         "zerolinecolor": "#E1E5ED"
        },
        "xaxis14": {
         "anchor": "y14",
         "domain": [
          0.2625,
          0.475
         ],
         "gridcolor": "#E1E5ED",
         "showgrid": false,
         "tickfont": {
          "color": "#4D5663"
         },
         "title": {
          "font": {
           "color": "#4D5663"
          },
          "text": ""
         },
         "zerolinecolor": "#E1E5ED"
        },
        "xaxis15": {
         "anchor": "y15",
         "domain": [
          0.525,
          0.7375
         ],
         "gridcolor": "#E1E5ED",
         "showgrid": false,
         "tickfont": {
          "color": "#4D5663"
         },
         "title": {
          "font": {
           "color": "#4D5663"
          },
          "text": ""
         },
         "zerolinecolor": "#E1E5ED"
        },
        "xaxis16": {
         "anchor": "y16",
         "domain": [
          0.7875,
          1
         ],
         "gridcolor": "#E1E5ED",
         "showgrid": false,
         "tickfont": {
          "color": "#4D5663"
         },
         "title": {
          "font": {
           "color": "#4D5663"
          },
          "text": ""
         },
         "zerolinecolor": "#E1E5ED"
        },
        "xaxis2": {
         "anchor": "y2",
         "domain": [
          0.2625,
          0.475
         ],
         "gridcolor": "#E1E5ED",
         "showgrid": false,
         "tickfont": {
          "color": "#4D5663"
         },
         "title": {
          "font": {
           "color": "#4D5663"
          },
          "text": ""
         },
         "zerolinecolor": "#E1E5ED"
        },
        "xaxis3": {
         "anchor": "y3",
         "domain": [
          0.525,
          0.7375
         ],
         "gridcolor": "#E1E5ED",
         "showgrid": false,
         "tickfont": {
          "color": "#4D5663"
         },
         "title": {
          "font": {
           "color": "#4D5663"
          },
          "text": ""
         },
         "zerolinecolor": "#E1E5ED"
        },
        "xaxis4": {
         "anchor": "y4",
         "domain": [
          0.7875,
          1
         ],
         "gridcolor": "#E1E5ED",
         "showgrid": false,
         "tickfont": {
          "color": "#4D5663"
         },
         "title": {
          "font": {
           "color": "#4D5663"
          },
          "text": ""
         },
         "zerolinecolor": "#E1E5ED"
        },
        "xaxis5": {
         "anchor": "y5",
         "domain": [
          0,
          0.2125
         ],
         "gridcolor": "#E1E5ED",
         "showgrid": false,
         "tickfont": {
          "color": "#4D5663"
         },
         "title": {
          "font": {
           "color": "#4D5663"
          },
          "text": ""
         },
         "zerolinecolor": "#E1E5ED"
        },
        "xaxis6": {
         "anchor": "y6",
         "domain": [
          0.2625,
          0.475
         ],
         "gridcolor": "#E1E5ED",
         "showgrid": false,
         "tickfont": {
          "color": "#4D5663"
         },
         "title": {
          "font": {
           "color": "#4D5663"
          },
          "text": ""
         },
         "zerolinecolor": "#E1E5ED"
        },
        "xaxis7": {
         "anchor": "y7",
         "domain": [
          0.525,
          0.7375
         ],
         "gridcolor": "#E1E5ED",
         "showgrid": false,
         "tickfont": {
          "color": "#4D5663"
         },
         "title": {
          "font": {
           "color": "#4D5663"
          },
          "text": ""
         },
         "zerolinecolor": "#E1E5ED"
        },
        "xaxis8": {
         "anchor": "y8",
         "domain": [
          0.7875,
          1
         ],
         "gridcolor": "#E1E5ED",
         "showgrid": false,
         "tickfont": {
          "color": "#4D5663"
         },
         "title": {
          "font": {
           "color": "#4D5663"
          },
          "text": ""
         },
         "zerolinecolor": "#E1E5ED"
        },
        "xaxis9": {
         "anchor": "y9",
         "domain": [
          0,
          0.2125
         ],
         "gridcolor": "#E1E5ED",
         "showgrid": false,
         "tickfont": {
          "color": "#4D5663"
         },
         "title": {
          "font": {
           "color": "#4D5663"
          },
          "text": ""
         },
         "zerolinecolor": "#E1E5ED"
        },
        "yaxis": {
         "anchor": "x",
         "domain": [
          0.8025,
          1
         ],
         "gridcolor": "#E1E5ED",
         "showgrid": false,
         "tickfont": {
          "color": "#4D5663"
         },
         "title": {
          "font": {
           "color": "#4D5663"
          },
          "text": ""
         },
         "zerolinecolor": "#E1E5ED"
        },
        "yaxis10": {
         "anchor": "x10",
         "domain": [
          0.2675,
          0.465
         ],
         "gridcolor": "#E1E5ED",
         "showgrid": false,
         "tickfont": {
          "color": "#4D5663"
         },
         "title": {
          "font": {
           "color": "#4D5663"
          },
          "text": ""
         },
         "zerolinecolor": "#E1E5ED"
        },
        "yaxis11": {
         "anchor": "x11",
         "domain": [
          0.2675,
          0.465
         ],
         "gridcolor": "#E1E5ED",
         "showgrid": false,
         "tickfont": {
          "color": "#4D5663"
         },
         "title": {
          "font": {
           "color": "#4D5663"
          },
          "text": ""
         },
         "zerolinecolor": "#E1E5ED"
        },
        "yaxis12": {
         "anchor": "x12",
         "domain": [
          0.2675,
          0.465
         ],
         "gridcolor": "#E1E5ED",
         "showgrid": false,
         "tickfont": {
          "color": "#4D5663"
         },
         "title": {
          "font": {
           "color": "#4D5663"
          },
          "text": ""
         },
         "zerolinecolor": "#E1E5ED"
        },
        "yaxis13": {
         "anchor": "x13",
         "domain": [
          0,
          0.1975
         ],
         "gridcolor": "#E1E5ED",
         "showgrid": false,
         "tickfont": {
          "color": "#4D5663"
         },
         "title": {
          "font": {
           "color": "#4D5663"
          },
          "text": ""
         },
         "zerolinecolor": "#E1E5ED"
        },
        "yaxis14": {
         "anchor": "x14",
         "domain": [
          0,
          0.1975
         ],
         "gridcolor": "#E1E5ED",
         "showgrid": false,
         "tickfont": {
          "color": "#4D5663"
         },
         "title": {
          "font": {
           "color": "#4D5663"
          },
          "text": ""
         },
         "zerolinecolor": "#E1E5ED"
        },
        "yaxis15": {
         "anchor": "x15",
         "domain": [
          0,
          0.1975
         ],
         "gridcolor": "#E1E5ED",
         "showgrid": false,
         "tickfont": {
          "color": "#4D5663"
         },
         "title": {
          "font": {
           "color": "#4D5663"
          },
          "text": ""
         },
         "zerolinecolor": "#E1E5ED"
        },
        "yaxis16": {
         "anchor": "x16",
         "domain": [
          0,
          0.1975
         ],
         "gridcolor": "#E1E5ED",
         "showgrid": false,
         "tickfont": {
          "color": "#4D5663"
         },
         "title": {
          "font": {
           "color": "#4D5663"
          },
          "text": ""
         },
         "zerolinecolor": "#E1E5ED"
        },
        "yaxis2": {
         "anchor": "x2",
         "domain": [
          0.8025,
          1
         ],
         "gridcolor": "#E1E5ED",
         "showgrid": false,
         "tickfont": {
          "color": "#4D5663"
         },
         "title": {
          "font": {
           "color": "#4D5663"
          },
          "text": ""
         },
         "zerolinecolor": "#E1E5ED"
        },
        "yaxis3": {
         "anchor": "x3",
         "domain": [
          0.8025,
          1
         ],
         "gridcolor": "#E1E5ED",
         "showgrid": false,
         "tickfont": {
          "color": "#4D5663"
         },
         "title": {
          "font": {
           "color": "#4D5663"
          },
          "text": ""
         },
         "zerolinecolor": "#E1E5ED"
        },
        "yaxis4": {
         "anchor": "x4",
         "domain": [
          0.8025,
          1
         ],
         "gridcolor": "#E1E5ED",
         "showgrid": false,
         "tickfont": {
          "color": "#4D5663"
         },
         "title": {
          "font": {
           "color": "#4D5663"
          },
          "text": ""
         },
         "zerolinecolor": "#E1E5ED"
        },
        "yaxis5": {
         "anchor": "x5",
         "domain": [
          0.535,
          0.7325
         ],
         "gridcolor": "#E1E5ED",
         "showgrid": false,
         "tickfont": {
          "color": "#4D5663"
         },
         "title": {
          "font": {
           "color": "#4D5663"
          },
          "text": ""
         },
         "zerolinecolor": "#E1E5ED"
        },
        "yaxis6": {
         "anchor": "x6",
         "domain": [
          0.535,
          0.7325
         ],
         "gridcolor": "#E1E5ED",
         "showgrid": false,
         "tickfont": {
          "color": "#4D5663"
         },
         "title": {
          "font": {
           "color": "#4D5663"
          },
          "text": ""
         },
         "zerolinecolor": "#E1E5ED"
        },
        "yaxis7": {
         "anchor": "x7",
         "domain": [
          0.535,
          0.7325
         ],
         "gridcolor": "#E1E5ED",
         "showgrid": false,
         "tickfont": {
          "color": "#4D5663"
         },
         "title": {
          "font": {
           "color": "#4D5663"
          },
          "text": ""
         },
         "zerolinecolor": "#E1E5ED"
        },
        "yaxis8": {
         "anchor": "x8",
         "domain": [
          0.535,
          0.7325
         ],
         "gridcolor": "#E1E5ED",
         "showgrid": false,
         "tickfont": {
          "color": "#4D5663"
         },
         "title": {
          "font": {
           "color": "#4D5663"
          },
          "text": ""
         },
         "zerolinecolor": "#E1E5ED"
        },
        "yaxis9": {
         "anchor": "x9",
         "domain": [
          0.2675,
          0.465
         ],
         "gridcolor": "#E1E5ED",
         "showgrid": false,
         "tickfont": {
          "color": "#4D5663"
         },
         "title": {
          "font": {
           "color": "#4D5663"
          },
          "text": ""
         },
         "zerolinecolor": "#E1E5ED"
        }
       }
      },
      "text/html": [
       "<div>\n",
       "        \n",
       "        \n",
       "            <div id=\"26762e9b-e1c3-4ea5-a192-f1d438a97115\" class=\"plotly-graph-div\" style=\"height:525px; width:100%;\"></div>\n",
       "            <script type=\"text/javascript\">\n",
       "                require([\"plotly\"], function(Plotly) {\n",
       "                    window.PLOTLYENV=window.PLOTLYENV || {};\n",
       "                    window.PLOTLYENV.BASE_URL='https://plot.ly';\n",
       "                    \n",
       "                if (document.getElementById(\"26762e9b-e1c3-4ea5-a192-f1d438a97115\")) {\n",
       "                    Plotly.newPlot(\n",
       "                        '26762e9b-e1c3-4ea5-a192-f1d438a97115',\n",
       "                        [{\"histfunc\": \"count\", \"histnorm\": \"\", \"marker\": {\"color\": \"rgba(255, 153, 51, 1.0)\", \"line\": {\"color\": \"#4D5663\", \"width\": 1.3}}, \"name\": \"A\", \"nbinsx\": 10, \"opacity\": 0.8, \"orientation\": \"v\", \"type\": \"histogram\", \"x\": [0.5607480575046337, -0.3708633475833689, 0.4230264901718323, -0.9549106351528698, -0.20741263670876842, -1.024518844287343, -1.0367249687928646, 2.0584447684824885, -1.4187588960747235, -0.046585194692532424, 0.36787548846534923, -2.044211812156692, -2.550339562813716, 0.40015190479056917, 0.5681708126504649, 0.7940914617616944, -1.068967565955156, 0.07867740459071079, 0.4235998492954107, 0.39095912999154775, 1.327686045467365, -1.754462647693073, -0.578173012072137, -1.0779798184582985, -1.891079726438191, 0.4659456386036681, -0.21802135906844125, 0.19367326395113266, -1.9603362574570133, 0.14932514499258526, -0.9529428773655932, 0.7856639631456367, 0.4156555358714044, 0.7153211913364734, -1.3322882860784802, 0.4139571120324161, 0.3967036149503087, 0.4803572763821211, -0.15324245046653046, -0.3119030508533104, 0.9967146023695868, -0.47050022120553125, -0.4892774201067624, -1.85008249779815, -1.7845525458308382, 0.1353531820802186, 0.8699058267717776, -0.595527228953319, -0.49038254076086707, 0.14079245442134247, -1.6579724363407244, 2.418537608960433, 0.27571151766342716, -1.2092357839728465, 0.37547517010499964, -1.0630914256315618, -0.21351316426565678, -0.27672782264169615, 1.1129222293747094, -0.28712792311619945, 0.7129540586172829, -1.566751562768234, 0.9296950897556568, -0.9935280386456603, -1.1710637069029972, 1.0331173300172627, -0.7779591509796198, 0.21686394225833813, 0.9654083038662515, 0.03337425399400426, 0.2108971788093691, -2.3580895215396565, 0.896589310994641, 0.674101904339704, -0.38463931465655277, -0.23191184444903365, -0.8086330854286654, -1.445946605784175, -1.9764770166489303, -0.37283081828887904, 0.8367782985876825, -0.30237097827066195, 0.380435715262536, 0.031050281970491544, -1.0946115915704187, 2.2558393050008103, -0.12197341968923685, 0.1407793346328531, -0.7188373798798, 0.8657765896581454, -0.13382126496639835, 0.970122231997722, -0.029542020767768597, -0.8690891890937565, -1.0338929783040642, -0.6267558462723102, -1.4157502451975266, -0.5785252269504768, 0.23779112418985437, -0.158700233859291], \"xaxis\": \"x\", \"yaxis\": \"y\"}, {\"line\": {\"color\": \"rgba(128, 128, 128, 1.0)\", \"dash\": \"solid\", \"shape\": \"linear\", \"width\": 1.3}, \"marker\": {\"size\": 2, \"symbol\": \"circle\"}, \"mode\": \"markers\", \"name\": \"A\", \"text\": \"\", \"type\": \"scatter\", \"x\": [0.08628323394041917, 0.1996020788959708, 0.20815944961259064, 2.131671412751742, -0.6230820414858802, -0.20059453914798314, 0.30850312105249406, 1.7452481067756915, 0.7328641159155839, 2.1251837923160504, 0.47887481994342734, -0.1825069749191838, 2.138799212851821, 1.0451685881907276, 0.7434135269810468, 0.3442098404393374, -0.6667688075567253, 0.06371752400275227, 0.0027046037096464712, 0.08321386399124807, 0.22243369389629775, 0.4755975179492282, -0.8979402876528175, -1.85402118299806, -0.9247498611392219, -0.8602848187962258, 0.04358900306148492, -0.5676161630929298, -0.07734514221487851, 0.18994788348417663, -0.7365699535202821, 0.32817276921175176, 0.5845710556239431, 0.5504481459044616, -0.7217255921692333, 1.3536859978584614, 0.7413518060931923, 0.4954504182405843, -1.297639979562549, -1.5211164017484191, -0.5356313159929892, -0.14139501644207536, -2.535185047270597, -1.3972714221877187, 0.08578376083602648, -1.8771408047470939, -0.1382002174398529, -0.4319456408707257, -0.6873636767251813, -2.154901585183574, 0.8349884750677796, -0.29344606963996633, -2.0646176720779064, 0.2715258162942724, -0.8987499333895042, 0.6737517491122544, -0.8903450187141376, -0.5865223603579941, 1.2182908148049052, 0.5438298456028653, -0.9955332831521326, -0.9267142054469677, -1.8737830394162058, 0.4155025883669216, 1.4072161601242574, 1.6558356000102168, 0.1809956349868083, 0.05305950380555659, -0.9973706957566846, 0.8485135367398966, -0.09069496672792628, 1.2575460701823191, -1.1954067348628163, -0.03249315387521831, 0.28128026601803596, -1.0405636511730798, -0.17966114977992012, -0.19911305400341872, -0.04475203909549446, -0.33144565439472856, 2.7808030289348644, 0.08125916906489697, -1.5582135882821042, -1.288804376166216, 0.14180622305606383, 0.5449416201336499, -0.39609729585126346, -0.12395381701788742, 0.07703560202435866, -1.0272511213580646, 0.013861719718305783, -0.10758763900023838, -0.3976760311590689, 1.1015906152909287, -0.6678659159520443, -0.8442929808644131, 0.8409636359623852, 0.28507155270790163, -0.6297736460594562, -2.9931078502086437], \"xaxis\": \"x2\", \"y\": [0.5607480575046337, -0.3708633475833689, 0.4230264901718323, -0.9549106351528698, -0.20741263670876842, -1.024518844287343, -1.0367249687928646, 2.0584447684824885, -1.4187588960747235, -0.046585194692532424, 0.36787548846534923, -2.044211812156692, -2.550339562813716, 0.40015190479056917, 0.5681708126504649, 0.7940914617616944, -1.068967565955156, 0.07867740459071079, 0.4235998492954107, 0.39095912999154775, 1.327686045467365, -1.754462647693073, -0.578173012072137, -1.0779798184582985, -1.891079726438191, 0.4659456386036681, -0.21802135906844125, 0.19367326395113266, -1.9603362574570133, 0.14932514499258526, -0.9529428773655932, 0.7856639631456367, 0.4156555358714044, 0.7153211913364734, -1.3322882860784802, 0.4139571120324161, 0.3967036149503087, 0.4803572763821211, -0.15324245046653046, -0.3119030508533104, 0.9967146023695868, -0.47050022120553125, -0.4892774201067624, -1.85008249779815, -1.7845525458308382, 0.1353531820802186, 0.8699058267717776, -0.595527228953319, -0.49038254076086707, 0.14079245442134247, -1.6579724363407244, 2.418537608960433, 0.27571151766342716, -1.2092357839728465, 0.37547517010499964, -1.0630914256315618, -0.21351316426565678, -0.27672782264169615, 1.1129222293747094, -0.28712792311619945, 0.7129540586172829, -1.566751562768234, 0.9296950897556568, -0.9935280386456603, -1.1710637069029972, 1.0331173300172627, -0.7779591509796198, 0.21686394225833813, 0.9654083038662515, 0.03337425399400426, 0.2108971788093691, -2.3580895215396565, 0.896589310994641, 0.674101904339704, -0.38463931465655277, -0.23191184444903365, -0.8086330854286654, -1.445946605784175, -1.9764770166489303, -0.37283081828887904, 0.8367782985876825, -0.30237097827066195, 0.380435715262536, 0.031050281970491544, -1.0946115915704187, 2.2558393050008103, -0.12197341968923685, 0.1407793346328531, -0.7188373798798, 0.8657765896581454, -0.13382126496639835, 0.970122231997722, -0.029542020767768597, -0.8690891890937565, -1.0338929783040642, -0.6267558462723102, -1.4157502451975266, -0.5785252269504768, 0.23779112418985437, -0.158700233859291], \"yaxis\": \"y2\"}, {\"line\": {\"color\": \"rgba(128, 128, 128, 1.0)\", \"dash\": \"solid\", \"shape\": \"linear\", \"width\": 1.3}, \"marker\": {\"size\": 2, \"symbol\": \"circle\"}, \"mode\": \"markers\", \"name\": \"A\", \"text\": \"\", \"type\": \"scatter\", \"x\": [2.038102357710706, 0.2576996643892817, -1.1798196348353838, 0.4157702614131842, -1.1012351243432212, 0.16243256677021015, 0.3195838918073923, -0.42163946571452043, -0.5624454929238729, -0.6294645434405128, 0.3271658984857019, 1.5098386680081353, -0.42329324229384124, 2.3648631071382713, -0.6889084121465173, 0.6156641704478799, 1.1851224297767595, 0.22740394959544033, -0.08161112165280739, 0.1445006384531758, -0.0075238161668971385, -0.6110805416197159, -0.25606087590304366, 1.3443060281974812, -0.7388932514568775, -0.7695496258394001, -0.7873817375146055, 0.4297837429016983, 0.9579503469593186, -1.164752419424204, -1.276315432288413, 0.02053447733297226, -2.4317108807142573, -0.24770284951243285, 0.5406704807880074, -0.6938050496735396, 0.6339706052865337, 1.1093520601630171, -0.32163042371408884, 0.37507601689143294, -0.648118710188847, -0.5515887216458849, 0.2527639200133479, -0.47386103063949947, 1.5657496158271567, 0.28793560012679836, 1.6264063683510546, 0.45312392396668183, 0.013940264815367073, -0.8458398937119691, 0.34161508358595044, 0.5464580959173527, 0.4291498719884774, 0.32002922017412805, 1.0895515741012827, 0.5681379084099052, 0.4158120212337378, 0.6678856985111923, -0.0160716737410791, 0.5077164219306115, -0.47237927437833765, -0.23295608254637346, -1.1472519618841157, 2.514952980286407, -0.7964223189433736, -0.580551760148871, -0.07954941725492208, -0.3510567235837107, -0.4688298882576997, -0.8384028189859069, 0.45792184059746244, 1.9152580396167196, -0.8352155282336406, -0.23946842071359362, -0.7288389214662799, -0.6423181117562349, -0.825304444929453, -0.16657784662202907, 0.08458906577422094, 2.2811408452149315, -1.5977696389242177, 1.0032587671269737, -0.588110777473575, -0.2619393559738801, -0.4989960405369848, -1.177242495157639, 0.8135642767816046, -0.9392292364320963, -0.13327949316349333, -1.2694780872024656, -0.5277346956879497, -1.2704014388203406, 1.4092428406270736, 0.40461680992503957, -1.2318734780816807, 2.257885368505444, 1.081994437484539, -0.8962135328256043, 0.1394341878823279, -1.5322769011678719], \"xaxis\": \"x3\", \"y\": [0.5607480575046337, -0.3708633475833689, 0.4230264901718323, -0.9549106351528698, -0.20741263670876842, -1.024518844287343, -1.0367249687928646, 2.0584447684824885, -1.4187588960747235, -0.046585194692532424, 0.36787548846534923, -2.044211812156692, -2.550339562813716, 0.40015190479056917, 0.5681708126504649, 0.7940914617616944, -1.068967565955156, 0.07867740459071079, 0.4235998492954107, 0.39095912999154775, 1.327686045467365, -1.754462647693073, -0.578173012072137, -1.0779798184582985, -1.891079726438191, 0.4659456386036681, -0.21802135906844125, 0.19367326395113266, -1.9603362574570133, 0.14932514499258526, -0.9529428773655932, 0.7856639631456367, 0.4156555358714044, 0.7153211913364734, -1.3322882860784802, 0.4139571120324161, 0.3967036149503087, 0.4803572763821211, -0.15324245046653046, -0.3119030508533104, 0.9967146023695868, -0.47050022120553125, -0.4892774201067624, -1.85008249779815, -1.7845525458308382, 0.1353531820802186, 0.8699058267717776, -0.595527228953319, -0.49038254076086707, 0.14079245442134247, -1.6579724363407244, 2.418537608960433, 0.27571151766342716, -1.2092357839728465, 0.37547517010499964, -1.0630914256315618, -0.21351316426565678, -0.27672782264169615, 1.1129222293747094, -0.28712792311619945, 0.7129540586172829, -1.566751562768234, 0.9296950897556568, -0.9935280386456603, -1.1710637069029972, 1.0331173300172627, -0.7779591509796198, 0.21686394225833813, 0.9654083038662515, 0.03337425399400426, 0.2108971788093691, -2.3580895215396565, 0.896589310994641, 0.674101904339704, -0.38463931465655277, -0.23191184444903365, -0.8086330854286654, -1.445946605784175, -1.9764770166489303, -0.37283081828887904, 0.8367782985876825, -0.30237097827066195, 0.380435715262536, 0.031050281970491544, -1.0946115915704187, 2.2558393050008103, -0.12197341968923685, 0.1407793346328531, -0.7188373798798, 0.8657765896581454, -0.13382126496639835, 0.970122231997722, -0.029542020767768597, -0.8690891890937565, -1.0338929783040642, -0.6267558462723102, -1.4157502451975266, -0.5785252269504768, 0.23779112418985437, -0.158700233859291], \"yaxis\": \"y3\"}, {\"line\": {\"color\": \"rgba(128, 128, 128, 1.0)\", \"dash\": \"solid\", \"shape\": \"linear\", \"width\": 1.3}, \"marker\": {\"size\": 2, \"symbol\": \"circle\"}, \"mode\": \"markers\", \"name\": \"A\", \"text\": \"\", \"type\": \"scatter\", \"x\": [-2.0168295111392105, -0.21013946544226061, -1.258031148952199, 0.13601150195186626, -0.9326675103109121, 1.611415931881721, -0.5546502912770421, 1.1727916704060484, -1.0378299808439229, 0.06632263585327085, 0.7511309954204283, 1.809412952840736, -0.044220581261604344, -0.8068498078280052, -1.3597344031658158, -0.6557923731449656, 1.2420221885242144, 0.9524935708464101, 0.17723258748445941, 1.167990665130411, 0.05880026319073873, -0.04623484159031213, 0.18090316066269005, 0.9267191286977249, 0.16553458024891518, -1.3136390901784187, -0.06581785804893786, -0.7411958743274716, -0.40268998521209426, -1.5232465692913328, 0.1902404762177136, 1.6039351141622544, 1.2114609571160415, -1.515347397523287, 0.07181238623888106, -0.07873744523145464, 0.11247408248408321, 1.4511470206604198, -0.8050589159007769, 0.8711861823124123, 1.0007029677650339, 0.8137507804035743, -0.6543433291379487, 1.5289305214001112, 0.014782093150927886, 0.6200951298097656, 1.150455514064878, 0.9553906535290986, -0.41683051193560994, -0.23144950051061663, 0.6887180371482181, -0.596392242147904, 1.2543891626130692, 0.0030724698669582803, 0.12362507474079651, 0.6226124546708929, 0.42466444466556386, 0.47926413631075265, 1.5774490366605967, 0.2640923627476357, -0.7993459891468951, -0.36172350204577075, -1.544160511315879, 0.14890998512774686, 1.1163820612050082, -0.0030689004076699545, 0.3731074916210108, 0.3805955800175891, 0.07829472340075247, 0.4604484607902768, 1.104119895280711, -0.9967704117259928, 0.8405830043238202, -0.3608568411009861, 1.235374755446539, 1.3474524590877468, 0.1491539960997328, 1.3356519668737115, 1.264942923231072, 0.7106069315969047, -1.2563731252580563, -0.29577964756996483, -1.8018826832220123, 0.5817820085802042, 1.062697781721015, 0.7620137522866587, -0.8314965510589846, 0.0364211117304112, -0.7113461269231741, 2.482943491654735, -0.2875647729877446, 0.2651044673195494, 0.8422507841040974, -0.7072892593682847, 0.5394853919155316, 1.4497737247702585, 0.3207280886261204, -0.6897627137375941, 1.3082921742928493, 0.8083137004369385], \"xaxis\": \"x4\", \"y\": [0.5607480575046337, -0.3708633475833689, 0.4230264901718323, -0.9549106351528698, -0.20741263670876842, -1.024518844287343, -1.0367249687928646, 2.0584447684824885, -1.4187588960747235, -0.046585194692532424, 0.36787548846534923, -2.044211812156692, -2.550339562813716, 0.40015190479056917, 0.5681708126504649, 0.7940914617616944, -1.068967565955156, 0.07867740459071079, 0.4235998492954107, 0.39095912999154775, 1.327686045467365, -1.754462647693073, -0.578173012072137, -1.0779798184582985, -1.891079726438191, 0.4659456386036681, -0.21802135906844125, 0.19367326395113266, -1.9603362574570133, 0.14932514499258526, -0.9529428773655932, 0.7856639631456367, 0.4156555358714044, 0.7153211913364734, -1.3322882860784802, 0.4139571120324161, 0.3967036149503087, 0.4803572763821211, -0.15324245046653046, -0.3119030508533104, 0.9967146023695868, -0.47050022120553125, -0.4892774201067624, -1.85008249779815, -1.7845525458308382, 0.1353531820802186, 0.8699058267717776, -0.595527228953319, -0.49038254076086707, 0.14079245442134247, -1.6579724363407244, 2.418537608960433, 0.27571151766342716, -1.2092357839728465, 0.37547517010499964, -1.0630914256315618, -0.21351316426565678, -0.27672782264169615, 1.1129222293747094, -0.28712792311619945, 0.7129540586172829, -1.566751562768234, 0.9296950897556568, -0.9935280386456603, -1.1710637069029972, 1.0331173300172627, -0.7779591509796198, 0.21686394225833813, 0.9654083038662515, 0.03337425399400426, 0.2108971788093691, -2.3580895215396565, 0.896589310994641, 0.674101904339704, -0.38463931465655277, -0.23191184444903365, -0.8086330854286654, -1.445946605784175, -1.9764770166489303, -0.37283081828887904, 0.8367782985876825, -0.30237097827066195, 0.380435715262536, 0.031050281970491544, -1.0946115915704187, 2.2558393050008103, -0.12197341968923685, 0.1407793346328531, -0.7188373798798, 0.8657765896581454, -0.13382126496639835, 0.970122231997722, -0.029542020767768597, -0.8690891890937565, -1.0338929783040642, -0.6267558462723102, -1.4157502451975266, -0.5785252269504768, 0.23779112418985437, -0.158700233859291], \"yaxis\": \"y4\"}, {\"line\": {\"color\": \"rgba(128, 128, 128, 1.0)\", \"dash\": \"solid\", \"shape\": \"linear\", \"width\": 1.3}, \"marker\": {\"size\": 2, \"symbol\": \"circle\"}, \"mode\": \"markers\", \"name\": \"B\", \"text\": \"\", \"type\": \"scatter\", \"x\": [0.5607480575046337, -0.3708633475833689, 0.4230264901718323, -0.9549106351528698, -0.20741263670876842, -1.024518844287343, -1.0367249687928646, 2.0584447684824885, -1.4187588960747235, -0.046585194692532424, 0.36787548846534923, -2.044211812156692, -2.550339562813716, 0.40015190479056917, 0.5681708126504649, 0.7940914617616944, -1.068967565955156, 0.07867740459071079, 0.4235998492954107, 0.39095912999154775, 1.327686045467365, -1.754462647693073, -0.578173012072137, -1.0779798184582985, -1.891079726438191, 0.4659456386036681, -0.21802135906844125, 0.19367326395113266, -1.9603362574570133, 0.14932514499258526, -0.9529428773655932, 0.7856639631456367, 0.4156555358714044, 0.7153211913364734, -1.3322882860784802, 0.4139571120324161, 0.3967036149503087, 0.4803572763821211, -0.15324245046653046, -0.3119030508533104, 0.9967146023695868, -0.47050022120553125, -0.4892774201067624, -1.85008249779815, -1.7845525458308382, 0.1353531820802186, 0.8699058267717776, -0.595527228953319, -0.49038254076086707, 0.14079245442134247, -1.6579724363407244, 2.418537608960433, 0.27571151766342716, -1.2092357839728465, 0.37547517010499964, -1.0630914256315618, -0.21351316426565678, -0.27672782264169615, 1.1129222293747094, -0.28712792311619945, 0.7129540586172829, -1.566751562768234, 0.9296950897556568, -0.9935280386456603, -1.1710637069029972, 1.0331173300172627, -0.7779591509796198, 0.21686394225833813, 0.9654083038662515, 0.03337425399400426, 0.2108971788093691, -2.3580895215396565, 0.896589310994641, 0.674101904339704, -0.38463931465655277, -0.23191184444903365, -0.8086330854286654, -1.445946605784175, -1.9764770166489303, -0.37283081828887904, 0.8367782985876825, -0.30237097827066195, 0.380435715262536, 0.031050281970491544, -1.0946115915704187, 2.2558393050008103, -0.12197341968923685, 0.1407793346328531, -0.7188373798798, 0.8657765896581454, -0.13382126496639835, 0.970122231997722, -0.029542020767768597, -0.8690891890937565, -1.0338929783040642, -0.6267558462723102, -1.4157502451975266, -0.5785252269504768, 0.23779112418985437, -0.158700233859291], \"xaxis\": \"x5\", \"y\": [0.08628323394041917, 0.1996020788959708, 0.20815944961259064, 2.131671412751742, -0.6230820414858802, -0.20059453914798314, 0.30850312105249406, 1.7452481067756915, 0.7328641159155839, 2.1251837923160504, 0.47887481994342734, -0.1825069749191838, 2.138799212851821, 1.0451685881907276, 0.7434135269810468, 0.3442098404393374, -0.6667688075567253, 0.06371752400275227, 0.0027046037096464712, 0.08321386399124807, 0.22243369389629775, 0.4755975179492282, -0.8979402876528175, -1.85402118299806, -0.9247498611392219, -0.8602848187962258, 0.04358900306148492, -0.5676161630929298, -0.07734514221487851, 0.18994788348417663, -0.7365699535202821, 0.32817276921175176, 0.5845710556239431, 0.5504481459044616, -0.7217255921692333, 1.3536859978584614, 0.7413518060931923, 0.4954504182405843, -1.297639979562549, -1.5211164017484191, -0.5356313159929892, -0.14139501644207536, -2.535185047270597, -1.3972714221877187, 0.08578376083602648, -1.8771408047470939, -0.1382002174398529, -0.4319456408707257, -0.6873636767251813, -2.154901585183574, 0.8349884750677796, -0.29344606963996633, -2.0646176720779064, 0.2715258162942724, -0.8987499333895042, 0.6737517491122544, -0.8903450187141376, -0.5865223603579941, 1.2182908148049052, 0.5438298456028653, -0.9955332831521326, -0.9267142054469677, -1.8737830394162058, 0.4155025883669216, 1.4072161601242574, 1.6558356000102168, 0.1809956349868083, 0.05305950380555659, -0.9973706957566846, 0.8485135367398966, -0.09069496672792628, 1.2575460701823191, -1.1954067348628163, -0.03249315387521831, 0.28128026601803596, -1.0405636511730798, -0.17966114977992012, -0.19911305400341872, -0.04475203909549446, -0.33144565439472856, 2.7808030289348644, 0.08125916906489697, -1.5582135882821042, -1.288804376166216, 0.14180622305606383, 0.5449416201336499, -0.39609729585126346, -0.12395381701788742, 0.07703560202435866, -1.0272511213580646, 0.013861719718305783, -0.10758763900023838, -0.3976760311590689, 1.1015906152909287, -0.6678659159520443, -0.8442929808644131, 0.8409636359623852, 0.28507155270790163, -0.6297736460594562, -2.9931078502086437], \"yaxis\": \"y5\"}, {\"histfunc\": \"count\", \"histnorm\": \"\", \"marker\": {\"color\": \"rgba(55, 128, 191, 1.0)\", \"line\": {\"color\": \"#4D5663\", \"width\": 1.3}}, \"name\": \"B\", \"nbinsx\": 10, \"opacity\": 0.8, \"orientation\": \"v\", \"type\": \"histogram\", \"x\": [0.08628323394041917, 0.1996020788959708, 0.20815944961259064, 2.131671412751742, -0.6230820414858802, -0.20059453914798314, 0.30850312105249406, 1.7452481067756915, 0.7328641159155839, 2.1251837923160504, 0.47887481994342734, -0.1825069749191838, 2.138799212851821, 1.0451685881907276, 0.7434135269810468, 0.3442098404393374, -0.6667688075567253, 0.06371752400275227, 0.0027046037096464712, 0.08321386399124807, 0.22243369389629775, 0.4755975179492282, -0.8979402876528175, -1.85402118299806, -0.9247498611392219, -0.8602848187962258, 0.04358900306148492, -0.5676161630929298, -0.07734514221487851, 0.18994788348417663, -0.7365699535202821, 0.32817276921175176, 0.5845710556239431, 0.5504481459044616, -0.7217255921692333, 1.3536859978584614, 0.7413518060931923, 0.4954504182405843, -1.297639979562549, -1.5211164017484191, -0.5356313159929892, -0.14139501644207536, -2.535185047270597, -1.3972714221877187, 0.08578376083602648, -1.8771408047470939, -0.1382002174398529, -0.4319456408707257, -0.6873636767251813, -2.154901585183574, 0.8349884750677796, -0.29344606963996633, -2.0646176720779064, 0.2715258162942724, -0.8987499333895042, 0.6737517491122544, -0.8903450187141376, -0.5865223603579941, 1.2182908148049052, 0.5438298456028653, -0.9955332831521326, -0.9267142054469677, -1.8737830394162058, 0.4155025883669216, 1.4072161601242574, 1.6558356000102168, 0.1809956349868083, 0.05305950380555659, -0.9973706957566846, 0.8485135367398966, -0.09069496672792628, 1.2575460701823191, -1.1954067348628163, -0.03249315387521831, 0.28128026601803596, -1.0405636511730798, -0.17966114977992012, -0.19911305400341872, -0.04475203909549446, -0.33144565439472856, 2.7808030289348644, 0.08125916906489697, -1.5582135882821042, -1.288804376166216, 0.14180622305606383, 0.5449416201336499, -0.39609729585126346, -0.12395381701788742, 0.07703560202435866, -1.0272511213580646, 0.013861719718305783, -0.10758763900023838, -0.3976760311590689, 1.1015906152909287, -0.6678659159520443, -0.8442929808644131, 0.8409636359623852, 0.28507155270790163, -0.6297736460594562, -2.9931078502086437], \"xaxis\": \"x6\", \"yaxis\": \"y6\"}, {\"line\": {\"color\": \"rgba(128, 128, 128, 1.0)\", \"dash\": \"solid\", \"shape\": \"linear\", \"width\": 1.3}, \"marker\": {\"size\": 2, \"symbol\": \"circle\"}, \"mode\": \"markers\", \"name\": \"B\", \"text\": \"\", \"type\": \"scatter\", \"x\": [2.038102357710706, 0.2576996643892817, -1.1798196348353838, 0.4157702614131842, -1.1012351243432212, 0.16243256677021015, 0.3195838918073923, -0.42163946571452043, -0.5624454929238729, -0.6294645434405128, 0.3271658984857019, 1.5098386680081353, -0.42329324229384124, 2.3648631071382713, -0.6889084121465173, 0.6156641704478799, 1.1851224297767595, 0.22740394959544033, -0.08161112165280739, 0.1445006384531758, -0.0075238161668971385, -0.6110805416197159, -0.25606087590304366, 1.3443060281974812, -0.7388932514568775, -0.7695496258394001, -0.7873817375146055, 0.4297837429016983, 0.9579503469593186, -1.164752419424204, -1.276315432288413, 0.02053447733297226, -2.4317108807142573, -0.24770284951243285, 0.5406704807880074, -0.6938050496735396, 0.6339706052865337, 1.1093520601630171, -0.32163042371408884, 0.37507601689143294, -0.648118710188847, -0.5515887216458849, 0.2527639200133479, -0.47386103063949947, 1.5657496158271567, 0.28793560012679836, 1.6264063683510546, 0.45312392396668183, 0.013940264815367073, -0.8458398937119691, 0.34161508358595044, 0.5464580959173527, 0.4291498719884774, 0.32002922017412805, 1.0895515741012827, 0.5681379084099052, 0.4158120212337378, 0.6678856985111923, -0.0160716737410791, 0.5077164219306115, -0.47237927437833765, -0.23295608254637346, -1.1472519618841157, 2.514952980286407, -0.7964223189433736, -0.580551760148871, -0.07954941725492208, -0.3510567235837107, -0.4688298882576997, -0.8384028189859069, 0.45792184059746244, 1.9152580396167196, -0.8352155282336406, -0.23946842071359362, -0.7288389214662799, -0.6423181117562349, -0.825304444929453, -0.16657784662202907, 0.08458906577422094, 2.2811408452149315, -1.5977696389242177, 1.0032587671269737, -0.588110777473575, -0.2619393559738801, -0.4989960405369848, -1.177242495157639, 0.8135642767816046, -0.9392292364320963, -0.13327949316349333, -1.2694780872024656, -0.5277346956879497, -1.2704014388203406, 1.4092428406270736, 0.40461680992503957, -1.2318734780816807, 2.257885368505444, 1.081994437484539, -0.8962135328256043, 0.1394341878823279, -1.5322769011678719], \"xaxis\": \"x7\", \"y\": [0.08628323394041917, 0.1996020788959708, 0.20815944961259064, 2.131671412751742, -0.6230820414858802, -0.20059453914798314, 0.30850312105249406, 1.7452481067756915, 0.7328641159155839, 2.1251837923160504, 0.47887481994342734, -0.1825069749191838, 2.138799212851821, 1.0451685881907276, 0.7434135269810468, 0.3442098404393374, -0.6667688075567253, 0.06371752400275227, 0.0027046037096464712, 0.08321386399124807, 0.22243369389629775, 0.4755975179492282, -0.8979402876528175, -1.85402118299806, -0.9247498611392219, -0.8602848187962258, 0.04358900306148492, -0.5676161630929298, -0.07734514221487851, 0.18994788348417663, -0.7365699535202821, 0.32817276921175176, 0.5845710556239431, 0.5504481459044616, -0.7217255921692333, 1.3536859978584614, 0.7413518060931923, 0.4954504182405843, -1.297639979562549, -1.5211164017484191, -0.5356313159929892, -0.14139501644207536, -2.535185047270597, -1.3972714221877187, 0.08578376083602648, -1.8771408047470939, -0.1382002174398529, -0.4319456408707257, -0.6873636767251813, -2.154901585183574, 0.8349884750677796, -0.29344606963996633, -2.0646176720779064, 0.2715258162942724, -0.8987499333895042, 0.6737517491122544, -0.8903450187141376, -0.5865223603579941, 1.2182908148049052, 0.5438298456028653, -0.9955332831521326, -0.9267142054469677, -1.8737830394162058, 0.4155025883669216, 1.4072161601242574, 1.6558356000102168, 0.1809956349868083, 0.05305950380555659, -0.9973706957566846, 0.8485135367398966, -0.09069496672792628, 1.2575460701823191, -1.1954067348628163, -0.03249315387521831, 0.28128026601803596, -1.0405636511730798, -0.17966114977992012, -0.19911305400341872, -0.04475203909549446, -0.33144565439472856, 2.7808030289348644, 0.08125916906489697, -1.5582135882821042, -1.288804376166216, 0.14180622305606383, 0.5449416201336499, -0.39609729585126346, -0.12395381701788742, 0.07703560202435866, -1.0272511213580646, 0.013861719718305783, -0.10758763900023838, -0.3976760311590689, 1.1015906152909287, -0.6678659159520443, -0.8442929808644131, 0.8409636359623852, 0.28507155270790163, -0.6297736460594562, -2.9931078502086437], \"yaxis\": \"y7\"}, {\"line\": {\"color\": \"rgba(128, 128, 128, 1.0)\", \"dash\": \"solid\", \"shape\": \"linear\", \"width\": 1.3}, \"marker\": {\"size\": 2, \"symbol\": \"circle\"}, \"mode\": \"markers\", \"name\": \"B\", \"text\": \"\", \"type\": \"scatter\", \"x\": [-2.0168295111392105, -0.21013946544226061, -1.258031148952199, 0.13601150195186626, -0.9326675103109121, 1.611415931881721, -0.5546502912770421, 1.1727916704060484, -1.0378299808439229, 0.06632263585327085, 0.7511309954204283, 1.809412952840736, -0.044220581261604344, -0.8068498078280052, -1.3597344031658158, -0.6557923731449656, 1.2420221885242144, 0.9524935708464101, 0.17723258748445941, 1.167990665130411, 0.05880026319073873, -0.04623484159031213, 0.18090316066269005, 0.9267191286977249, 0.16553458024891518, -1.3136390901784187, -0.06581785804893786, -0.7411958743274716, -0.40268998521209426, -1.5232465692913328, 0.1902404762177136, 1.6039351141622544, 1.2114609571160415, -1.515347397523287, 0.07181238623888106, -0.07873744523145464, 0.11247408248408321, 1.4511470206604198, -0.8050589159007769, 0.8711861823124123, 1.0007029677650339, 0.8137507804035743, -0.6543433291379487, 1.5289305214001112, 0.014782093150927886, 0.6200951298097656, 1.150455514064878, 0.9553906535290986, -0.41683051193560994, -0.23144950051061663, 0.6887180371482181, -0.596392242147904, 1.2543891626130692, 0.0030724698669582803, 0.12362507474079651, 0.6226124546708929, 0.42466444466556386, 0.47926413631075265, 1.5774490366605967, 0.2640923627476357, -0.7993459891468951, -0.36172350204577075, -1.544160511315879, 0.14890998512774686, 1.1163820612050082, -0.0030689004076699545, 0.3731074916210108, 0.3805955800175891, 0.07829472340075247, 0.4604484607902768, 1.104119895280711, -0.9967704117259928, 0.8405830043238202, -0.3608568411009861, 1.235374755446539, 1.3474524590877468, 0.1491539960997328, 1.3356519668737115, 1.264942923231072, 0.7106069315969047, -1.2563731252580563, -0.29577964756996483, -1.8018826832220123, 0.5817820085802042, 1.062697781721015, 0.7620137522866587, -0.8314965510589846, 0.0364211117304112, -0.7113461269231741, 2.482943491654735, -0.2875647729877446, 0.2651044673195494, 0.8422507841040974, -0.7072892593682847, 0.5394853919155316, 1.4497737247702585, 0.3207280886261204, -0.6897627137375941, 1.3082921742928493, 0.8083137004369385], \"xaxis\": \"x8\", \"y\": [0.08628323394041917, 0.1996020788959708, 0.20815944961259064, 2.131671412751742, -0.6230820414858802, -0.20059453914798314, 0.30850312105249406, 1.7452481067756915, 0.7328641159155839, 2.1251837923160504, 0.47887481994342734, -0.1825069749191838, 2.138799212851821, 1.0451685881907276, 0.7434135269810468, 0.3442098404393374, -0.6667688075567253, 0.06371752400275227, 0.0027046037096464712, 0.08321386399124807, 0.22243369389629775, 0.4755975179492282, -0.8979402876528175, -1.85402118299806, -0.9247498611392219, -0.8602848187962258, 0.04358900306148492, -0.5676161630929298, -0.07734514221487851, 0.18994788348417663, -0.7365699535202821, 0.32817276921175176, 0.5845710556239431, 0.5504481459044616, -0.7217255921692333, 1.3536859978584614, 0.7413518060931923, 0.4954504182405843, -1.297639979562549, -1.5211164017484191, -0.5356313159929892, -0.14139501644207536, -2.535185047270597, -1.3972714221877187, 0.08578376083602648, -1.8771408047470939, -0.1382002174398529, -0.4319456408707257, -0.6873636767251813, -2.154901585183574, 0.8349884750677796, -0.29344606963996633, -2.0646176720779064, 0.2715258162942724, -0.8987499333895042, 0.6737517491122544, -0.8903450187141376, -0.5865223603579941, 1.2182908148049052, 0.5438298456028653, -0.9955332831521326, -0.9267142054469677, -1.8737830394162058, 0.4155025883669216, 1.4072161601242574, 1.6558356000102168, 0.1809956349868083, 0.05305950380555659, -0.9973706957566846, 0.8485135367398966, -0.09069496672792628, 1.2575460701823191, -1.1954067348628163, -0.03249315387521831, 0.28128026601803596, -1.0405636511730798, -0.17966114977992012, -0.19911305400341872, -0.04475203909549446, -0.33144565439472856, 2.7808030289348644, 0.08125916906489697, -1.5582135882821042, -1.288804376166216, 0.14180622305606383, 0.5449416201336499, -0.39609729585126346, -0.12395381701788742, 0.07703560202435866, -1.0272511213580646, 0.013861719718305783, -0.10758763900023838, -0.3976760311590689, 1.1015906152909287, -0.6678659159520443, -0.8442929808644131, 0.8409636359623852, 0.28507155270790163, -0.6297736460594562, -2.9931078502086437], \"yaxis\": \"y8\"}, {\"line\": {\"color\": \"rgba(128, 128, 128, 1.0)\", \"dash\": \"solid\", \"shape\": \"linear\", \"width\": 1.3}, \"marker\": {\"size\": 2, \"symbol\": \"circle\"}, \"mode\": \"markers\", \"name\": \"C\", \"text\": \"\", \"type\": \"scatter\", \"x\": [0.5607480575046337, -0.3708633475833689, 0.4230264901718323, -0.9549106351528698, -0.20741263670876842, -1.024518844287343, -1.0367249687928646, 2.0584447684824885, -1.4187588960747235, -0.046585194692532424, 0.36787548846534923, -2.044211812156692, -2.550339562813716, 0.40015190479056917, 0.5681708126504649, 0.7940914617616944, -1.068967565955156, 0.07867740459071079, 0.4235998492954107, 0.39095912999154775, 1.327686045467365, -1.754462647693073, -0.578173012072137, -1.0779798184582985, -1.891079726438191, 0.4659456386036681, -0.21802135906844125, 0.19367326395113266, -1.9603362574570133, 0.14932514499258526, -0.9529428773655932, 0.7856639631456367, 0.4156555358714044, 0.7153211913364734, -1.3322882860784802, 0.4139571120324161, 0.3967036149503087, 0.4803572763821211, -0.15324245046653046, -0.3119030508533104, 0.9967146023695868, -0.47050022120553125, -0.4892774201067624, -1.85008249779815, -1.7845525458308382, 0.1353531820802186, 0.8699058267717776, -0.595527228953319, -0.49038254076086707, 0.14079245442134247, -1.6579724363407244, 2.418537608960433, 0.27571151766342716, -1.2092357839728465, 0.37547517010499964, -1.0630914256315618, -0.21351316426565678, -0.27672782264169615, 1.1129222293747094, -0.28712792311619945, 0.7129540586172829, -1.566751562768234, 0.9296950897556568, -0.9935280386456603, -1.1710637069029972, 1.0331173300172627, -0.7779591509796198, 0.21686394225833813, 0.9654083038662515, 0.03337425399400426, 0.2108971788093691, -2.3580895215396565, 0.896589310994641, 0.674101904339704, -0.38463931465655277, -0.23191184444903365, -0.8086330854286654, -1.445946605784175, -1.9764770166489303, -0.37283081828887904, 0.8367782985876825, -0.30237097827066195, 0.380435715262536, 0.031050281970491544, -1.0946115915704187, 2.2558393050008103, -0.12197341968923685, 0.1407793346328531, -0.7188373798798, 0.8657765896581454, -0.13382126496639835, 0.970122231997722, -0.029542020767768597, -0.8690891890937565, -1.0338929783040642, -0.6267558462723102, -1.4157502451975266, -0.5785252269504768, 0.23779112418985437, -0.158700233859291], \"xaxis\": \"x9\", \"y\": [2.038102357710706, 0.2576996643892817, -1.1798196348353838, 0.4157702614131842, -1.1012351243432212, 0.16243256677021015, 0.3195838918073923, -0.42163946571452043, -0.5624454929238729, -0.6294645434405128, 0.3271658984857019, 1.5098386680081353, -0.42329324229384124, 2.3648631071382713, -0.6889084121465173, 0.6156641704478799, 1.1851224297767595, 0.22740394959544033, -0.08161112165280739, 0.1445006384531758, -0.0075238161668971385, -0.6110805416197159, -0.25606087590304366, 1.3443060281974812, -0.7388932514568775, -0.7695496258394001, -0.7873817375146055, 0.4297837429016983, 0.9579503469593186, -1.164752419424204, -1.276315432288413, 0.02053447733297226, -2.4317108807142573, -0.24770284951243285, 0.5406704807880074, -0.6938050496735396, 0.6339706052865337, 1.1093520601630171, -0.32163042371408884, 0.37507601689143294, -0.648118710188847, -0.5515887216458849, 0.2527639200133479, -0.47386103063949947, 1.5657496158271567, 0.28793560012679836, 1.6264063683510546, 0.45312392396668183, 0.013940264815367073, -0.8458398937119691, 0.34161508358595044, 0.5464580959173527, 0.4291498719884774, 0.32002922017412805, 1.0895515741012827, 0.5681379084099052, 0.4158120212337378, 0.6678856985111923, -0.0160716737410791, 0.5077164219306115, -0.47237927437833765, -0.23295608254637346, -1.1472519618841157, 2.514952980286407, -0.7964223189433736, -0.580551760148871, -0.07954941725492208, -0.3510567235837107, -0.4688298882576997, -0.8384028189859069, 0.45792184059746244, 1.9152580396167196, -0.8352155282336406, -0.23946842071359362, -0.7288389214662799, -0.6423181117562349, -0.825304444929453, -0.16657784662202907, 0.08458906577422094, 2.2811408452149315, -1.5977696389242177, 1.0032587671269737, -0.588110777473575, -0.2619393559738801, -0.4989960405369848, -1.177242495157639, 0.8135642767816046, -0.9392292364320963, -0.13327949316349333, -1.2694780872024656, -0.5277346956879497, -1.2704014388203406, 1.4092428406270736, 0.40461680992503957, -1.2318734780816807, 2.257885368505444, 1.081994437484539, -0.8962135328256043, 0.1394341878823279, -1.5322769011678719], \"yaxis\": \"y9\"}, {\"line\": {\"color\": \"rgba(128, 128, 128, 1.0)\", \"dash\": \"solid\", \"shape\": \"linear\", \"width\": 1.3}, \"marker\": {\"size\": 2, \"symbol\": \"circle\"}, \"mode\": \"markers\", \"name\": \"C\", \"text\": \"\", \"type\": \"scatter\", \"x\": [0.08628323394041917, 0.1996020788959708, 0.20815944961259064, 2.131671412751742, -0.6230820414858802, -0.20059453914798314, 0.30850312105249406, 1.7452481067756915, 0.7328641159155839, 2.1251837923160504, 0.47887481994342734, -0.1825069749191838, 2.138799212851821, 1.0451685881907276, 0.7434135269810468, 0.3442098404393374, -0.6667688075567253, 0.06371752400275227, 0.0027046037096464712, 0.08321386399124807, 0.22243369389629775, 0.4755975179492282, -0.8979402876528175, -1.85402118299806, -0.9247498611392219, -0.8602848187962258, 0.04358900306148492, -0.5676161630929298, -0.07734514221487851, 0.18994788348417663, -0.7365699535202821, 0.32817276921175176, 0.5845710556239431, 0.5504481459044616, -0.7217255921692333, 1.3536859978584614, 0.7413518060931923, 0.4954504182405843, -1.297639979562549, -1.5211164017484191, -0.5356313159929892, -0.14139501644207536, -2.535185047270597, -1.3972714221877187, 0.08578376083602648, -1.8771408047470939, -0.1382002174398529, -0.4319456408707257, -0.6873636767251813, -2.154901585183574, 0.8349884750677796, -0.29344606963996633, -2.0646176720779064, 0.2715258162942724, -0.8987499333895042, 0.6737517491122544, -0.8903450187141376, -0.5865223603579941, 1.2182908148049052, 0.5438298456028653, -0.9955332831521326, -0.9267142054469677, -1.8737830394162058, 0.4155025883669216, 1.4072161601242574, 1.6558356000102168, 0.1809956349868083, 0.05305950380555659, -0.9973706957566846, 0.8485135367398966, -0.09069496672792628, 1.2575460701823191, -1.1954067348628163, -0.03249315387521831, 0.28128026601803596, -1.0405636511730798, -0.17966114977992012, -0.19911305400341872, -0.04475203909549446, -0.33144565439472856, 2.7808030289348644, 0.08125916906489697, -1.5582135882821042, -1.288804376166216, 0.14180622305606383, 0.5449416201336499, -0.39609729585126346, -0.12395381701788742, 0.07703560202435866, -1.0272511213580646, 0.013861719718305783, -0.10758763900023838, -0.3976760311590689, 1.1015906152909287, -0.6678659159520443, -0.8442929808644131, 0.8409636359623852, 0.28507155270790163, -0.6297736460594562, -2.9931078502086437], \"xaxis\": \"x10\", \"y\": [2.038102357710706, 0.2576996643892817, -1.1798196348353838, 0.4157702614131842, -1.1012351243432212, 0.16243256677021015, 0.3195838918073923, -0.42163946571452043, -0.5624454929238729, -0.6294645434405128, 0.3271658984857019, 1.5098386680081353, -0.42329324229384124, 2.3648631071382713, -0.6889084121465173, 0.6156641704478799, 1.1851224297767595, 0.22740394959544033, -0.08161112165280739, 0.1445006384531758, -0.0075238161668971385, -0.6110805416197159, -0.25606087590304366, 1.3443060281974812, -0.7388932514568775, -0.7695496258394001, -0.7873817375146055, 0.4297837429016983, 0.9579503469593186, -1.164752419424204, -1.276315432288413, 0.02053447733297226, -2.4317108807142573, -0.24770284951243285, 0.5406704807880074, -0.6938050496735396, 0.6339706052865337, 1.1093520601630171, -0.32163042371408884, 0.37507601689143294, -0.648118710188847, -0.5515887216458849, 0.2527639200133479, -0.47386103063949947, 1.5657496158271567, 0.28793560012679836, 1.6264063683510546, 0.45312392396668183, 0.013940264815367073, -0.8458398937119691, 0.34161508358595044, 0.5464580959173527, 0.4291498719884774, 0.32002922017412805, 1.0895515741012827, 0.5681379084099052, 0.4158120212337378, 0.6678856985111923, -0.0160716737410791, 0.5077164219306115, -0.47237927437833765, -0.23295608254637346, -1.1472519618841157, 2.514952980286407, -0.7964223189433736, -0.580551760148871, -0.07954941725492208, -0.3510567235837107, -0.4688298882576997, -0.8384028189859069, 0.45792184059746244, 1.9152580396167196, -0.8352155282336406, -0.23946842071359362, -0.7288389214662799, -0.6423181117562349, -0.825304444929453, -0.16657784662202907, 0.08458906577422094, 2.2811408452149315, -1.5977696389242177, 1.0032587671269737, -0.588110777473575, -0.2619393559738801, -0.4989960405369848, -1.177242495157639, 0.8135642767816046, -0.9392292364320963, -0.13327949316349333, -1.2694780872024656, -0.5277346956879497, -1.2704014388203406, 1.4092428406270736, 0.40461680992503957, -1.2318734780816807, 2.257885368505444, 1.081994437484539, -0.8962135328256043, 0.1394341878823279, -1.5322769011678719], \"yaxis\": \"y10\"}, {\"histfunc\": \"count\", \"histnorm\": \"\", \"marker\": {\"color\": \"rgba(50, 171, 96, 1.0)\", \"line\": {\"color\": \"#4D5663\", \"width\": 1.3}}, \"name\": \"C\", \"nbinsx\": 10, \"opacity\": 0.8, \"orientation\": \"v\", \"type\": \"histogram\", \"x\": [2.038102357710706, 0.2576996643892817, -1.1798196348353838, 0.4157702614131842, -1.1012351243432212, 0.16243256677021015, 0.3195838918073923, -0.42163946571452043, -0.5624454929238729, -0.6294645434405128, 0.3271658984857019, 1.5098386680081353, -0.42329324229384124, 2.3648631071382713, -0.6889084121465173, 0.6156641704478799, 1.1851224297767595, 0.22740394959544033, -0.08161112165280739, 0.1445006384531758, -0.0075238161668971385, -0.6110805416197159, -0.25606087590304366, 1.3443060281974812, -0.7388932514568775, -0.7695496258394001, -0.7873817375146055, 0.4297837429016983, 0.9579503469593186, -1.164752419424204, -1.276315432288413, 0.02053447733297226, -2.4317108807142573, -0.24770284951243285, 0.5406704807880074, -0.6938050496735396, 0.6339706052865337, 1.1093520601630171, -0.32163042371408884, 0.37507601689143294, -0.648118710188847, -0.5515887216458849, 0.2527639200133479, -0.47386103063949947, 1.5657496158271567, 0.28793560012679836, 1.6264063683510546, 0.45312392396668183, 0.013940264815367073, -0.8458398937119691, 0.34161508358595044, 0.5464580959173527, 0.4291498719884774, 0.32002922017412805, 1.0895515741012827, 0.5681379084099052, 0.4158120212337378, 0.6678856985111923, -0.0160716737410791, 0.5077164219306115, -0.47237927437833765, -0.23295608254637346, -1.1472519618841157, 2.514952980286407, -0.7964223189433736, -0.580551760148871, -0.07954941725492208, -0.3510567235837107, -0.4688298882576997, -0.8384028189859069, 0.45792184059746244, 1.9152580396167196, -0.8352155282336406, -0.23946842071359362, -0.7288389214662799, -0.6423181117562349, -0.825304444929453, -0.16657784662202907, 0.08458906577422094, 2.2811408452149315, -1.5977696389242177, 1.0032587671269737, -0.588110777473575, -0.2619393559738801, -0.4989960405369848, -1.177242495157639, 0.8135642767816046, -0.9392292364320963, -0.13327949316349333, -1.2694780872024656, -0.5277346956879497, -1.2704014388203406, 1.4092428406270736, 0.40461680992503957, -1.2318734780816807, 2.257885368505444, 1.081994437484539, -0.8962135328256043, 0.1394341878823279, -1.5322769011678719], \"xaxis\": \"x11\", \"yaxis\": \"y11\"}, {\"line\": {\"color\": \"rgba(128, 128, 128, 1.0)\", \"dash\": \"solid\", \"shape\": \"linear\", \"width\": 1.3}, \"marker\": {\"size\": 2, \"symbol\": \"circle\"}, \"mode\": \"markers\", \"name\": \"C\", \"text\": \"\", \"type\": \"scatter\", \"x\": [-2.0168295111392105, -0.21013946544226061, -1.258031148952199, 0.13601150195186626, -0.9326675103109121, 1.611415931881721, -0.5546502912770421, 1.1727916704060484, -1.0378299808439229, 0.06632263585327085, 0.7511309954204283, 1.809412952840736, -0.044220581261604344, -0.8068498078280052, -1.3597344031658158, -0.6557923731449656, 1.2420221885242144, 0.9524935708464101, 0.17723258748445941, 1.167990665130411, 0.05880026319073873, -0.04623484159031213, 0.18090316066269005, 0.9267191286977249, 0.16553458024891518, -1.3136390901784187, -0.06581785804893786, -0.7411958743274716, -0.40268998521209426, -1.5232465692913328, 0.1902404762177136, 1.6039351141622544, 1.2114609571160415, -1.515347397523287, 0.07181238623888106, -0.07873744523145464, 0.11247408248408321, 1.4511470206604198, -0.8050589159007769, 0.8711861823124123, 1.0007029677650339, 0.8137507804035743, -0.6543433291379487, 1.5289305214001112, 0.014782093150927886, 0.6200951298097656, 1.150455514064878, 0.9553906535290986, -0.41683051193560994, -0.23144950051061663, 0.6887180371482181, -0.596392242147904, 1.2543891626130692, 0.0030724698669582803, 0.12362507474079651, 0.6226124546708929, 0.42466444466556386, 0.47926413631075265, 1.5774490366605967, 0.2640923627476357, -0.7993459891468951, -0.36172350204577075, -1.544160511315879, 0.14890998512774686, 1.1163820612050082, -0.0030689004076699545, 0.3731074916210108, 0.3805955800175891, 0.07829472340075247, 0.4604484607902768, 1.104119895280711, -0.9967704117259928, 0.8405830043238202, -0.3608568411009861, 1.235374755446539, 1.3474524590877468, 0.1491539960997328, 1.3356519668737115, 1.264942923231072, 0.7106069315969047, -1.2563731252580563, -0.29577964756996483, -1.8018826832220123, 0.5817820085802042, 1.062697781721015, 0.7620137522866587, -0.8314965510589846, 0.0364211117304112, -0.7113461269231741, 2.482943491654735, -0.2875647729877446, 0.2651044673195494, 0.8422507841040974, -0.7072892593682847, 0.5394853919155316, 1.4497737247702585, 0.3207280886261204, -0.6897627137375941, 1.3082921742928493, 0.8083137004369385], \"xaxis\": \"x12\", \"y\": [2.038102357710706, 0.2576996643892817, -1.1798196348353838, 0.4157702614131842, -1.1012351243432212, 0.16243256677021015, 0.3195838918073923, -0.42163946571452043, -0.5624454929238729, -0.6294645434405128, 0.3271658984857019, 1.5098386680081353, -0.42329324229384124, 2.3648631071382713, -0.6889084121465173, 0.6156641704478799, 1.1851224297767595, 0.22740394959544033, -0.08161112165280739, 0.1445006384531758, -0.0075238161668971385, -0.6110805416197159, -0.25606087590304366, 1.3443060281974812, -0.7388932514568775, -0.7695496258394001, -0.7873817375146055, 0.4297837429016983, 0.9579503469593186, -1.164752419424204, -1.276315432288413, 0.02053447733297226, -2.4317108807142573, -0.24770284951243285, 0.5406704807880074, -0.6938050496735396, 0.6339706052865337, 1.1093520601630171, -0.32163042371408884, 0.37507601689143294, -0.648118710188847, -0.5515887216458849, 0.2527639200133479, -0.47386103063949947, 1.5657496158271567, 0.28793560012679836, 1.6264063683510546, 0.45312392396668183, 0.013940264815367073, -0.8458398937119691, 0.34161508358595044, 0.5464580959173527, 0.4291498719884774, 0.32002922017412805, 1.0895515741012827, 0.5681379084099052, 0.4158120212337378, 0.6678856985111923, -0.0160716737410791, 0.5077164219306115, -0.47237927437833765, -0.23295608254637346, -1.1472519618841157, 2.514952980286407, -0.7964223189433736, -0.580551760148871, -0.07954941725492208, -0.3510567235837107, -0.4688298882576997, -0.8384028189859069, 0.45792184059746244, 1.9152580396167196, -0.8352155282336406, -0.23946842071359362, -0.7288389214662799, -0.6423181117562349, -0.825304444929453, -0.16657784662202907, 0.08458906577422094, 2.2811408452149315, -1.5977696389242177, 1.0032587671269737, -0.588110777473575, -0.2619393559738801, -0.4989960405369848, -1.177242495157639, 0.8135642767816046, -0.9392292364320963, -0.13327949316349333, -1.2694780872024656, -0.5277346956879497, -1.2704014388203406, 1.4092428406270736, 0.40461680992503957, -1.2318734780816807, 2.257885368505444, 1.081994437484539, -0.8962135328256043, 0.1394341878823279, -1.5322769011678719], \"yaxis\": \"y12\"}, {\"line\": {\"color\": \"rgba(128, 128, 128, 1.0)\", \"dash\": \"solid\", \"shape\": \"linear\", \"width\": 1.3}, \"marker\": {\"size\": 2, \"symbol\": \"circle\"}, \"mode\": \"markers\", \"name\": \"D\", \"text\": \"\", \"type\": \"scatter\", \"x\": [0.5607480575046337, -0.3708633475833689, 0.4230264901718323, -0.9549106351528698, -0.20741263670876842, -1.024518844287343, -1.0367249687928646, 2.0584447684824885, -1.4187588960747235, -0.046585194692532424, 0.36787548846534923, -2.044211812156692, -2.550339562813716, 0.40015190479056917, 0.5681708126504649, 0.7940914617616944, -1.068967565955156, 0.07867740459071079, 0.4235998492954107, 0.39095912999154775, 1.327686045467365, -1.754462647693073, -0.578173012072137, -1.0779798184582985, -1.891079726438191, 0.4659456386036681, -0.21802135906844125, 0.19367326395113266, -1.9603362574570133, 0.14932514499258526, -0.9529428773655932, 0.7856639631456367, 0.4156555358714044, 0.7153211913364734, -1.3322882860784802, 0.4139571120324161, 0.3967036149503087, 0.4803572763821211, -0.15324245046653046, -0.3119030508533104, 0.9967146023695868, -0.47050022120553125, -0.4892774201067624, -1.85008249779815, -1.7845525458308382, 0.1353531820802186, 0.8699058267717776, -0.595527228953319, -0.49038254076086707, 0.14079245442134247, -1.6579724363407244, 2.418537608960433, 0.27571151766342716, -1.2092357839728465, 0.37547517010499964, -1.0630914256315618, -0.21351316426565678, -0.27672782264169615, 1.1129222293747094, -0.28712792311619945, 0.7129540586172829, -1.566751562768234, 0.9296950897556568, -0.9935280386456603, -1.1710637069029972, 1.0331173300172627, -0.7779591509796198, 0.21686394225833813, 0.9654083038662515, 0.03337425399400426, 0.2108971788093691, -2.3580895215396565, 0.896589310994641, 0.674101904339704, -0.38463931465655277, -0.23191184444903365, -0.8086330854286654, -1.445946605784175, -1.9764770166489303, -0.37283081828887904, 0.8367782985876825, -0.30237097827066195, 0.380435715262536, 0.031050281970491544, -1.0946115915704187, 2.2558393050008103, -0.12197341968923685, 0.1407793346328531, -0.7188373798798, 0.8657765896581454, -0.13382126496639835, 0.970122231997722, -0.029542020767768597, -0.8690891890937565, -1.0338929783040642, -0.6267558462723102, -1.4157502451975266, -0.5785252269504768, 0.23779112418985437, -0.158700233859291], \"xaxis\": \"x13\", \"y\": [-2.0168295111392105, -0.21013946544226061, -1.258031148952199, 0.13601150195186626, -0.9326675103109121, 1.611415931881721, -0.5546502912770421, 1.1727916704060484, -1.0378299808439229, 0.06632263585327085, 0.7511309954204283, 1.809412952840736, -0.044220581261604344, -0.8068498078280052, -1.3597344031658158, -0.6557923731449656, 1.2420221885242144, 0.9524935708464101, 0.17723258748445941, 1.167990665130411, 0.05880026319073873, -0.04623484159031213, 0.18090316066269005, 0.9267191286977249, 0.16553458024891518, -1.3136390901784187, -0.06581785804893786, -0.7411958743274716, -0.40268998521209426, -1.5232465692913328, 0.1902404762177136, 1.6039351141622544, 1.2114609571160415, -1.515347397523287, 0.07181238623888106, -0.07873744523145464, 0.11247408248408321, 1.4511470206604198, -0.8050589159007769, 0.8711861823124123, 1.0007029677650339, 0.8137507804035743, -0.6543433291379487, 1.5289305214001112, 0.014782093150927886, 0.6200951298097656, 1.150455514064878, 0.9553906535290986, -0.41683051193560994, -0.23144950051061663, 0.6887180371482181, -0.596392242147904, 1.2543891626130692, 0.0030724698669582803, 0.12362507474079651, 0.6226124546708929, 0.42466444466556386, 0.47926413631075265, 1.5774490366605967, 0.2640923627476357, -0.7993459891468951, -0.36172350204577075, -1.544160511315879, 0.14890998512774686, 1.1163820612050082, -0.0030689004076699545, 0.3731074916210108, 0.3805955800175891, 0.07829472340075247, 0.4604484607902768, 1.104119895280711, -0.9967704117259928, 0.8405830043238202, -0.3608568411009861, 1.235374755446539, 1.3474524590877468, 0.1491539960997328, 1.3356519668737115, 1.264942923231072, 0.7106069315969047, -1.2563731252580563, -0.29577964756996483, -1.8018826832220123, 0.5817820085802042, 1.062697781721015, 0.7620137522866587, -0.8314965510589846, 0.0364211117304112, -0.7113461269231741, 2.482943491654735, -0.2875647729877446, 0.2651044673195494, 0.8422507841040974, -0.7072892593682847, 0.5394853919155316, 1.4497737247702585, 0.3207280886261204, -0.6897627137375941, 1.3082921742928493, 0.8083137004369385], \"yaxis\": \"y13\"}, {\"line\": {\"color\": \"rgba(128, 128, 128, 1.0)\", \"dash\": \"solid\", \"shape\": \"linear\", \"width\": 1.3}, \"marker\": {\"size\": 2, \"symbol\": \"circle\"}, \"mode\": \"markers\", \"name\": \"D\", \"text\": \"\", \"type\": \"scatter\", \"x\": [0.08628323394041917, 0.1996020788959708, 0.20815944961259064, 2.131671412751742, -0.6230820414858802, -0.20059453914798314, 0.30850312105249406, 1.7452481067756915, 0.7328641159155839, 2.1251837923160504, 0.47887481994342734, -0.1825069749191838, 2.138799212851821, 1.0451685881907276, 0.7434135269810468, 0.3442098404393374, -0.6667688075567253, 0.06371752400275227, 0.0027046037096464712, 0.08321386399124807, 0.22243369389629775, 0.4755975179492282, -0.8979402876528175, -1.85402118299806, -0.9247498611392219, -0.8602848187962258, 0.04358900306148492, -0.5676161630929298, -0.07734514221487851, 0.18994788348417663, -0.7365699535202821, 0.32817276921175176, 0.5845710556239431, 0.5504481459044616, -0.7217255921692333, 1.3536859978584614, 0.7413518060931923, 0.4954504182405843, -1.297639979562549, -1.5211164017484191, -0.5356313159929892, -0.14139501644207536, -2.535185047270597, -1.3972714221877187, 0.08578376083602648, -1.8771408047470939, -0.1382002174398529, -0.4319456408707257, -0.6873636767251813, -2.154901585183574, 0.8349884750677796, -0.29344606963996633, -2.0646176720779064, 0.2715258162942724, -0.8987499333895042, 0.6737517491122544, -0.8903450187141376, -0.5865223603579941, 1.2182908148049052, 0.5438298456028653, -0.9955332831521326, -0.9267142054469677, -1.8737830394162058, 0.4155025883669216, 1.4072161601242574, 1.6558356000102168, 0.1809956349868083, 0.05305950380555659, -0.9973706957566846, 0.8485135367398966, -0.09069496672792628, 1.2575460701823191, -1.1954067348628163, -0.03249315387521831, 0.28128026601803596, -1.0405636511730798, -0.17966114977992012, -0.19911305400341872, -0.04475203909549446, -0.33144565439472856, 2.7808030289348644, 0.08125916906489697, -1.5582135882821042, -1.288804376166216, 0.14180622305606383, 0.5449416201336499, -0.39609729585126346, -0.12395381701788742, 0.07703560202435866, -1.0272511213580646, 0.013861719718305783, -0.10758763900023838, -0.3976760311590689, 1.1015906152909287, -0.6678659159520443, -0.8442929808644131, 0.8409636359623852, 0.28507155270790163, -0.6297736460594562, -2.9931078502086437], \"xaxis\": \"x14\", \"y\": [-2.0168295111392105, -0.21013946544226061, -1.258031148952199, 0.13601150195186626, -0.9326675103109121, 1.611415931881721, -0.5546502912770421, 1.1727916704060484, -1.0378299808439229, 0.06632263585327085, 0.7511309954204283, 1.809412952840736, -0.044220581261604344, -0.8068498078280052, -1.3597344031658158, -0.6557923731449656, 1.2420221885242144, 0.9524935708464101, 0.17723258748445941, 1.167990665130411, 0.05880026319073873, -0.04623484159031213, 0.18090316066269005, 0.9267191286977249, 0.16553458024891518, -1.3136390901784187, -0.06581785804893786, -0.7411958743274716, -0.40268998521209426, -1.5232465692913328, 0.1902404762177136, 1.6039351141622544, 1.2114609571160415, -1.515347397523287, 0.07181238623888106, -0.07873744523145464, 0.11247408248408321, 1.4511470206604198, -0.8050589159007769, 0.8711861823124123, 1.0007029677650339, 0.8137507804035743, -0.6543433291379487, 1.5289305214001112, 0.014782093150927886, 0.6200951298097656, 1.150455514064878, 0.9553906535290986, -0.41683051193560994, -0.23144950051061663, 0.6887180371482181, -0.596392242147904, 1.2543891626130692, 0.0030724698669582803, 0.12362507474079651, 0.6226124546708929, 0.42466444466556386, 0.47926413631075265, 1.5774490366605967, 0.2640923627476357, -0.7993459891468951, -0.36172350204577075, -1.544160511315879, 0.14890998512774686, 1.1163820612050082, -0.0030689004076699545, 0.3731074916210108, 0.3805955800175891, 0.07829472340075247, 0.4604484607902768, 1.104119895280711, -0.9967704117259928, 0.8405830043238202, -0.3608568411009861, 1.235374755446539, 1.3474524590877468, 0.1491539960997328, 1.3356519668737115, 1.264942923231072, 0.7106069315969047, -1.2563731252580563, -0.29577964756996483, -1.8018826832220123, 0.5817820085802042, 1.062697781721015, 0.7620137522866587, -0.8314965510589846, 0.0364211117304112, -0.7113461269231741, 2.482943491654735, -0.2875647729877446, 0.2651044673195494, 0.8422507841040974, -0.7072892593682847, 0.5394853919155316, 1.4497737247702585, 0.3207280886261204, -0.6897627137375941, 1.3082921742928493, 0.8083137004369385], \"yaxis\": \"y14\"}, {\"line\": {\"color\": \"rgba(128, 128, 128, 1.0)\", \"dash\": \"solid\", \"shape\": \"linear\", \"width\": 1.3}, \"marker\": {\"size\": 2, \"symbol\": \"circle\"}, \"mode\": \"markers\", \"name\": \"D\", \"text\": \"\", \"type\": \"scatter\", \"x\": [2.038102357710706, 0.2576996643892817, -1.1798196348353838, 0.4157702614131842, -1.1012351243432212, 0.16243256677021015, 0.3195838918073923, -0.42163946571452043, -0.5624454929238729, -0.6294645434405128, 0.3271658984857019, 1.5098386680081353, -0.42329324229384124, 2.3648631071382713, -0.6889084121465173, 0.6156641704478799, 1.1851224297767595, 0.22740394959544033, -0.08161112165280739, 0.1445006384531758, -0.0075238161668971385, -0.6110805416197159, -0.25606087590304366, 1.3443060281974812, -0.7388932514568775, -0.7695496258394001, -0.7873817375146055, 0.4297837429016983, 0.9579503469593186, -1.164752419424204, -1.276315432288413, 0.02053447733297226, -2.4317108807142573, -0.24770284951243285, 0.5406704807880074, -0.6938050496735396, 0.6339706052865337, 1.1093520601630171, -0.32163042371408884, 0.37507601689143294, -0.648118710188847, -0.5515887216458849, 0.2527639200133479, -0.47386103063949947, 1.5657496158271567, 0.28793560012679836, 1.6264063683510546, 0.45312392396668183, 0.013940264815367073, -0.8458398937119691, 0.34161508358595044, 0.5464580959173527, 0.4291498719884774, 0.32002922017412805, 1.0895515741012827, 0.5681379084099052, 0.4158120212337378, 0.6678856985111923, -0.0160716737410791, 0.5077164219306115, -0.47237927437833765, -0.23295608254637346, -1.1472519618841157, 2.514952980286407, -0.7964223189433736, -0.580551760148871, -0.07954941725492208, -0.3510567235837107, -0.4688298882576997, -0.8384028189859069, 0.45792184059746244, 1.9152580396167196, -0.8352155282336406, -0.23946842071359362, -0.7288389214662799, -0.6423181117562349, -0.825304444929453, -0.16657784662202907, 0.08458906577422094, 2.2811408452149315, -1.5977696389242177, 1.0032587671269737, -0.588110777473575, -0.2619393559738801, -0.4989960405369848, -1.177242495157639, 0.8135642767816046, -0.9392292364320963, -0.13327949316349333, -1.2694780872024656, -0.5277346956879497, -1.2704014388203406, 1.4092428406270736, 0.40461680992503957, -1.2318734780816807, 2.257885368505444, 1.081994437484539, -0.8962135328256043, 0.1394341878823279, -1.5322769011678719], \"xaxis\": \"x15\", \"y\": [-2.0168295111392105, -0.21013946544226061, -1.258031148952199, 0.13601150195186626, -0.9326675103109121, 1.611415931881721, -0.5546502912770421, 1.1727916704060484, -1.0378299808439229, 0.06632263585327085, 0.7511309954204283, 1.809412952840736, -0.044220581261604344, -0.8068498078280052, -1.3597344031658158, -0.6557923731449656, 1.2420221885242144, 0.9524935708464101, 0.17723258748445941, 1.167990665130411, 0.05880026319073873, -0.04623484159031213, 0.18090316066269005, 0.9267191286977249, 0.16553458024891518, -1.3136390901784187, -0.06581785804893786, -0.7411958743274716, -0.40268998521209426, -1.5232465692913328, 0.1902404762177136, 1.6039351141622544, 1.2114609571160415, -1.515347397523287, 0.07181238623888106, -0.07873744523145464, 0.11247408248408321, 1.4511470206604198, -0.8050589159007769, 0.8711861823124123, 1.0007029677650339, 0.8137507804035743, -0.6543433291379487, 1.5289305214001112, 0.014782093150927886, 0.6200951298097656, 1.150455514064878, 0.9553906535290986, -0.41683051193560994, -0.23144950051061663, 0.6887180371482181, -0.596392242147904, 1.2543891626130692, 0.0030724698669582803, 0.12362507474079651, 0.6226124546708929, 0.42466444466556386, 0.47926413631075265, 1.5774490366605967, 0.2640923627476357, -0.7993459891468951, -0.36172350204577075, -1.544160511315879, 0.14890998512774686, 1.1163820612050082, -0.0030689004076699545, 0.3731074916210108, 0.3805955800175891, 0.07829472340075247, 0.4604484607902768, 1.104119895280711, -0.9967704117259928, 0.8405830043238202, -0.3608568411009861, 1.235374755446539, 1.3474524590877468, 0.1491539960997328, 1.3356519668737115, 1.264942923231072, 0.7106069315969047, -1.2563731252580563, -0.29577964756996483, -1.8018826832220123, 0.5817820085802042, 1.062697781721015, 0.7620137522866587, -0.8314965510589846, 0.0364211117304112, -0.7113461269231741, 2.482943491654735, -0.2875647729877446, 0.2651044673195494, 0.8422507841040974, -0.7072892593682847, 0.5394853919155316, 1.4497737247702585, 0.3207280886261204, -0.6897627137375941, 1.3082921742928493, 0.8083137004369385], \"yaxis\": \"y15\"}, {\"histfunc\": \"count\", \"histnorm\": \"\", \"marker\": {\"color\": \"rgba(128, 0, 128, 1.0)\", \"line\": {\"color\": \"#4D5663\", \"width\": 1.3}}, \"name\": \"D\", \"nbinsx\": 10, \"opacity\": 0.8, \"orientation\": \"v\", \"type\": \"histogram\", \"x\": [-2.0168295111392105, -0.21013946544226061, -1.258031148952199, 0.13601150195186626, -0.9326675103109121, 1.611415931881721, -0.5546502912770421, 1.1727916704060484, -1.0378299808439229, 0.06632263585327085, 0.7511309954204283, 1.809412952840736, -0.044220581261604344, -0.8068498078280052, -1.3597344031658158, -0.6557923731449656, 1.2420221885242144, 0.9524935708464101, 0.17723258748445941, 1.167990665130411, 0.05880026319073873, -0.04623484159031213, 0.18090316066269005, 0.9267191286977249, 0.16553458024891518, -1.3136390901784187, -0.06581785804893786, -0.7411958743274716, -0.40268998521209426, -1.5232465692913328, 0.1902404762177136, 1.6039351141622544, 1.2114609571160415, -1.515347397523287, 0.07181238623888106, -0.07873744523145464, 0.11247408248408321, 1.4511470206604198, -0.8050589159007769, 0.8711861823124123, 1.0007029677650339, 0.8137507804035743, -0.6543433291379487, 1.5289305214001112, 0.014782093150927886, 0.6200951298097656, 1.150455514064878, 0.9553906535290986, -0.41683051193560994, -0.23144950051061663, 0.6887180371482181, -0.596392242147904, 1.2543891626130692, 0.0030724698669582803, 0.12362507474079651, 0.6226124546708929, 0.42466444466556386, 0.47926413631075265, 1.5774490366605967, 0.2640923627476357, -0.7993459891468951, -0.36172350204577075, -1.544160511315879, 0.14890998512774686, 1.1163820612050082, -0.0030689004076699545, 0.3731074916210108, 0.3805955800175891, 0.07829472340075247, 0.4604484607902768, 1.104119895280711, -0.9967704117259928, 0.8405830043238202, -0.3608568411009861, 1.235374755446539, 1.3474524590877468, 0.1491539960997328, 1.3356519668737115, 1.264942923231072, 0.7106069315969047, -1.2563731252580563, -0.29577964756996483, -1.8018826832220123, 0.5817820085802042, 1.062697781721015, 0.7620137522866587, -0.8314965510589846, 0.0364211117304112, -0.7113461269231741, 2.482943491654735, -0.2875647729877446, 0.2651044673195494, 0.8422507841040974, -0.7072892593682847, 0.5394853919155316, 1.4497737247702585, 0.3207280886261204, -0.6897627137375941, 1.3082921742928493, 0.8083137004369385], \"xaxis\": \"x16\", \"yaxis\": \"y16\"}],\n",
       "                        {\"bargap\": 0.02, \"legend\": {\"bgcolor\": \"#F5F6F9\", \"font\": {\"color\": \"#4D5663\"}}, \"paper_bgcolor\": \"#F5F6F9\", \"plot_bgcolor\": \"#F5F6F9\", \"showlegend\": false, \"template\": {\"data\": {\"bar\": [{\"error_x\": {\"color\": \"#2a3f5f\"}, \"error_y\": {\"color\": \"#2a3f5f\"}, \"marker\": {\"line\": {\"color\": \"#E5ECF6\", \"width\": 0.5}}, \"type\": \"bar\"}], \"barpolar\": [{\"marker\": {\"line\": {\"color\": \"#E5ECF6\", \"width\": 0.5}}, \"type\": \"barpolar\"}], \"carpet\": [{\"aaxis\": {\"endlinecolor\": \"#2a3f5f\", \"gridcolor\": \"white\", \"linecolor\": \"white\", \"minorgridcolor\": \"white\", \"startlinecolor\": \"#2a3f5f\"}, \"baxis\": {\"endlinecolor\": \"#2a3f5f\", \"gridcolor\": \"white\", \"linecolor\": \"white\", \"minorgridcolor\": \"white\", \"startlinecolor\": \"#2a3f5f\"}, \"type\": \"carpet\"}], \"choropleth\": [{\"colorbar\": {\"outlinewidth\": 0, \"ticks\": \"\"}, \"type\": \"choropleth\"}], \"contour\": [{\"colorbar\": {\"outlinewidth\": 0, \"ticks\": \"\"}, \"colorscale\": [[0.0, \"#0d0887\"], [0.1111111111111111, \"#46039f\"], [0.2222222222222222, \"#7201a8\"], [0.3333333333333333, \"#9c179e\"], [0.4444444444444444, \"#bd3786\"], [0.5555555555555556, \"#d8576b\"], [0.6666666666666666, \"#ed7953\"], [0.7777777777777778, \"#fb9f3a\"], [0.8888888888888888, \"#fdca26\"], [1.0, \"#f0f921\"]], \"type\": \"contour\"}], \"contourcarpet\": [{\"colorbar\": {\"outlinewidth\": 0, \"ticks\": \"\"}, \"type\": \"contourcarpet\"}], \"heatmap\": [{\"colorbar\": {\"outlinewidth\": 0, \"ticks\": \"\"}, \"colorscale\": [[0.0, \"#0d0887\"], [0.1111111111111111, \"#46039f\"], [0.2222222222222222, \"#7201a8\"], [0.3333333333333333, \"#9c179e\"], [0.4444444444444444, \"#bd3786\"], [0.5555555555555556, \"#d8576b\"], [0.6666666666666666, \"#ed7953\"], [0.7777777777777778, \"#fb9f3a\"], [0.8888888888888888, \"#fdca26\"], [1.0, \"#f0f921\"]], \"type\": \"heatmap\"}], \"heatmapgl\": [{\"colorbar\": {\"outlinewidth\": 0, \"ticks\": \"\"}, \"colorscale\": [[0.0, \"#0d0887\"], [0.1111111111111111, \"#46039f\"], [0.2222222222222222, \"#7201a8\"], [0.3333333333333333, \"#9c179e\"], [0.4444444444444444, \"#bd3786\"], [0.5555555555555556, \"#d8576b\"], [0.6666666666666666, \"#ed7953\"], [0.7777777777777778, \"#fb9f3a\"], [0.8888888888888888, \"#fdca26\"], [1.0, \"#f0f921\"]], \"type\": \"heatmapgl\"}], \"histogram\": [{\"marker\": {\"colorbar\": {\"outlinewidth\": 0, \"ticks\": \"\"}}, \"type\": \"histogram\"}], \"histogram2d\": [{\"colorbar\": {\"outlinewidth\": 0, \"ticks\": \"\"}, \"colorscale\": [[0.0, \"#0d0887\"], [0.1111111111111111, \"#46039f\"], [0.2222222222222222, \"#7201a8\"], [0.3333333333333333, \"#9c179e\"], [0.4444444444444444, \"#bd3786\"], [0.5555555555555556, \"#d8576b\"], [0.6666666666666666, \"#ed7953\"], [0.7777777777777778, \"#fb9f3a\"], [0.8888888888888888, \"#fdca26\"], [1.0, \"#f0f921\"]], \"type\": \"histogram2d\"}], \"histogram2dcontour\": [{\"colorbar\": {\"outlinewidth\": 0, \"ticks\": \"\"}, \"colorscale\": [[0.0, \"#0d0887\"], [0.1111111111111111, \"#46039f\"], [0.2222222222222222, \"#7201a8\"], [0.3333333333333333, \"#9c179e\"], [0.4444444444444444, \"#bd3786\"], [0.5555555555555556, \"#d8576b\"], [0.6666666666666666, \"#ed7953\"], [0.7777777777777778, \"#fb9f3a\"], [0.8888888888888888, \"#fdca26\"], [1.0, \"#f0f921\"]], \"type\": \"histogram2dcontour\"}], \"mesh3d\": [{\"colorbar\": {\"outlinewidth\": 0, \"ticks\": \"\"}, \"type\": \"mesh3d\"}], \"parcoords\": [{\"line\": {\"colorbar\": {\"outlinewidth\": 0, \"ticks\": \"\"}}, \"type\": \"parcoords\"}], \"pie\": [{\"automargin\": true, \"type\": \"pie\"}], \"scatter\": [{\"marker\": {\"colorbar\": {\"outlinewidth\": 0, \"ticks\": \"\"}}, \"type\": \"scatter\"}], \"scatter3d\": [{\"line\": {\"colorbar\": {\"outlinewidth\": 0, \"ticks\": \"\"}}, \"marker\": {\"colorbar\": {\"outlinewidth\": 0, \"ticks\": \"\"}}, \"type\": \"scatter3d\"}], \"scattercarpet\": [{\"marker\": {\"colorbar\": {\"outlinewidth\": 0, \"ticks\": \"\"}}, \"type\": \"scattercarpet\"}], \"scattergeo\": [{\"marker\": {\"colorbar\": {\"outlinewidth\": 0, \"ticks\": \"\"}}, \"type\": \"scattergeo\"}], \"scattergl\": [{\"marker\": {\"colorbar\": {\"outlinewidth\": 0, \"ticks\": \"\"}}, \"type\": \"scattergl\"}], \"scattermapbox\": [{\"marker\": {\"colorbar\": {\"outlinewidth\": 0, \"ticks\": \"\"}}, \"type\": \"scattermapbox\"}], \"scatterpolar\": [{\"marker\": {\"colorbar\": {\"outlinewidth\": 0, \"ticks\": \"\"}}, \"type\": \"scatterpolar\"}], \"scatterpolargl\": [{\"marker\": {\"colorbar\": {\"outlinewidth\": 0, \"ticks\": \"\"}}, \"type\": \"scatterpolargl\"}], \"scatterternary\": [{\"marker\": {\"colorbar\": {\"outlinewidth\": 0, \"ticks\": \"\"}}, \"type\": \"scatterternary\"}], \"surface\": [{\"colorbar\": {\"outlinewidth\": 0, \"ticks\": \"\"}, \"colorscale\": [[0.0, \"#0d0887\"], [0.1111111111111111, \"#46039f\"], [0.2222222222222222, \"#7201a8\"], [0.3333333333333333, \"#9c179e\"], [0.4444444444444444, \"#bd3786\"], [0.5555555555555556, \"#d8576b\"], [0.6666666666666666, \"#ed7953\"], [0.7777777777777778, \"#fb9f3a\"], [0.8888888888888888, \"#fdca26\"], [1.0, \"#f0f921\"]], \"type\": \"surface\"}], \"table\": [{\"cells\": {\"fill\": {\"color\": \"#EBF0F8\"}, \"line\": {\"color\": \"white\"}}, \"header\": {\"fill\": {\"color\": \"#C8D4E3\"}, \"line\": {\"color\": \"white\"}}, \"type\": \"table\"}]}, \"layout\": {\"annotationdefaults\": {\"arrowcolor\": \"#2a3f5f\", \"arrowhead\": 0, \"arrowwidth\": 1}, \"coloraxis\": {\"colorbar\": {\"outlinewidth\": 0, \"ticks\": \"\"}}, \"colorscale\": {\"diverging\": [[0, \"#8e0152\"], [0.1, \"#c51b7d\"], [0.2, \"#de77ae\"], [0.3, \"#f1b6da\"], [0.4, \"#fde0ef\"], [0.5, \"#f7f7f7\"], [0.6, \"#e6f5d0\"], [0.7, \"#b8e186\"], [0.8, \"#7fbc41\"], [0.9, \"#4d9221\"], [1, \"#276419\"]], \"sequential\": [[0.0, \"#0d0887\"], [0.1111111111111111, \"#46039f\"], [0.2222222222222222, \"#7201a8\"], [0.3333333333333333, \"#9c179e\"], [0.4444444444444444, \"#bd3786\"], [0.5555555555555556, \"#d8576b\"], [0.6666666666666666, \"#ed7953\"], [0.7777777777777778, \"#fb9f3a\"], [0.8888888888888888, \"#fdca26\"], [1.0, \"#f0f921\"]], \"sequentialminus\": [[0.0, \"#0d0887\"], [0.1111111111111111, \"#46039f\"], [0.2222222222222222, \"#7201a8\"], [0.3333333333333333, \"#9c179e\"], [0.4444444444444444, \"#bd3786\"], [0.5555555555555556, \"#d8576b\"], [0.6666666666666666, \"#ed7953\"], [0.7777777777777778, \"#fb9f3a\"], [0.8888888888888888, \"#fdca26\"], [1.0, \"#f0f921\"]]}, \"colorway\": [\"#636efa\", \"#EF553B\", \"#00cc96\", \"#ab63fa\", \"#FFA15A\", \"#19d3f3\", \"#FF6692\", \"#B6E880\", \"#FF97FF\", \"#FECB52\"], \"font\": {\"color\": \"#2a3f5f\"}, \"geo\": {\"bgcolor\": \"white\", \"lakecolor\": \"white\", \"landcolor\": \"#E5ECF6\", \"showlakes\": true, \"showland\": true, \"subunitcolor\": \"white\"}, \"hoverlabel\": {\"align\": \"left\"}, \"hovermode\": \"closest\", \"mapbox\": {\"style\": \"light\"}, \"paper_bgcolor\": \"white\", \"plot_bgcolor\": \"#E5ECF6\", \"polar\": {\"angularaxis\": {\"gridcolor\": \"white\", \"linecolor\": \"white\", \"ticks\": \"\"}, \"bgcolor\": \"#E5ECF6\", \"radialaxis\": {\"gridcolor\": \"white\", \"linecolor\": \"white\", \"ticks\": \"\"}}, \"scene\": {\"xaxis\": {\"backgroundcolor\": \"#E5ECF6\", \"gridcolor\": \"white\", \"gridwidth\": 2, \"linecolor\": \"white\", \"showbackground\": true, \"ticks\": \"\", \"zerolinecolor\": \"white\"}, \"yaxis\": {\"backgroundcolor\": \"#E5ECF6\", \"gridcolor\": \"white\", \"gridwidth\": 2, \"linecolor\": \"white\", \"showbackground\": true, \"ticks\": \"\", \"zerolinecolor\": \"white\"}, \"zaxis\": {\"backgroundcolor\": \"#E5ECF6\", \"gridcolor\": \"white\", \"gridwidth\": 2, \"linecolor\": \"white\", \"showbackground\": true, \"ticks\": \"\", \"zerolinecolor\": \"white\"}}, \"shapedefaults\": {\"line\": {\"color\": \"#2a3f5f\"}}, \"ternary\": {\"aaxis\": {\"gridcolor\": \"white\", \"linecolor\": \"white\", \"ticks\": \"\"}, \"baxis\": {\"gridcolor\": \"white\", \"linecolor\": \"white\", \"ticks\": \"\"}, \"bgcolor\": \"#E5ECF6\", \"caxis\": {\"gridcolor\": \"white\", \"linecolor\": \"white\", \"ticks\": \"\"}}, \"title\": {\"x\": 0.05}, \"xaxis\": {\"automargin\": true, \"gridcolor\": \"white\", \"linecolor\": \"white\", \"ticks\": \"\", \"title\": {\"standoff\": 15}, \"zerolinecolor\": \"white\", \"zerolinewidth\": 2}, \"yaxis\": {\"automargin\": true, \"gridcolor\": \"white\", \"linecolor\": \"white\", \"ticks\": \"\", \"title\": {\"standoff\": 15}, \"zerolinecolor\": \"white\", \"zerolinewidth\": 2}}}, \"title\": {\"font\": {\"color\": \"#4D5663\"}}, \"xaxis\": {\"anchor\": \"y\", \"domain\": [0.0, 0.2125], \"gridcolor\": \"#E1E5ED\", \"showgrid\": false, \"tickfont\": {\"color\": \"#4D5663\"}, \"title\": {\"font\": {\"color\": \"#4D5663\"}, \"text\": \"\"}, \"zerolinecolor\": \"#E1E5ED\"}, \"xaxis10\": {\"anchor\": \"y10\", \"domain\": [0.2625, 0.475], \"gridcolor\": \"#E1E5ED\", \"showgrid\": false, \"tickfont\": {\"color\": \"#4D5663\"}, \"title\": {\"font\": {\"color\": \"#4D5663\"}, \"text\": \"\"}, \"zerolinecolor\": \"#E1E5ED\"}, \"xaxis11\": {\"anchor\": \"y11\", \"domain\": [0.525, 0.7375], \"gridcolor\": \"#E1E5ED\", \"showgrid\": false, \"tickfont\": {\"color\": \"#4D5663\"}, \"title\": {\"font\": {\"color\": \"#4D5663\"}, \"text\": \"\"}, \"zerolinecolor\": \"#E1E5ED\"}, \"xaxis12\": {\"anchor\": \"y12\", \"domain\": [0.7875, 1.0], \"gridcolor\": \"#E1E5ED\", \"showgrid\": false, \"tickfont\": {\"color\": \"#4D5663\"}, \"title\": {\"font\": {\"color\": \"#4D5663\"}, \"text\": \"\"}, \"zerolinecolor\": \"#E1E5ED\"}, \"xaxis13\": {\"anchor\": \"y13\", \"domain\": [0.0, 0.2125], \"gridcolor\": \"#E1E5ED\", \"showgrid\": false, \"tickfont\": {\"color\": \"#4D5663\"}, \"title\": {\"font\": {\"color\": \"#4D5663\"}, \"text\": \"\"}, \"zerolinecolor\": \"#E1E5ED\"}, \"xaxis14\": {\"anchor\": \"y14\", \"domain\": [0.2625, 0.475], \"gridcolor\": \"#E1E5ED\", \"showgrid\": false, \"tickfont\": {\"color\": \"#4D5663\"}, \"title\": {\"font\": {\"color\": \"#4D5663\"}, \"text\": \"\"}, \"zerolinecolor\": \"#E1E5ED\"}, \"xaxis15\": {\"anchor\": \"y15\", \"domain\": [0.525, 0.7375], \"gridcolor\": \"#E1E5ED\", \"showgrid\": false, \"tickfont\": {\"color\": \"#4D5663\"}, \"title\": {\"font\": {\"color\": \"#4D5663\"}, \"text\": \"\"}, \"zerolinecolor\": \"#E1E5ED\"}, \"xaxis16\": {\"anchor\": \"y16\", \"domain\": [0.7875, 1.0], \"gridcolor\": \"#E1E5ED\", \"showgrid\": false, \"tickfont\": {\"color\": \"#4D5663\"}, \"title\": {\"font\": {\"color\": \"#4D5663\"}, \"text\": \"\"}, \"zerolinecolor\": \"#E1E5ED\"}, \"xaxis2\": {\"anchor\": \"y2\", \"domain\": [0.2625, 0.475], \"gridcolor\": \"#E1E5ED\", \"showgrid\": false, \"tickfont\": {\"color\": \"#4D5663\"}, \"title\": {\"font\": {\"color\": \"#4D5663\"}, \"text\": \"\"}, \"zerolinecolor\": \"#E1E5ED\"}, \"xaxis3\": {\"anchor\": \"y3\", \"domain\": [0.525, 0.7375], \"gridcolor\": \"#E1E5ED\", \"showgrid\": false, \"tickfont\": {\"color\": \"#4D5663\"}, \"title\": {\"font\": {\"color\": \"#4D5663\"}, \"text\": \"\"}, \"zerolinecolor\": \"#E1E5ED\"}, \"xaxis4\": {\"anchor\": \"y4\", \"domain\": [0.7875, 1.0], \"gridcolor\": \"#E1E5ED\", \"showgrid\": false, \"tickfont\": {\"color\": \"#4D5663\"}, \"title\": {\"font\": {\"color\": \"#4D5663\"}, \"text\": \"\"}, \"zerolinecolor\": \"#E1E5ED\"}, \"xaxis5\": {\"anchor\": \"y5\", \"domain\": [0.0, 0.2125], \"gridcolor\": \"#E1E5ED\", \"showgrid\": false, \"tickfont\": {\"color\": \"#4D5663\"}, \"title\": {\"font\": {\"color\": \"#4D5663\"}, \"text\": \"\"}, \"zerolinecolor\": \"#E1E5ED\"}, \"xaxis6\": {\"anchor\": \"y6\", \"domain\": [0.2625, 0.475], \"gridcolor\": \"#E1E5ED\", \"showgrid\": false, \"tickfont\": {\"color\": \"#4D5663\"}, \"title\": {\"font\": {\"color\": \"#4D5663\"}, \"text\": \"\"}, \"zerolinecolor\": \"#E1E5ED\"}, \"xaxis7\": {\"anchor\": \"y7\", \"domain\": [0.525, 0.7375], \"gridcolor\": \"#E1E5ED\", \"showgrid\": false, \"tickfont\": {\"color\": \"#4D5663\"}, \"title\": {\"font\": {\"color\": \"#4D5663\"}, \"text\": \"\"}, \"zerolinecolor\": \"#E1E5ED\"}, \"xaxis8\": {\"anchor\": \"y8\", \"domain\": [0.7875, 1.0], \"gridcolor\": \"#E1E5ED\", \"showgrid\": false, \"tickfont\": {\"color\": \"#4D5663\"}, \"title\": {\"font\": {\"color\": \"#4D5663\"}, \"text\": \"\"}, \"zerolinecolor\": \"#E1E5ED\"}, \"xaxis9\": {\"anchor\": \"y9\", \"domain\": [0.0, 0.2125], \"gridcolor\": \"#E1E5ED\", \"showgrid\": false, \"tickfont\": {\"color\": \"#4D5663\"}, \"title\": {\"font\": {\"color\": \"#4D5663\"}, \"text\": \"\"}, \"zerolinecolor\": \"#E1E5ED\"}, \"yaxis\": {\"anchor\": \"x\", \"domain\": [0.8025, 1.0], \"gridcolor\": \"#E1E5ED\", \"showgrid\": false, \"tickfont\": {\"color\": \"#4D5663\"}, \"title\": {\"font\": {\"color\": \"#4D5663\"}, \"text\": \"\"}, \"zerolinecolor\": \"#E1E5ED\"}, \"yaxis10\": {\"anchor\": \"x10\", \"domain\": [0.2675, 0.465], \"gridcolor\": \"#E1E5ED\", \"showgrid\": false, \"tickfont\": {\"color\": \"#4D5663\"}, \"title\": {\"font\": {\"color\": \"#4D5663\"}, \"text\": \"\"}, \"zerolinecolor\": \"#E1E5ED\"}, \"yaxis11\": {\"anchor\": \"x11\", \"domain\": [0.2675, 0.465], \"gridcolor\": \"#E1E5ED\", \"showgrid\": false, \"tickfont\": {\"color\": \"#4D5663\"}, \"title\": {\"font\": {\"color\": \"#4D5663\"}, \"text\": \"\"}, \"zerolinecolor\": \"#E1E5ED\"}, \"yaxis12\": {\"anchor\": \"x12\", \"domain\": [0.2675, 0.465], \"gridcolor\": \"#E1E5ED\", \"showgrid\": false, \"tickfont\": {\"color\": \"#4D5663\"}, \"title\": {\"font\": {\"color\": \"#4D5663\"}, \"text\": \"\"}, \"zerolinecolor\": \"#E1E5ED\"}, \"yaxis13\": {\"anchor\": \"x13\", \"domain\": [0.0, 0.1975], \"gridcolor\": \"#E1E5ED\", \"showgrid\": false, \"tickfont\": {\"color\": \"#4D5663\"}, \"title\": {\"font\": {\"color\": \"#4D5663\"}, \"text\": \"\"}, \"zerolinecolor\": \"#E1E5ED\"}, \"yaxis14\": {\"anchor\": \"x14\", \"domain\": [0.0, 0.1975], \"gridcolor\": \"#E1E5ED\", \"showgrid\": false, \"tickfont\": {\"color\": \"#4D5663\"}, \"title\": {\"font\": {\"color\": \"#4D5663\"}, \"text\": \"\"}, \"zerolinecolor\": \"#E1E5ED\"}, \"yaxis15\": {\"anchor\": \"x15\", \"domain\": [0.0, 0.1975], \"gridcolor\": \"#E1E5ED\", \"showgrid\": false, \"tickfont\": {\"color\": \"#4D5663\"}, \"title\": {\"font\": {\"color\": \"#4D5663\"}, \"text\": \"\"}, \"zerolinecolor\": \"#E1E5ED\"}, \"yaxis16\": {\"anchor\": \"x16\", \"domain\": [0.0, 0.1975], \"gridcolor\": \"#E1E5ED\", \"showgrid\": false, \"tickfont\": {\"color\": \"#4D5663\"}, \"title\": {\"font\": {\"color\": \"#4D5663\"}, \"text\": \"\"}, \"zerolinecolor\": \"#E1E5ED\"}, \"yaxis2\": {\"anchor\": \"x2\", \"domain\": [0.8025, 1.0], \"gridcolor\": \"#E1E5ED\", \"showgrid\": false, \"tickfont\": {\"color\": \"#4D5663\"}, \"title\": {\"font\": {\"color\": \"#4D5663\"}, \"text\": \"\"}, \"zerolinecolor\": \"#E1E5ED\"}, \"yaxis3\": {\"anchor\": \"x3\", \"domain\": [0.8025, 1.0], \"gridcolor\": \"#E1E5ED\", \"showgrid\": false, \"tickfont\": {\"color\": \"#4D5663\"}, \"title\": {\"font\": {\"color\": \"#4D5663\"}, \"text\": \"\"}, \"zerolinecolor\": \"#E1E5ED\"}, \"yaxis4\": {\"anchor\": \"x4\", \"domain\": [0.8025, 1.0], \"gridcolor\": \"#E1E5ED\", \"showgrid\": false, \"tickfont\": {\"color\": \"#4D5663\"}, \"title\": {\"font\": {\"color\": \"#4D5663\"}, \"text\": \"\"}, \"zerolinecolor\": \"#E1E5ED\"}, \"yaxis5\": {\"anchor\": \"x5\", \"domain\": [0.535, 0.7325], \"gridcolor\": \"#E1E5ED\", \"showgrid\": false, \"tickfont\": {\"color\": \"#4D5663\"}, \"title\": {\"font\": {\"color\": \"#4D5663\"}, \"text\": \"\"}, \"zerolinecolor\": \"#E1E5ED\"}, \"yaxis6\": {\"anchor\": \"x6\", \"domain\": [0.535, 0.7325], \"gridcolor\": \"#E1E5ED\", \"showgrid\": false, \"tickfont\": {\"color\": \"#4D5663\"}, \"title\": {\"font\": {\"color\": \"#4D5663\"}, \"text\": \"\"}, \"zerolinecolor\": \"#E1E5ED\"}, \"yaxis7\": {\"anchor\": \"x7\", \"domain\": [0.535, 0.7325], \"gridcolor\": \"#E1E5ED\", \"showgrid\": false, \"tickfont\": {\"color\": \"#4D5663\"}, \"title\": {\"font\": {\"color\": \"#4D5663\"}, \"text\": \"\"}, \"zerolinecolor\": \"#E1E5ED\"}, \"yaxis8\": {\"anchor\": \"x8\", \"domain\": [0.535, 0.7325], \"gridcolor\": \"#E1E5ED\", \"showgrid\": false, \"tickfont\": {\"color\": \"#4D5663\"}, \"title\": {\"font\": {\"color\": \"#4D5663\"}, \"text\": \"\"}, \"zerolinecolor\": \"#E1E5ED\"}, \"yaxis9\": {\"anchor\": \"x9\", \"domain\": [0.2675, 0.465], \"gridcolor\": \"#E1E5ED\", \"showgrid\": false, \"tickfont\": {\"color\": \"#4D5663\"}, \"title\": {\"font\": {\"color\": \"#4D5663\"}, \"text\": \"\"}, \"zerolinecolor\": \"#E1E5ED\"}},\n",
       "                        {\"showLink\": true, \"linkText\": \"Export to plot.ly\", \"plotlyServerURL\": \"https://plot.ly\", \"responsive\": true}\n",
       "                    ).then(function(){\n",
       "                            \n",
       "var gd = document.getElementById('26762e9b-e1c3-4ea5-a192-f1d438a97115');\n",
       "var x = new MutationObserver(function (mutations, observer) {{\n",
       "        var display = window.getComputedStyle(gd).display;\n",
       "        if (!display || display === 'none') {{\n",
       "            console.log([gd, 'removed!']);\n",
       "            Plotly.purge(gd);\n",
       "            observer.disconnect();\n",
       "        }}\n",
       "}});\n",
       "\n",
       "// Listen for the removal of the full notebook cells\n",
       "var notebookContainer = gd.closest('#notebook-container');\n",
       "if (notebookContainer) {{\n",
       "    x.observe(notebookContainer, {childList: true});\n",
       "}}\n",
       "\n",
       "// Listen for the clearing of the current output cell\n",
       "var outputEl = gd.closest('.output');\n",
       "if (outputEl) {{\n",
       "    x.observe(outputEl, {childList: true});\n",
       "}}\n",
       "\n",
       "                        })\n",
       "                };\n",
       "                });\n",
       "            </script>\n",
       "        </div>"
      ]
     },
     "metadata": {},
     "output_type": "display_data"
    }
   ],
   "source": [
    "df.scatter_matrix()"
   ]
  },
  {
   "cell_type": "markdown",
   "metadata": {
    "collapsed": true
   },
   "source": [
    "# Great Job!"
   ]
  }
 ],
 "metadata": {
  "kernelspec": {
   "display_name": "Python 3",
   "language": "python",
   "name": "python3"
  },
  "language_info": {
   "codemirror_mode": {
    "name": "ipython",
    "version": 3
   },
   "file_extension": ".py",
   "mimetype": "text/x-python",
   "name": "python",
   "nbconvert_exporter": "python",
   "pygments_lexer": "ipython3",
   "version": "3.7.6"
  }
 },
 "nbformat": 4,
 "nbformat_minor": 1
}
